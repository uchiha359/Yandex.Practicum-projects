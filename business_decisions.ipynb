{
 "cells": [
  {
   "cell_type": "markdown",
   "metadata": {},
   "source": [
    "Задача\n",
    "Проанализируйте A/B-тест:\n",
    "\n",
    "    1.Постройте график кумулятивной выручки по группам. Сделайте выводы и предположения.\n",
    "    2.Постройте график кумулятивного среднего чека по группам. Сделайте выводы и предположения.\n",
    "    3.Постройте график относительного изменения кумулятивного среднего чека группы B к группе A. Сделайте выводы и предположения.\n",
    "    4.Постройте график кумулятивной конверсии по группам. Сделайте выводы и предположения.\n",
    "    5.Постройте график относительного изменения кумулятивной конверсии группы B к группе A. Сделайте выводы и предположения.\n",
    "    6.Постройте точечный график количества заказов по пользователям. Сделайте выводы и предположения.\n",
    "    7.Посчитайте 95-й и 99-й перцентили количества заказов на пользователя. Выберите границу для определения аномальных пользователей.\n",
    "    8.Постройте точечный график стоимостей заказов. Сделайте выводы и предположения.\n",
    "    9.Посчитайте 95-й и 99-й перцентили стоимости заказов. Выберите границу для определения аномальных заказов.\n",
    "    10.Посчитайте статистическую значимость различий в конверсии между группами по «сырым» данным. Сделайте выводы и предположения.\n",
    "    11.Посчитайте статистическую значимость различий в среднем чеке заказа между группами по «сырым» данным. Сделайте выводы и предположения.\n",
    "    12.Посчитайте статистическую значимость различий в конверсии между группами по «очищенным» данным. Сделайте выводы и предположения.\n",
    "    13.Посчитайте статистическую значимость различий в среднем чеке заказа между группами по «очищенным» данным. Сделайте выводы и предположения.\n",
    "    14.Примите решение по результатам теста и объясните его. Варианты решений:\n",
    "    \n",
    "        1. Остановить тест, зафиксировать победу одной из групп. \n",
    "        2. Остановить тест, зафиксировать отсутствие различий между группами. \n",
    "        3. Продолжить тест."
   ]
  },
  {
   "cell_type": "markdown",
   "metadata": {},
   "source": [
    "# Часть 1. Приоритизация гипотез. "
   ]
  },
  {
   "cell_type": "markdown",
   "metadata": {},
   "source": [
    "### Задача:\n",
    "    *Примените фреймворк ICE для приоритизации гипотез. Отсортируйте их по убыванию приоритета.\n",
    "    *Примените фреймворк RICE для приоритизации гипотез. Отсортируйте их по убыванию приоритета.\n",
    "    *Укажите, как изменилась приоритизация гипотез при применении RICE вместо ICE. Объясните, почему так произошло."
   ]
  },
  {
   "cell_type": "code",
   "execution_count": 1,
   "metadata": {},
   "outputs": [],
   "source": [
    "import pandas as pd\n",
    "import numpy as np\n",
    "import matplotlib.pyplot as plt\n",
    "import scipy.stats as stats\n",
    "import datetime as dt \n",
    "import warnings\n",
    "warnings.filterwarnings(\"ignore\")"
   ]
  },
  {
   "cell_type": "code",
   "execution_count": 2,
   "metadata": {},
   "outputs": [],
   "source": [
    "try:\n",
    "    df = pd.read_csv('D:/backUp/hypothesis.csv')\n",
    "except:\n",
    "    df = pd.read_csv('/datasets/hypothesis.csv')"
   ]
  },
  {
   "cell_type": "code",
   "execution_count": 3,
   "metadata": {},
   "outputs": [
    {
     "data": {
      "text/html": [
       "<div>\n",
       "<style scoped>\n",
       "    .dataframe tbody tr th:only-of-type {\n",
       "        vertical-align: middle;\n",
       "    }\n",
       "\n",
       "    .dataframe tbody tr th {\n",
       "        vertical-align: top;\n",
       "    }\n",
       "\n",
       "    .dataframe thead th {\n",
       "        text-align: right;\n",
       "    }\n",
       "</style>\n",
       "<table border=\"1\" class=\"dataframe\">\n",
       "  <thead>\n",
       "    <tr style=\"text-align: right;\">\n",
       "      <th></th>\n",
       "      <th>Hypothesis</th>\n",
       "      <th>Reach</th>\n",
       "      <th>Impact</th>\n",
       "      <th>Confidence</th>\n",
       "      <th>Efforts</th>\n",
       "    </tr>\n",
       "  </thead>\n",
       "  <tbody>\n",
       "    <tr>\n",
       "      <th>0</th>\n",
       "      <td>Добавить два новых канала привлечения трафика,...</td>\n",
       "      <td>3</td>\n",
       "      <td>10</td>\n",
       "      <td>8</td>\n",
       "      <td>6</td>\n",
       "    </tr>\n",
       "    <tr>\n",
       "      <th>1</th>\n",
       "      <td>Запустить собственную службу доставки, что сок...</td>\n",
       "      <td>2</td>\n",
       "      <td>5</td>\n",
       "      <td>4</td>\n",
       "      <td>10</td>\n",
       "    </tr>\n",
       "    <tr>\n",
       "      <th>2</th>\n",
       "      <td>Добавить блоки рекомендаций товаров на сайт ин...</td>\n",
       "      <td>8</td>\n",
       "      <td>3</td>\n",
       "      <td>7</td>\n",
       "      <td>3</td>\n",
       "    </tr>\n",
       "    <tr>\n",
       "      <th>3</th>\n",
       "      <td>Изменить структура категорий, что увеличит кон...</td>\n",
       "      <td>8</td>\n",
       "      <td>3</td>\n",
       "      <td>3</td>\n",
       "      <td>8</td>\n",
       "    </tr>\n",
       "    <tr>\n",
       "      <th>4</th>\n",
       "      <td>Изменить цвет фона главной страницы, чтобы уве...</td>\n",
       "      <td>3</td>\n",
       "      <td>1</td>\n",
       "      <td>1</td>\n",
       "      <td>1</td>\n",
       "    </tr>\n",
       "  </tbody>\n",
       "</table>\n",
       "</div>"
      ],
      "text/plain": [
       "                                          Hypothesis  Reach  Impact  \\\n",
       "0  Добавить два новых канала привлечения трафика,...      3      10   \n",
       "1  Запустить собственную службу доставки, что сок...      2       5   \n",
       "2  Добавить блоки рекомендаций товаров на сайт ин...      8       3   \n",
       "3  Изменить структура категорий, что увеличит кон...      8       3   \n",
       "4  Изменить цвет фона главной страницы, чтобы уве...      3       1   \n",
       "\n",
       "   Confidence  Efforts  \n",
       "0           8        6  \n",
       "1           4       10  \n",
       "2           7        3  \n",
       "3           3        8  \n",
       "4           1        1  "
      ]
     },
     "execution_count": 3,
     "metadata": {},
     "output_type": "execute_result"
    }
   ],
   "source": [
    "df.head()"
   ]
  },
  {
   "cell_type": "code",
   "execution_count": 4,
   "metadata": {},
   "outputs": [
    {
     "name": "stdout",
     "output_type": "stream",
     "text": [
      "<class 'pandas.core.frame.DataFrame'>\n",
      "RangeIndex: 9 entries, 0 to 8\n",
      "Data columns (total 5 columns):\n",
      " #   Column      Non-Null Count  Dtype \n",
      "---  ------      --------------  ----- \n",
      " 0   Hypothesis  9 non-null      object\n",
      " 1   Reach       9 non-null      int64 \n",
      " 2   Impact      9 non-null      int64 \n",
      " 3   Confidence  9 non-null      int64 \n",
      " 4   Efforts     9 non-null      int64 \n",
      "dtypes: int64(4), object(1)\n",
      "memory usage: 488.0+ bytes\n"
     ]
    }
   ],
   "source": [
    "df.info()"
   ]
  },
  {
   "cell_type": "code",
   "execution_count": 5,
   "metadata": {},
   "outputs": [],
   "source": [
    "df.columns = df.columns.str.lower()"
   ]
  },
  {
   "cell_type": "markdown",
   "metadata": {},
   "source": [
    "Применим фреймворк ICE and RICE для приоритизации гипотез. Отсортируем их по убыванию приоритета."
   ]
  },
  {
   "cell_type": "code",
   "execution_count": 6,
   "metadata": {},
   "outputs": [],
   "source": [
    "df['ice_metric'] = df['impact']*df['confidence'] / df['efforts']\n",
    "df['rice_metric'] = df['ice_metric']*df['reach']"
   ]
  },
  {
   "cell_type": "code",
   "execution_count": 7,
   "metadata": {},
   "outputs": [
    {
     "data": {
      "text/html": [
       "<div>\n",
       "<style scoped>\n",
       "    .dataframe tbody tr th:only-of-type {\n",
       "        vertical-align: middle;\n",
       "    }\n",
       "\n",
       "    .dataframe tbody tr th {\n",
       "        vertical-align: top;\n",
       "    }\n",
       "\n",
       "    .dataframe thead th {\n",
       "        text-align: right;\n",
       "    }\n",
       "</style>\n",
       "<table border=\"1\" class=\"dataframe\">\n",
       "  <thead>\n",
       "    <tr style=\"text-align: right;\">\n",
       "      <th></th>\n",
       "      <th>hypothesis</th>\n",
       "      <th>reach</th>\n",
       "      <th>impact</th>\n",
       "      <th>confidence</th>\n",
       "      <th>efforts</th>\n",
       "      <th>ice_metric</th>\n",
       "      <th>rice_metric</th>\n",
       "    </tr>\n",
       "  </thead>\n",
       "  <tbody>\n",
       "    <tr>\n",
       "      <th>8</th>\n",
       "      <td>Запустить акцию, дающую скидку на товар в день...</td>\n",
       "      <td>1</td>\n",
       "      <td>9</td>\n",
       "      <td>9</td>\n",
       "      <td>5</td>\n",
       "      <td>16.200000</td>\n",
       "      <td>16.2</td>\n",
       "    </tr>\n",
       "    <tr>\n",
       "      <th>0</th>\n",
       "      <td>Добавить два новых канала привлечения трафика,...</td>\n",
       "      <td>3</td>\n",
       "      <td>10</td>\n",
       "      <td>8</td>\n",
       "      <td>6</td>\n",
       "      <td>13.333333</td>\n",
       "      <td>40.0</td>\n",
       "    </tr>\n",
       "    <tr>\n",
       "      <th>7</th>\n",
       "      <td>Добавить форму подписки на все основные страни...</td>\n",
       "      <td>10</td>\n",
       "      <td>7</td>\n",
       "      <td>8</td>\n",
       "      <td>5</td>\n",
       "      <td>11.200000</td>\n",
       "      <td>112.0</td>\n",
       "    </tr>\n",
       "    <tr>\n",
       "      <th>6</th>\n",
       "      <td>Показать на главной странице баннеры с актуаль...</td>\n",
       "      <td>5</td>\n",
       "      <td>3</td>\n",
       "      <td>8</td>\n",
       "      <td>3</td>\n",
       "      <td>8.000000</td>\n",
       "      <td>40.0</td>\n",
       "    </tr>\n",
       "    <tr>\n",
       "      <th>2</th>\n",
       "      <td>Добавить блоки рекомендаций товаров на сайт ин...</td>\n",
       "      <td>8</td>\n",
       "      <td>3</td>\n",
       "      <td>7</td>\n",
       "      <td>3</td>\n",
       "      <td>7.000000</td>\n",
       "      <td>56.0</td>\n",
       "    </tr>\n",
       "    <tr>\n",
       "      <th>1</th>\n",
       "      <td>Запустить собственную службу доставки, что сок...</td>\n",
       "      <td>2</td>\n",
       "      <td>5</td>\n",
       "      <td>4</td>\n",
       "      <td>10</td>\n",
       "      <td>2.000000</td>\n",
       "      <td>4.0</td>\n",
       "    </tr>\n",
       "    <tr>\n",
       "      <th>5</th>\n",
       "      <td>Добавить страницу отзывов клиентов о магазине,...</td>\n",
       "      <td>3</td>\n",
       "      <td>2</td>\n",
       "      <td>2</td>\n",
       "      <td>3</td>\n",
       "      <td>1.333333</td>\n",
       "      <td>4.0</td>\n",
       "    </tr>\n",
       "    <tr>\n",
       "      <th>3</th>\n",
       "      <td>Изменить структура категорий, что увеличит кон...</td>\n",
       "      <td>8</td>\n",
       "      <td>3</td>\n",
       "      <td>3</td>\n",
       "      <td>8</td>\n",
       "      <td>1.125000</td>\n",
       "      <td>9.0</td>\n",
       "    </tr>\n",
       "    <tr>\n",
       "      <th>4</th>\n",
       "      <td>Изменить цвет фона главной страницы, чтобы уве...</td>\n",
       "      <td>3</td>\n",
       "      <td>1</td>\n",
       "      <td>1</td>\n",
       "      <td>1</td>\n",
       "      <td>1.000000</td>\n",
       "      <td>3.0</td>\n",
       "    </tr>\n",
       "  </tbody>\n",
       "</table>\n",
       "</div>"
      ],
      "text/plain": [
       "                                          hypothesis  reach  impact  \\\n",
       "8  Запустить акцию, дающую скидку на товар в день...      1       9   \n",
       "0  Добавить два новых канала привлечения трафика,...      3      10   \n",
       "7  Добавить форму подписки на все основные страни...     10       7   \n",
       "6  Показать на главной странице баннеры с актуаль...      5       3   \n",
       "2  Добавить блоки рекомендаций товаров на сайт ин...      8       3   \n",
       "1  Запустить собственную службу доставки, что сок...      2       5   \n",
       "5  Добавить страницу отзывов клиентов о магазине,...      3       2   \n",
       "3  Изменить структура категорий, что увеличит кон...      8       3   \n",
       "4  Изменить цвет фона главной страницы, чтобы уве...      3       1   \n",
       "\n",
       "   confidence  efforts  ice_metric  rice_metric  \n",
       "8           9        5   16.200000         16.2  \n",
       "0           8        6   13.333333         40.0  \n",
       "7           8        5   11.200000        112.0  \n",
       "6           8        3    8.000000         40.0  \n",
       "2           7        3    7.000000         56.0  \n",
       "1           4       10    2.000000          4.0  \n",
       "5           2        3    1.333333          4.0  \n",
       "3           3        8    1.125000          9.0  \n",
       "4           1        1    1.000000          3.0  "
      ]
     },
     "execution_count": 7,
     "metadata": {},
     "output_type": "execute_result"
    }
   ],
   "source": [
    "df.sort_values(by='ice_metric', ascending=False)"
   ]
  },
  {
   "cell_type": "code",
   "execution_count": 8,
   "metadata": {},
   "outputs": [
    {
     "data": {
      "text/html": [
       "<div>\n",
       "<style scoped>\n",
       "    .dataframe tbody tr th:only-of-type {\n",
       "        vertical-align: middle;\n",
       "    }\n",
       "\n",
       "    .dataframe tbody tr th {\n",
       "        vertical-align: top;\n",
       "    }\n",
       "\n",
       "    .dataframe thead th {\n",
       "        text-align: right;\n",
       "    }\n",
       "</style>\n",
       "<table border=\"1\" class=\"dataframe\">\n",
       "  <thead>\n",
       "    <tr style=\"text-align: right;\">\n",
       "      <th></th>\n",
       "      <th>hypothesis</th>\n",
       "      <th>reach</th>\n",
       "      <th>impact</th>\n",
       "      <th>confidence</th>\n",
       "      <th>efforts</th>\n",
       "      <th>ice_metric</th>\n",
       "      <th>rice_metric</th>\n",
       "    </tr>\n",
       "  </thead>\n",
       "  <tbody>\n",
       "    <tr>\n",
       "      <th>7</th>\n",
       "      <td>Добавить форму подписки на все основные страни...</td>\n",
       "      <td>10</td>\n",
       "      <td>7</td>\n",
       "      <td>8</td>\n",
       "      <td>5</td>\n",
       "      <td>11.200000</td>\n",
       "      <td>112.0</td>\n",
       "    </tr>\n",
       "    <tr>\n",
       "      <th>2</th>\n",
       "      <td>Добавить блоки рекомендаций товаров на сайт ин...</td>\n",
       "      <td>8</td>\n",
       "      <td>3</td>\n",
       "      <td>7</td>\n",
       "      <td>3</td>\n",
       "      <td>7.000000</td>\n",
       "      <td>56.0</td>\n",
       "    </tr>\n",
       "    <tr>\n",
       "      <th>0</th>\n",
       "      <td>Добавить два новых канала привлечения трафика,...</td>\n",
       "      <td>3</td>\n",
       "      <td>10</td>\n",
       "      <td>8</td>\n",
       "      <td>6</td>\n",
       "      <td>13.333333</td>\n",
       "      <td>40.0</td>\n",
       "    </tr>\n",
       "    <tr>\n",
       "      <th>6</th>\n",
       "      <td>Показать на главной странице баннеры с актуаль...</td>\n",
       "      <td>5</td>\n",
       "      <td>3</td>\n",
       "      <td>8</td>\n",
       "      <td>3</td>\n",
       "      <td>8.000000</td>\n",
       "      <td>40.0</td>\n",
       "    </tr>\n",
       "    <tr>\n",
       "      <th>8</th>\n",
       "      <td>Запустить акцию, дающую скидку на товар в день...</td>\n",
       "      <td>1</td>\n",
       "      <td>9</td>\n",
       "      <td>9</td>\n",
       "      <td>5</td>\n",
       "      <td>16.200000</td>\n",
       "      <td>16.2</td>\n",
       "    </tr>\n",
       "    <tr>\n",
       "      <th>3</th>\n",
       "      <td>Изменить структура категорий, что увеличит кон...</td>\n",
       "      <td>8</td>\n",
       "      <td>3</td>\n",
       "      <td>3</td>\n",
       "      <td>8</td>\n",
       "      <td>1.125000</td>\n",
       "      <td>9.0</td>\n",
       "    </tr>\n",
       "    <tr>\n",
       "      <th>1</th>\n",
       "      <td>Запустить собственную службу доставки, что сок...</td>\n",
       "      <td>2</td>\n",
       "      <td>5</td>\n",
       "      <td>4</td>\n",
       "      <td>10</td>\n",
       "      <td>2.000000</td>\n",
       "      <td>4.0</td>\n",
       "    </tr>\n",
       "    <tr>\n",
       "      <th>5</th>\n",
       "      <td>Добавить страницу отзывов клиентов о магазине,...</td>\n",
       "      <td>3</td>\n",
       "      <td>2</td>\n",
       "      <td>2</td>\n",
       "      <td>3</td>\n",
       "      <td>1.333333</td>\n",
       "      <td>4.0</td>\n",
       "    </tr>\n",
       "    <tr>\n",
       "      <th>4</th>\n",
       "      <td>Изменить цвет фона главной страницы, чтобы уве...</td>\n",
       "      <td>3</td>\n",
       "      <td>1</td>\n",
       "      <td>1</td>\n",
       "      <td>1</td>\n",
       "      <td>1.000000</td>\n",
       "      <td>3.0</td>\n",
       "    </tr>\n",
       "  </tbody>\n",
       "</table>\n",
       "</div>"
      ],
      "text/plain": [
       "                                          hypothesis  reach  impact  \\\n",
       "7  Добавить форму подписки на все основные страни...     10       7   \n",
       "2  Добавить блоки рекомендаций товаров на сайт ин...      8       3   \n",
       "0  Добавить два новых канала привлечения трафика,...      3      10   \n",
       "6  Показать на главной странице баннеры с актуаль...      5       3   \n",
       "8  Запустить акцию, дающую скидку на товар в день...      1       9   \n",
       "3  Изменить структура категорий, что увеличит кон...      8       3   \n",
       "1  Запустить собственную службу доставки, что сок...      2       5   \n",
       "5  Добавить страницу отзывов клиентов о магазине,...      3       2   \n",
       "4  Изменить цвет фона главной страницы, чтобы уве...      3       1   \n",
       "\n",
       "   confidence  efforts  ice_metric  rice_metric  \n",
       "7           8        5   11.200000        112.0  \n",
       "2           7        3    7.000000         56.0  \n",
       "0           8        6   13.333333         40.0  \n",
       "6           8        3    8.000000         40.0  \n",
       "8           9        5   16.200000         16.2  \n",
       "3           3        8    1.125000          9.0  \n",
       "1           4       10    2.000000          4.0  \n",
       "5           2        3    1.333333          4.0  \n",
       "4           1        1    1.000000          3.0  "
      ]
     },
     "execution_count": 8,
     "metadata": {},
     "output_type": "execute_result"
    }
   ],
   "source": [
    "df.sort_values(by='rice_metric', ascending=False)"
   ]
  },
  {
   "cell_type": "markdown",
   "metadata": {},
   "source": [
    "### После применения ICE  мы приоритизировали гипотезы 8,0,7. Потом добавили вляние охвата с помощья фрэймвока RICE и лидером стала гипотеза 7:\n"
   ]
  },
  {
   "cell_type": "code",
   "execution_count": 9,
   "metadata": {},
   "outputs": [
    {
     "data": {
      "text/plain": [
       "'Добавить форму подписки на все основные страницы, чтобы собрать базу клиентов для email-рассылок'"
      ]
     },
     "execution_count": 9,
     "metadata": {},
     "output_type": "execute_result"
    }
   ],
   "source": [
    "df['hypothesis'][7]"
   ]
  },
  {
   "cell_type": "markdown",
   "metadata": {},
   "source": [
    "### Так произошло, потому что охват гипотезы 7 в два раза больше охвата гипотезы 0 и в 10 раз больше охвата гипотезы 8 "
   ]
  },
  {
   "cell_type": "markdown",
   "metadata": {},
   "source": [
    "# Часть 2. Анализ A/B-теста"
   ]
  },
  {
   "cell_type": "code",
   "execution_count": 10,
   "metadata": {},
   "outputs": [],
   "source": [
    "try:\n",
    "    visitors = pd.read_csv('D:/backUp/visitors.csv')\n",
    "    orders = pd.read_csv('D:/backUp//orders.csv')\n",
    "except:\n",
    "    visitors = pd.read_csv('/datasets/visitors.csv')\n",
    "    orders = pd.read_csv('/datasets/orders.csv')"
   ]
  },
  {
   "cell_type": "code",
   "execution_count": 11,
   "metadata": {},
   "outputs": [
    {
     "data": {
      "text/html": [
       "<div>\n",
       "<style scoped>\n",
       "    .dataframe tbody tr th:only-of-type {\n",
       "        vertical-align: middle;\n",
       "    }\n",
       "\n",
       "    .dataframe tbody tr th {\n",
       "        vertical-align: top;\n",
       "    }\n",
       "\n",
       "    .dataframe thead th {\n",
       "        text-align: right;\n",
       "    }\n",
       "</style>\n",
       "<table border=\"1\" class=\"dataframe\">\n",
       "  <thead>\n",
       "    <tr style=\"text-align: right;\">\n",
       "      <th></th>\n",
       "      <th>date</th>\n",
       "      <th>group</th>\n",
       "      <th>visitors</th>\n",
       "    </tr>\n",
       "  </thead>\n",
       "  <tbody>\n",
       "    <tr>\n",
       "      <th>0</th>\n",
       "      <td>2019-08-01</td>\n",
       "      <td>A</td>\n",
       "      <td>719</td>\n",
       "    </tr>\n",
       "    <tr>\n",
       "      <th>1</th>\n",
       "      <td>2019-08-02</td>\n",
       "      <td>A</td>\n",
       "      <td>619</td>\n",
       "    </tr>\n",
       "    <tr>\n",
       "      <th>2</th>\n",
       "      <td>2019-08-03</td>\n",
       "      <td>A</td>\n",
       "      <td>507</td>\n",
       "    </tr>\n",
       "    <tr>\n",
       "      <th>3</th>\n",
       "      <td>2019-08-04</td>\n",
       "      <td>A</td>\n",
       "      <td>717</td>\n",
       "    </tr>\n",
       "    <tr>\n",
       "      <th>4</th>\n",
       "      <td>2019-08-05</td>\n",
       "      <td>A</td>\n",
       "      <td>756</td>\n",
       "    </tr>\n",
       "  </tbody>\n",
       "</table>\n",
       "</div>"
      ],
      "text/plain": [
       "         date group  visitors\n",
       "0  2019-08-01     A       719\n",
       "1  2019-08-02     A       619\n",
       "2  2019-08-03     A       507\n",
       "3  2019-08-04     A       717\n",
       "4  2019-08-05     A       756"
      ]
     },
     "execution_count": 11,
     "metadata": {},
     "output_type": "execute_result"
    }
   ],
   "source": [
    "visitors.head()"
   ]
  },
  {
   "cell_type": "code",
   "execution_count": 12,
   "metadata": {},
   "outputs": [
    {
     "data": {
      "text/html": [
       "<div>\n",
       "<style scoped>\n",
       "    .dataframe tbody tr th:only-of-type {\n",
       "        vertical-align: middle;\n",
       "    }\n",
       "\n",
       "    .dataframe tbody tr th {\n",
       "        vertical-align: top;\n",
       "    }\n",
       "\n",
       "    .dataframe thead th {\n",
       "        text-align: right;\n",
       "    }\n",
       "</style>\n",
       "<table border=\"1\" class=\"dataframe\">\n",
       "  <thead>\n",
       "    <tr style=\"text-align: right;\">\n",
       "      <th></th>\n",
       "      <th>transactionId</th>\n",
       "      <th>visitorId</th>\n",
       "      <th>date</th>\n",
       "      <th>revenue</th>\n",
       "      <th>group</th>\n",
       "    </tr>\n",
       "  </thead>\n",
       "  <tbody>\n",
       "    <tr>\n",
       "      <th>0</th>\n",
       "      <td>3667963787</td>\n",
       "      <td>3312258926</td>\n",
       "      <td>2019-08-15</td>\n",
       "      <td>1650</td>\n",
       "      <td>B</td>\n",
       "    </tr>\n",
       "    <tr>\n",
       "      <th>1</th>\n",
       "      <td>2804400009</td>\n",
       "      <td>3642806036</td>\n",
       "      <td>2019-08-15</td>\n",
       "      <td>730</td>\n",
       "      <td>B</td>\n",
       "    </tr>\n",
       "    <tr>\n",
       "      <th>2</th>\n",
       "      <td>2961555356</td>\n",
       "      <td>4069496402</td>\n",
       "      <td>2019-08-15</td>\n",
       "      <td>400</td>\n",
       "      <td>A</td>\n",
       "    </tr>\n",
       "    <tr>\n",
       "      <th>3</th>\n",
       "      <td>3797467345</td>\n",
       "      <td>1196621759</td>\n",
       "      <td>2019-08-15</td>\n",
       "      <td>9759</td>\n",
       "      <td>B</td>\n",
       "    </tr>\n",
       "    <tr>\n",
       "      <th>4</th>\n",
       "      <td>2282983706</td>\n",
       "      <td>2322279887</td>\n",
       "      <td>2019-08-15</td>\n",
       "      <td>2308</td>\n",
       "      <td>B</td>\n",
       "    </tr>\n",
       "  </tbody>\n",
       "</table>\n",
       "</div>"
      ],
      "text/plain": [
       "   transactionId   visitorId        date  revenue group\n",
       "0     3667963787  3312258926  2019-08-15     1650     B\n",
       "1     2804400009  3642806036  2019-08-15      730     B\n",
       "2     2961555356  4069496402  2019-08-15      400     A\n",
       "3     3797467345  1196621759  2019-08-15     9759     B\n",
       "4     2282983706  2322279887  2019-08-15     2308     B"
      ]
     },
     "execution_count": 12,
     "metadata": {},
     "output_type": "execute_result"
    }
   ],
   "source": [
    "orders.head()"
   ]
  },
  {
   "cell_type": "code",
   "execution_count": 13,
   "metadata": {},
   "outputs": [
    {
     "name": "stdout",
     "output_type": "stream",
     "text": [
      "<class 'pandas.core.frame.DataFrame'>\n",
      "RangeIndex: 62 entries, 0 to 61\n",
      "Data columns (total 3 columns):\n",
      " #   Column    Non-Null Count  Dtype \n",
      "---  ------    --------------  ----- \n",
      " 0   date      62 non-null     object\n",
      " 1   group     62 non-null     object\n",
      " 2   visitors  62 non-null     int64 \n",
      "dtypes: int64(1), object(2)\n",
      "memory usage: 1.6+ KB\n"
     ]
    }
   ],
   "source": [
    "visitors.info()"
   ]
  },
  {
   "cell_type": "code",
   "execution_count": 14,
   "metadata": {
    "scrolled": true
   },
   "outputs": [
    {
     "name": "stdout",
     "output_type": "stream",
     "text": [
      "<class 'pandas.core.frame.DataFrame'>\n",
      "RangeIndex: 1197 entries, 0 to 1196\n",
      "Data columns (total 5 columns):\n",
      " #   Column         Non-Null Count  Dtype \n",
      "---  ------         --------------  ----- \n",
      " 0   transactionId  1197 non-null   int64 \n",
      " 1   visitorId      1197 non-null   int64 \n",
      " 2   date           1197 non-null   object\n",
      " 3   revenue        1197 non-null   int64 \n",
      " 4   group          1197 non-null   object\n",
      "dtypes: int64(3), object(2)\n",
      "memory usage: 46.9+ KB\n"
     ]
    }
   ],
   "source": [
    "orders.info()"
   ]
  },
  {
   "cell_type": "code",
   "execution_count": 15,
   "metadata": {},
   "outputs": [],
   "source": [
    "orders.columns = orders.columns.str.lower()"
   ]
  },
  {
   "cell_type": "code",
   "execution_count": 16,
   "metadata": {},
   "outputs": [],
   "source": [
    "visitors['date'] = visitors['date'].map(lambda x : pd.to_datetime(x))"
   ]
  },
  {
   "cell_type": "code",
   "execution_count": 17,
   "metadata": {},
   "outputs": [],
   "source": [
    "orders['date'] = orders['date'].map(lambda x : pd.to_datetime(x))"
   ]
  },
  {
   "cell_type": "code",
   "execution_count": 18,
   "metadata": {},
   "outputs": [
    {
     "data": {
      "text/plain": [
       "0.0"
      ]
     },
     "execution_count": 18,
     "metadata": {},
     "output_type": "execute_result"
    }
   ],
   "source": [
    "visitors.duplicated().mean()"
   ]
  },
  {
   "cell_type": "code",
   "execution_count": 19,
   "metadata": {},
   "outputs": [
    {
     "data": {
      "text/plain": [
       "0.0"
      ]
     },
     "execution_count": 19,
     "metadata": {},
     "output_type": "execute_result"
    }
   ],
   "source": [
    "orders.duplicated().mean()"
   ]
  },
  {
   "cell_type": "code",
   "execution_count": 20,
   "metadata": {},
   "outputs": [],
   "source": [
    "users_for_both_groups = orders[np.logical_and(orders['group'] == 'A', orders[orders['group'] == 'A']['visitorid']\n",
    "                                              .isin(orders[orders['group'] == 'B']['visitorid']))]['visitorid']"
   ]
  },
  {
   "cell_type": "code",
   "execution_count": 21,
   "metadata": {},
   "outputs": [
    {
     "data": {
      "text/plain": [
       "89"
      ]
     },
     "execution_count": 21,
     "metadata": {},
     "output_type": "execute_result"
    }
   ],
   "source": [
    "users_for_both_groups.count()"
   ]
  },
  {
   "cell_type": "code",
   "execution_count": 22,
   "metadata": {
    "scrolled": true
   },
   "outputs": [
    {
     "data": {
      "text/plain": [
       "1031"
      ]
     },
     "execution_count": 22,
     "metadata": {},
     "output_type": "execute_result"
    }
   ],
   "source": [
    "orders['visitorid'].nunique()"
   ]
  },
  {
   "cell_type": "code",
   "execution_count": 23,
   "metadata": {},
   "outputs": [
    {
     "data": {
      "text/plain": [
       "0.0863239573229874"
      ]
     },
     "execution_count": 23,
     "metadata": {},
     "output_type": "execute_result"
    }
   ],
   "source": [
    "users_for_both_groups.count() / orders['visitorid'].nunique()"
   ]
  },
  {
   "cell_type": "markdown",
   "metadata": {},
   "source": [
    "Данные готовы к анализу. Пропусков и дубликатов нет. Есть пользователи, которые попали в обе группы. Я бы поинтересовался у того, кто собирал данные, допускается ли по техническому заданию при сборе данных для анализа, попадание в обе группы. Можно просто удалить этих пользователей из обеих групп, в этом случае потеряется почти 9% данных."
   ]
  },
  {
   "cell_type": "markdown",
   "metadata": {},
   "source": [
    "## 1. Построим график кумулятивной выручки по группам. Сделаем выводы и предположения."
   ]
  },
  {
   "cell_type": "code",
   "execution_count": 24,
   "metadata": {},
   "outputs": [],
   "source": [
    "# создаем массив уникальных пар значений дат и групп теста\n",
    "dates_groups = orders[['date','group']].drop_duplicates()"
   ]
  },
  {
   "cell_type": "code",
   "execution_count": 25,
   "metadata": {},
   "outputs": [],
   "source": [
    "#dates_groups"
   ]
  },
  {
   "cell_type": "code",
   "execution_count": 26,
   "metadata": {},
   "outputs": [],
   "source": [
    "# cобираем агрегированные кумулятивные по дням данные о заказах\n",
    "cumulative_revenue = ( dates_groups.apply(lambda x: \n",
    "     orders[np.logical_and(orders['date'] <= x['date'], x['group'] == orders['group'])]\n",
    "     .agg({'date':'max', \n",
    "      'revenue':'sum', \n",
    "      'group':'max', \n",
    "      'transactionid':'nunique', \n",
    "      'visitorid':'nunique'}), axis=1)\n",
    "      .sort_values(by=['date','group'],ascending=True) )"
   ]
  },
  {
   "cell_type": "code",
   "execution_count": 27,
   "metadata": {},
   "outputs": [
    {
     "data": {
      "text/html": [
       "<div>\n",
       "<style scoped>\n",
       "    .dataframe tbody tr th:only-of-type {\n",
       "        vertical-align: middle;\n",
       "    }\n",
       "\n",
       "    .dataframe tbody tr th {\n",
       "        vertical-align: top;\n",
       "    }\n",
       "\n",
       "    .dataframe thead th {\n",
       "        text-align: right;\n",
       "    }\n",
       "</style>\n",
       "<table border=\"1\" class=\"dataframe\">\n",
       "  <thead>\n",
       "    <tr style=\"text-align: right;\">\n",
       "      <th></th>\n",
       "      <th>date</th>\n",
       "      <th>revenue</th>\n",
       "      <th>group</th>\n",
       "      <th>transactionid</th>\n",
       "      <th>visitorid</th>\n",
       "    </tr>\n",
       "  </thead>\n",
       "  <tbody>\n",
       "    <tr>\n",
       "      <th>55</th>\n",
       "      <td>2019-08-01</td>\n",
       "      <td>148579</td>\n",
       "      <td>A</td>\n",
       "      <td>24</td>\n",
       "      <td>20</td>\n",
       "    </tr>\n",
       "    <tr>\n",
       "      <th>66</th>\n",
       "      <td>2019-08-01</td>\n",
       "      <td>101217</td>\n",
       "      <td>B</td>\n",
       "      <td>21</td>\n",
       "      <td>20</td>\n",
       "    </tr>\n",
       "    <tr>\n",
       "      <th>175</th>\n",
       "      <td>2019-08-02</td>\n",
       "      <td>242401</td>\n",
       "      <td>A</td>\n",
       "      <td>44</td>\n",
       "      <td>38</td>\n",
       "    </tr>\n",
       "    <tr>\n",
       "      <th>173</th>\n",
       "      <td>2019-08-02</td>\n",
       "      <td>266748</td>\n",
       "      <td>B</td>\n",
       "      <td>45</td>\n",
       "      <td>43</td>\n",
       "    </tr>\n",
       "    <tr>\n",
       "      <th>291</th>\n",
       "      <td>2019-08-03</td>\n",
       "      <td>354874</td>\n",
       "      <td>A</td>\n",
       "      <td>68</td>\n",
       "      <td>62</td>\n",
       "    </tr>\n",
       "    <tr>\n",
       "      <th>...</th>\n",
       "      <td>...</td>\n",
       "      <td>...</td>\n",
       "      <td>...</td>\n",
       "      <td>...</td>\n",
       "      <td>...</td>\n",
       "    </tr>\n",
       "    <tr>\n",
       "      <th>496</th>\n",
       "      <td>2019-08-29</td>\n",
       "      <td>5559398</td>\n",
       "      <td>B</td>\n",
       "      <td>596</td>\n",
       "      <td>544</td>\n",
       "    </tr>\n",
       "    <tr>\n",
       "      <th>730</th>\n",
       "      <td>2019-08-30</td>\n",
       "      <td>4022970</td>\n",
       "      <td>A</td>\n",
       "      <td>545</td>\n",
       "      <td>493</td>\n",
       "    </tr>\n",
       "    <tr>\n",
       "      <th>690</th>\n",
       "      <td>2019-08-30</td>\n",
       "      <td>5774631</td>\n",
       "      <td>B</td>\n",
       "      <td>620</td>\n",
       "      <td>567</td>\n",
       "    </tr>\n",
       "    <tr>\n",
       "      <th>958</th>\n",
       "      <td>2019-08-31</td>\n",
       "      <td>4084803</td>\n",
       "      <td>A</td>\n",
       "      <td>557</td>\n",
       "      <td>503</td>\n",
       "    </tr>\n",
       "    <tr>\n",
       "      <th>930</th>\n",
       "      <td>2019-08-31</td>\n",
       "      <td>5907760</td>\n",
       "      <td>B</td>\n",
       "      <td>640</td>\n",
       "      <td>586</td>\n",
       "    </tr>\n",
       "  </tbody>\n",
       "</table>\n",
       "<p>62 rows × 5 columns</p>\n",
       "</div>"
      ],
      "text/plain": [
       "          date  revenue group  transactionid  visitorid\n",
       "55  2019-08-01   148579     A             24         20\n",
       "66  2019-08-01   101217     B             21         20\n",
       "175 2019-08-02   242401     A             44         38\n",
       "173 2019-08-02   266748     B             45         43\n",
       "291 2019-08-03   354874     A             68         62\n",
       "..         ...      ...   ...            ...        ...\n",
       "496 2019-08-29  5559398     B            596        544\n",
       "730 2019-08-30  4022970     A            545        493\n",
       "690 2019-08-30  5774631     B            620        567\n",
       "958 2019-08-31  4084803     A            557        503\n",
       "930 2019-08-31  5907760     B            640        586\n",
       "\n",
       "[62 rows x 5 columns]"
      ]
     },
     "execution_count": 27,
     "metadata": {},
     "output_type": "execute_result"
    }
   ],
   "source": [
    "cumulative_revenue"
   ]
  },
  {
   "cell_type": "code",
   "execution_count": 28,
   "metadata": {},
   "outputs": [],
   "source": [
    "cumulative_revenue_group_A = cumulative_revenue[cumulative_revenue['group'] == 'A'][['date', 'revenue']]"
   ]
  },
  {
   "cell_type": "code",
   "execution_count": 29,
   "metadata": {},
   "outputs": [],
   "source": [
    "cumulative_revenue_group_B = cumulative_revenue[cumulative_revenue['group'] == 'B'][['date', 'revenue']]"
   ]
  },
  {
   "cell_type": "code",
   "execution_count": 30,
   "metadata": {},
   "outputs": [
    {
     "data": {
      "text/plain": [
       "<matplotlib.legend.Legend at 0x7fee762da640>"
      ]
     },
     "execution_count": 30,
     "metadata": {},
     "output_type": "execute_result"
    },
    {
     "data": {
      "image/png": "[encoded data removed]",
      "text/plain": [
       "<Figure size 1512x432 with 1 Axes>"
      ]
     },
     "metadata": {
      "needs_background": "light"
     },
     "output_type": "display_data"
    }
   ],
   "source": [
    "plt.rcParams[\"figure.figsize\"] = (21,6)\n",
    "plt.rcParams.update({'font.size': 17})\n",
    "plt.plot(cumulative_revenue_group_A['date'], cumulative_revenue_group_A['revenue'], label='A')\n",
    "plt.plot(cumulative_revenue_group_B['date'], cumulative_revenue_group_B['revenue'], label='B')\n",
    "plt.annotate('скачок', xy=(dt.datetime(2019, 8, 17), 2800000), xytext=(dt.datetime(2019, 8, 10), 3500000),\n",
    "            arrowprops=dict(facecolor='g'))\n",
    "plt.title(label='График кумулятивной выручки по группам')\n",
    "plt.xlabel('Дата')\n",
    "plt.ylabel('Кумулятивная выручка')\n",
    "plt.grid()\n",
    "plt.legend()"
   ]
  },
  {
   "cell_type": "code",
   "execution_count": 31,
   "metadata": {},
   "outputs": [],
   "source": [
    "# Вернет фигуры для следующих график к размерам по умолчанию\n",
    "# plt.rcParams[\"figure.figsize\"] = plt.rcParamsDefault[\"figure.figsize\"]"
   ]
  },
  {
   "cell_type": "markdown",
   "metadata": {},
   "source": [
    "### Выручка растет - это хорошо. Резкий всплеск выручки для группы В говорит о том, что в данных могут быть выбросы"
   ]
  },
  {
   "cell_type": "markdown",
   "metadata": {},
   "source": [
    "## 2. Построим график кумулятивного среднего чека по группам. Сделаем выводы и предположения."
   ]
  },
  {
   "cell_type": "code",
   "execution_count": 32,
   "metadata": {},
   "outputs": [],
   "source": [
    "cumulative_revenue_group_A = ( cumulative_revenue[cumulative_revenue['group'] == 'A']\n",
    "[['date', 'revenue', 'transactionid']] )\n",
    "cumulative_revenue_group_B = ( cumulative_revenue[cumulative_revenue['group'] == 'B']\n",
    "[['date', 'revenue', 'transactionid']] )"
   ]
  },
  {
   "cell_type": "code",
   "execution_count": 33,
   "metadata": {
    "scrolled": true
   },
   "outputs": [
    {
     "data": {
      "text/plain": [
       "<matplotlib.legend.Legend at 0x7fee75f57b50>"
      ]
     },
     "execution_count": 33,
     "metadata": {},
     "output_type": "execute_result"
    },
    {
     "data": {
      "image/png": "[encoded data removed]",
      "text/plain": [
       "<Figure size 1512x432 with 1 Axes>"
      ]
     },
     "metadata": {
      "needs_background": "light"
     },
     "output_type": "display_data"
    }
   ],
   "source": [
    "plt.plot( cumulative_revenue_group_A['date'], \n",
    "         cumulative_revenue_group_A['revenue'] / cumulative_revenue_group_A['transactionid'] , label='A'\n",
    ")\n",
    "plt.plot( cumulative_revenue_group_B['date'], \n",
    "         cumulative_revenue_group_B['revenue'] / cumulative_revenue_group_B['transactionid'] , label='B'\n",
    ")\n",
    "plt.title('График кумулятивного среднего чека по группам')\n",
    "plt.xlabel('Дата')\n",
    "plt.ylabel('Кумулятивный средний чек')\n",
    "plt.grid()\n",
    "plt.legend()"
   ]
  },
  {
   "cell_type": "markdown",
   "metadata": {},
   "source": [
    "### Для группы А средний чек зафиксировался в районе 7000, группы В показала странный скачок в середине графика, хотя до этого была примерно на отметке группы А, возможно влияние выбросов"
   ]
  },
  {
   "cell_type": "markdown",
   "metadata": {},
   "source": [
    "## 3. Построим график относительного изменения кумулятивного среднего чека группы B к группе A. Сделаем выводы и предположения."
   ]
  },
  {
   "cell_type": "code",
   "execution_count": 34,
   "metadata": {},
   "outputs": [],
   "source": [
    "# слепляем таблицы с данными групп В и А в одну \n",
    "cumulative_revenue_merged = cumulative_revenue_group_A.merge(cumulative_revenue_group_B, \n",
    "                                                             on='date', how='left', suffixes=['A','B'])"
   ]
  },
  {
   "cell_type": "code",
   "execution_count": 35,
   "metadata": {},
   "outputs": [],
   "source": [
    "#cumulative_revenue_merged.head()"
   ]
  },
  {
   "cell_type": "code",
   "execution_count": 36,
   "metadata": {},
   "outputs": [
    {
     "data": {
      "image/png": "[encoded data removed]",
      "text/plain": [
       "<Figure size 1512x432 with 1 Axes>"
      ]
     },
     "metadata": {
      "needs_background": "light"
     },
     "output_type": "display_data"
    }
   ],
   "source": [
    "plt.plot(cumulative_revenue_merged['date'],\n",
    "         (cumulative_revenue_merged['revenueB'] / cumulative_revenue_merged['transactionidB']) / \n",
    "         (cumulative_revenue_merged['revenueA'] / cumulative_revenue_merged['transactionidA']) - 1 )\n",
    "plt.axhline(y=0, color='black', linestyle='--')\n",
    "plt.title('График относительного изменения кумулятивного среднего чека группы B к группе A')\n",
    "plt.xlabel('Дата')\n",
    "plt.ylabel('Кумулятивный средний чек В / Кумулятивный средний чек А')\n",
    "plt.grid()"
   ]
  },
  {
   "cell_type": "markdown",
   "metadata": {},
   "source": [
    "### Заметно влияние выброса по центру, без него линия была бы около 0 "
   ]
  },
  {
   "cell_type": "markdown",
   "metadata": {},
   "source": [
    "## 4. Построим график кумулятивной конверсии по группам. Сделаем выводы и предположения."
   ]
  },
  {
   "cell_type": "code",
   "execution_count": 37,
   "metadata": {},
   "outputs": [],
   "source": [
    "# получаем агрегированные кумулятивные по дням данные о посетителях интернет-магазина\n",
    "cumulative_visitors = dates_groups.apply(lambda x:\n",
    "       visitors[np.logical_and(visitors['date'] <= x['date'], visitors['group'] == x['group'])].\n",
    "                                                agg({'date':'max',\n",
    "                                                    'group':'max',\n",
    "                                                    'visitors':'sum'}), axis=1).sort_values(by=['date','group'])"
   ]
  },
  {
   "cell_type": "code",
   "execution_count": 38,
   "metadata": {},
   "outputs": [],
   "source": [
    "#cumulative_visitors"
   ]
  },
  {
   "cell_type": "code",
   "execution_count": 39,
   "metadata": {},
   "outputs": [],
   "source": [
    "# прикручиваем таблицу с кумулятивными данными о посетителях к таблице с куммулятивными данными о заказах\n",
    "cumulative_omni = cumulative_revenue.merge(cumulative_visitors, on=['date','group'], how='left')"
   ]
  },
  {
   "cell_type": "code",
   "execution_count": 40,
   "metadata": {},
   "outputs": [],
   "source": [
    "#cumulative_omni.head()"
   ]
  },
  {
   "cell_type": "code",
   "execution_count": 41,
   "metadata": {},
   "outputs": [],
   "source": [
    "cumulative_omni_A = cumulative_omni[cumulative_omni['group'] == 'A'][['date','transactionid','visitors']]\n",
    "cumulative_omni_B = cumulative_omni[cumulative_omni['group'] == 'B'][['date','transactionid','visitors']]"
   ]
  },
  {
   "cell_type": "code",
   "execution_count": 42,
   "metadata": {},
   "outputs": [
    {
     "data": {
      "text/plain": [
       "<matplotlib.legend.Legend at 0x7fee75eb13a0>"
      ]
     },
     "execution_count": 42,
     "metadata": {},
     "output_type": "execute_result"
    },
    {
     "data": {
      "image/png": "[encoded data removed]",
      "text/plain": [
       "<Figure size 1512x432 with 1 Axes>"
      ]
     },
     "metadata": {
      "needs_background": "light"
     },
     "output_type": "display_data"
    }
   ],
   "source": [
    "plt.plot(cumulative_omni_A['date'], cumulative_omni_A['transactionid'] / cumulative_omni_A['visitors'],label='A')\n",
    "plt.plot(cumulative_omni_B['date'], cumulative_omni_B['transactionid'] / cumulative_omni_B['visitors'],label='B')\n",
    "plt.title('График кумулятивной конверсии по группам')\n",
    "plt.xlabel('Дата')\n",
    "plt.ylabel('Кумулятивная конверсия')\n",
    "plt.grid()\n",
    "plt.legend()"
   ]
  },
  {
   "cell_type": "markdown",
   "metadata": {},
   "source": [
    "### Конверсия группы В выше конверсии группы А "
   ]
  },
  {
   "cell_type": "markdown",
   "metadata": {},
   "source": [
    "## 5. Построим график относительного изменения кумулятивной конверсии группы B к группе A. Сделаем выводы и предположения."
   ]
  },
  {
   "cell_type": "code",
   "execution_count": 43,
   "metadata": {},
   "outputs": [],
   "source": [
    "# слепляем таблицы с данными групп В и А в одну \n",
    "cumulative_omni_merged = cumulative_omni_A.merge(cumulative_omni_B, on='date', how='left', suffixes=['A','B'])"
   ]
  },
  {
   "cell_type": "code",
   "execution_count": 44,
   "metadata": {},
   "outputs": [
    {
     "data": {
      "text/html": [
       "<div>\n",
       "<style scoped>\n",
       "    .dataframe tbody tr th:only-of-type {\n",
       "        vertical-align: middle;\n",
       "    }\n",
       "\n",
       "    .dataframe tbody tr th {\n",
       "        vertical-align: top;\n",
       "    }\n",
       "\n",
       "    .dataframe thead th {\n",
       "        text-align: right;\n",
       "    }\n",
       "</style>\n",
       "<table border=\"1\" class=\"dataframe\">\n",
       "  <thead>\n",
       "    <tr style=\"text-align: right;\">\n",
       "      <th></th>\n",
       "      <th>date</th>\n",
       "      <th>transactionidA</th>\n",
       "      <th>visitorsA</th>\n",
       "      <th>transactionidB</th>\n",
       "      <th>visitorsB</th>\n",
       "    </tr>\n",
       "  </thead>\n",
       "  <tbody>\n",
       "    <tr>\n",
       "      <th>0</th>\n",
       "      <td>2019-08-01</td>\n",
       "      <td>24</td>\n",
       "      <td>719</td>\n",
       "      <td>21</td>\n",
       "      <td>713</td>\n",
       "    </tr>\n",
       "  </tbody>\n",
       "</table>\n",
       "</div>"
      ],
      "text/plain": [
       "        date  transactionidA  visitorsA  transactionidB  visitorsB\n",
       "0 2019-08-01              24        719              21        713"
      ]
     },
     "execution_count": 44,
     "metadata": {},
     "output_type": "execute_result"
    }
   ],
   "source": [
    "cumulative_omni_merged.head(1)"
   ]
  },
  {
   "cell_type": "code",
   "execution_count": 45,
   "metadata": {},
   "outputs": [
    {
     "data": {
      "image/png": "[encoded data removed]",
      "text/plain": [
       "<Figure size 1512x432 with 1 Axes>"
      ]
     },
     "metadata": {
      "needs_background": "light"
     },
     "output_type": "display_data"
    }
   ],
   "source": [
    "plt.plot(cumulative_omni_merged['date'],\n",
    "         (cumulative_omni_merged['transactionidB'] / cumulative_omni_merged['visitorsB']) /\n",
    "         (cumulative_omni_merged['transactionidA'] / cumulative_omni_merged['visitorsA']) -1 )\n",
    "plt.axhline(y=0, color='black', linestyle='--')\n",
    "plt.axhline(y=0.15, color='black', linestyle='--')\n",
    "plt.title('График относительного изменения кумулятивной конверсии группы B к группе A')\n",
    "plt.xlabel('Дата')\n",
    "plt.ylabel('Кумулятивная конверсия В / Кумулятивная конверсия А')\n",
    "plt.grid()"
   ]
  },
  {
   "cell_type": "markdown",
   "metadata": {},
   "source": [
    "### Конверсия группы В почти на 15% выше конверсии группы А "
   ]
  },
  {
   "cell_type": "markdown",
   "metadata": {},
   "source": [
    "## 6. Построим точечный график количества заказов по пользователям. Сделаем выводы и предположения."
   ]
  },
  {
   "cell_type": "code",
   "execution_count": 46,
   "metadata": {},
   "outputs": [],
   "source": [
    "# агрегируем данные по заказам на уникального посетителя\n",
    "orders_by_user = orders.groupby('visitorid',as_index=False).agg({'transactionid':'nunique'})"
   ]
  },
  {
   "cell_type": "code",
   "execution_count": 47,
   "metadata": {},
   "outputs": [],
   "source": [
    "x_values = pd.Series(range(0,len(orders_by_user['visitorid'])))"
   ]
  },
  {
   "cell_type": "code",
   "execution_count": 48,
   "metadata": {},
   "outputs": [
    {
     "data": {
      "image/png": "[encoded data removed]",
      "text/plain": [
       "<Figure size 1512x432 with 1 Axes>"
      ]
     },
     "metadata": {
      "needs_background": "light"
     },
     "output_type": "display_data"
    }
   ],
   "source": [
    "plt.scatter(x_values, orders_by_user['transactionid'])\n",
    "plt.title('Точечный график количества заказов по пользователям')\n",
    "plt.xlabel('Пользователи')\n",
    "plt.ylabel('Кол-во заказов')\n",
    "plt.grid()"
   ]
  },
  {
   "cell_type": "markdown",
   "metadata": {},
   "source": [
    "### Один, два заказа на пользователя - обычное дело"
   ]
  },
  {
   "cell_type": "markdown",
   "metadata": {},
   "source": [
    "## 7. Посчитаем 95-й и 99-й перцентили количества заказов на пользователя. Выберем границу для определения аномальных пользователей."
   ]
  },
  {
   "cell_type": "code",
   "execution_count": 49,
   "metadata": {},
   "outputs": [
    {
     "data": {
      "text/plain": [
       "array([2., 4.])"
      ]
     },
     "execution_count": 49,
     "metadata": {},
     "output_type": "execute_result"
    }
   ],
   "source": [
    "np.percentile(orders_by_user['transactionid'],[95,99])"
   ]
  },
  {
   "cell_type": "markdown",
   "metadata": {},
   "source": [
    "### Будем считать тех кто совершил больше 2 заказов, аномальными пользователями, отсеиваем не больше 5% выборки"
   ]
  },
  {
   "cell_type": "markdown",
   "metadata": {},
   "source": [
    "## 8. Построим точечный график стоимостей заказов. Сделаем выводы и предположения."
   ]
  },
  {
   "cell_type": "code",
   "execution_count": 50,
   "metadata": {},
   "outputs": [],
   "source": [
    "x_values = pd.Series(range(0,len(orders['revenue'])))"
   ]
  },
  {
   "cell_type": "code",
   "execution_count": 51,
   "metadata": {},
   "outputs": [
    {
     "data": {
      "image/png": "[encoded data removed]",
      "text/plain": [
       "<Figure size 1512x432 with 1 Axes>"
      ]
     },
     "metadata": {
      "needs_background": "light"
     },
     "output_type": "display_data"
    }
   ],
   "source": [
    "plt.scatter(x_values, orders['revenue'])\n",
    "plt.title('Точечный график стоимостей заказов')\n",
    "plt.xlabel('Пользователи')\n",
    "plt.ylabel('Сумма заказа')\n",
    "plt.grid()"
   ]
  },
  {
   "cell_type": "markdown",
   "metadata": {},
   "source": [
    "### На графике замеины очень дорогие заказы"
   ]
  },
  {
   "cell_type": "markdown",
   "metadata": {},
   "source": [
    "## 9. Посчитаем 95-й и 99-й перцентили стоимости заказов. Выберем границу для определения аномальных заказов."
   ]
  },
  {
   "cell_type": "code",
   "execution_count": 52,
   "metadata": {},
   "outputs": [
    {
     "data": {
      "text/plain": [
       "array([28000. , 58233.2])"
      ]
     },
     "execution_count": 52,
     "metadata": {},
     "output_type": "execute_result"
    }
   ],
   "source": [
    "np.percentile(orders['revenue'],[95,99])"
   ]
  },
  {
   "cell_type": "markdown",
   "metadata": {},
   "source": [
    "### Выберем границей 30000 за заказ, отсеим от 1 до 5 процентов выборки "
   ]
  },
  {
   "cell_type": "markdown",
   "metadata": {},
   "source": [
    "## 10. Посчитаем статистическую значимость различий в конверсии между группами по «сырым» данным. Сделаем выводы и предположения."
   ]
  },
  {
   "cell_type": "code",
   "execution_count": 53,
   "metadata": {},
   "outputs": [
    {
     "data": {
      "text/html": [
       "<div>\n",
       "<style scoped>\n",
       "    .dataframe tbody tr th:only-of-type {\n",
       "        vertical-align: middle;\n",
       "    }\n",
       "\n",
       "    .dataframe tbody tr th {\n",
       "        vertical-align: top;\n",
       "    }\n",
       "\n",
       "    .dataframe thead th {\n",
       "        text-align: right;\n",
       "    }\n",
       "</style>\n",
       "<table border=\"1\" class=\"dataframe\">\n",
       "  <thead>\n",
       "    <tr style=\"text-align: right;\">\n",
       "      <th></th>\n",
       "      <th>transactionid</th>\n",
       "      <th>visitorid</th>\n",
       "      <th>date</th>\n",
       "      <th>revenue</th>\n",
       "      <th>group</th>\n",
       "    </tr>\n",
       "  </thead>\n",
       "  <tbody>\n",
       "    <tr>\n",
       "      <th>0</th>\n",
       "      <td>3667963787</td>\n",
       "      <td>3312258926</td>\n",
       "      <td>2019-08-15</td>\n",
       "      <td>1650</td>\n",
       "      <td>B</td>\n",
       "    </tr>\n",
       "  </tbody>\n",
       "</table>\n",
       "</div>"
      ],
      "text/plain": [
       "   transactionid   visitorid       date  revenue group\n",
       "0     3667963787  3312258926 2019-08-15     1650     B"
      ]
     },
     "execution_count": 53,
     "metadata": {},
     "output_type": "execute_result"
    }
   ],
   "source": [
    "orders.head(1)"
   ]
  },
  {
   "cell_type": "code",
   "execution_count": 54,
   "metadata": {},
   "outputs": [],
   "source": [
    "# агрегируем данные по заказам на уникального посетителя для группы А\n",
    "orders_per_user_A = orders[orders['group'] == 'A'].groupby('visitorid',as_index=False).agg({'transactionid':'nunique'})"
   ]
  },
  {
   "cell_type": "code",
   "execution_count": 55,
   "metadata": {},
   "outputs": [],
   "source": [
    "orders_per_user_A.columns = ['visitor_id','orders']"
   ]
  },
  {
   "cell_type": "code",
   "execution_count": 56,
   "metadata": {
    "scrolled": true
   },
   "outputs": [
    {
     "data": {
      "text/html": [
       "<div>\n",
       "<style scoped>\n",
       "    .dataframe tbody tr th:only-of-type {\n",
       "        vertical-align: middle;\n",
       "    }\n",
       "\n",
       "    .dataframe tbody tr th {\n",
       "        vertical-align: top;\n",
       "    }\n",
       "\n",
       "    .dataframe thead th {\n",
       "        text-align: right;\n",
       "    }\n",
       "</style>\n",
       "<table border=\"1\" class=\"dataframe\">\n",
       "  <thead>\n",
       "    <tr style=\"text-align: right;\">\n",
       "      <th></th>\n",
       "      <th>date</th>\n",
       "      <th>group</th>\n",
       "      <th>visitors</th>\n",
       "    </tr>\n",
       "  </thead>\n",
       "  <tbody>\n",
       "    <tr>\n",
       "      <th>0</th>\n",
       "      <td>2019-08-01</td>\n",
       "      <td>A</td>\n",
       "      <td>719</td>\n",
       "    </tr>\n",
       "  </tbody>\n",
       "</table>\n",
       "</div>"
      ],
      "text/plain": [
       "        date group  visitors\n",
       "0 2019-08-01     A       719"
      ]
     },
     "execution_count": 56,
     "metadata": {},
     "output_type": "execute_result"
    }
   ],
   "source": [
    "visitors.head(1)"
   ]
  },
  {
   "cell_type": "code",
   "execution_count": 57,
   "metadata": {},
   "outputs": [
    {
     "data": {
      "text/plain": [
       "0        0\n",
       "1        0\n",
       "2        0\n",
       "3        0\n",
       "4        0\n",
       "        ..\n",
       "18228    0\n",
       "18229    0\n",
       "18230    0\n",
       "18231    0\n",
       "18232    0\n",
       "Length: 18233, dtype: int64"
      ]
     },
     "execution_count": 57,
     "metadata": {},
     "output_type": "execute_result"
    }
   ],
   "source": [
    "# создаем массив с нулями длиной = суммарное кол-во посетителей группы А минус кол-во посетителей сделваших заказ\n",
    "pd.Series(0, index=np.arange(visitors[visitors['group'] == 'A']['visitors'].sum() - len(orders_per_user_A['orders'])))"
   ]
  },
  {
   "cell_type": "code",
   "execution_count": 58,
   "metadata": {},
   "outputs": [],
   "source": [
    "# сцепляем данные по заказам на уникального посетителя для группы А с массивом нулей\n",
    "sample_A = pd.concat(\n",
    "    [orders_per_user_A['orders'],\n",
    "           pd.Series(0, index=np.arange(visitors[visitors['group'] == 'A']['visitors'].sum()\n",
    "                                        - len(orders_per_user_A['orders'])), name='orders')], axis=0)"
   ]
  },
  {
   "cell_type": "code",
   "execution_count": 59,
   "metadata": {},
   "outputs": [],
   "source": [
    "#sample_A"
   ]
  },
  {
   "cell_type": "code",
   "execution_count": 60,
   "metadata": {},
   "outputs": [],
   "source": [
    "orders_per_user_B = orders[orders['group'] == 'B'].groupby('visitorid',as_index=False).agg({'transactionid':'nunique'})\n",
    "orders_per_user_B.columns = ['visitor_id','orders']"
   ]
  },
  {
   "cell_type": "code",
   "execution_count": 61,
   "metadata": {},
   "outputs": [],
   "source": [
    "# повторяем процедуру для группы В \n",
    "sample_B = pd.concat(\n",
    "[orders_per_user_B['orders'],\n",
    "pd.Series(0, index=np.arange(visitors[visitors['group'] == 'B']['visitors'].sum() - len(orders_per_user_B)))],\n",
    "axis=0)"
   ]
  },
  {
   "cell_type": "code",
   "execution_count": 62,
   "metadata": {},
   "outputs": [],
   "source": [
    "#sample_B"
   ]
  },
  {
   "cell_type": "code",
   "execution_count": 63,
   "metadata": {},
   "outputs": [
    {
     "data": {
      "text/plain": [
       "MannwhitneyuResult(statistic=176473106.0, pvalue=0.016792355056752608)"
      ]
     },
     "execution_count": 63,
     "metadata": {},
     "output_type": "execute_result"
    }
   ],
   "source": [
    "# применяем тест МАнна-Уитни для двух массивов групп А и В \n",
    "stats.mannwhitneyu(sample_A, sample_B)"
   ]
  },
  {
   "cell_type": "code",
   "execution_count": 64,
   "metadata": {},
   "outputs": [
    {
     "data": {
      "text/plain": [
       "0.13807884655320146"
      ]
     },
     "execution_count": 64,
     "metadata": {},
     "output_type": "execute_result"
    }
   ],
   "source": [
    "sample_B.mean() / sample_A.mean() - 1 "
   ]
  },
  {
   "cell_type": "markdown",
   "metadata": {},
   "source": [
    "### p-value меньше 0.01 значит отвергаем нулевую гипотезу о том, что статистически значимых различий в конверсиях двух групп нет. Склоняемся к альтернативной гипотезе, конверсии двух групп статистически различны: конверсия В больше конверсии А на 13% "
   ]
  },
  {
   "cell_type": "markdown",
   "metadata": {},
   "source": [
    "<div class=\"alert alert-block alert-warning\">\n",
    "    \n",
    "\n",
    "__Комментарий от ревьюера №1 (нужно доделать)__\n",
    "\n",
    "Как это p-value меньше 0.01?\n",
    "</div>"
   ]
  },
  {
   "cell_type": "code",
   "execution_count": 81,
   "metadata": {},
   "outputs": [
    {
     "data": {
      "text/plain": [
       "False"
      ]
     },
     "execution_count": 81,
     "metadata": {},
     "output_type": "execute_result"
    }
   ],
   "source": [
    "stats.mannwhitneyu(sample_A, sample_B)[1] < 0.01"
   ]
  },
  {
   "cell_type": "markdown",
   "metadata": {},
   "source": [
    "## 11. Посчитаем статистическую значимость различий в среднем чеке заказа между группами по «сырым» данным. Сделаем выводы и предположения."
   ]
  },
  {
   "cell_type": "code",
   "execution_count": 66,
   "metadata": {},
   "outputs": [
    {
     "data": {
      "text/plain": [
       "MannwhitneyuResult(statistic=176175.0, pvalue=0.7292909855432458)"
      ]
     },
     "execution_count": 66,
     "metadata": {},
     "output_type": "execute_result"
    }
   ],
   "source": [
    "# применяем тест МАнна-Уитни для двух массивов групп А и В с данными о сумме заказа\n",
    "stats.mannwhitneyu(orders[orders['group'] == 'A']['revenue'],orders[orders['group'] == 'B']['revenue'])"
   ]
  },
  {
   "cell_type": "code",
   "execution_count": 67,
   "metadata": {},
   "outputs": [
    {
     "data": {
      "text/plain": [
       "0.2587136699126005"
      ]
     },
     "execution_count": 67,
     "metadata": {},
     "output_type": "execute_result"
    }
   ],
   "source": [
    "orders[orders['group'] == 'B']['revenue'].mean() / orders[orders['group'] == 'A']['revenue'].mean() -1"
   ]
  },
  {
   "cell_type": "markdown",
   "metadata": {},
   "source": [
    "### Хотя средний чек группы В на 25% больше среднего чека группы А, тест показал, что статистически значимых различий двух выборок нет, p-value > 0.05"
   ]
  },
  {
   "cell_type": "markdown",
   "metadata": {},
   "source": [
    "## 12. Посчитаем статистическую значимость различий в конверсии между группами по «очищенным» данным. Сделаем выводы и предположения."
   ]
  },
  {
   "cell_type": "code",
   "execution_count": 68,
   "metadata": {},
   "outputs": [],
   "source": [
    "orders_by_user = orders.groupby('visitorid',as_index=False).agg({'transactionid':'nunique'})"
   ]
  },
  {
   "cell_type": "code",
   "execution_count": 69,
   "metadata": {},
   "outputs": [],
   "source": [
    "# массив с id пользователей с аномальным кол-вом заказов\n",
    "users_anomal_count_orders = orders_by_user[orders_by_user['transactionid'] > 2]['visitorid']"
   ]
  },
  {
   "cell_type": "code",
   "execution_count": 70,
   "metadata": {},
   "outputs": [],
   "source": [
    "# массив с id пользователей с аномальными чеками\n",
    "users_anomal_revenue = orders[orders['revenue'] > 30000]['visitorid']"
   ]
  },
  {
   "cell_type": "code",
   "execution_count": 71,
   "metadata": {},
   "outputs": [],
   "source": [
    "# объединяем два массив, убираем повторяющиеся id \n",
    "users_anomal_omni = pd.concat([users_anomal_count_orders, users_anomal_revenue]).drop_duplicates()"
   ]
  },
  {
   "cell_type": "code",
   "execution_count": 72,
   "metadata": {},
   "outputs": [],
   "source": [
    "#users_anomal_omni"
   ]
  },
  {
   "cell_type": "code",
   "execution_count": 73,
   "metadata": {},
   "outputs": [],
   "source": [
    "# отсекаем аномальных пользователей\n",
    "orders_per_user_A_filtered = orders_per_user_A[np.logical_not(orders_per_user_A['visitor_id'].isin(users_anomal_omni))]"
   ]
  },
  {
   "cell_type": "code",
   "execution_count": 74,
   "metadata": {},
   "outputs": [],
   "source": [
    "# сцепляем данные по заказам на уникального посетителя для группы А без аномальных юзеров с массивом нулей\n",
    "sample_A_filtered = pd.concat(\n",
    "[orders_per_user_A_filtered['orders'],\n",
    " pd.Series(0, index=np.arange(visitors[visitors['group'] == 'A']['visitors'].sum() -\n",
    "                              len(orders_per_user_A['orders'])))\n",
    "    \n",
    "])"
   ]
  },
  {
   "cell_type": "code",
   "execution_count": 75,
   "metadata": {},
   "outputs": [],
   "source": [
    "orders_per_user_B_filtered = orders_per_user_B[np.logical_not(orders_per_user_B['visitor_id'].isin(users_anomal_omni))]"
   ]
  },
  {
   "cell_type": "code",
   "execution_count": 76,
   "metadata": {},
   "outputs": [],
   "source": [
    "# то же самое для группы В \n",
    "sample_B_filtered = pd.concat(\n",
    "[orders_per_user_B_filtered['orders'],\n",
    " pd.Series(0, index=np.arange(visitors[visitors['group'] == 'B']['visitors'].sum() -\n",
    "                              len(orders_per_user_B['orders'])))\n",
    "    \n",
    "])"
   ]
  },
  {
   "cell_type": "code",
   "execution_count": 77,
   "metadata": {},
   "outputs": [
    {
     "data": {
      "text/plain": [
       "MannwhitneyuResult(statistic=175492056.5, pvalue=0.012460007662636382)"
      ]
     },
     "execution_count": 77,
     "metadata": {},
     "output_type": "execute_result"
    }
   ],
   "source": [
    "# тест Мана-Уитни для двух групп \n",
    "stats.mannwhitneyu(sample_A_filtered, sample_B_filtered)"
   ]
  },
  {
   "cell_type": "code",
   "execution_count": 78,
   "metadata": {},
   "outputs": [
    {
     "data": {
      "text/plain": [
       "0.17449303944355377"
      ]
     },
     "execution_count": 78,
     "metadata": {},
     "output_type": "execute_result"
    }
   ],
   "source": [
    "sample_B_filtered.mean() / sample_A_filtered.mean() -1 "
   ]
  },
  {
   "cell_type": "markdown",
   "metadata": {},
   "source": [
    "### Отвергаем нулевую гипотезу от отсутствии различий в двух выборках,  отфильтрованные данные показывают еще большую разницу в конверсии двух групп "
   ]
  },
  {
   "cell_type": "markdown",
   "metadata": {},
   "source": [
    "## 13. Посчитаем статистическую значимость различий в среднем чеке заказа между группами по «очищенным» данным. Сделаем выводы и предположения."
   ]
  },
  {
   "cell_type": "code",
   "execution_count": 79,
   "metadata": {},
   "outputs": [
    {
     "data": {
      "text/plain": [
       "MannwhitneyuResult(statistic=128667.5, pvalue=0.734091822489681)"
      ]
     },
     "execution_count": 79,
     "metadata": {},
     "output_type": "execute_result"
    }
   ],
   "source": [
    "stats.mannwhitneyu(\n",
    "orders[np.logical_and(orders['group'] == 'A',np.logical_not(orders['visitorid']\n",
    "                                                              .isin(users_anomal_omni)))]['revenue'],\n",
    "    orders[np.logical_and(orders['group'] == 'B',np.logical_not(orders['visitorid']\n",
    "                                                                  .isin(users_anomal_omni)))]['revenue']\n",
    ")"
   ]
  },
  {
   "cell_type": "code",
   "execution_count": 80,
   "metadata": {},
   "outputs": [
    {
     "data": {
      "text/plain": [
       "0.026387358042055276"
      ]
     },
     "execution_count": 80,
     "metadata": {},
     "output_type": "execute_result"
    }
   ],
   "source": [
    "(orders[np.logical_and(orders['group'] == 'A',np.logical_not(orders['visitorid']\n",
    "                                                              .isin(users_anomal_omni)))]['revenue'].mean() / \n",
    "    orders[np.logical_and(orders['group'] == 'B',np.logical_not(orders['visitorid']\n",
    "                                                                  .isin(users_anomal_omni)))]['revenue'].mean() - 1 )"
   ]
  },
  {
   "cell_type": "markdown",
   "metadata": {},
   "source": [
    "### p-value > 0.05, показывает , что статистически значимых различий двух выборок нет. Очищенные данные, показывают, что средний чек группы А больше среднего чека группы В на 2.6%. Грязные данные показывали, что чек В превышает А на 25%. Заметно влияние аномально больших заказов"
   ]
  },
  {
   "cell_type": "markdown",
   "metadata": {},
   "source": [
    "# Вывод:"
   ]
  },
  {
   "cell_type": "markdown",
   "metadata": {},
   "source": [
    "### Предлагаю остановить тест, группа В показала значительное превосходство в конверсии (> 15%), средний чек двух групп соизмерим "
   ]
  },
  {
   "cell_type": "markdown",
   "metadata": {},
   "source": [
    "Для анализа были предоставлены 2 датасета: с кол-вом посетителей по дням и данные с заказами. В результате обработки данных было выявлено, что в данных отсутствуют пропуски и дубликаты. Также обнаружено, что при разбивке по группам для тестирования гипотез есть пользователи, которые попали в обе группы. \n",
    "\n",
    "Были построены графики:\n",
    "    * кумулятивной выручки по группам\n",
    "    * кумулятивного среднего чека по группам\n",
    "    * относительного изменения кумулятивного среднего чека группы B к группе A\n",
    "    * кумулятивной конверсии по группам\n",
    "    * относительного изменения кумулятивной конверсии группы B к группе A\n",
    "    * количества заказов по пользователям\n",
    "    * стоимостей заказов\n",
    "\n",
    "Определены границы выбросов по аномальным количествам заказов на пользователя и по сумме заказа\n",
    "\n",
    "Проведены тесты Мана-Уитни до исключения выбросов из данных и после для двух групп по различии конверсии и среднего чека.\n",
    "\n",
    "Тесты для сырых и обработанных данных показали схожие результаты. Статистически значимых различий в среднем чеке для двух групп нет. Конверсия группы В выше конверсии группы А на 13%.\n",
    "\n",
    "Предлагаю завершить тест."
   ]
  },
  {
   "cell_type": "markdown",
   "metadata": {},
   "source": [
    "При статистической оценке конверсии по 'сырым' данным нулевая гипотеза: две выборки являются выборками одной генеральной совокупности. Альтернативная гипотеза: выборки принадлежат статистически различимым совокупностям.\n",
    "p-value = 0.017 < 5% значит что с вероятностью 98.3% мы корректно отвергаем нулевую гипотезу и вероятностью 1.7% ошиблись . Склоняемся к альтернативной гипотезе, конверсии двух групп, посчитанные на основании двух выборок статистически различны: конверсия В больше конверсии А на 13%.\n",
    "                    \n",
    "Точечный график количества заказов на пользователя показал, что пользователи редко делают больше 2ух заказов. Посчитав тех кто совершил больше 2 заказов аномальными пользователями, отсеили не больше 5% выборки.\n",
    "                    \n",
    "Точечный график среднего чека определил аномальной границей 30000 за заказ, отсеив от 1 до 5 процентов выборки.\n",
    "                    \n",
    "Очистив данные от аномальных пользлвателей, провели повторный тест Мана-Уитни, который выдал значение p-value= 0.012, что подтвердило результаты первого теста. Посчитанная конверсия В оказалась больше конверсии А на 17%.\n",
    "                    \n",
    "Для среднего чека нулевая гипотеза: выборка группы А и выборка группы В являются частями одной общей выборки. Альтернативная гипотеза: выборки принадлежат разным генеральным совокупностям. Для сырых данных: p-value= 0.73 . Для очищенных от аномальных пользователей данных: p-value= 0.73. В обоих случаях нет оснований отвергать нулевую гипотезу. Средний чек группы В больше группы А на 25% для сырых данных , средний чек группы А выше среднего чека группы В на 2.6% для очищенных данных."
   ]
  },
  {
   "cell_type": "code",
   "execution_count": null,
   "metadata": {},
   "outputs": [],
   "source": []
  }
 ],
 "metadata": {
  "ExecuteTimeLog": [
   {
    "duration": 1245,
    "start_time": "2022-07-06T21:36:05.715Z"
   },
   {
    "duration": 108,
    "start_time": "2022-07-06T21:36:06.962Z"
   },
   {
    "duration": 12,
    "start_time": "2022-07-06T21:36:07.071Z"
   },
   {
    "duration": 15,
    "start_time": "2022-07-06T21:36:07.084Z"
   },
   {
    "duration": 6,
    "start_time": "2022-07-06T21:36:07.101Z"
   },
   {
    "duration": 10,
    "start_time": "2022-07-06T21:36:07.108Z"
   },
   {
    "duration": 11,
    "start_time": "2022-07-06T21:36:07.120Z"
   },
   {
    "duration": 14,
    "start_time": "2022-07-06T21:36:07.132Z"
   },
   {
    "duration": 13,
    "start_time": "2022-07-06T21:36:07.148Z"
   },
   {
    "duration": 143,
    "start_time": "2022-07-06T21:36:07.163Z"
   },
   {
    "duration": 8,
    "start_time": "2022-07-06T21:36:07.307Z"
   },
   {
    "duration": 10,
    "start_time": "2022-07-06T21:36:07.316Z"
   },
   {
    "duration": 13,
    "start_time": "2022-07-06T21:36:07.328Z"
   },
   {
    "duration": 11,
    "start_time": "2022-07-06T21:36:07.344Z"
   },
   {
    "duration": 3,
    "start_time": "2022-07-06T21:36:07.357Z"
   },
   {
    "duration": 10,
    "start_time": "2022-07-06T21:36:07.362Z"
   },
   {
    "duration": 99,
    "start_time": "2022-07-06T21:36:07.374Z"
   },
   {
    "duration": 5,
    "start_time": "2022-07-06T21:36:07.475Z"
   },
   {
    "duration": 6,
    "start_time": "2022-07-06T21:36:07.482Z"
   },
   {
    "duration": 174,
    "start_time": "2022-07-06T21:36:07.490Z"
   },
   {
    "duration": 12,
    "start_time": "2022-07-06T21:36:07.666Z"
   },
   {
    "duration": 8,
    "start_time": "2022-07-06T21:36:07.679Z"
   },
   {
    "duration": 16,
    "start_time": "2022-07-06T21:36:07.688Z"
   },
   {
    "duration": 273,
    "start_time": "2022-07-06T21:36:07.706Z"
   },
   {
    "duration": 6,
    "start_time": "2022-07-06T21:36:07.981Z"
   },
   {
    "duration": 190,
    "start_time": "2022-07-06T21:36:07.989Z"
   },
   {
    "duration": 6,
    "start_time": "2022-07-06T21:36:08.181Z"
   },
   {
    "duration": 7,
    "start_time": "2022-07-06T21:36:08.189Z"
   },
   {
    "duration": 332,
    "start_time": "2022-07-06T21:36:08.204Z"
   },
   {
    "duration": 133,
    "start_time": "2022-07-06T21:36:08.538Z"
   },
   {
    "duration": 2,
    "start_time": "2022-07-06T21:36:08.673Z"
   },
   {
    "duration": 9,
    "start_time": "2022-07-06T21:36:08.677Z"
   },
   {
    "duration": 17,
    "start_time": "2022-07-06T21:36:08.688Z"
   },
   {
    "duration": 9,
    "start_time": "2022-07-06T21:36:08.707Z"
   },
   {
    "duration": 208,
    "start_time": "2022-07-06T21:36:08.717Z"
   },
   {
    "duration": 6,
    "start_time": "2022-07-06T21:36:08.927Z"
   },
   {
    "duration": 19,
    "start_time": "2022-07-06T21:36:08.935Z"
   },
   {
    "duration": 295,
    "start_time": "2022-07-06T21:36:08.956Z"
   },
   {
    "duration": 6,
    "start_time": "2022-07-06T21:36:09.253Z"
   },
   {
    "duration": 6,
    "start_time": "2022-07-06T21:36:09.261Z"
   },
   {
    "duration": 120,
    "start_time": "2022-07-06T21:36:09.271Z"
   },
   {
    "duration": 13,
    "start_time": "2022-07-06T21:36:09.393Z"
   },
   {
    "duration": 18,
    "start_time": "2022-07-06T21:36:09.408Z"
   },
   {
    "duration": 128,
    "start_time": "2022-07-06T21:36:09.428Z"
   },
   {
    "duration": 5,
    "start_time": "2022-07-06T21:36:09.558Z"
   },
   {
    "duration": 24,
    "start_time": "2022-07-06T21:36:09.564Z"
   },
   {
    "duration": 14,
    "start_time": "2022-07-06T21:36:09.589Z"
   },
   {
    "duration": 14,
    "start_time": "2022-07-06T21:36:09.604Z"
   },
   {
    "duration": 30,
    "start_time": "2022-07-06T21:36:09.620Z"
   },
   {
    "duration": 19,
    "start_time": "2022-07-06T21:36:09.652Z"
   },
   {
    "duration": 8,
    "start_time": "2022-07-06T21:36:09.673Z"
   },
   {
    "duration": 14,
    "start_time": "2022-07-06T21:36:09.683Z"
   },
   {
    "duration": 27,
    "start_time": "2022-07-06T21:36:09.698Z"
   },
   {
    "duration": 11,
    "start_time": "2022-07-06T21:36:09.727Z"
   },
   {
    "duration": 26,
    "start_time": "2022-07-06T21:36:09.740Z"
   },
   {
    "duration": 34,
    "start_time": "2022-07-06T21:36:09.767Z"
   },
   {
    "duration": 4,
    "start_time": "2022-07-06T21:36:09.803Z"
   },
   {
    "duration": 27,
    "start_time": "2022-07-06T21:36:09.809Z"
   },
   {
    "duration": 19,
    "start_time": "2022-07-06T21:36:09.838Z"
   },
   {
    "duration": 20,
    "start_time": "2022-07-06T21:36:09.859Z"
   },
   {
    "duration": 11,
    "start_time": "2022-07-06T21:36:09.880Z"
   },
   {
    "duration": 19,
    "start_time": "2022-07-06T21:36:09.893Z"
   },
   {
    "duration": 31,
    "start_time": "2022-07-06T21:36:09.913Z"
   },
   {
    "duration": 6,
    "start_time": "2022-07-06T21:36:09.946Z"
   },
   {
    "duration": 8,
    "start_time": "2022-07-06T21:36:09.954Z"
   },
   {
    "duration": 11,
    "start_time": "2022-07-06T21:36:09.963Z"
   },
   {
    "duration": 6,
    "start_time": "2022-07-06T21:36:09.976Z"
   },
   {
    "duration": 7,
    "start_time": "2022-07-06T21:36:09.984Z"
   },
   {
    "duration": 43,
    "start_time": "2022-07-06T21:36:09.993Z"
   },
   {
    "duration": 5,
    "start_time": "2022-07-06T21:36:10.037Z"
   },
   {
    "duration": 14,
    "start_time": "2022-07-06T21:36:10.043Z"
   },
   {
    "duration": 22,
    "start_time": "2022-07-06T21:36:10.058Z"
   },
   {
    "duration": 976,
    "start_time": "2022-07-10T20:06:26.449Z"
   },
   {
    "duration": 53,
    "start_time": "2022-07-10T20:06:27.426Z"
   },
   {
    "duration": 12,
    "start_time": "2022-07-10T20:06:27.481Z"
   },
   {
    "duration": 10,
    "start_time": "2022-07-10T20:06:27.495Z"
   },
   {
    "duration": 5,
    "start_time": "2022-07-10T20:06:27.507Z"
   },
   {
    "duration": 8,
    "start_time": "2022-07-10T20:06:27.513Z"
   },
   {
    "duration": 10,
    "start_time": "2022-07-10T20:06:27.523Z"
   },
   {
    "duration": 11,
    "start_time": "2022-07-10T20:06:27.534Z"
   },
   {
    "duration": 6,
    "start_time": "2022-07-10T20:06:27.547Z"
   },
   {
    "duration": 68,
    "start_time": "2022-07-10T20:06:27.554Z"
   },
   {
    "duration": 7,
    "start_time": "2022-07-10T20:06:27.623Z"
   },
   {
    "duration": 16,
    "start_time": "2022-07-10T20:06:27.632Z"
   },
   {
    "duration": 10,
    "start_time": "2022-07-10T20:06:27.650Z"
   },
   {
    "duration": 10,
    "start_time": "2022-07-10T20:06:27.664Z"
   },
   {
    "duration": 5,
    "start_time": "2022-07-10T20:06:27.675Z"
   },
   {
    "duration": 9,
    "start_time": "2022-07-10T20:06:27.682Z"
   },
   {
    "duration": 70,
    "start_time": "2022-07-10T20:06:27.692Z"
   },
   {
    "duration": 5,
    "start_time": "2022-07-10T20:06:27.764Z"
   },
   {
    "duration": 7,
    "start_time": "2022-07-10T20:06:27.771Z"
   },
   {
    "duration": 24,
    "start_time": "2022-07-10T20:06:27.779Z"
   },
   {
    "duration": 4,
    "start_time": "2022-07-10T20:06:27.804Z"
   },
   {
    "duration": 8,
    "start_time": "2022-07-10T20:06:27.809Z"
   },
   {
    "duration": 4,
    "start_time": "2022-07-10T20:06:27.818Z"
   },
   {
    "duration": 8,
    "start_time": "2022-07-10T20:06:27.824Z"
   },
   {
    "duration": 4,
    "start_time": "2022-07-10T20:06:27.834Z"
   },
   {
    "duration": 169,
    "start_time": "2022-07-10T20:06:27.840Z"
   },
   {
    "duration": 11,
    "start_time": "2022-07-10T20:06:28.011Z"
   },
   {
    "duration": 6,
    "start_time": "2022-07-10T20:06:28.023Z"
   },
   {
    "duration": 9,
    "start_time": "2022-07-10T20:06:28.030Z"
   },
   {
    "duration": 336,
    "start_time": "2022-07-10T20:06:28.040Z"
   },
   {
    "duration": 2,
    "start_time": "2022-07-10T20:06:28.378Z"
   },
   {
    "duration": 8,
    "start_time": "2022-07-10T20:06:28.382Z"
   },
   {
    "duration": 227,
    "start_time": "2022-07-10T20:06:28.401Z"
   },
   {
    "duration": 6,
    "start_time": "2022-07-10T20:06:28.630Z"
   },
   {
    "duration": 9,
    "start_time": "2022-07-10T20:06:28.637Z"
   },
   {
    "duration": 336,
    "start_time": "2022-07-10T20:06:28.648Z"
   },
   {
    "duration": 121,
    "start_time": "2022-07-10T20:06:28.986Z"
   },
   {
    "duration": 2,
    "start_time": "2022-07-10T20:06:29.109Z"
   },
   {
    "duration": 8,
    "start_time": "2022-07-10T20:06:29.113Z"
   },
   {
    "duration": 6,
    "start_time": "2022-07-10T20:06:29.122Z"
   },
   {
    "duration": 6,
    "start_time": "2022-07-10T20:06:29.132Z"
   },
   {
    "duration": 257,
    "start_time": "2022-07-10T20:06:29.139Z"
   },
   {
    "duration": 6,
    "start_time": "2022-07-10T20:06:29.397Z"
   },
   {
    "duration": 14,
    "start_time": "2022-07-10T20:06:29.405Z"
   },
   {
    "duration": 335,
    "start_time": "2022-07-10T20:06:29.421Z"
   },
   {
    "duration": 5,
    "start_time": "2022-07-10T20:06:29.758Z"
   },
   {
    "duration": 3,
    "start_time": "2022-07-10T20:06:29.765Z"
   },
   {
    "duration": 165,
    "start_time": "2022-07-10T20:06:29.770Z"
   },
   {
    "duration": 4,
    "start_time": "2022-07-10T20:06:29.937Z"
   },
   {
    "duration": 7,
    "start_time": "2022-07-10T20:06:29.943Z"
   },
   {
    "duration": 182,
    "start_time": "2022-07-10T20:06:29.951Z"
   },
   {
    "duration": 5,
    "start_time": "2022-07-10T20:06:30.135Z"
   },
   {
    "duration": 21,
    "start_time": "2022-07-10T20:06:30.142Z"
   },
   {
    "duration": 25,
    "start_time": "2022-07-10T20:06:30.165Z"
   },
   {
    "duration": 26,
    "start_time": "2022-07-10T20:06:30.191Z"
   },
   {
    "duration": 28,
    "start_time": "2022-07-10T20:06:30.219Z"
   },
   {
    "duration": 21,
    "start_time": "2022-07-10T20:06:30.248Z"
   },
   {
    "duration": 23,
    "start_time": "2022-07-10T20:06:30.270Z"
   },
   {
    "duration": 15,
    "start_time": "2022-07-10T20:06:30.295Z"
   },
   {
    "duration": 56,
    "start_time": "2022-07-10T20:06:30.312Z"
   },
   {
    "duration": 60,
    "start_time": "2022-07-10T20:06:30.370Z"
   },
   {
    "duration": 36,
    "start_time": "2022-07-10T20:06:30.432Z"
   },
   {
    "duration": 46,
    "start_time": "2022-07-10T20:06:30.469Z"
   },
   {
    "duration": 4,
    "start_time": "2022-07-10T20:06:30.516Z"
   },
   {
    "duration": 44,
    "start_time": "2022-07-10T20:06:30.521Z"
   },
   {
    "duration": 7,
    "start_time": "2022-07-10T20:06:30.566Z"
   },
   {
    "duration": 46,
    "start_time": "2022-07-10T20:06:30.575Z"
   },
   {
    "duration": 35,
    "start_time": "2022-07-10T20:06:30.622Z"
   },
   {
    "duration": 52,
    "start_time": "2022-07-10T20:06:30.659Z"
   },
   {
    "duration": 36,
    "start_time": "2022-07-10T20:06:30.713Z"
   },
   {
    "duration": 33,
    "start_time": "2022-07-10T20:06:30.751Z"
   },
   {
    "duration": 19,
    "start_time": "2022-07-10T20:06:30.786Z"
   },
   {
    "duration": 31,
    "start_time": "2022-07-10T20:06:30.807Z"
   },
   {
    "duration": 16,
    "start_time": "2022-07-10T20:06:30.840Z"
   },
   {
    "duration": 26,
    "start_time": "2022-07-10T20:06:30.858Z"
   },
   {
    "duration": 19,
    "start_time": "2022-07-10T20:06:30.886Z"
   },
   {
    "duration": 31,
    "start_time": "2022-07-10T20:06:30.907Z"
   },
   {
    "duration": 5,
    "start_time": "2022-07-10T20:06:30.939Z"
   },
   {
    "duration": 41,
    "start_time": "2022-07-10T20:06:30.945Z"
   },
   {
    "duration": 15,
    "start_time": "2022-07-10T20:06:30.987Z"
   },
   {
    "duration": 1390,
    "start_time": "2022-07-11T12:38:45.093Z"
   },
   {
    "duration": 129,
    "start_time": "2022-07-11T12:38:46.487Z"
   },
   {
    "duration": 12,
    "start_time": "2022-07-11T12:38:46.618Z"
   },
   {
    "duration": 28,
    "start_time": "2022-07-11T12:38:46.633Z"
   },
   {
    "duration": 28,
    "start_time": "2022-07-11T12:38:46.663Z"
   },
   {
    "duration": 9,
    "start_time": "2022-07-11T12:38:46.693Z"
   },
   {
    "duration": 21,
    "start_time": "2022-07-11T12:38:46.703Z"
   },
   {
    "duration": 18,
    "start_time": "2022-07-11T12:38:46.726Z"
   },
   {
    "duration": 40,
    "start_time": "2022-07-11T12:38:46.747Z"
   },
   {
    "duration": 131,
    "start_time": "2022-07-11T12:38:46.790Z"
   },
   {
    "duration": 7,
    "start_time": "2022-07-11T12:38:46.923Z"
   },
   {
    "duration": 12,
    "start_time": "2022-07-11T12:38:46.932Z"
   },
   {
    "duration": 50,
    "start_time": "2022-07-11T12:38:46.946Z"
   },
   {
    "duration": 17,
    "start_time": "2022-07-11T12:38:46.998Z"
   },
   {
    "duration": 8,
    "start_time": "2022-07-11T12:38:47.017Z"
   },
   {
    "duration": 26,
    "start_time": "2022-07-11T12:38:47.027Z"
   },
   {
    "duration": 132,
    "start_time": "2022-07-11T12:38:47.056Z"
   },
   {
    "duration": 7,
    "start_time": "2022-07-11T12:38:47.190Z"
   },
   {
    "duration": 14,
    "start_time": "2022-07-11T12:38:47.198Z"
   },
   {
    "duration": 15,
    "start_time": "2022-07-11T12:38:47.214Z"
   },
   {
    "duration": 16,
    "start_time": "2022-07-11T12:38:47.232Z"
   },
   {
    "duration": 51,
    "start_time": "2022-07-11T12:38:47.251Z"
   },
   {
    "duration": 20,
    "start_time": "2022-07-11T12:38:47.304Z"
   },
   {
    "duration": 59,
    "start_time": "2022-07-11T12:38:47.325Z"
   },
   {
    "duration": 12,
    "start_time": "2022-07-11T12:38:47.386Z"
   },
   {
    "duration": 215,
    "start_time": "2022-07-11T12:38:47.399Z"
   },
   {
    "duration": 12,
    "start_time": "2022-07-11T12:38:47.616Z"
   },
   {
    "duration": 14,
    "start_time": "2022-07-11T12:38:47.632Z"
   },
   {
    "duration": 60,
    "start_time": "2022-07-11T12:38:47.648Z"
   },
   {
    "duration": 421,
    "start_time": "2022-07-11T12:38:47.710Z"
   },
   {
    "duration": 3,
    "start_time": "2022-07-11T12:38:48.134Z"
   },
   {
    "duration": 16,
    "start_time": "2022-07-11T12:38:48.150Z"
   },
   {
    "duration": 351,
    "start_time": "2022-07-11T12:38:48.175Z"
   },
   {
    "duration": 28,
    "start_time": "2022-07-11T12:38:48.528Z"
   },
   {
    "duration": 30,
    "start_time": "2022-07-11T12:38:48.560Z"
   },
   {
    "duration": 528,
    "start_time": "2022-07-11T12:38:48.593Z"
   },
   {
    "duration": 171,
    "start_time": "2022-07-11T12:38:49.123Z"
   },
   {
    "duration": 5,
    "start_time": "2022-07-11T12:38:49.297Z"
   },
   {
    "duration": 16,
    "start_time": "2022-07-11T12:38:49.303Z"
   },
   {
    "duration": 80,
    "start_time": "2022-07-11T12:38:49.321Z"
   },
   {
    "duration": 32,
    "start_time": "2022-07-11T12:38:49.404Z"
   },
   {
    "duration": 458,
    "start_time": "2022-07-11T12:38:49.439Z"
   },
   {
    "duration": 6,
    "start_time": "2022-07-11T12:38:49.899Z"
   },
   {
    "duration": 33,
    "start_time": "2022-07-11T12:38:49.908Z"
   },
   {
    "duration": 413,
    "start_time": "2022-07-11T12:38:49.943Z"
   },
   {
    "duration": 7,
    "start_time": "2022-07-11T12:38:50.363Z"
   },
   {
    "duration": 7,
    "start_time": "2022-07-11T12:38:50.372Z"
   },
   {
    "duration": 208,
    "start_time": "2022-07-11T12:38:50.381Z"
   },
   {
    "duration": 6,
    "start_time": "2022-07-11T12:38:50.591Z"
   },
   {
    "duration": 18,
    "start_time": "2022-07-11T12:38:50.599Z"
   },
   {
    "duration": 210,
    "start_time": "2022-07-11T12:38:50.619Z"
   },
   {
    "duration": 18,
    "start_time": "2022-07-11T12:38:50.830Z"
   },
   {
    "duration": 14,
    "start_time": "2022-07-11T12:38:50.850Z"
   },
   {
    "duration": 13,
    "start_time": "2022-07-11T12:38:50.867Z"
   },
   {
    "duration": 5,
    "start_time": "2022-07-11T12:38:50.882Z"
   },
   {
    "duration": 22,
    "start_time": "2022-07-11T12:38:50.889Z"
   },
   {
    "duration": 19,
    "start_time": "2022-07-11T12:38:50.913Z"
   },
   {
    "duration": 34,
    "start_time": "2022-07-11T12:38:50.934Z"
   },
   {
    "duration": 6,
    "start_time": "2022-07-11T12:38:50.969Z"
   },
   {
    "duration": 17,
    "start_time": "2022-07-11T12:38:50.977Z"
   },
   {
    "duration": 6,
    "start_time": "2022-07-11T12:38:50.996Z"
   },
   {
    "duration": 21,
    "start_time": "2022-07-11T12:38:51.004Z"
   },
   {
    "duration": 34,
    "start_time": "2022-07-11T12:38:51.027Z"
   },
   {
    "duration": 5,
    "start_time": "2022-07-11T12:38:51.062Z"
   },
   {
    "duration": 37,
    "start_time": "2022-07-11T12:38:51.069Z"
   },
   {
    "duration": 9,
    "start_time": "2022-07-11T12:38:51.108Z"
   },
   {
    "duration": 22,
    "start_time": "2022-07-11T12:38:51.118Z"
   },
   {
    "duration": 18,
    "start_time": "2022-07-11T12:38:51.145Z"
   },
   {
    "duration": 16,
    "start_time": "2022-07-11T12:38:51.167Z"
   },
   {
    "duration": 8,
    "start_time": "2022-07-11T12:38:51.186Z"
   },
   {
    "duration": 7,
    "start_time": "2022-07-11T12:38:51.196Z"
   },
   {
    "duration": 9,
    "start_time": "2022-07-11T12:38:51.205Z"
   },
   {
    "duration": 11,
    "start_time": "2022-07-11T12:38:51.216Z"
   },
   {
    "duration": 9,
    "start_time": "2022-07-11T12:38:51.229Z"
   },
   {
    "duration": 23,
    "start_time": "2022-07-11T12:38:51.245Z"
   },
   {
    "duration": 8,
    "start_time": "2022-07-11T12:38:51.271Z"
   },
   {
    "duration": 41,
    "start_time": "2022-07-11T12:38:51.281Z"
   },
   {
    "duration": 6,
    "start_time": "2022-07-11T12:38:51.323Z"
   },
   {
    "duration": 33,
    "start_time": "2022-07-11T12:38:51.330Z"
   },
   {
    "duration": 12,
    "start_time": "2022-07-11T12:38:51.365Z"
   },
   {
    "duration": 25,
    "start_time": "2022-07-11T12:42:30.068Z"
   }
  ],
  "kernelspec": {
   "display_name": "Python 3",
   "language": "python",
   "name": "python3"
  },
  "language_info": {
   "codemirror_mode": {
    "name": "ipython",
    "version": 3
   },
   "file_extension": ".py",
   "mimetype": "text/x-python",
   "name": "python",
   "nbconvert_exporter": "python",
   "pygments_lexer": "ipython3",
   "version": "3.7.4"
  },
  "toc": {
   "base_numbering": 1,
   "nav_menu": {},
   "number_sections": true,
   "sideBar": true,
   "skip_h1_title": true,
   "title_cell": "Table of Contents",
   "title_sidebar": "Contents",
   "toc_cell": false,
   "toc_position": {},
   "toc_section_display": true,
   "toc_window_display": false
  }
 },
 "nbformat": 4,
 "nbformat_minor": 2
}
