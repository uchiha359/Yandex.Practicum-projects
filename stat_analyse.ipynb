{
 "cells": [
  {
   "cell_type": "markdown",
   "metadata": {},
   "source": [
    "## Описание проекта\n",
    "Вы аналитик компании «Мегалайн» — федерального оператора сотовой связи. Клиентам предлагают два тарифных плана: «Смарт» и «Ультра». Чтобы скорректировать рекламный бюджет, коммерческий департамент хочет понять, какой тариф приносит больше денег.\n",
    "Вам предстоит сделать предварительный анализ тарифов на небольшой выборке клиентов. В вашем распоряжении данные 500 пользователей «Мегалайна»: кто они, откуда, каким тарифом пользуются, сколько звонков и сообщений каждый отправил за 2018 год. Нужно проанализировать поведение клиентов и сделать вывод — какой тариф лучше."
   ]
  },
  {
   "cell_type": "markdown",
   "metadata": {},
   "source": [
    "# 1.Открываем датасеты и знакомимся с данными"
   ]
  },
  {
   "cell_type": "code",
   "execution_count": 1,
   "metadata": {},
   "outputs": [],
   "source": [
    "import numpy as np \n",
    "import pandas as pd\n",
    "from scipy import stats as st \n",
    "import matplotlib as plt"
   ]
  },
  {
   "cell_type": "code",
   "execution_count": 2,
   "metadata": {},
   "outputs": [],
   "source": [
    "# открываем таблицы, сразу переводим даты в формат даты \n",
    "try:\n",
    "    dfc = pd.read_csv('D:/backUp/calls.csv', parse_dates=['call_date'])\n",
    "    dfi = pd.read_csv('D:/backUp/internet.csv',parse_dates=['session_date'])\n",
    "    dfm = pd.read_csv('D:/backUp/messages.csv',parse_dates=['message_date'])\n",
    "    dft = pd.read_csv('D:/backUp/tariffs.csv')\n",
    "    dfu = pd.read_csv('D:/backUp/users.csv',parse_dates=['churn_date','reg_date'])\n",
    "except:\n",
    "    dfc = pd.read_csv('/datasets/calls.csv', parse_dates=['call_date'])\n",
    "    dfi = pd.read_csv('/datasets/internet.csv',parse_dates=['session_date'])\n",
    "    dfm = pd.read_csv('/datasets/messages.csv',parse_dates=['message_date'])\n",
    "    dft = pd.read_csv('/datasets/tariffs.csv')\n",
    "    dfu = pd.read_csv('/datasets/users.csv',parse_dates=['churn_date','reg_date'])"
   ]
  },
  {
   "cell_type": "code",
   "execution_count": 3,
   "metadata": {},
   "outputs": [
    {
     "data": {
      "text/html": [
       "<div>\n",
       "<style scoped>\n",
       "    .dataframe tbody tr th:only-of-type {\n",
       "        vertical-align: middle;\n",
       "    }\n",
       "\n",
       "    .dataframe tbody tr th {\n",
       "        vertical-align: top;\n",
       "    }\n",
       "\n",
       "    .dataframe thead th {\n",
       "        text-align: right;\n",
       "    }\n",
       "</style>\n",
       "<table border=\"1\" class=\"dataframe\">\n",
       "  <thead>\n",
       "    <tr style=\"text-align: right;\">\n",
       "      <th></th>\n",
       "      <th>id</th>\n",
       "      <th>call_date</th>\n",
       "      <th>duration</th>\n",
       "      <th>user_id</th>\n",
       "    </tr>\n",
       "  </thead>\n",
       "  <tbody>\n",
       "    <tr>\n",
       "      <td>0</td>\n",
       "      <td>1000_0</td>\n",
       "      <td>2018-07-25</td>\n",
       "      <td>0.00</td>\n",
       "      <td>1000</td>\n",
       "    </tr>\n",
       "    <tr>\n",
       "      <td>1</td>\n",
       "      <td>1000_1</td>\n",
       "      <td>2018-08-17</td>\n",
       "      <td>0.00</td>\n",
       "      <td>1000</td>\n",
       "    </tr>\n",
       "    <tr>\n",
       "      <td>2</td>\n",
       "      <td>1000_2</td>\n",
       "      <td>2018-06-11</td>\n",
       "      <td>2.85</td>\n",
       "      <td>1000</td>\n",
       "    </tr>\n",
       "    <tr>\n",
       "      <td>3</td>\n",
       "      <td>1000_3</td>\n",
       "      <td>2018-09-21</td>\n",
       "      <td>13.80</td>\n",
       "      <td>1000</td>\n",
       "    </tr>\n",
       "    <tr>\n",
       "      <td>4</td>\n",
       "      <td>1000_4</td>\n",
       "      <td>2018-12-15</td>\n",
       "      <td>5.18</td>\n",
       "      <td>1000</td>\n",
       "    </tr>\n",
       "  </tbody>\n",
       "</table>\n",
       "</div>"
      ],
      "text/plain": [
       "       id  call_date  duration  user_id\n",
       "0  1000_0 2018-07-25      0.00     1000\n",
       "1  1000_1 2018-08-17      0.00     1000\n",
       "2  1000_2 2018-06-11      2.85     1000\n",
       "3  1000_3 2018-09-21     13.80     1000\n",
       "4  1000_4 2018-12-15      5.18     1000"
      ]
     },
     "execution_count": 3,
     "metadata": {},
     "output_type": "execute_result"
    }
   ],
   "source": [
    "dfc.head()"
   ]
  },
  {
   "cell_type": "code",
   "execution_count": 4,
   "metadata": {},
   "outputs": [
    {
     "name": "stdout",
     "output_type": "stream",
     "text": [
      "<class 'pandas.core.frame.DataFrame'>\n",
      "RangeIndex: 202607 entries, 0 to 202606\n",
      "Data columns (total 4 columns):\n",
      "id           202607 non-null object\n",
      "call_date    202607 non-null datetime64[ns]\n",
      "duration     202607 non-null float64\n",
      "user_id      202607 non-null int64\n",
      "dtypes: datetime64[ns](1), float64(1), int64(1), object(1)\n",
      "memory usage: 6.2+ MB\n"
     ]
    }
   ],
   "source": [
    "dfc.info()"
   ]
  },
  {
   "cell_type": "code",
   "execution_count": 5,
   "metadata": {},
   "outputs": [
    {
     "data": {
      "text/html": [
       "<div>\n",
       "<style scoped>\n",
       "    .dataframe tbody tr th:only-of-type {\n",
       "        vertical-align: middle;\n",
       "    }\n",
       "\n",
       "    .dataframe tbody tr th {\n",
       "        vertical-align: top;\n",
       "    }\n",
       "\n",
       "    .dataframe thead th {\n",
       "        text-align: right;\n",
       "    }\n",
       "</style>\n",
       "<table border=\"1\" class=\"dataframe\">\n",
       "  <thead>\n",
       "    <tr style=\"text-align: right;\">\n",
       "      <th></th>\n",
       "      <th>Unnamed: 0</th>\n",
       "      <th>id</th>\n",
       "      <th>mb_used</th>\n",
       "      <th>session_date</th>\n",
       "      <th>user_id</th>\n",
       "    </tr>\n",
       "  </thead>\n",
       "  <tbody>\n",
       "    <tr>\n",
       "      <td>0</td>\n",
       "      <td>0</td>\n",
       "      <td>1000_0</td>\n",
       "      <td>112.95</td>\n",
       "      <td>2018-11-25</td>\n",
       "      <td>1000</td>\n",
       "    </tr>\n",
       "    <tr>\n",
       "      <td>1</td>\n",
       "      <td>1</td>\n",
       "      <td>1000_1</td>\n",
       "      <td>1052.81</td>\n",
       "      <td>2018-09-07</td>\n",
       "      <td>1000</td>\n",
       "    </tr>\n",
       "    <tr>\n",
       "      <td>2</td>\n",
       "      <td>2</td>\n",
       "      <td>1000_2</td>\n",
       "      <td>1197.26</td>\n",
       "      <td>2018-06-25</td>\n",
       "      <td>1000</td>\n",
       "    </tr>\n",
       "    <tr>\n",
       "      <td>3</td>\n",
       "      <td>3</td>\n",
       "      <td>1000_3</td>\n",
       "      <td>550.27</td>\n",
       "      <td>2018-08-22</td>\n",
       "      <td>1000</td>\n",
       "    </tr>\n",
       "    <tr>\n",
       "      <td>4</td>\n",
       "      <td>4</td>\n",
       "      <td>1000_4</td>\n",
       "      <td>302.56</td>\n",
       "      <td>2018-09-24</td>\n",
       "      <td>1000</td>\n",
       "    </tr>\n",
       "  </tbody>\n",
       "</table>\n",
       "</div>"
      ],
      "text/plain": [
       "   Unnamed: 0      id  mb_used session_date  user_id\n",
       "0           0  1000_0   112.95   2018-11-25     1000\n",
       "1           1  1000_1  1052.81   2018-09-07     1000\n",
       "2           2  1000_2  1197.26   2018-06-25     1000\n",
       "3           3  1000_3   550.27   2018-08-22     1000\n",
       "4           4  1000_4   302.56   2018-09-24     1000"
      ]
     },
     "execution_count": 5,
     "metadata": {},
     "output_type": "execute_result"
    }
   ],
   "source": [
    "dfi.head()"
   ]
  },
  {
   "cell_type": "code",
   "execution_count": 6,
   "metadata": {},
   "outputs": [
    {
     "name": "stdout",
     "output_type": "stream",
     "text": [
      "<class 'pandas.core.frame.DataFrame'>\n",
      "RangeIndex: 149396 entries, 0 to 149395\n",
      "Data columns (total 5 columns):\n",
      "Unnamed: 0      149396 non-null int64\n",
      "id              149396 non-null object\n",
      "mb_used         149396 non-null float64\n",
      "session_date    149396 non-null datetime64[ns]\n",
      "user_id         149396 non-null int64\n",
      "dtypes: datetime64[ns](1), float64(1), int64(2), object(1)\n",
      "memory usage: 5.7+ MB\n"
     ]
    }
   ],
   "source": [
    "dfi.info()"
   ]
  },
  {
   "cell_type": "code",
   "execution_count": 7,
   "metadata": {},
   "outputs": [
    {
     "data": {
      "text/html": [
       "<div>\n",
       "<style scoped>\n",
       "    .dataframe tbody tr th:only-of-type {\n",
       "        vertical-align: middle;\n",
       "    }\n",
       "\n",
       "    .dataframe tbody tr th {\n",
       "        vertical-align: top;\n",
       "    }\n",
       "\n",
       "    .dataframe thead th {\n",
       "        text-align: right;\n",
       "    }\n",
       "</style>\n",
       "<table border=\"1\" class=\"dataframe\">\n",
       "  <thead>\n",
       "    <tr style=\"text-align: right;\">\n",
       "      <th></th>\n",
       "      <th>id</th>\n",
       "      <th>message_date</th>\n",
       "      <th>user_id</th>\n",
       "    </tr>\n",
       "  </thead>\n",
       "  <tbody>\n",
       "    <tr>\n",
       "      <td>0</td>\n",
       "      <td>1000_0</td>\n",
       "      <td>2018-06-27</td>\n",
       "      <td>1000</td>\n",
       "    </tr>\n",
       "    <tr>\n",
       "      <td>1</td>\n",
       "      <td>1000_1</td>\n",
       "      <td>2018-10-08</td>\n",
       "      <td>1000</td>\n",
       "    </tr>\n",
       "    <tr>\n",
       "      <td>2</td>\n",
       "      <td>1000_2</td>\n",
       "      <td>2018-08-04</td>\n",
       "      <td>1000</td>\n",
       "    </tr>\n",
       "    <tr>\n",
       "      <td>3</td>\n",
       "      <td>1000_3</td>\n",
       "      <td>2018-06-16</td>\n",
       "      <td>1000</td>\n",
       "    </tr>\n",
       "    <tr>\n",
       "      <td>4</td>\n",
       "      <td>1000_4</td>\n",
       "      <td>2018-12-05</td>\n",
       "      <td>1000</td>\n",
       "    </tr>\n",
       "  </tbody>\n",
       "</table>\n",
       "</div>"
      ],
      "text/plain": [
       "       id message_date  user_id\n",
       "0  1000_0   2018-06-27     1000\n",
       "1  1000_1   2018-10-08     1000\n",
       "2  1000_2   2018-08-04     1000\n",
       "3  1000_3   2018-06-16     1000\n",
       "4  1000_4   2018-12-05     1000"
      ]
     },
     "execution_count": 7,
     "metadata": {},
     "output_type": "execute_result"
    }
   ],
   "source": [
    "dfm.head()"
   ]
  },
  {
   "cell_type": "code",
   "execution_count": 8,
   "metadata": {},
   "outputs": [
    {
     "name": "stdout",
     "output_type": "stream",
     "text": [
      "<class 'pandas.core.frame.DataFrame'>\n",
      "RangeIndex: 123036 entries, 0 to 123035\n",
      "Data columns (total 3 columns):\n",
      "id              123036 non-null object\n",
      "message_date    123036 non-null datetime64[ns]\n",
      "user_id         123036 non-null int64\n",
      "dtypes: datetime64[ns](1), int64(1), object(1)\n",
      "memory usage: 2.8+ MB\n"
     ]
    }
   ],
   "source": [
    "dfm.info()"
   ]
  },
  {
   "cell_type": "code",
   "execution_count": 9,
   "metadata": {},
   "outputs": [
    {
     "data": {
      "text/html": [
       "<div>\n",
       "<style scoped>\n",
       "    .dataframe tbody tr th:only-of-type {\n",
       "        vertical-align: middle;\n",
       "    }\n",
       "\n",
       "    .dataframe tbody tr th {\n",
       "        vertical-align: top;\n",
       "    }\n",
       "\n",
       "    .dataframe thead th {\n",
       "        text-align: right;\n",
       "    }\n",
       "</style>\n",
       "<table border=\"1\" class=\"dataframe\">\n",
       "  <thead>\n",
       "    <tr style=\"text-align: right;\">\n",
       "      <th></th>\n",
       "      <th>messages_included</th>\n",
       "      <th>mb_per_month_included</th>\n",
       "      <th>minutes_included</th>\n",
       "      <th>rub_monthly_fee</th>\n",
       "      <th>rub_per_gb</th>\n",
       "      <th>rub_per_message</th>\n",
       "      <th>rub_per_minute</th>\n",
       "      <th>tariff_name</th>\n",
       "    </tr>\n",
       "  </thead>\n",
       "  <tbody>\n",
       "    <tr>\n",
       "      <td>0</td>\n",
       "      <td>50</td>\n",
       "      <td>15360</td>\n",
       "      <td>500</td>\n",
       "      <td>550</td>\n",
       "      <td>200</td>\n",
       "      <td>3</td>\n",
       "      <td>3</td>\n",
       "      <td>smart</td>\n",
       "    </tr>\n",
       "    <tr>\n",
       "      <td>1</td>\n",
       "      <td>1000</td>\n",
       "      <td>30720</td>\n",
       "      <td>3000</td>\n",
       "      <td>1950</td>\n",
       "      <td>150</td>\n",
       "      <td>1</td>\n",
       "      <td>1</td>\n",
       "      <td>ultra</td>\n",
       "    </tr>\n",
       "  </tbody>\n",
       "</table>\n",
       "</div>"
      ],
      "text/plain": [
       "   messages_included  mb_per_month_included  minutes_included  \\\n",
       "0                 50                  15360               500   \n",
       "1               1000                  30720              3000   \n",
       "\n",
       "   rub_monthly_fee  rub_per_gb  rub_per_message  rub_per_minute tariff_name  \n",
       "0              550         200                3               3       smart  \n",
       "1             1950         150                1               1       ultra  "
      ]
     },
     "execution_count": 9,
     "metadata": {},
     "output_type": "execute_result"
    }
   ],
   "source": [
    "dft.head()"
   ]
  },
  {
   "cell_type": "code",
   "execution_count": 10,
   "metadata": {},
   "outputs": [
    {
     "data": {
      "text/html": [
       "<div>\n",
       "<style scoped>\n",
       "    .dataframe tbody tr th:only-of-type {\n",
       "        vertical-align: middle;\n",
       "    }\n",
       "\n",
       "    .dataframe tbody tr th {\n",
       "        vertical-align: top;\n",
       "    }\n",
       "\n",
       "    .dataframe thead th {\n",
       "        text-align: right;\n",
       "    }\n",
       "</style>\n",
       "<table border=\"1\" class=\"dataframe\">\n",
       "  <thead>\n",
       "    <tr style=\"text-align: right;\">\n",
       "      <th></th>\n",
       "      <th>user_id</th>\n",
       "      <th>age</th>\n",
       "      <th>churn_date</th>\n",
       "      <th>city</th>\n",
       "      <th>first_name</th>\n",
       "      <th>last_name</th>\n",
       "      <th>reg_date</th>\n",
       "      <th>tariff</th>\n",
       "    </tr>\n",
       "  </thead>\n",
       "  <tbody>\n",
       "    <tr>\n",
       "      <td>0</td>\n",
       "      <td>1000</td>\n",
       "      <td>52</td>\n",
       "      <td>NaT</td>\n",
       "      <td>Краснодар</td>\n",
       "      <td>Рафаил</td>\n",
       "      <td>Верещагин</td>\n",
       "      <td>2018-05-25</td>\n",
       "      <td>ultra</td>\n",
       "    </tr>\n",
       "    <tr>\n",
       "      <td>1</td>\n",
       "      <td>1001</td>\n",
       "      <td>41</td>\n",
       "      <td>NaT</td>\n",
       "      <td>Москва</td>\n",
       "      <td>Иван</td>\n",
       "      <td>Ежов</td>\n",
       "      <td>2018-11-01</td>\n",
       "      <td>smart</td>\n",
       "    </tr>\n",
       "    <tr>\n",
       "      <td>2</td>\n",
       "      <td>1002</td>\n",
       "      <td>59</td>\n",
       "      <td>NaT</td>\n",
       "      <td>Стерлитамак</td>\n",
       "      <td>Евгений</td>\n",
       "      <td>Абрамович</td>\n",
       "      <td>2018-06-17</td>\n",
       "      <td>smart</td>\n",
       "    </tr>\n",
       "    <tr>\n",
       "      <td>3</td>\n",
       "      <td>1003</td>\n",
       "      <td>23</td>\n",
       "      <td>NaT</td>\n",
       "      <td>Москва</td>\n",
       "      <td>Белла</td>\n",
       "      <td>Белякова</td>\n",
       "      <td>2018-08-17</td>\n",
       "      <td>ultra</td>\n",
       "    </tr>\n",
       "    <tr>\n",
       "      <td>4</td>\n",
       "      <td>1004</td>\n",
       "      <td>68</td>\n",
       "      <td>NaT</td>\n",
       "      <td>Новокузнецк</td>\n",
       "      <td>Татьяна</td>\n",
       "      <td>Авдеенко</td>\n",
       "      <td>2018-05-14</td>\n",
       "      <td>ultra</td>\n",
       "    </tr>\n",
       "  </tbody>\n",
       "</table>\n",
       "</div>"
      ],
      "text/plain": [
       "   user_id  age churn_date         city first_name  last_name   reg_date  \\\n",
       "0     1000   52        NaT    Краснодар     Рафаил  Верещагин 2018-05-25   \n",
       "1     1001   41        NaT       Москва       Иван       Ежов 2018-11-01   \n",
       "2     1002   59        NaT  Стерлитамак    Евгений  Абрамович 2018-06-17   \n",
       "3     1003   23        NaT       Москва      Белла   Белякова 2018-08-17   \n",
       "4     1004   68        NaT  Новокузнецк    Татьяна   Авдеенко 2018-05-14   \n",
       "\n",
       "  tariff  \n",
       "0  ultra  \n",
       "1  smart  \n",
       "2  smart  \n",
       "3  ultra  \n",
       "4  ultra  "
      ]
     },
     "execution_count": 10,
     "metadata": {},
     "output_type": "execute_result"
    }
   ],
   "source": [
    "dfu.head()"
   ]
  },
  {
   "cell_type": "code",
   "execution_count": 11,
   "metadata": {},
   "outputs": [
    {
     "name": "stdout",
     "output_type": "stream",
     "text": [
      "<class 'pandas.core.frame.DataFrame'>\n",
      "RangeIndex: 500 entries, 0 to 499\n",
      "Data columns (total 8 columns):\n",
      "user_id       500 non-null int64\n",
      "age           500 non-null int64\n",
      "churn_date    38 non-null datetime64[ns]\n",
      "city          500 non-null object\n",
      "first_name    500 non-null object\n",
      "last_name     500 non-null object\n",
      "reg_date      500 non-null datetime64[ns]\n",
      "tariff        500 non-null object\n",
      "dtypes: datetime64[ns](2), int64(2), object(4)\n",
      "memory usage: 31.4+ KB\n"
     ]
    }
   ],
   "source": [
    "dfu.info()"
   ]
  },
  {
   "cell_type": "markdown",
   "metadata": {},
   "source": [
    "Данные в правильном формате, нету пропусков, кроме \"churn_date\", но там пропуски ожидаемы. Далее будет уместно проверить на наличие дубликатов."
   ]
  },
  {
   "cell_type": "markdown",
   "metadata": {},
   "source": [
    "# 2. Подготавливаем данные"
   ]
  },
  {
   "cell_type": "code",
   "execution_count": 12,
   "metadata": {},
   "outputs": [],
   "source": [
    "# округляем время звонки до целого в сторону большего, меняем тип на интежер\n",
    "dfc['duration'] = dfc['duration'].apply(np.ceil).astype(int)"
   ]
  },
  {
   "cell_type": "code",
   "execution_count": 13,
   "metadata": {},
   "outputs": [
    {
     "data": {
      "text/plain": [
       "0"
      ]
     },
     "execution_count": 13,
     "metadata": {},
     "output_type": "execute_result"
    }
   ],
   "source": [
    "dfc.duplicated().sum()"
   ]
  },
  {
   "cell_type": "code",
   "execution_count": 14,
   "metadata": {},
   "outputs": [],
   "source": [
    "#удаляем столбец дублирующий индексы \n",
    "dfi = dfi.drop(labels='Unnamed: 0', axis=1)"
   ]
  },
  {
   "cell_type": "code",
   "execution_count": 15,
   "metadata": {},
   "outputs": [
    {
     "data": {
      "text/plain": [
       "0"
      ]
     },
     "execution_count": 15,
     "metadata": {},
     "output_type": "execute_result"
    }
   ],
   "source": [
    "# ищем дубликаты\n",
    "dfi.duplicated().sum()"
   ]
  },
  {
   "cell_type": "code",
   "execution_count": 16,
   "metadata": {},
   "outputs": [
    {
     "data": {
      "text/plain": [
       "0"
      ]
     },
     "execution_count": 16,
     "metadata": {},
     "output_type": "execute_result"
    }
   ],
   "source": [
    "dfm.duplicated().sum()"
   ]
  },
  {
   "cell_type": "code",
   "execution_count": 17,
   "metadata": {},
   "outputs": [
    {
     "data": {
      "text/plain": [
       "0"
      ]
     },
     "execution_count": 17,
     "metadata": {},
     "output_type": "execute_result"
    }
   ],
   "source": [
    "dfu.duplicated().sum()"
   ]
  },
  {
   "cell_type": "code",
   "execution_count": 18,
   "metadata": {},
   "outputs": [],
   "source": [
    "# вычленяем месяц из даты \n",
    "dfc['month'] = dfc['call_date'].dt.month"
   ]
  },
  {
   "cell_type": "code",
   "execution_count": 19,
   "metadata": {},
   "outputs": [],
   "source": [
    "dfi['month'] = dfi['session_date'].dt.month"
   ]
  },
  {
   "cell_type": "code",
   "execution_count": 20,
   "metadata": {},
   "outputs": [],
   "source": [
    "dfm['month'] = dfm['message_date'].dt.month"
   ]
  },
  {
   "cell_type": "code",
   "execution_count": 21,
   "metadata": {},
   "outputs": [],
   "source": [
    "dfu['month_start'] = dfu['reg_date'].dt.month"
   ]
  },
  {
   "cell_type": "code",
   "execution_count": 22,
   "metadata": {},
   "outputs": [],
   "source": [
    "dfu['month_finish'] = dfu['churn_date'].dt.month"
   ]
  },
  {
   "cell_type": "code",
   "execution_count": 23,
   "metadata": {},
   "outputs": [],
   "source": [
    "# группируем таблицу по юзерам и месяцам, считаем кол-во звонков и общую продолжительность звонков по месяцам\n",
    "dfc_piv = dfc.groupby(['user_id','month']).agg({'duration':['count','sum']}).reset_index()"
   ]
  },
  {
   "cell_type": "code",
   "execution_count": 24,
   "metadata": {},
   "outputs": [],
   "source": [
    "dfc_piv.columns = ['user_id','month','calls_count','calls_duration']"
   ]
  },
  {
   "cell_type": "code",
   "execution_count": 25,
   "metadata": {},
   "outputs": [
    {
     "data": {
      "text/html": [
       "<div>\n",
       "<style scoped>\n",
       "    .dataframe tbody tr th:only-of-type {\n",
       "        vertical-align: middle;\n",
       "    }\n",
       "\n",
       "    .dataframe tbody tr th {\n",
       "        vertical-align: top;\n",
       "    }\n",
       "\n",
       "    .dataframe thead th {\n",
       "        text-align: right;\n",
       "    }\n",
       "</style>\n",
       "<table border=\"1\" class=\"dataframe\">\n",
       "  <thead>\n",
       "    <tr style=\"text-align: right;\">\n",
       "      <th></th>\n",
       "      <th>user_id</th>\n",
       "      <th>month</th>\n",
       "      <th>calls_count</th>\n",
       "      <th>calls_duration</th>\n",
       "    </tr>\n",
       "  </thead>\n",
       "  <tbody>\n",
       "    <tr>\n",
       "      <td>0</td>\n",
       "      <td>1000</td>\n",
       "      <td>5</td>\n",
       "      <td>22</td>\n",
       "      <td>159</td>\n",
       "    </tr>\n",
       "    <tr>\n",
       "      <td>1</td>\n",
       "      <td>1000</td>\n",
       "      <td>6</td>\n",
       "      <td>43</td>\n",
       "      <td>172</td>\n",
       "    </tr>\n",
       "    <tr>\n",
       "      <td>2</td>\n",
       "      <td>1000</td>\n",
       "      <td>7</td>\n",
       "      <td>47</td>\n",
       "      <td>340</td>\n",
       "    </tr>\n",
       "    <tr>\n",
       "      <td>3</td>\n",
       "      <td>1000</td>\n",
       "      <td>8</td>\n",
       "      <td>52</td>\n",
       "      <td>408</td>\n",
       "    </tr>\n",
       "    <tr>\n",
       "      <td>4</td>\n",
       "      <td>1000</td>\n",
       "      <td>9</td>\n",
       "      <td>58</td>\n",
       "      <td>466</td>\n",
       "    </tr>\n",
       "  </tbody>\n",
       "</table>\n",
       "</div>"
      ],
      "text/plain": [
       "   user_id  month  calls_count  calls_duration\n",
       "0     1000      5           22             159\n",
       "1     1000      6           43             172\n",
       "2     1000      7           47             340\n",
       "3     1000      8           52             408\n",
       "4     1000      9           58             466"
      ]
     },
     "execution_count": 25,
     "metadata": {},
     "output_type": "execute_result"
    }
   ],
   "source": [
    "dfc_piv.head()"
   ]
  },
  {
   "cell_type": "code",
   "execution_count": 26,
   "metadata": {},
   "outputs": [
    {
     "name": "stdout",
     "output_type": "stream",
     "text": [
      "<class 'pandas.core.frame.DataFrame'>\n",
      "RangeIndex: 3174 entries, 0 to 3173\n",
      "Data columns (total 4 columns):\n",
      "user_id           3174 non-null int64\n",
      "month             3174 non-null int64\n",
      "calls_count       3174 non-null int64\n",
      "calls_duration    3174 non-null int32\n",
      "dtypes: int32(1), int64(3)\n",
      "memory usage: 86.9 KB\n"
     ]
    }
   ],
   "source": [
    "dfc_piv.info()"
   ]
  },
  {
   "cell_type": "code",
   "execution_count": 27,
   "metadata": {},
   "outputs": [],
   "source": [
    "# группируем таблицу по юзерам и месяцам, считаем кол-во сообщений по месяцам\n",
    "dfm_piv = dfm.groupby(['user_id','month']).agg({'id':'count'}).reset_index()"
   ]
  },
  {
   "cell_type": "code",
   "execution_count": 28,
   "metadata": {},
   "outputs": [],
   "source": [
    "dfm_piv.columns = ['user_id','month','message_count']"
   ]
  },
  {
   "cell_type": "code",
   "execution_count": 29,
   "metadata": {},
   "outputs": [
    {
     "data": {
      "text/html": [
       "<div>\n",
       "<style scoped>\n",
       "    .dataframe tbody tr th:only-of-type {\n",
       "        vertical-align: middle;\n",
       "    }\n",
       "\n",
       "    .dataframe tbody tr th {\n",
       "        vertical-align: top;\n",
       "    }\n",
       "\n",
       "    .dataframe thead th {\n",
       "        text-align: right;\n",
       "    }\n",
       "</style>\n",
       "<table border=\"1\" class=\"dataframe\">\n",
       "  <thead>\n",
       "    <tr style=\"text-align: right;\">\n",
       "      <th></th>\n",
       "      <th>user_id</th>\n",
       "      <th>month</th>\n",
       "      <th>message_count</th>\n",
       "    </tr>\n",
       "  </thead>\n",
       "  <tbody>\n",
       "    <tr>\n",
       "      <td>0</td>\n",
       "      <td>1000</td>\n",
       "      <td>5</td>\n",
       "      <td>22</td>\n",
       "    </tr>\n",
       "    <tr>\n",
       "      <td>1</td>\n",
       "      <td>1000</td>\n",
       "      <td>6</td>\n",
       "      <td>60</td>\n",
       "    </tr>\n",
       "    <tr>\n",
       "      <td>2</td>\n",
       "      <td>1000</td>\n",
       "      <td>7</td>\n",
       "      <td>75</td>\n",
       "    </tr>\n",
       "    <tr>\n",
       "      <td>3</td>\n",
       "      <td>1000</td>\n",
       "      <td>8</td>\n",
       "      <td>81</td>\n",
       "    </tr>\n",
       "    <tr>\n",
       "      <td>4</td>\n",
       "      <td>1000</td>\n",
       "      <td>9</td>\n",
       "      <td>57</td>\n",
       "    </tr>\n",
       "  </tbody>\n",
       "</table>\n",
       "</div>"
      ],
      "text/plain": [
       "   user_id  month  message_count\n",
       "0     1000      5             22\n",
       "1     1000      6             60\n",
       "2     1000      7             75\n",
       "3     1000      8             81\n",
       "4     1000      9             57"
      ]
     },
     "execution_count": 29,
     "metadata": {},
     "output_type": "execute_result"
    }
   ],
   "source": [
    "dfm_piv.head()"
   ]
  },
  {
   "cell_type": "code",
   "execution_count": 30,
   "metadata": {},
   "outputs": [
    {
     "name": "stdout",
     "output_type": "stream",
     "text": [
      "<class 'pandas.core.frame.DataFrame'>\n",
      "RangeIndex: 2717 entries, 0 to 2716\n",
      "Data columns (total 3 columns):\n",
      "user_id          2717 non-null int64\n",
      "month            2717 non-null int64\n",
      "message_count    2717 non-null int64\n",
      "dtypes: int64(3)\n",
      "memory usage: 63.8 KB\n"
     ]
    }
   ],
   "source": [
    "dfm_piv.info()"
   ]
  },
  {
   "cell_type": "code",
   "execution_count": 31,
   "metadata": {},
   "outputs": [],
   "source": [
    "# объединяем 2 таблицы по столбцам user_id и month\n",
    "df_c_m = dfc_piv.merge(dfm_piv,on=['user_id','month'],how='outer')"
   ]
  },
  {
   "cell_type": "code",
   "execution_count": 32,
   "metadata": {},
   "outputs": [
    {
     "name": "stdout",
     "output_type": "stream",
     "text": [
      "<class 'pandas.core.frame.DataFrame'>\n",
      "Int64Index: 3213 entries, 0 to 3212\n",
      "Data columns (total 5 columns):\n",
      "user_id           3213 non-null int64\n",
      "month             3213 non-null int64\n",
      "calls_count       3174 non-null float64\n",
      "calls_duration    3174 non-null float64\n",
      "message_count     2717 non-null float64\n",
      "dtypes: float64(3), int64(2)\n",
      "memory usage: 150.6 KB\n"
     ]
    }
   ],
   "source": [
    "df_c_m.info()"
   ]
  },
  {
   "cell_type": "code",
   "execution_count": 33,
   "metadata": {},
   "outputs": [
    {
     "data": {
      "text/html": [
       "<div>\n",
       "<style scoped>\n",
       "    .dataframe tbody tr th:only-of-type {\n",
       "        vertical-align: middle;\n",
       "    }\n",
       "\n",
       "    .dataframe tbody tr th {\n",
       "        vertical-align: top;\n",
       "    }\n",
       "\n",
       "    .dataframe thead th {\n",
       "        text-align: right;\n",
       "    }\n",
       "</style>\n",
       "<table border=\"1\" class=\"dataframe\">\n",
       "  <thead>\n",
       "    <tr style=\"text-align: right;\">\n",
       "      <th></th>\n",
       "      <th>user_id</th>\n",
       "      <th>month</th>\n",
       "      <th>calls_count</th>\n",
       "      <th>calls_duration</th>\n",
       "      <th>message_count</th>\n",
       "    </tr>\n",
       "  </thead>\n",
       "  <tbody>\n",
       "    <tr>\n",
       "      <td>0</td>\n",
       "      <td>1000</td>\n",
       "      <td>5</td>\n",
       "      <td>22.0</td>\n",
       "      <td>159.0</td>\n",
       "      <td>22.0</td>\n",
       "    </tr>\n",
       "    <tr>\n",
       "      <td>1</td>\n",
       "      <td>1000</td>\n",
       "      <td>6</td>\n",
       "      <td>43.0</td>\n",
       "      <td>172.0</td>\n",
       "      <td>60.0</td>\n",
       "    </tr>\n",
       "    <tr>\n",
       "      <td>2</td>\n",
       "      <td>1000</td>\n",
       "      <td>7</td>\n",
       "      <td>47.0</td>\n",
       "      <td>340.0</td>\n",
       "      <td>75.0</td>\n",
       "    </tr>\n",
       "    <tr>\n",
       "      <td>3</td>\n",
       "      <td>1000</td>\n",
       "      <td>8</td>\n",
       "      <td>52.0</td>\n",
       "      <td>408.0</td>\n",
       "      <td>81.0</td>\n",
       "    </tr>\n",
       "    <tr>\n",
       "      <td>4</td>\n",
       "      <td>1000</td>\n",
       "      <td>9</td>\n",
       "      <td>58.0</td>\n",
       "      <td>466.0</td>\n",
       "      <td>57.0</td>\n",
       "    </tr>\n",
       "  </tbody>\n",
       "</table>\n",
       "</div>"
      ],
      "text/plain": [
       "   user_id  month  calls_count  calls_duration  message_count\n",
       "0     1000      5         22.0           159.0           22.0\n",
       "1     1000      6         43.0           172.0           60.0\n",
       "2     1000      7         47.0           340.0           75.0\n",
       "3     1000      8         52.0           408.0           81.0\n",
       "4     1000      9         58.0           466.0           57.0"
      ]
     },
     "execution_count": 33,
     "metadata": {},
     "output_type": "execute_result"
    }
   ],
   "source": [
    "df_c_m.head()"
   ]
  },
  {
   "cell_type": "code",
   "execution_count": 34,
   "metadata": {},
   "outputs": [
    {
     "data": {
      "text/html": [
       "<div>\n",
       "<style scoped>\n",
       "    .dataframe tbody tr th:only-of-type {\n",
       "        vertical-align: middle;\n",
       "    }\n",
       "\n",
       "    .dataframe tbody tr th {\n",
       "        vertical-align: top;\n",
       "    }\n",
       "\n",
       "    .dataframe thead th {\n",
       "        text-align: right;\n",
       "    }\n",
       "</style>\n",
       "<table border=\"1\" class=\"dataframe\">\n",
       "  <thead>\n",
       "    <tr style=\"text-align: right;\">\n",
       "      <th></th>\n",
       "      <th>id</th>\n",
       "      <th>mb_used</th>\n",
       "      <th>session_date</th>\n",
       "      <th>user_id</th>\n",
       "      <th>month</th>\n",
       "    </tr>\n",
       "  </thead>\n",
       "  <tbody>\n",
       "    <tr>\n",
       "      <td>0</td>\n",
       "      <td>1000_0</td>\n",
       "      <td>112.95</td>\n",
       "      <td>2018-11-25</td>\n",
       "      <td>1000</td>\n",
       "      <td>11</td>\n",
       "    </tr>\n",
       "    <tr>\n",
       "      <td>1</td>\n",
       "      <td>1000_1</td>\n",
       "      <td>1052.81</td>\n",
       "      <td>2018-09-07</td>\n",
       "      <td>1000</td>\n",
       "      <td>9</td>\n",
       "    </tr>\n",
       "    <tr>\n",
       "      <td>2</td>\n",
       "      <td>1000_2</td>\n",
       "      <td>1197.26</td>\n",
       "      <td>2018-06-25</td>\n",
       "      <td>1000</td>\n",
       "      <td>6</td>\n",
       "    </tr>\n",
       "    <tr>\n",
       "      <td>3</td>\n",
       "      <td>1000_3</td>\n",
       "      <td>550.27</td>\n",
       "      <td>2018-08-22</td>\n",
       "      <td>1000</td>\n",
       "      <td>8</td>\n",
       "    </tr>\n",
       "    <tr>\n",
       "      <td>4</td>\n",
       "      <td>1000_4</td>\n",
       "      <td>302.56</td>\n",
       "      <td>2018-09-24</td>\n",
       "      <td>1000</td>\n",
       "      <td>9</td>\n",
       "    </tr>\n",
       "  </tbody>\n",
       "</table>\n",
       "</div>"
      ],
      "text/plain": [
       "       id  mb_used session_date  user_id  month\n",
       "0  1000_0   112.95   2018-11-25     1000     11\n",
       "1  1000_1  1052.81   2018-09-07     1000      9\n",
       "2  1000_2  1197.26   2018-06-25     1000      6\n",
       "3  1000_3   550.27   2018-08-22     1000      8\n",
       "4  1000_4   302.56   2018-09-24     1000      9"
      ]
     },
     "execution_count": 34,
     "metadata": {},
     "output_type": "execute_result"
    }
   ],
   "source": [
    "dfi.head()"
   ]
  },
  {
   "cell_type": "code",
   "execution_count": 35,
   "metadata": {},
   "outputs": [],
   "source": [
    "# группируем таблицу по юзерам и месяцам, считаем кол-во мегабайт использованное пользователями по месяцам\n",
    "dfi = dfi.groupby(['user_id','month']).agg({'mb_used':'sum'}).reset_index()"
   ]
  },
  {
   "cell_type": "code",
   "execution_count": 36,
   "metadata": {},
   "outputs": [],
   "source": [
    "# объединяем 2 таблицы\n",
    "df_c_m_i = df_c_m.merge(dfi,on=['user_id','month'],how='outer')"
   ]
  },
  {
   "cell_type": "code",
   "execution_count": 37,
   "metadata": {},
   "outputs": [
    {
     "data": {
      "text/html": [
       "<div>\n",
       "<style scoped>\n",
       "    .dataframe tbody tr th:only-of-type {\n",
       "        vertical-align: middle;\n",
       "    }\n",
       "\n",
       "    .dataframe tbody tr th {\n",
       "        vertical-align: top;\n",
       "    }\n",
       "\n",
       "    .dataframe thead th {\n",
       "        text-align: right;\n",
       "    }\n",
       "</style>\n",
       "<table border=\"1\" class=\"dataframe\">\n",
       "  <thead>\n",
       "    <tr style=\"text-align: right;\">\n",
       "      <th></th>\n",
       "      <th>user_id</th>\n",
       "      <th>month</th>\n",
       "      <th>calls_count</th>\n",
       "      <th>calls_duration</th>\n",
       "      <th>message_count</th>\n",
       "      <th>mb_used</th>\n",
       "    </tr>\n",
       "  </thead>\n",
       "  <tbody>\n",
       "    <tr>\n",
       "      <td>0</td>\n",
       "      <td>1000</td>\n",
       "      <td>5</td>\n",
       "      <td>22.0</td>\n",
       "      <td>159.0</td>\n",
       "      <td>22.0</td>\n",
       "      <td>2253.49</td>\n",
       "    </tr>\n",
       "    <tr>\n",
       "      <td>1</td>\n",
       "      <td>1000</td>\n",
       "      <td>6</td>\n",
       "      <td>43.0</td>\n",
       "      <td>172.0</td>\n",
       "      <td>60.0</td>\n",
       "      <td>23233.77</td>\n",
       "    </tr>\n",
       "    <tr>\n",
       "      <td>2</td>\n",
       "      <td>1000</td>\n",
       "      <td>7</td>\n",
       "      <td>47.0</td>\n",
       "      <td>340.0</td>\n",
       "      <td>75.0</td>\n",
       "      <td>14003.64</td>\n",
       "    </tr>\n",
       "    <tr>\n",
       "      <td>3</td>\n",
       "      <td>1000</td>\n",
       "      <td>8</td>\n",
       "      <td>52.0</td>\n",
       "      <td>408.0</td>\n",
       "      <td>81.0</td>\n",
       "      <td>14055.93</td>\n",
       "    </tr>\n",
       "    <tr>\n",
       "      <td>4</td>\n",
       "      <td>1000</td>\n",
       "      <td>9</td>\n",
       "      <td>58.0</td>\n",
       "      <td>466.0</td>\n",
       "      <td>57.0</td>\n",
       "      <td>14568.91</td>\n",
       "    </tr>\n",
       "  </tbody>\n",
       "</table>\n",
       "</div>"
      ],
      "text/plain": [
       "   user_id  month  calls_count  calls_duration  message_count   mb_used\n",
       "0     1000      5         22.0           159.0           22.0   2253.49\n",
       "1     1000      6         43.0           172.0           60.0  23233.77\n",
       "2     1000      7         47.0           340.0           75.0  14003.64\n",
       "3     1000      8         52.0           408.0           81.0  14055.93\n",
       "4     1000      9         58.0           466.0           57.0  14568.91"
      ]
     },
     "execution_count": 37,
     "metadata": {},
     "output_type": "execute_result"
    }
   ],
   "source": [
    "df_c_m_i.head()"
   ]
  },
  {
   "cell_type": "code",
   "execution_count": 38,
   "metadata": {},
   "outputs": [],
   "source": [
    "# пересчитываем mb в gb\n",
    "df_c_m_i['gb_used'] = df_c_m_i['mb_used'] / 1024"
   ]
  },
  {
   "cell_type": "code",
   "execution_count": 39,
   "metadata": {
    "scrolled": true
   },
   "outputs": [
    {
     "data": {
      "text/html": [
       "<div>\n",
       "<style scoped>\n",
       "    .dataframe tbody tr th:only-of-type {\n",
       "        vertical-align: middle;\n",
       "    }\n",
       "\n",
       "    .dataframe tbody tr th {\n",
       "        vertical-align: top;\n",
       "    }\n",
       "\n",
       "    .dataframe thead th {\n",
       "        text-align: right;\n",
       "    }\n",
       "</style>\n",
       "<table border=\"1\" class=\"dataframe\">\n",
       "  <thead>\n",
       "    <tr style=\"text-align: right;\">\n",
       "      <th></th>\n",
       "      <th>user_id</th>\n",
       "      <th>month</th>\n",
       "      <th>calls_count</th>\n",
       "      <th>calls_duration</th>\n",
       "      <th>message_count</th>\n",
       "      <th>mb_used</th>\n",
       "      <th>gb_used</th>\n",
       "    </tr>\n",
       "  </thead>\n",
       "  <tbody>\n",
       "    <tr>\n",
       "      <td>0</td>\n",
       "      <td>1000</td>\n",
       "      <td>5</td>\n",
       "      <td>22.0</td>\n",
       "      <td>159.0</td>\n",
       "      <td>22.0</td>\n",
       "      <td>2253.49</td>\n",
       "      <td>2.200674</td>\n",
       "    </tr>\n",
       "    <tr>\n",
       "      <td>1</td>\n",
       "      <td>1000</td>\n",
       "      <td>6</td>\n",
       "      <td>43.0</td>\n",
       "      <td>172.0</td>\n",
       "      <td>60.0</td>\n",
       "      <td>23233.77</td>\n",
       "      <td>22.689229</td>\n",
       "    </tr>\n",
       "    <tr>\n",
       "      <td>2</td>\n",
       "      <td>1000</td>\n",
       "      <td>7</td>\n",
       "      <td>47.0</td>\n",
       "      <td>340.0</td>\n",
       "      <td>75.0</td>\n",
       "      <td>14003.64</td>\n",
       "      <td>13.675430</td>\n",
       "    </tr>\n",
       "    <tr>\n",
       "      <td>3</td>\n",
       "      <td>1000</td>\n",
       "      <td>8</td>\n",
       "      <td>52.0</td>\n",
       "      <td>408.0</td>\n",
       "      <td>81.0</td>\n",
       "      <td>14055.93</td>\n",
       "      <td>13.726494</td>\n",
       "    </tr>\n",
       "    <tr>\n",
       "      <td>4</td>\n",
       "      <td>1000</td>\n",
       "      <td>9</td>\n",
       "      <td>58.0</td>\n",
       "      <td>466.0</td>\n",
       "      <td>57.0</td>\n",
       "      <td>14568.91</td>\n",
       "      <td>14.227451</td>\n",
       "    </tr>\n",
       "  </tbody>\n",
       "</table>\n",
       "</div>"
      ],
      "text/plain": [
       "   user_id  month  calls_count  calls_duration  message_count   mb_used  \\\n",
       "0     1000      5         22.0           159.0           22.0   2253.49   \n",
       "1     1000      6         43.0           172.0           60.0  23233.77   \n",
       "2     1000      7         47.0           340.0           75.0  14003.64   \n",
       "3     1000      8         52.0           408.0           81.0  14055.93   \n",
       "4     1000      9         58.0           466.0           57.0  14568.91   \n",
       "\n",
       "     gb_used  \n",
       "0   2.200674  \n",
       "1  22.689229  \n",
       "2  13.675430  \n",
       "3  13.726494  \n",
       "4  14.227451  "
      ]
     },
     "execution_count": 39,
     "metadata": {},
     "output_type": "execute_result"
    }
   ],
   "source": [
    "df_c_m_i.head()"
   ]
  },
  {
   "cell_type": "code",
   "execution_count": 40,
   "metadata": {},
   "outputs": [],
   "source": [
    "df_c_m_i['gb_used'] = df_c_m_i['gb_used'].fillna(0)"
   ]
  },
  {
   "cell_type": "code",
   "execution_count": 41,
   "metadata": {},
   "outputs": [],
   "source": [
    "df_c_m_i['gb_used'] = df_c_m_i['gb_used'].apply(np.ceil).astype(int)"
   ]
  },
  {
   "cell_type": "code",
   "execution_count": 42,
   "metadata": {},
   "outputs": [],
   "source": [
    "#df_c_m_i = df_c_m_i.drop('mb_used',axis=1)"
   ]
  },
  {
   "cell_type": "code",
   "execution_count": 43,
   "metadata": {
    "scrolled": true
   },
   "outputs": [
    {
     "data": {
      "text/html": [
       "<div>\n",
       "<style scoped>\n",
       "    .dataframe tbody tr th:only-of-type {\n",
       "        vertical-align: middle;\n",
       "    }\n",
       "\n",
       "    .dataframe tbody tr th {\n",
       "        vertical-align: top;\n",
       "    }\n",
       "\n",
       "    .dataframe thead th {\n",
       "        text-align: right;\n",
       "    }\n",
       "</style>\n",
       "<table border=\"1\" class=\"dataframe\">\n",
       "  <thead>\n",
       "    <tr style=\"text-align: right;\">\n",
       "      <th></th>\n",
       "      <th>user_id</th>\n",
       "      <th>age</th>\n",
       "      <th>churn_date</th>\n",
       "      <th>city</th>\n",
       "      <th>first_name</th>\n",
       "      <th>last_name</th>\n",
       "      <th>reg_date</th>\n",
       "      <th>tariff</th>\n",
       "      <th>month_start</th>\n",
       "      <th>month_finish</th>\n",
       "    </tr>\n",
       "  </thead>\n",
       "  <tbody>\n",
       "    <tr>\n",
       "      <td>0</td>\n",
       "      <td>1000</td>\n",
       "      <td>52</td>\n",
       "      <td>NaT</td>\n",
       "      <td>Краснодар</td>\n",
       "      <td>Рафаил</td>\n",
       "      <td>Верещагин</td>\n",
       "      <td>2018-05-25</td>\n",
       "      <td>ultra</td>\n",
       "      <td>5</td>\n",
       "      <td>NaN</td>\n",
       "    </tr>\n",
       "    <tr>\n",
       "      <td>1</td>\n",
       "      <td>1001</td>\n",
       "      <td>41</td>\n",
       "      <td>NaT</td>\n",
       "      <td>Москва</td>\n",
       "      <td>Иван</td>\n",
       "      <td>Ежов</td>\n",
       "      <td>2018-11-01</td>\n",
       "      <td>smart</td>\n",
       "      <td>11</td>\n",
       "      <td>NaN</td>\n",
       "    </tr>\n",
       "    <tr>\n",
       "      <td>2</td>\n",
       "      <td>1002</td>\n",
       "      <td>59</td>\n",
       "      <td>NaT</td>\n",
       "      <td>Стерлитамак</td>\n",
       "      <td>Евгений</td>\n",
       "      <td>Абрамович</td>\n",
       "      <td>2018-06-17</td>\n",
       "      <td>smart</td>\n",
       "      <td>6</td>\n",
       "      <td>NaN</td>\n",
       "    </tr>\n",
       "    <tr>\n",
       "      <td>3</td>\n",
       "      <td>1003</td>\n",
       "      <td>23</td>\n",
       "      <td>NaT</td>\n",
       "      <td>Москва</td>\n",
       "      <td>Белла</td>\n",
       "      <td>Белякова</td>\n",
       "      <td>2018-08-17</td>\n",
       "      <td>ultra</td>\n",
       "      <td>8</td>\n",
       "      <td>NaN</td>\n",
       "    </tr>\n",
       "    <tr>\n",
       "      <td>4</td>\n",
       "      <td>1004</td>\n",
       "      <td>68</td>\n",
       "      <td>NaT</td>\n",
       "      <td>Новокузнецк</td>\n",
       "      <td>Татьяна</td>\n",
       "      <td>Авдеенко</td>\n",
       "      <td>2018-05-14</td>\n",
       "      <td>ultra</td>\n",
       "      <td>5</td>\n",
       "      <td>NaN</td>\n",
       "    </tr>\n",
       "  </tbody>\n",
       "</table>\n",
       "</div>"
      ],
      "text/plain": [
       "   user_id  age churn_date         city first_name  last_name   reg_date  \\\n",
       "0     1000   52        NaT    Краснодар     Рафаил  Верещагин 2018-05-25   \n",
       "1     1001   41        NaT       Москва       Иван       Ежов 2018-11-01   \n",
       "2     1002   59        NaT  Стерлитамак    Евгений  Абрамович 2018-06-17   \n",
       "3     1003   23        NaT       Москва      Белла   Белякова 2018-08-17   \n",
       "4     1004   68        NaT  Новокузнецк    Татьяна   Авдеенко 2018-05-14   \n",
       "\n",
       "  tariff  month_start  month_finish  \n",
       "0  ultra            5           NaN  \n",
       "1  smart           11           NaN  \n",
       "2  smart            6           NaN  \n",
       "3  ultra            8           NaN  \n",
       "4  ultra            5           NaN  "
      ]
     },
     "execution_count": 43,
     "metadata": {},
     "output_type": "execute_result"
    }
   ],
   "source": [
    "dfu.head()"
   ]
  },
  {
   "cell_type": "code",
   "execution_count": 44,
   "metadata": {},
   "outputs": [],
   "source": [
    "# объединяем 2 таблицы\n",
    "df_c_m_i_u = df_c_m_i.merge(dfu,on='user_id',how='outer')"
   ]
  },
  {
   "cell_type": "code",
   "execution_count": 45,
   "metadata": {
    "scrolled": true
   },
   "outputs": [
    {
     "name": "stdout",
     "output_type": "stream",
     "text": [
      "<class 'pandas.core.frame.DataFrame'>\n",
      "Int64Index: 3216 entries, 0 to 3215\n",
      "Data columns (total 16 columns):\n",
      "user_id           3216 non-null int64\n",
      "month             3214 non-null float64\n",
      "calls_count       3174 non-null float64\n",
      "calls_duration    3174 non-null float64\n",
      "message_count     2717 non-null float64\n",
      "mb_used           3203 non-null float64\n",
      "gb_used           3214 non-null float64\n",
      "age               3216 non-null int64\n",
      "churn_date        189 non-null datetime64[ns]\n",
      "city              3216 non-null object\n",
      "first_name        3216 non-null object\n",
      "last_name         3216 non-null object\n",
      "reg_date          3216 non-null datetime64[ns]\n",
      "tariff            3216 non-null object\n",
      "month_start       3216 non-null int64\n",
      "month_finish      189 non-null float64\n",
      "dtypes: datetime64[ns](2), float64(7), int64(3), object(4)\n",
      "memory usage: 427.1+ KB\n"
     ]
    }
   ],
   "source": [
    "df_c_m_i_u.info()"
   ]
  },
  {
   "cell_type": "code",
   "execution_count": 46,
   "metadata": {},
   "outputs": [],
   "source": [
    "# переименовываем столбец\n",
    "dft = dft.rename(columns={'tariff_name':'tariff'})"
   ]
  },
  {
   "cell_type": "code",
   "execution_count": 47,
   "metadata": {},
   "outputs": [
    {
     "data": {
      "text/html": [
       "<div>\n",
       "<style scoped>\n",
       "    .dataframe tbody tr th:only-of-type {\n",
       "        vertical-align: middle;\n",
       "    }\n",
       "\n",
       "    .dataframe tbody tr th {\n",
       "        vertical-align: top;\n",
       "    }\n",
       "\n",
       "    .dataframe thead th {\n",
       "        text-align: right;\n",
       "    }\n",
       "</style>\n",
       "<table border=\"1\" class=\"dataframe\">\n",
       "  <thead>\n",
       "    <tr style=\"text-align: right;\">\n",
       "      <th></th>\n",
       "      <th>messages_included</th>\n",
       "      <th>mb_per_month_included</th>\n",
       "      <th>minutes_included</th>\n",
       "      <th>rub_monthly_fee</th>\n",
       "      <th>rub_per_gb</th>\n",
       "      <th>rub_per_message</th>\n",
       "      <th>rub_per_minute</th>\n",
       "      <th>tariff</th>\n",
       "    </tr>\n",
       "  </thead>\n",
       "  <tbody>\n",
       "    <tr>\n",
       "      <td>0</td>\n",
       "      <td>50</td>\n",
       "      <td>15360</td>\n",
       "      <td>500</td>\n",
       "      <td>550</td>\n",
       "      <td>200</td>\n",
       "      <td>3</td>\n",
       "      <td>3</td>\n",
       "      <td>smart</td>\n",
       "    </tr>\n",
       "    <tr>\n",
       "      <td>1</td>\n",
       "      <td>1000</td>\n",
       "      <td>30720</td>\n",
       "      <td>3000</td>\n",
       "      <td>1950</td>\n",
       "      <td>150</td>\n",
       "      <td>1</td>\n",
       "      <td>1</td>\n",
       "      <td>ultra</td>\n",
       "    </tr>\n",
       "  </tbody>\n",
       "</table>\n",
       "</div>"
      ],
      "text/plain": [
       "   messages_included  mb_per_month_included  minutes_included  \\\n",
       "0                 50                  15360               500   \n",
       "1               1000                  30720              3000   \n",
       "\n",
       "   rub_monthly_fee  rub_per_gb  rub_per_message  rub_per_minute tariff  \n",
       "0              550         200                3               3  smart  \n",
       "1             1950         150                1               1  ultra  "
      ]
     },
     "execution_count": 47,
     "metadata": {},
     "output_type": "execute_result"
    }
   ],
   "source": [
    "dft.head()"
   ]
  },
  {
   "cell_type": "code",
   "execution_count": 48,
   "metadata": {},
   "outputs": [],
   "source": [
    "# объединяем 2 таблицы \n",
    "df_omni = df_c_m_i_u.merge(dft,on='tariff',how='outer')"
   ]
  },
  {
   "cell_type": "code",
   "execution_count": 49,
   "metadata": {
    "scrolled": true
   },
   "outputs": [
    {
     "name": "stdout",
     "output_type": "stream",
     "text": [
      "<class 'pandas.core.frame.DataFrame'>\n",
      "Int64Index: 3216 entries, 0 to 3215\n",
      "Data columns (total 23 columns):\n",
      "user_id                  3216 non-null int64\n",
      "month                    3214 non-null float64\n",
      "calls_count              3174 non-null float64\n",
      "calls_duration           3174 non-null float64\n",
      "message_count            2717 non-null float64\n",
      "mb_used                  3203 non-null float64\n",
      "gb_used                  3214 non-null float64\n",
      "age                      3216 non-null int64\n",
      "churn_date               189 non-null datetime64[ns]\n",
      "city                     3216 non-null object\n",
      "first_name               3216 non-null object\n",
      "last_name                3216 non-null object\n",
      "reg_date                 3216 non-null datetime64[ns]\n",
      "tariff                   3216 non-null object\n",
      "month_start              3216 non-null int64\n",
      "month_finish             189 non-null float64\n",
      "messages_included        3216 non-null int64\n",
      "mb_per_month_included    3216 non-null int64\n",
      "minutes_included         3216 non-null int64\n",
      "rub_monthly_fee          3216 non-null int64\n",
      "rub_per_gb               3216 non-null int64\n",
      "rub_per_message          3216 non-null int64\n",
      "rub_per_minute           3216 non-null int64\n",
      "dtypes: datetime64[ns](2), float64(7), int64(10), object(4)\n",
      "memory usage: 603.0+ KB\n"
     ]
    }
   ],
   "source": [
    "df_omni.info()"
   ]
  },
  {
   "cell_type": "code",
   "execution_count": 50,
   "metadata": {},
   "outputs": [],
   "source": [
    "df_omni = df_omni.query('month in [1,2,3,4,5,6,7,8,9,10,11,12]')"
   ]
  },
  {
   "cell_type": "code",
   "execution_count": 51,
   "metadata": {},
   "outputs": [],
   "source": [
    "for x in df_omni.columns:\n",
    "    df_omni[x] = df_omni[x].fillna(0)"
   ]
  },
  {
   "cell_type": "code",
   "execution_count": 52,
   "metadata": {
    "scrolled": true
   },
   "outputs": [
    {
     "name": "stdout",
     "output_type": "stream",
     "text": [
      "<class 'pandas.core.frame.DataFrame'>\n",
      "Int64Index: 3214 entries, 0 to 3214\n",
      "Data columns (total 23 columns):\n",
      "user_id                  3214 non-null int64\n",
      "month                    3214 non-null float64\n",
      "calls_count              3214 non-null float64\n",
      "calls_duration           3214 non-null float64\n",
      "message_count            3214 non-null float64\n",
      "mb_used                  3214 non-null float64\n",
      "gb_used                  3214 non-null float64\n",
      "age                      3214 non-null int64\n",
      "churn_date               3214 non-null object\n",
      "city                     3214 non-null object\n",
      "first_name               3214 non-null object\n",
      "last_name                3214 non-null object\n",
      "reg_date                 3214 non-null datetime64[ns]\n",
      "tariff                   3214 non-null object\n",
      "month_start              3214 non-null int64\n",
      "month_finish             3214 non-null float64\n",
      "messages_included        3214 non-null int64\n",
      "mb_per_month_included    3214 non-null int64\n",
      "minutes_included         3214 non-null int64\n",
      "rub_monthly_fee          3214 non-null int64\n",
      "rub_per_gb               3214 non-null int64\n",
      "rub_per_message          3214 non-null int64\n",
      "rub_per_minute           3214 non-null int64\n",
      "dtypes: datetime64[ns](1), float64(7), int64(10), object(5)\n",
      "memory usage: 602.6+ KB\n"
     ]
    }
   ],
   "source": [
    "df_omni.info()"
   ]
  },
  {
   "cell_type": "code",
   "execution_count": 53,
   "metadata": {},
   "outputs": [],
   "source": [
    "df_omni = df_omni[(df_omni['month_finish']==0) | (df_omni['month']<df_omni['month_finish'])]"
   ]
  },
  {
   "cell_type": "code",
   "execution_count": 54,
   "metadata": {},
   "outputs": [],
   "source": [
    "# заполняем пустые значения нулями \n",
    "df_omni['message_count'] = df_omni['message_count'].fillna(0)"
   ]
  },
  {
   "cell_type": "code",
   "execution_count": 55,
   "metadata": {},
   "outputs": [],
   "source": [
    "df_omni['mb_used'] = df_omni['mb_used'].fillna(0)"
   ]
  },
  {
   "cell_type": "code",
   "execution_count": 56,
   "metadata": {},
   "outputs": [],
   "source": [
    "# считаем перерасходы по тарифам \n",
    "df_omni['minutes_overrun'] = df_omni['calls_duration'] - df_omni['minutes_included']"
   ]
  },
  {
   "cell_type": "code",
   "execution_count": 57,
   "metadata": {},
   "outputs": [],
   "source": [
    "df_omni['message_overrun'] = df_omni['message_count'] - df_omni['messages_included']"
   ]
  },
  {
   "cell_type": "code",
   "execution_count": 58,
   "metadata": {},
   "outputs": [],
   "source": [
    "df_omni['mb_overrun'] = df_omni['mb_used'] - df_omni['mb_per_month_included']"
   ]
  },
  {
   "cell_type": "code",
   "execution_count": 59,
   "metadata": {},
   "outputs": [],
   "source": [
    "df_omni['gb_overrun'] = np.ceil(df_omni['mb_overrun']/1024)"
   ]
  },
  {
   "cell_type": "code",
   "execution_count": 60,
   "metadata": {
    "scrolled": true
   },
   "outputs": [
    {
     "data": {
      "text/html": [
       "<div>\n",
       "<style scoped>\n",
       "    .dataframe tbody tr th:only-of-type {\n",
       "        vertical-align: middle;\n",
       "    }\n",
       "\n",
       "    .dataframe tbody tr th {\n",
       "        vertical-align: top;\n",
       "    }\n",
       "\n",
       "    .dataframe thead th {\n",
       "        text-align: right;\n",
       "    }\n",
       "</style>\n",
       "<table border=\"1\" class=\"dataframe\">\n",
       "  <thead>\n",
       "    <tr style=\"text-align: right;\">\n",
       "      <th></th>\n",
       "      <th>user_id</th>\n",
       "      <th>month</th>\n",
       "      <th>calls_count</th>\n",
       "      <th>calls_duration</th>\n",
       "      <th>message_count</th>\n",
       "      <th>mb_used</th>\n",
       "      <th>gb_used</th>\n",
       "      <th>age</th>\n",
       "      <th>churn_date</th>\n",
       "      <th>city</th>\n",
       "      <th>...</th>\n",
       "      <th>mb_per_month_included</th>\n",
       "      <th>minutes_included</th>\n",
       "      <th>rub_monthly_fee</th>\n",
       "      <th>rub_per_gb</th>\n",
       "      <th>rub_per_message</th>\n",
       "      <th>rub_per_minute</th>\n",
       "      <th>minutes_overrun</th>\n",
       "      <th>message_overrun</th>\n",
       "      <th>mb_overrun</th>\n",
       "      <th>gb_overrun</th>\n",
       "    </tr>\n",
       "  </thead>\n",
       "  <tbody>\n",
       "    <tr>\n",
       "      <td>0</td>\n",
       "      <td>1000</td>\n",
       "      <td>5.0</td>\n",
       "      <td>22.0</td>\n",
       "      <td>159.0</td>\n",
       "      <td>22.0</td>\n",
       "      <td>2253.49</td>\n",
       "      <td>3.0</td>\n",
       "      <td>52</td>\n",
       "      <td>0</td>\n",
       "      <td>Краснодар</td>\n",
       "      <td>...</td>\n",
       "      <td>30720</td>\n",
       "      <td>3000</td>\n",
       "      <td>1950</td>\n",
       "      <td>150</td>\n",
       "      <td>1</td>\n",
       "      <td>1</td>\n",
       "      <td>-2841.0</td>\n",
       "      <td>-978.0</td>\n",
       "      <td>-28466.51</td>\n",
       "      <td>-27.0</td>\n",
       "    </tr>\n",
       "    <tr>\n",
       "      <td>1</td>\n",
       "      <td>1000</td>\n",
       "      <td>6.0</td>\n",
       "      <td>43.0</td>\n",
       "      <td>172.0</td>\n",
       "      <td>60.0</td>\n",
       "      <td>23233.77</td>\n",
       "      <td>23.0</td>\n",
       "      <td>52</td>\n",
       "      <td>0</td>\n",
       "      <td>Краснодар</td>\n",
       "      <td>...</td>\n",
       "      <td>30720</td>\n",
       "      <td>3000</td>\n",
       "      <td>1950</td>\n",
       "      <td>150</td>\n",
       "      <td>1</td>\n",
       "      <td>1</td>\n",
       "      <td>-2828.0</td>\n",
       "      <td>-940.0</td>\n",
       "      <td>-7486.23</td>\n",
       "      <td>-7.0</td>\n",
       "    </tr>\n",
       "    <tr>\n",
       "      <td>2</td>\n",
       "      <td>1000</td>\n",
       "      <td>7.0</td>\n",
       "      <td>47.0</td>\n",
       "      <td>340.0</td>\n",
       "      <td>75.0</td>\n",
       "      <td>14003.64</td>\n",
       "      <td>14.0</td>\n",
       "      <td>52</td>\n",
       "      <td>0</td>\n",
       "      <td>Краснодар</td>\n",
       "      <td>...</td>\n",
       "      <td>30720</td>\n",
       "      <td>3000</td>\n",
       "      <td>1950</td>\n",
       "      <td>150</td>\n",
       "      <td>1</td>\n",
       "      <td>1</td>\n",
       "      <td>-2660.0</td>\n",
       "      <td>-925.0</td>\n",
       "      <td>-16716.36</td>\n",
       "      <td>-16.0</td>\n",
       "    </tr>\n",
       "    <tr>\n",
       "      <td>3</td>\n",
       "      <td>1000</td>\n",
       "      <td>8.0</td>\n",
       "      <td>52.0</td>\n",
       "      <td>408.0</td>\n",
       "      <td>81.0</td>\n",
       "      <td>14055.93</td>\n",
       "      <td>14.0</td>\n",
       "      <td>52</td>\n",
       "      <td>0</td>\n",
       "      <td>Краснодар</td>\n",
       "      <td>...</td>\n",
       "      <td>30720</td>\n",
       "      <td>3000</td>\n",
       "      <td>1950</td>\n",
       "      <td>150</td>\n",
       "      <td>1</td>\n",
       "      <td>1</td>\n",
       "      <td>-2592.0</td>\n",
       "      <td>-919.0</td>\n",
       "      <td>-16664.07</td>\n",
       "      <td>-16.0</td>\n",
       "    </tr>\n",
       "    <tr>\n",
       "      <td>4</td>\n",
       "      <td>1000</td>\n",
       "      <td>9.0</td>\n",
       "      <td>58.0</td>\n",
       "      <td>466.0</td>\n",
       "      <td>57.0</td>\n",
       "      <td>14568.91</td>\n",
       "      <td>15.0</td>\n",
       "      <td>52</td>\n",
       "      <td>0</td>\n",
       "      <td>Краснодар</td>\n",
       "      <td>...</td>\n",
       "      <td>30720</td>\n",
       "      <td>3000</td>\n",
       "      <td>1950</td>\n",
       "      <td>150</td>\n",
       "      <td>1</td>\n",
       "      <td>1</td>\n",
       "      <td>-2534.0</td>\n",
       "      <td>-943.0</td>\n",
       "      <td>-16151.09</td>\n",
       "      <td>-15.0</td>\n",
       "    </tr>\n",
       "  </tbody>\n",
       "</table>\n",
       "<p>5 rows × 27 columns</p>\n",
       "</div>"
      ],
      "text/plain": [
       "   user_id  month  calls_count  calls_duration  message_count   mb_used  \\\n",
       "0     1000    5.0         22.0           159.0           22.0   2253.49   \n",
       "1     1000    6.0         43.0           172.0           60.0  23233.77   \n",
       "2     1000    7.0         47.0           340.0           75.0  14003.64   \n",
       "3     1000    8.0         52.0           408.0           81.0  14055.93   \n",
       "4     1000    9.0         58.0           466.0           57.0  14568.91   \n",
       "\n",
       "   gb_used  age churn_date       city  ... mb_per_month_included  \\\n",
       "0      3.0   52          0  Краснодар  ...                 30720   \n",
       "1     23.0   52          0  Краснодар  ...                 30720   \n",
       "2     14.0   52          0  Краснодар  ...                 30720   \n",
       "3     14.0   52          0  Краснодар  ...                 30720   \n",
       "4     15.0   52          0  Краснодар  ...                 30720   \n",
       "\n",
       "  minutes_included rub_monthly_fee rub_per_gb  rub_per_message  \\\n",
       "0             3000            1950        150                1   \n",
       "1             3000            1950        150                1   \n",
       "2             3000            1950        150                1   \n",
       "3             3000            1950        150                1   \n",
       "4             3000            1950        150                1   \n",
       "\n",
       "   rub_per_minute  minutes_overrun  message_overrun  mb_overrun  gb_overrun  \n",
       "0               1          -2841.0           -978.0   -28466.51       -27.0  \n",
       "1               1          -2828.0           -940.0    -7486.23        -7.0  \n",
       "2               1          -2660.0           -925.0   -16716.36       -16.0  \n",
       "3               1          -2592.0           -919.0   -16664.07       -16.0  \n",
       "4               1          -2534.0           -943.0   -16151.09       -15.0  \n",
       "\n",
       "[5 rows x 27 columns]"
      ]
     },
     "execution_count": 60,
     "metadata": {},
     "output_type": "execute_result"
    }
   ],
   "source": [
    "df_omni.head()"
   ]
  },
  {
   "cell_type": "code",
   "execution_count": 61,
   "metadata": {},
   "outputs": [],
   "source": [
    "# разделяем таблицу на 2 для разных тарифов\n",
    "df_omni_smart = df_omni[df_omni['tariff']=='smart']"
   ]
  },
  {
   "cell_type": "code",
   "execution_count": 62,
   "metadata": {},
   "outputs": [],
   "source": [
    "df_omni_ultra = df_omni[df_omni['tariff']=='ultra']"
   ]
  },
  {
   "cell_type": "code",
   "execution_count": 63,
   "metadata": {},
   "outputs": [],
   "source": [
    "# функция для расчета дохода с пользователя\n",
    "def revenue(df):\n",
    "    value_min = 0\n",
    "    value_mes = 0\n",
    "    value_mb = 0 \n",
    "    if df['minutes_overrun']>0:\n",
    "        value_min = df['minutes_overrun']*df['rub_per_minute']\n",
    "    if df['message_overrun']>0: \n",
    "        value_mes = df['message_overrun']*df['rub_per_message']\n",
    "    if df['gb_overrun']>0:\n",
    "        value_mb = df['gb_overrun']*df['rub_per_gb']\n",
    "    return value_min + value_mes + value_mb + df['rub_monthly_fee']\n",
    "    "
   ]
  },
  {
   "cell_type": "code",
   "execution_count": 64,
   "metadata": {},
   "outputs": [],
   "source": [
    "df_omni.loc[:,'income'] = df_omni.apply(revenue,axis=1)"
   ]
  },
  {
   "cell_type": "code",
   "execution_count": 65,
   "metadata": {},
   "outputs": [
    {
     "data": {
      "text/html": [
       "<div>\n",
       "<style scoped>\n",
       "    .dataframe tbody tr th:only-of-type {\n",
       "        vertical-align: middle;\n",
       "    }\n",
       "\n",
       "    .dataframe tbody tr th {\n",
       "        vertical-align: top;\n",
       "    }\n",
       "\n",
       "    .dataframe thead th {\n",
       "        text-align: right;\n",
       "    }\n",
       "</style>\n",
       "<table border=\"1\" class=\"dataframe\">\n",
       "  <thead>\n",
       "    <tr style=\"text-align: right;\">\n",
       "      <th></th>\n",
       "      <th>user_id</th>\n",
       "      <th>month</th>\n",
       "      <th>calls_count</th>\n",
       "      <th>calls_duration</th>\n",
       "      <th>message_count</th>\n",
       "      <th>mb_used</th>\n",
       "      <th>gb_used</th>\n",
       "      <th>age</th>\n",
       "      <th>churn_date</th>\n",
       "      <th>city</th>\n",
       "      <th>...</th>\n",
       "      <th>minutes_included</th>\n",
       "      <th>rub_monthly_fee</th>\n",
       "      <th>rub_per_gb</th>\n",
       "      <th>rub_per_message</th>\n",
       "      <th>rub_per_minute</th>\n",
       "      <th>minutes_overrun</th>\n",
       "      <th>message_overrun</th>\n",
       "      <th>mb_overrun</th>\n",
       "      <th>gb_overrun</th>\n",
       "      <th>income</th>\n",
       "    </tr>\n",
       "  </thead>\n",
       "  <tbody>\n",
       "    <tr>\n",
       "      <td>1131</td>\n",
       "      <td>1032</td>\n",
       "      <td>1.0</td>\n",
       "      <td>61.0</td>\n",
       "      <td>380.0</td>\n",
       "      <td>38.0</td>\n",
       "      <td>24127.69</td>\n",
       "      <td>24.0</td>\n",
       "      <td>31</td>\n",
       "      <td>0</td>\n",
       "      <td>Ульяновск</td>\n",
       "      <td>...</td>\n",
       "      <td>500</td>\n",
       "      <td>550</td>\n",
       "      <td>200</td>\n",
       "      <td>3</td>\n",
       "      <td>3</td>\n",
       "      <td>-120.0</td>\n",
       "      <td>-12.0</td>\n",
       "      <td>8767.69</td>\n",
       "      <td>9.0</td>\n",
       "      <td>2350.0</td>\n",
       "    </tr>\n",
       "    <tr>\n",
       "      <td>3172</td>\n",
       "      <td>1490</td>\n",
       "      <td>10.0</td>\n",
       "      <td>42.0</td>\n",
       "      <td>312.0</td>\n",
       "      <td>45.0</td>\n",
       "      <td>20664.97</td>\n",
       "      <td>21.0</td>\n",
       "      <td>30</td>\n",
       "      <td>0</td>\n",
       "      <td>Москва</td>\n",
       "      <td>...</td>\n",
       "      <td>500</td>\n",
       "      <td>550</td>\n",
       "      <td>200</td>\n",
       "      <td>3</td>\n",
       "      <td>3</td>\n",
       "      <td>-188.0</td>\n",
       "      <td>-5.0</td>\n",
       "      <td>5304.97</td>\n",
       "      <td>6.0</td>\n",
       "      <td>1750.0</td>\n",
       "    </tr>\n",
       "    <tr>\n",
       "      <td>2137</td>\n",
       "      <td>1248</td>\n",
       "      <td>11.0</td>\n",
       "      <td>96.0</td>\n",
       "      <td>636.0</td>\n",
       "      <td>0.0</td>\n",
       "      <td>17911.75</td>\n",
       "      <td>18.0</td>\n",
       "      <td>51</td>\n",
       "      <td>0</td>\n",
       "      <td>Москва</td>\n",
       "      <td>...</td>\n",
       "      <td>500</td>\n",
       "      <td>550</td>\n",
       "      <td>200</td>\n",
       "      <td>3</td>\n",
       "      <td>3</td>\n",
       "      <td>136.0</td>\n",
       "      <td>-50.0</td>\n",
       "      <td>2551.75</td>\n",
       "      <td>3.0</td>\n",
       "      <td>1558.0</td>\n",
       "    </tr>\n",
       "    <tr>\n",
       "      <td>2871</td>\n",
       "      <td>1425</td>\n",
       "      <td>11.0</td>\n",
       "      <td>86.0</td>\n",
       "      <td>585.0</td>\n",
       "      <td>86.0</td>\n",
       "      <td>16126.96</td>\n",
       "      <td>16.0</td>\n",
       "      <td>51</td>\n",
       "      <td>0</td>\n",
       "      <td>Пермь</td>\n",
       "      <td>...</td>\n",
       "      <td>500</td>\n",
       "      <td>550</td>\n",
       "      <td>200</td>\n",
       "      <td>3</td>\n",
       "      <td>3</td>\n",
       "      <td>85.0</td>\n",
       "      <td>36.0</td>\n",
       "      <td>766.96</td>\n",
       "      <td>1.0</td>\n",
       "      <td>1113.0</td>\n",
       "    </tr>\n",
       "    <tr>\n",
       "      <td>3010</td>\n",
       "      <td>1457</td>\n",
       "      <td>5.0</td>\n",
       "      <td>70.0</td>\n",
       "      <td>490.0</td>\n",
       "      <td>28.0</td>\n",
       "      <td>22586.65</td>\n",
       "      <td>23.0</td>\n",
       "      <td>35</td>\n",
       "      <td>0</td>\n",
       "      <td>Саратов</td>\n",
       "      <td>...</td>\n",
       "      <td>500</td>\n",
       "      <td>550</td>\n",
       "      <td>200</td>\n",
       "      <td>3</td>\n",
       "      <td>3</td>\n",
       "      <td>-10.0</td>\n",
       "      <td>-22.0</td>\n",
       "      <td>7226.65</td>\n",
       "      <td>8.0</td>\n",
       "      <td>2150.0</td>\n",
       "    </tr>\n",
       "    <tr>\n",
       "      <td>2748</td>\n",
       "      <td>1401</td>\n",
       "      <td>1.0</td>\n",
       "      <td>15.0</td>\n",
       "      <td>153.0</td>\n",
       "      <td>14.0</td>\n",
       "      <td>5144.72</td>\n",
       "      <td>6.0</td>\n",
       "      <td>42</td>\n",
       "      <td>0</td>\n",
       "      <td>Москва</td>\n",
       "      <td>...</td>\n",
       "      <td>500</td>\n",
       "      <td>550</td>\n",
       "      <td>200</td>\n",
       "      <td>3</td>\n",
       "      <td>3</td>\n",
       "      <td>-347.0</td>\n",
       "      <td>-36.0</td>\n",
       "      <td>-10215.28</td>\n",
       "      <td>-9.0</td>\n",
       "      <td>550.0</td>\n",
       "    </tr>\n",
       "    <tr>\n",
       "      <td>2625</td>\n",
       "      <td>1372</td>\n",
       "      <td>7.0</td>\n",
       "      <td>58.0</td>\n",
       "      <td>380.0</td>\n",
       "      <td>41.0</td>\n",
       "      <td>13658.02</td>\n",
       "      <td>14.0</td>\n",
       "      <td>71</td>\n",
       "      <td>0</td>\n",
       "      <td>Магнитогорск</td>\n",
       "      <td>...</td>\n",
       "      <td>500</td>\n",
       "      <td>550</td>\n",
       "      <td>200</td>\n",
       "      <td>3</td>\n",
       "      <td>3</td>\n",
       "      <td>-120.0</td>\n",
       "      <td>-9.0</td>\n",
       "      <td>-1701.98</td>\n",
       "      <td>-1.0</td>\n",
       "      <td>550.0</td>\n",
       "    </tr>\n",
       "    <tr>\n",
       "      <td>117</td>\n",
       "      <td>1080</td>\n",
       "      <td>11.0</td>\n",
       "      <td>105.0</td>\n",
       "      <td>654.0</td>\n",
       "      <td>64.0</td>\n",
       "      <td>5438.97</td>\n",
       "      <td>6.0</td>\n",
       "      <td>28</td>\n",
       "      <td>0</td>\n",
       "      <td>Москва</td>\n",
       "      <td>...</td>\n",
       "      <td>3000</td>\n",
       "      <td>1950</td>\n",
       "      <td>150</td>\n",
       "      <td>1</td>\n",
       "      <td>1</td>\n",
       "      <td>-2346.0</td>\n",
       "      <td>-936.0</td>\n",
       "      <td>-25281.03</td>\n",
       "      <td>-24.0</td>\n",
       "      <td>1950.0</td>\n",
       "    </tr>\n",
       "    <tr>\n",
       "      <td>3150</td>\n",
       "      <td>1483</td>\n",
       "      <td>12.0</td>\n",
       "      <td>96.0</td>\n",
       "      <td>691.0</td>\n",
       "      <td>43.0</td>\n",
       "      <td>20902.50</td>\n",
       "      <td>21.0</td>\n",
       "      <td>28</td>\n",
       "      <td>0</td>\n",
       "      <td>Ульяновск</td>\n",
       "      <td>...</td>\n",
       "      <td>500</td>\n",
       "      <td>550</td>\n",
       "      <td>200</td>\n",
       "      <td>3</td>\n",
       "      <td>3</td>\n",
       "      <td>191.0</td>\n",
       "      <td>-7.0</td>\n",
       "      <td>5542.50</td>\n",
       "      <td>6.0</td>\n",
       "      <td>2323.0</td>\n",
       "    </tr>\n",
       "    <tr>\n",
       "      <td>1057</td>\n",
       "      <td>1012</td>\n",
       "      <td>7.0</td>\n",
       "      <td>43.0</td>\n",
       "      <td>223.0</td>\n",
       "      <td>12.0</td>\n",
       "      <td>23090.75</td>\n",
       "      <td>23.0</td>\n",
       "      <td>38</td>\n",
       "      <td>0</td>\n",
       "      <td>Санкт-Петербург</td>\n",
       "      <td>...</td>\n",
       "      <td>500</td>\n",
       "      <td>550</td>\n",
       "      <td>200</td>\n",
       "      <td>3</td>\n",
       "      <td>3</td>\n",
       "      <td>-277.0</td>\n",
       "      <td>-38.0</td>\n",
       "      <td>7730.75</td>\n",
       "      <td>8.0</td>\n",
       "      <td>2150.0</td>\n",
       "    </tr>\n",
       "  </tbody>\n",
       "</table>\n",
       "<p>10 rows × 28 columns</p>\n",
       "</div>"
      ],
      "text/plain": [
       "      user_id  month  calls_count  calls_duration  message_count   mb_used  \\\n",
       "1131     1032    1.0         61.0           380.0           38.0  24127.69   \n",
       "3172     1490   10.0         42.0           312.0           45.0  20664.97   \n",
       "2137     1248   11.0         96.0           636.0            0.0  17911.75   \n",
       "2871     1425   11.0         86.0           585.0           86.0  16126.96   \n",
       "3010     1457    5.0         70.0           490.0           28.0  22586.65   \n",
       "2748     1401    1.0         15.0           153.0           14.0   5144.72   \n",
       "2625     1372    7.0         58.0           380.0           41.0  13658.02   \n",
       "117      1080   11.0        105.0           654.0           64.0   5438.97   \n",
       "3150     1483   12.0         96.0           691.0           43.0  20902.50   \n",
       "1057     1012    7.0         43.0           223.0           12.0  23090.75   \n",
       "\n",
       "      gb_used  age churn_date             city  ... minutes_included  \\\n",
       "1131     24.0   31          0        Ульяновск  ...              500   \n",
       "3172     21.0   30          0           Москва  ...              500   \n",
       "2137     18.0   51          0           Москва  ...              500   \n",
       "2871     16.0   51          0            Пермь  ...              500   \n",
       "3010     23.0   35          0          Саратов  ...              500   \n",
       "2748      6.0   42          0           Москва  ...              500   \n",
       "2625     14.0   71          0     Магнитогорск  ...              500   \n",
       "117       6.0   28          0           Москва  ...             3000   \n",
       "3150     21.0   28          0        Ульяновск  ...              500   \n",
       "1057     23.0   38          0  Санкт-Петербург  ...              500   \n",
       "\n",
       "     rub_monthly_fee rub_per_gb rub_per_message  rub_per_minute  \\\n",
       "1131             550        200               3               3   \n",
       "3172             550        200               3               3   \n",
       "2137             550        200               3               3   \n",
       "2871             550        200               3               3   \n",
       "3010             550        200               3               3   \n",
       "2748             550        200               3               3   \n",
       "2625             550        200               3               3   \n",
       "117             1950        150               1               1   \n",
       "3150             550        200               3               3   \n",
       "1057             550        200               3               3   \n",
       "\n",
       "      minutes_overrun  message_overrun  mb_overrun  gb_overrun  income  \n",
       "1131           -120.0            -12.0     8767.69         9.0  2350.0  \n",
       "3172           -188.0             -5.0     5304.97         6.0  1750.0  \n",
       "2137            136.0            -50.0     2551.75         3.0  1558.0  \n",
       "2871             85.0             36.0      766.96         1.0  1113.0  \n",
       "3010            -10.0            -22.0     7226.65         8.0  2150.0  \n",
       "2748           -347.0            -36.0   -10215.28        -9.0   550.0  \n",
       "2625           -120.0             -9.0    -1701.98        -1.0   550.0  \n",
       "117           -2346.0           -936.0   -25281.03       -24.0  1950.0  \n",
       "3150            191.0             -7.0     5542.50         6.0  2323.0  \n",
       "1057           -277.0            -38.0     7730.75         8.0  2150.0  \n",
       "\n",
       "[10 rows x 28 columns]"
      ]
     },
     "execution_count": 65,
     "metadata": {},
     "output_type": "execute_result"
    }
   ],
   "source": [
    "df_omni.sample(10)"
   ]
  },
  {
   "cell_type": "code",
   "execution_count": 66,
   "metadata": {
    "scrolled": true
   },
   "outputs": [
    {
     "name": "stderr",
     "output_type": "stream",
     "text": [
      "C:\\Users\\anton\\Anaconda3\\lib\\site-packages\\pandas\\core\\indexing.py:376: SettingWithCopyWarning: \n",
      "A value is trying to be set on a copy of a slice from a DataFrame.\n",
      "Try using .loc[row_indexer,col_indexer] = value instead\n",
      "\n",
      "See the caveats in the documentation: http://pandas.pydata.org/pandas-docs/stable/user_guide/indexing.html#returning-a-view-versus-a-copy\n",
      "  self.obj[key] = _infer_fill_value(value)\n",
      "C:\\Users\\anton\\Anaconda3\\lib\\site-packages\\pandas\\core\\indexing.py:494: SettingWithCopyWarning: \n",
      "A value is trying to be set on a copy of a slice from a DataFrame.\n",
      "Try using .loc[row_indexer,col_indexer] = value instead\n",
      "\n",
      "See the caveats in the documentation: http://pandas.pydata.org/pandas-docs/stable/user_guide/indexing.html#returning-a-view-versus-a-copy\n",
      "  self.obj[item] = s\n"
     ]
    }
   ],
   "source": [
    "df_omni_ultra.loc[:,'income'] = df_omni_ultra.apply(revenue,axis=1)"
   ]
  },
  {
   "cell_type": "code",
   "execution_count": 67,
   "metadata": {},
   "outputs": [],
   "source": [
    "df_omni_smart.loc[:,'income'] = df_omni_smart.apply(revenue,axis=1)"
   ]
  },
  {
   "cell_type": "code",
   "execution_count": 68,
   "metadata": {},
   "outputs": [
    {
     "data": {
      "text/html": [
       "<div>\n",
       "<style scoped>\n",
       "    .dataframe tbody tr th:only-of-type {\n",
       "        vertical-align: middle;\n",
       "    }\n",
       "\n",
       "    .dataframe tbody tr th {\n",
       "        vertical-align: top;\n",
       "    }\n",
       "\n",
       "    .dataframe thead th {\n",
       "        text-align: right;\n",
       "    }\n",
       "</style>\n",
       "<table border=\"1\" class=\"dataframe\">\n",
       "  <thead>\n",
       "    <tr style=\"text-align: right;\">\n",
       "      <th></th>\n",
       "      <th>user_id</th>\n",
       "      <th>month</th>\n",
       "      <th>calls_count</th>\n",
       "      <th>calls_duration</th>\n",
       "      <th>message_count</th>\n",
       "      <th>mb_used</th>\n",
       "      <th>gb_used</th>\n",
       "      <th>age</th>\n",
       "      <th>churn_date</th>\n",
       "      <th>city</th>\n",
       "      <th>...</th>\n",
       "      <th>minutes_included</th>\n",
       "      <th>rub_monthly_fee</th>\n",
       "      <th>rub_per_gb</th>\n",
       "      <th>rub_per_message</th>\n",
       "      <th>rub_per_minute</th>\n",
       "      <th>minutes_overrun</th>\n",
       "      <th>message_overrun</th>\n",
       "      <th>mb_overrun</th>\n",
       "      <th>gb_overrun</th>\n",
       "      <th>income</th>\n",
       "    </tr>\n",
       "  </thead>\n",
       "  <tbody>\n",
       "    <tr>\n",
       "      <td>0</td>\n",
       "      <td>1000</td>\n",
       "      <td>5.0</td>\n",
       "      <td>22.0</td>\n",
       "      <td>159.0</td>\n",
       "      <td>22.0</td>\n",
       "      <td>2253.49</td>\n",
       "      <td>3.0</td>\n",
       "      <td>52</td>\n",
       "      <td>0</td>\n",
       "      <td>Краснодар</td>\n",
       "      <td>...</td>\n",
       "      <td>3000</td>\n",
       "      <td>1950</td>\n",
       "      <td>150</td>\n",
       "      <td>1</td>\n",
       "      <td>1</td>\n",
       "      <td>-2841.0</td>\n",
       "      <td>-978.0</td>\n",
       "      <td>-28466.51</td>\n",
       "      <td>-27.0</td>\n",
       "      <td>1950.0</td>\n",
       "    </tr>\n",
       "    <tr>\n",
       "      <td>1</td>\n",
       "      <td>1000</td>\n",
       "      <td>6.0</td>\n",
       "      <td>43.0</td>\n",
       "      <td>172.0</td>\n",
       "      <td>60.0</td>\n",
       "      <td>23233.77</td>\n",
       "      <td>23.0</td>\n",
       "      <td>52</td>\n",
       "      <td>0</td>\n",
       "      <td>Краснодар</td>\n",
       "      <td>...</td>\n",
       "      <td>3000</td>\n",
       "      <td>1950</td>\n",
       "      <td>150</td>\n",
       "      <td>1</td>\n",
       "      <td>1</td>\n",
       "      <td>-2828.0</td>\n",
       "      <td>-940.0</td>\n",
       "      <td>-7486.23</td>\n",
       "      <td>-7.0</td>\n",
       "      <td>1950.0</td>\n",
       "    </tr>\n",
       "    <tr>\n",
       "      <td>2</td>\n",
       "      <td>1000</td>\n",
       "      <td>7.0</td>\n",
       "      <td>47.0</td>\n",
       "      <td>340.0</td>\n",
       "      <td>75.0</td>\n",
       "      <td>14003.64</td>\n",
       "      <td>14.0</td>\n",
       "      <td>52</td>\n",
       "      <td>0</td>\n",
       "      <td>Краснодар</td>\n",
       "      <td>...</td>\n",
       "      <td>3000</td>\n",
       "      <td>1950</td>\n",
       "      <td>150</td>\n",
       "      <td>1</td>\n",
       "      <td>1</td>\n",
       "      <td>-2660.0</td>\n",
       "      <td>-925.0</td>\n",
       "      <td>-16716.36</td>\n",
       "      <td>-16.0</td>\n",
       "      <td>1950.0</td>\n",
       "    </tr>\n",
       "    <tr>\n",
       "      <td>3</td>\n",
       "      <td>1000</td>\n",
       "      <td>8.0</td>\n",
       "      <td>52.0</td>\n",
       "      <td>408.0</td>\n",
       "      <td>81.0</td>\n",
       "      <td>14055.93</td>\n",
       "      <td>14.0</td>\n",
       "      <td>52</td>\n",
       "      <td>0</td>\n",
       "      <td>Краснодар</td>\n",
       "      <td>...</td>\n",
       "      <td>3000</td>\n",
       "      <td>1950</td>\n",
       "      <td>150</td>\n",
       "      <td>1</td>\n",
       "      <td>1</td>\n",
       "      <td>-2592.0</td>\n",
       "      <td>-919.0</td>\n",
       "      <td>-16664.07</td>\n",
       "      <td>-16.0</td>\n",
       "      <td>1950.0</td>\n",
       "    </tr>\n",
       "    <tr>\n",
       "      <td>4</td>\n",
       "      <td>1000</td>\n",
       "      <td>9.0</td>\n",
       "      <td>58.0</td>\n",
       "      <td>466.0</td>\n",
       "      <td>57.0</td>\n",
       "      <td>14568.91</td>\n",
       "      <td>15.0</td>\n",
       "      <td>52</td>\n",
       "      <td>0</td>\n",
       "      <td>Краснодар</td>\n",
       "      <td>...</td>\n",
       "      <td>3000</td>\n",
       "      <td>1950</td>\n",
       "      <td>150</td>\n",
       "      <td>1</td>\n",
       "      <td>1</td>\n",
       "      <td>-2534.0</td>\n",
       "      <td>-943.0</td>\n",
       "      <td>-16151.09</td>\n",
       "      <td>-15.0</td>\n",
       "      <td>1950.0</td>\n",
       "    </tr>\n",
       "  </tbody>\n",
       "</table>\n",
       "<p>5 rows × 28 columns</p>\n",
       "</div>"
      ],
      "text/plain": [
       "   user_id  month  calls_count  calls_duration  message_count   mb_used  \\\n",
       "0     1000    5.0         22.0           159.0           22.0   2253.49   \n",
       "1     1000    6.0         43.0           172.0           60.0  23233.77   \n",
       "2     1000    7.0         47.0           340.0           75.0  14003.64   \n",
       "3     1000    8.0         52.0           408.0           81.0  14055.93   \n",
       "4     1000    9.0         58.0           466.0           57.0  14568.91   \n",
       "\n",
       "   gb_used  age churn_date       city  ... minutes_included rub_monthly_fee  \\\n",
       "0      3.0   52          0  Краснодар  ...             3000            1950   \n",
       "1     23.0   52          0  Краснодар  ...             3000            1950   \n",
       "2     14.0   52          0  Краснодар  ...             3000            1950   \n",
       "3     14.0   52          0  Краснодар  ...             3000            1950   \n",
       "4     15.0   52          0  Краснодар  ...             3000            1950   \n",
       "\n",
       "  rub_per_gb rub_per_message  rub_per_minute  minutes_overrun  \\\n",
       "0        150               1               1          -2841.0   \n",
       "1        150               1               1          -2828.0   \n",
       "2        150               1               1          -2660.0   \n",
       "3        150               1               1          -2592.0   \n",
       "4        150               1               1          -2534.0   \n",
       "\n",
       "   message_overrun  mb_overrun  gb_overrun  income  \n",
       "0           -978.0   -28466.51       -27.0  1950.0  \n",
       "1           -940.0    -7486.23        -7.0  1950.0  \n",
       "2           -925.0   -16716.36       -16.0  1950.0  \n",
       "3           -919.0   -16664.07       -16.0  1950.0  \n",
       "4           -943.0   -16151.09       -15.0  1950.0  \n",
       "\n",
       "[5 rows x 28 columns]"
      ]
     },
     "execution_count": 68,
     "metadata": {},
     "output_type": "execute_result"
    }
   ],
   "source": [
    "df_omni_ultra.head()"
   ]
  },
  {
   "cell_type": "code",
   "execution_count": 69,
   "metadata": {},
   "outputs": [
    {
     "data": {
      "text/html": [
       "<div>\n",
       "<style scoped>\n",
       "    .dataframe tbody tr th:only-of-type {\n",
       "        vertical-align: middle;\n",
       "    }\n",
       "\n",
       "    .dataframe tbody tr th {\n",
       "        vertical-align: top;\n",
       "    }\n",
       "\n",
       "    .dataframe thead th {\n",
       "        text-align: right;\n",
       "    }\n",
       "</style>\n",
       "<table border=\"1\" class=\"dataframe\">\n",
       "  <thead>\n",
       "    <tr style=\"text-align: right;\">\n",
       "      <th></th>\n",
       "      <th>user_id</th>\n",
       "      <th>month</th>\n",
       "      <th>calls_count</th>\n",
       "      <th>calls_duration</th>\n",
       "      <th>message_count</th>\n",
       "      <th>mb_used</th>\n",
       "      <th>gb_used</th>\n",
       "      <th>age</th>\n",
       "      <th>churn_date</th>\n",
       "      <th>city</th>\n",
       "      <th>...</th>\n",
       "      <th>minutes_included</th>\n",
       "      <th>rub_monthly_fee</th>\n",
       "      <th>rub_per_gb</th>\n",
       "      <th>rub_per_message</th>\n",
       "      <th>rub_per_minute</th>\n",
       "      <th>minutes_overrun</th>\n",
       "      <th>message_overrun</th>\n",
       "      <th>mb_overrun</th>\n",
       "      <th>gb_overrun</th>\n",
       "      <th>income</th>\n",
       "    </tr>\n",
       "  </thead>\n",
       "  <tbody>\n",
       "    <tr>\n",
       "      <td>986</td>\n",
       "      <td>1001</td>\n",
       "      <td>11.0</td>\n",
       "      <td>59.0</td>\n",
       "      <td>430.0</td>\n",
       "      <td>0.0</td>\n",
       "      <td>18429.34</td>\n",
       "      <td>18.0</td>\n",
       "      <td>41</td>\n",
       "      <td>0</td>\n",
       "      <td>Москва</td>\n",
       "      <td>...</td>\n",
       "      <td>500</td>\n",
       "      <td>550</td>\n",
       "      <td>200</td>\n",
       "      <td>3</td>\n",
       "      <td>3</td>\n",
       "      <td>-70.0</td>\n",
       "      <td>-50.0</td>\n",
       "      <td>3069.34</td>\n",
       "      <td>3.0</td>\n",
       "      <td>1150.0</td>\n",
       "    </tr>\n",
       "    <tr>\n",
       "      <td>987</td>\n",
       "      <td>1001</td>\n",
       "      <td>12.0</td>\n",
       "      <td>63.0</td>\n",
       "      <td>414.0</td>\n",
       "      <td>0.0</td>\n",
       "      <td>14036.66</td>\n",
       "      <td>14.0</td>\n",
       "      <td>41</td>\n",
       "      <td>0</td>\n",
       "      <td>Москва</td>\n",
       "      <td>...</td>\n",
       "      <td>500</td>\n",
       "      <td>550</td>\n",
       "      <td>200</td>\n",
       "      <td>3</td>\n",
       "      <td>3</td>\n",
       "      <td>-86.0</td>\n",
       "      <td>-50.0</td>\n",
       "      <td>-1323.34</td>\n",
       "      <td>-1.0</td>\n",
       "      <td>550.0</td>\n",
       "    </tr>\n",
       "    <tr>\n",
       "      <td>988</td>\n",
       "      <td>1002</td>\n",
       "      <td>6.0</td>\n",
       "      <td>15.0</td>\n",
       "      <td>117.0</td>\n",
       "      <td>4.0</td>\n",
       "      <td>10856.82</td>\n",
       "      <td>11.0</td>\n",
       "      <td>59</td>\n",
       "      <td>0</td>\n",
       "      <td>Стерлитамак</td>\n",
       "      <td>...</td>\n",
       "      <td>500</td>\n",
       "      <td>550</td>\n",
       "      <td>200</td>\n",
       "      <td>3</td>\n",
       "      <td>3</td>\n",
       "      <td>-383.0</td>\n",
       "      <td>-46.0</td>\n",
       "      <td>-4503.18</td>\n",
       "      <td>-4.0</td>\n",
       "      <td>550.0</td>\n",
       "    </tr>\n",
       "    <tr>\n",
       "      <td>989</td>\n",
       "      <td>1002</td>\n",
       "      <td>7.0</td>\n",
       "      <td>26.0</td>\n",
       "      <td>214.0</td>\n",
       "      <td>11.0</td>\n",
       "      <td>17580.10</td>\n",
       "      <td>18.0</td>\n",
       "      <td>59</td>\n",
       "      <td>0</td>\n",
       "      <td>Стерлитамак</td>\n",
       "      <td>...</td>\n",
       "      <td>500</td>\n",
       "      <td>550</td>\n",
       "      <td>200</td>\n",
       "      <td>3</td>\n",
       "      <td>3</td>\n",
       "      <td>-286.0</td>\n",
       "      <td>-39.0</td>\n",
       "      <td>2220.10</td>\n",
       "      <td>3.0</td>\n",
       "      <td>1150.0</td>\n",
       "    </tr>\n",
       "    <tr>\n",
       "      <td>990</td>\n",
       "      <td>1002</td>\n",
       "      <td>8.0</td>\n",
       "      <td>42.0</td>\n",
       "      <td>289.0</td>\n",
       "      <td>13.0</td>\n",
       "      <td>20319.26</td>\n",
       "      <td>20.0</td>\n",
       "      <td>59</td>\n",
       "      <td>0</td>\n",
       "      <td>Стерлитамак</td>\n",
       "      <td>...</td>\n",
       "      <td>500</td>\n",
       "      <td>550</td>\n",
       "      <td>200</td>\n",
       "      <td>3</td>\n",
       "      <td>3</td>\n",
       "      <td>-211.0</td>\n",
       "      <td>-37.0</td>\n",
       "      <td>4959.26</td>\n",
       "      <td>5.0</td>\n",
       "      <td>1550.0</td>\n",
       "    </tr>\n",
       "  </tbody>\n",
       "</table>\n",
       "<p>5 rows × 28 columns</p>\n",
       "</div>"
      ],
      "text/plain": [
       "     user_id  month  calls_count  calls_duration  message_count   mb_used  \\\n",
       "986     1001   11.0         59.0           430.0            0.0  18429.34   \n",
       "987     1001   12.0         63.0           414.0            0.0  14036.66   \n",
       "988     1002    6.0         15.0           117.0            4.0  10856.82   \n",
       "989     1002    7.0         26.0           214.0           11.0  17580.10   \n",
       "990     1002    8.0         42.0           289.0           13.0  20319.26   \n",
       "\n",
       "     gb_used  age churn_date         city  ... minutes_included  \\\n",
       "986     18.0   41          0       Москва  ...              500   \n",
       "987     14.0   41          0       Москва  ...              500   \n",
       "988     11.0   59          0  Стерлитамак  ...              500   \n",
       "989     18.0   59          0  Стерлитамак  ...              500   \n",
       "990     20.0   59          0  Стерлитамак  ...              500   \n",
       "\n",
       "    rub_monthly_fee rub_per_gb rub_per_message  rub_per_minute  \\\n",
       "986             550        200               3               3   \n",
       "987             550        200               3               3   \n",
       "988             550        200               3               3   \n",
       "989             550        200               3               3   \n",
       "990             550        200               3               3   \n",
       "\n",
       "     minutes_overrun  message_overrun  mb_overrun  gb_overrun  income  \n",
       "986            -70.0            -50.0     3069.34         3.0  1150.0  \n",
       "987            -86.0            -50.0    -1323.34        -1.0   550.0  \n",
       "988           -383.0            -46.0    -4503.18        -4.0   550.0  \n",
       "989           -286.0            -39.0     2220.10         3.0  1150.0  \n",
       "990           -211.0            -37.0     4959.26         5.0  1550.0  \n",
       "\n",
       "[5 rows x 28 columns]"
      ]
     },
     "execution_count": 69,
     "metadata": {},
     "output_type": "execute_result"
    }
   ],
   "source": [
    "df_omni_smart.head()"
   ]
  },
  {
   "cell_type": "markdown",
   "metadata": {},
   "source": [
    "Вывод: данные обработаны, все необходимые значения были посчитаны, можно продолжать обработку"
   ]
  },
  {
   "cell_type": "markdown",
   "metadata": {},
   "source": [
    "<div class=\"alert alert-info\"> <b>Комментарий студента:</b> Вывод: данные обработаны, все необходимые значения были посчитаны, можно продолжать обработку </div>"
   ]
  },
  {
   "cell_type": "markdown",
   "metadata": {},
   "source": [
    "# 3.Проанализируем данные"
   ]
  },
  {
   "cell_type": "code",
   "execution_count": 70,
   "metadata": {},
   "outputs": [
    {
     "data": {
      "text/plain": [
       "count     971.000000\n",
       "mean      531.511843\n",
       "std       316.864592\n",
       "min         0.000000\n",
       "25%       294.000000\n",
       "50%       521.000000\n",
       "75%       752.500000\n",
       "max      1673.000000\n",
       "Name: calls_duration, dtype: float64"
      ]
     },
     "execution_count": 70,
     "metadata": {},
     "output_type": "execute_result"
    }
   ],
   "source": [
    "df_omni_ultra['calls_duration'].describe()"
   ]
  },
  {
   "cell_type": "code",
   "execution_count": 71,
   "metadata": {},
   "outputs": [
    {
     "data": {
      "text/plain": [
       "<matplotlib.axes._subplots.AxesSubplot at 0x1de5a697908>"
      ]
     },
     "execution_count": 71,
     "metadata": {},
     "output_type": "execute_result"
    }
   ],
   "source": [
    "df_omni_ultra['calls_duration'].plot(kind='box')"
   ]
  },
  {
   "cell_type": "code",
   "execution_count": 72,
   "metadata": {},
   "outputs": [],
   "source": [
    "# считаем среднее, дисперсия и стандартное отклонение для звонков тарифа УЛЬТРА\n",
    "ultra_mean = df_omni_ultra['calls_duration'].mean()"
   ]
  },
  {
   "cell_type": "code",
   "execution_count": 73,
   "metadata": {},
   "outputs": [],
   "source": [
    "ultra_variance = df_omni_ultra['calls_duration'].var()"
   ]
  },
  {
   "cell_type": "code",
   "execution_count": 74,
   "metadata": {},
   "outputs": [],
   "source": [
    "ultra_std = np.sqrt(ultra_variance)"
   ]
  },
  {
   "cell_type": "code",
   "execution_count": 75,
   "metadata": {},
   "outputs": [
    {
     "data": {
      "text/plain": [
       "'Среднее=531.5118434603502,Дисперсия=100403.16970494897,Стандартное отклонение=316.8645920656787 для тарифа УЛЬТРА'"
      ]
     },
     "metadata": {},
     "output_type": "display_data"
    }
   ],
   "source": [
    "display(f'Среднее={ultra_mean},Дисперсия={ultra_variance},Стандартное отклонение={ultra_std} для тарифа УЛЬТРА')"
   ]
  },
  {
   "cell_type": "code",
   "execution_count": 76,
   "metadata": {},
   "outputs": [
    {
     "data": {
      "text/plain": [
       "<matplotlib.axes._subplots.AxesSubplot at 0x1de5cac0708>"
      ]
     },
     "execution_count": 76,
     "metadata": {},
     "output_type": "execute_result"
    },
    {
     "data": {
      "image/png": "[encoded data removed]",
      "text/plain": [
       "<Figure size 936x360 with 1 Axes>"
      ]
     },
     "metadata": {
      "needs_background": "light"
     },
     "output_type": "display_data"
    }
   ],
   "source": [
    "df_omni_ultra['calls_duration'].plot(kind='hist',grid=True,title='Минуты затрачиваемые за месяц пользователями УЛЬТРА',figsize=(13,5),bins=42)"
   ]
  },
  {
   "cell_type": "markdown",
   "metadata": {},
   "source": [
    "### Кросивое распределение "
   ]
  },
  {
   "cell_type": "code",
   "execution_count": 77,
   "metadata": {},
   "outputs": [
    {
     "data": {
      "text/plain": [
       "count    971.000000\n",
       "mean      49.792997\n",
       "std       47.918072\n",
       "min        0.000000\n",
       "25%        6.000000\n",
       "50%       38.000000\n",
       "75%       79.000000\n",
       "max      224.000000\n",
       "Name: message_count, dtype: float64"
      ]
     },
     "execution_count": 77,
     "metadata": {},
     "output_type": "execute_result"
    }
   ],
   "source": [
    "df_omni_ultra['message_count'].describe()"
   ]
  },
  {
   "cell_type": "code",
   "execution_count": 78,
   "metadata": {},
   "outputs": [
    {
     "data": {
      "text/plain": [
       "<matplotlib.axes._subplots.AxesSubplot at 0x1de5cbad608>"
      ]
     },
     "execution_count": 78,
     "metadata": {},
     "output_type": "execute_result"
    },
    {
     "data": {
      "image/png": "[encoded data removed]",
      "text/plain": [
       "<Figure size 432x288 with 1 Axes>"
      ]
     },
     "metadata": {
      "needs_background": "light"
     },
     "output_type": "display_data"
    }
   ],
   "source": [
    "df_omni_ultra['message_count'].plot(kind='box')"
   ]
  },
  {
   "cell_type": "code",
   "execution_count": 79,
   "metadata": {},
   "outputs": [
    {
     "data": {
      "text/plain": [
       "'Среднее 49.79299691040165,Дисперсия 2296.1416416278307,Стандартное отклонение 47.91807218187967 для сообщений тарифа УЛЬТРА'"
      ]
     },
     "metadata": {},
     "output_type": "display_data"
    }
   ],
   "source": [
    "# считаем среднее, дисперсию и стандартное отклонение для кол-ва сообщений тарифа УЛЬТРА\n",
    "ultra_mean1 = df_omni_ultra['message_count'].mean()\n",
    "ultra_variance1 = df_omni_ultra['message_count'].var()\n",
    "ultra_std1 = np.sqrt(ultra_variance1)\n",
    "display(f'Среднее {ultra_mean1},Дисперсия {ultra_variance1},Стандартное отклонение {ultra_std1} для сообщений тарифа УЛЬТРА')"
   ]
  },
  {
   "cell_type": "code",
   "execution_count": 80,
   "metadata": {},
   "outputs": [
    {
     "data": {
      "text/plain": [
       "<matplotlib.axes._subplots.AxesSubplot at 0x1de5cbfa048>"
      ]
     },
     "execution_count": 80,
     "metadata": {},
     "output_type": "execute_result"
    },
    {
     "data": {
      "image/png": "[encoded data removed]",
      "text/plain": [
       "<Figure size 936x360 with 1 Axes>"
      ]
     },
     "metadata": {
      "needs_background": "light"
     },
     "output_type": "display_data"
    }
   ],
   "source": [
    "df_omni_ultra['message_count'].plot(kind='hist',grid=True,title='Кол-во сообщений за месяц пользователей УЛЬТРА',figsize=(13,5),bins=20)"
   ]
  },
  {
   "cell_type": "markdown",
   "metadata": {},
   "source": [
    "### Значительная часть пользователей не отправляет сообщения"
   ]
  },
  {
   "cell_type": "code",
   "execution_count": 81,
   "metadata": {},
   "outputs": [
    {
     "data": {
      "text/plain": [
       "count    971.000000\n",
       "mean      19.690010\n",
       "std        9.762103\n",
       "min        0.000000\n",
       "25%       12.000000\n",
       "50%       19.000000\n",
       "75%       27.000000\n",
       "max       49.000000\n",
       "Name: gb_used, dtype: float64"
      ]
     },
     "execution_count": 81,
     "metadata": {},
     "output_type": "execute_result"
    }
   ],
   "source": [
    "df_omni_ultra['gb_used'].describe()"
   ]
  },
  {
   "cell_type": "code",
   "execution_count": 82,
   "metadata": {},
   "outputs": [
    {
     "data": {
      "text/plain": [
       "<matplotlib.axes._subplots.AxesSubplot at 0x1de5cc8fc88>"
      ]
     },
     "execution_count": 82,
     "metadata": {},
     "output_type": "execute_result"
    },
    {
     "data": {
      "image/png": "[encoded data removed]",
      "text/plain": [
       "<Figure size 432x288 with 1 Axes>"
      ]
     },
     "metadata": {
      "needs_background": "light"
     },
     "output_type": "display_data"
    }
   ],
   "source": [
    "df_omni_ultra['gb_used'].plot(kind='box')"
   ]
  },
  {
   "cell_type": "code",
   "execution_count": 83,
   "metadata": {},
   "outputs": [
    {
     "data": {
      "text/plain": [
       "'Среднее 19.690010298661175,Дисперсия 95.2986526803062,Стандартное отклонение 9.762102882079567 для использованного интернета тарифа УЛЬТРА'"
      ]
     },
     "metadata": {},
     "output_type": "display_data"
    }
   ],
   "source": [
    "# считаем среднее, дисперсию и стандартное отклонение для использованных GB трафика тарифа УЛЬТРА\n",
    "ultra_mean2 = df_omni_ultra['gb_used'].mean()\n",
    "ultra_variance2 = df_omni_ultra['gb_used'].var()\n",
    "ultra_std2 = np.sqrt(ultra_variance2)\n",
    "display(f'Среднее {ultra_mean2},Дисперсия {ultra_variance2},Стандартное отклонение {ultra_std2} для использованного интернета тарифа УЛЬТРА')"
   ]
  },
  {
   "cell_type": "code",
   "execution_count": 84,
   "metadata": {},
   "outputs": [
    {
     "data": {
      "text/plain": [
       "<matplotlib.axes._subplots.AxesSubplot at 0x1de5cd5f448>"
      ]
     },
     "execution_count": 84,
     "metadata": {},
     "output_type": "execute_result"
    },
    {
     "data": {
      "image/png": "[encoded data removed]",
      "text/plain": [
       "<Figure size 936x360 with 1 Axes>"
      ]
     },
     "metadata": {
      "needs_background": "light"
     },
     "output_type": "display_data"
    }
   ],
   "source": [
    "df_omni_ultra['gb_used'].plot(kind='hist',grid=True,title='Кол-во гигабайт за месяц пользователей УЛЬТРА',figsize=(13,5),bins=30)"
   ]
  },
  {
   "cell_type": "markdown",
   "metadata": {},
   "source": [
    "### Отдаленно напоминает нормальное распределение "
   ]
  },
  {
   "cell_type": "code",
   "execution_count": 85,
   "metadata": {},
   "outputs": [
    {
     "data": {
      "text/plain": [
       "count    2207.000000\n",
       "mean      419.880834\n",
       "std       189.982508\n",
       "min         0.000000\n",
       "25%       286.000000\n",
       "50%       425.000000\n",
       "75%       546.500000\n",
       "max      1435.000000\n",
       "Name: calls_duration, dtype: float64"
      ]
     },
     "execution_count": 85,
     "metadata": {},
     "output_type": "execute_result"
    }
   ],
   "source": [
    "df_omni_smart['calls_duration'].describe()"
   ]
  },
  {
   "cell_type": "code",
   "execution_count": 86,
   "metadata": {},
   "outputs": [
    {
     "data": {
      "text/plain": [
       "<matplotlib.axes._subplots.AxesSubplot at 0x1de5cdf5788>"
      ]
     },
     "execution_count": 86,
     "metadata": {},
     "output_type": "execute_result"
    },
    {
     "data": {
      "image/png": "[encoded data removed]",
      "text/plain": [
       "<Figure size 432x288 with 1 Axes>"
      ]
     },
     "metadata": {
      "needs_background": "light"
     },
     "output_type": "display_data"
    }
   ],
   "source": [
    "df_omni_smart['calls_duration'].plot(kind='box')"
   ]
  },
  {
   "cell_type": "code",
   "execution_count": 87,
   "metadata": {},
   "outputs": [
    {
     "data": {
      "text/plain": [
       "'Среднее= 419.8808337109198,Дисперсия= 36093.353426684465,Стандартное отклонение= 189.98250821242587 для тарифа СМАРТ'"
      ]
     },
     "metadata": {},
     "output_type": "display_data"
    }
   ],
   "source": [
    "# считаем среднее, дисперсию и стандартное отклонение для звонков тарифа СМАРТ\n",
    "smart_mean = df_omni_smart['calls_duration'].mean()\n",
    "smart_variance = df_omni_smart['calls_duration'].var()\n",
    "smart_std = np.sqrt(smart_variance)\n",
    "display(f'Среднее= {smart_mean},Дисперсия= {smart_variance},Стандартное отклонение= {smart_std} для тарифа СМАРТ')"
   ]
  },
  {
   "cell_type": "code",
   "execution_count": 88,
   "metadata": {},
   "outputs": [
    {
     "data": {
      "text/plain": [
       "<matplotlib.axes._subplots.AxesSubplot at 0x1de5ce933c8>"
      ]
     },
     "execution_count": 88,
     "metadata": {},
     "output_type": "execute_result"
    },
    {
     "data": {
      "image/png": "[encoded data removed]",
      "text/plain": [
       "<Figure size 936x360 with 1 Axes>"
      ]
     },
     "metadata": {
      "needs_background": "light"
     },
     "output_type": "display_data"
    }
   ],
   "source": [
    "df_omni_smart['calls_duration'].plot(kind='hist',grid=True,title='Минуты затрачиваемые за месяц пользователями СМАРТ',figsize=(13,5),bins=30,range=(0,1000))"
   ]
  },
  {
   "cell_type": "markdown",
   "metadata": {},
   "source": [
    "### Распределение напоминает нормальное"
   ]
  },
  {
   "cell_type": "code",
   "execution_count": 89,
   "metadata": {},
   "outputs": [
    {
     "data": {
      "text/plain": [
       "count    2207.000000\n",
       "mean       33.518804\n",
       "std        28.298635\n",
       "min         0.000000\n",
       "25%        10.000000\n",
       "50%        28.000000\n",
       "75%        51.000000\n",
       "max       143.000000\n",
       "Name: message_count, dtype: float64"
      ]
     },
     "execution_count": 89,
     "metadata": {},
     "output_type": "execute_result"
    }
   ],
   "source": [
    "df_omni_smart['message_count'].describe()"
   ]
  },
  {
   "cell_type": "code",
   "execution_count": 90,
   "metadata": {},
   "outputs": [
    {
     "data": {
      "text/plain": [
       "<matplotlib.axes._subplots.AxesSubplot at 0x1de5d45da48>"
      ]
     },
     "execution_count": 90,
     "metadata": {},
     "output_type": "execute_result"
    },
    {
     "data": {
      "image/png": "[encoded data removed]",
      "text/plain": [
       "<Figure size 432x288 with 1 Axes>"
      ]
     },
     "metadata": {
      "needs_background": "light"
     },
     "output_type": "display_data"
    }
   ],
   "source": [
    "df_omni_smart['message_count'].plot(kind='box')"
   ]
  },
  {
   "cell_type": "code",
   "execution_count": 91,
   "metadata": {},
   "outputs": [
    {
     "data": {
      "text/plain": [
       "'Среднее= 33.51880380607159,Дисперсия= 800.812769556689,Стандартное отклонение= 28.298635471638715 для сообщений тарифа СМАРТ'"
      ]
     },
     "metadata": {},
     "output_type": "display_data"
    }
   ],
   "source": [
    "# считаем среднее, дисперсию и стандартное отклонение для кол-ва сообщений тарифа СМАРТ\n",
    "smart_mean1 = df_omni_smart['message_count'].mean()\n",
    "smart_variance1 = df_omni_smart['message_count'].var()\n",
    "smart_std1 = np.sqrt(smart_variance1)\n",
    "display(f'Среднее= {smart_mean1},Дисперсия= {smart_variance1},Стандартное отклонение= {smart_std1} для сообщений тарифа СМАРТ')"
   ]
  },
  {
   "cell_type": "code",
   "execution_count": 92,
   "metadata": {},
   "outputs": [
    {
     "data": {
      "text/plain": [
       "<matplotlib.axes._subplots.AxesSubplot at 0x1de5c74ae88>"
      ]
     },
     "execution_count": 92,
     "metadata": {},
     "output_type": "execute_result"
    },
    {
     "data": {
      "image/png": "[encoded data removed]",
      "text/plain": [
       "<Figure size 936x360 with 1 Axes>"
      ]
     },
     "metadata": {
      "needs_background": "light"
     },
     "output_type": "display_data"
    }
   ],
   "source": [
    "df_omni_smart['message_count'].plot(kind='hist',grid=True,title='Кол-во сообщений за месяц пользователями СМАРТ',figsize=(13,5),bins=30,range=(0,110))"
   ]
  },
  {
   "cell_type": "markdown",
   "metadata": {},
   "source": [
    "### Значительная часть пользователей не отправляет сообщения"
   ]
  },
  {
   "cell_type": "code",
   "execution_count": 93,
   "metadata": {},
   "outputs": [
    {
     "data": {
      "text/plain": [
       "count    2207.000000\n",
       "mean       16.384232\n",
       "std         5.730585\n",
       "min         0.000000\n",
       "25%        13.000000\n",
       "50%        17.000000\n",
       "75%        20.000000\n",
       "max        38.000000\n",
       "Name: gb_used, dtype: float64"
      ]
     },
     "execution_count": 93,
     "metadata": {},
     "output_type": "execute_result"
    }
   ],
   "source": [
    "df_omni_smart['gb_used'].describe()"
   ]
  },
  {
   "cell_type": "code",
   "execution_count": 94,
   "metadata": {},
   "outputs": [
    {
     "data": {
      "text/plain": [
       "<matplotlib.axes._subplots.AxesSubplot at 0x1de5d55b1c8>"
      ]
     },
     "execution_count": 94,
     "metadata": {},
     "output_type": "execute_result"
    },
    {
     "data": {
      "image/png": "[encoded data removed]",
      "text/plain": [
       "<Figure size 432x288 with 1 Axes>"
      ]
     },
     "metadata": {
      "needs_background": "light"
     },
     "output_type": "display_data"
    }
   ],
   "source": [
    "df_omni_smart['gb_used'].plot(kind='box')"
   ]
  },
  {
   "cell_type": "code",
   "execution_count": 95,
   "metadata": {},
   "outputs": [
    {
     "data": {
      "text/plain": [
       "'Среднее= 16.38423198912551,Дисперсия= 32.83960619819659,Стандартное отклонение= 5.730585153210498 для затраченных гигабайт тарифа СМАРТ'"
      ]
     },
     "metadata": {},
     "output_type": "display_data"
    }
   ],
   "source": [
    "# считаем среднее, дисперсию и стандартное отклонение для использованных GB трафика тарифа СМАРТ\n",
    "smart_mean2 = df_omni_smart['gb_used'].mean()\n",
    "smart_variance2 = df_omni_smart['gb_used'].var()\n",
    "smart_std2 = np.sqrt(smart_variance2)\n",
    "display(f'Среднее= {smart_mean2},Дисперсия= {smart_variance2},Стандартное отклонение= {smart_std2} для затраченных гигабайт тарифа СМАРТ')"
   ]
  },
  {
   "cell_type": "code",
   "execution_count": 96,
   "metadata": {},
   "outputs": [
    {
     "data": {
      "text/plain": [
       "<matplotlib.axes._subplots.AxesSubplot at 0x1de5d643248>"
      ]
     },
     "execution_count": 96,
     "metadata": {},
     "output_type": "execute_result"
    },
    {
     "data": {
      "image/png": "[encoded data removed]",
      "text/plain": [
       "<Figure size 936x360 with 1 Axes>"
      ]
     },
     "metadata": {
      "needs_background": "light"
     },
     "output_type": "display_data"
    }
   ],
   "source": [
    "df_omni_smart['gb_used'].plot(kind='hist',grid=True,title='Кол-во трафика(GB) использованного за месяц пользователями СМАРТ',figsize=(13,5),bins=37)"
   ]
  },
  {
   "cell_type": "markdown",
   "metadata": {},
   "source": [
    "### Похоже на нормальное распределение "
   ]
  },
  {
   "cell_type": "code",
   "execution_count": 97,
   "metadata": {
    "scrolled": true
   },
   "outputs": [
    {
     "data": {
      "image/png": "[encoded data removed]",
      "text/plain": [
       "<Figure size 936x360 with 1 Axes>"
      ]
     },
     "metadata": {
      "needs_background": "light"
     },
     "output_type": "display_data"
    }
   ],
   "source": [
    "df_omni_ultra.query('calls_duration!=0')['calls_duration'].plot(kind='hist',alpha=0.6,density=True,color='c',label='ultra', grid=True,title='Минуты затрачиваемые за месяц пользователями',figsize=(13,5))\n",
    "df_omni_smart.query('calls_duration!=0')['calls_duration'].plot(kind='hist',alpha=0.6,density=True,color='orange',label='smart',grid=True,title='Минуты затрачиваемые за месяц пользователями',figsize=(13,5))\n",
    "plt.pyplot.legend();"
   ]
  },
  {
   "cell_type": "markdown",
   "metadata": {},
   "source": [
    "### Пользователи тарифа Смарт обычно не превышают лимит в 500 минут за месяц, что не скажешь про ползователей Ультра"
   ]
  },
  {
   "cell_type": "code",
   "execution_count": 98,
   "metadata": {
    "scrolled": true
   },
   "outputs": [
    {
     "data": {
      "image/png": "[encoded data removed]",
      "text/plain": [
       "<Figure size 936x360 with 1 Axes>"
      ]
     },
     "metadata": {
      "needs_background": "light"
     },
     "output_type": "display_data"
    }
   ],
   "source": [
    "df_omni_ultra['message_count'].plot(kind='hist',alpha=0.6,density=True,color='c',label='ultra',grid=True,title='Кол-во сообщений за месяц пользователей',figsize=(13,5))\n",
    "df_omni_smart['message_count'].plot(kind='hist',alpha=0.6,density=True,color='orange',label='smart',grid=True,title='Кол-во сообщений за месяц пользователями',figsize=(13,5))\n",
    "plt.pyplot.legend();"
   ]
  },
  {
   "cell_type": "markdown",
   "metadata": {},
   "source": [
    "### В отношении использования сообщений поведение пользователей очень похоже "
   ]
  },
  {
   "cell_type": "code",
   "execution_count": 99,
   "metadata": {
    "scrolled": true
   },
   "outputs": [
    {
     "data": {
      "image/png": "[encoded data removed]",
      "text/plain": [
       "<Figure size 936x360 with 1 Axes>"
      ]
     },
     "metadata": {
      "needs_background": "light"
     },
     "output_type": "display_data"
    }
   ],
   "source": [
    "df_omni_ultra['gb_used'].plot(kind='hist',alpha=0.6,density=True,color='c',label='ultra',grid=True,title='Кол-во гигабайт за месяц пользователей',figsize=(13,5))\n",
    "df_omni_smart['gb_used'].plot(kind='hist',alpha=0.6,density=True,color='orange',label='smart',grid=True,title='Кол-во трафика(GB) использованного за месяц пользователями',figsize=(13,5))\n",
    "plt.pyplot.legend();"
   ]
  },
  {
   "cell_type": "markdown",
   "metadata": {},
   "source": [
    "### Пользователи Смарт в основном тратят от 10 до 25 ГБ в месяц, пользователи тарифа Ультра более вариативны"
   ]
  },
  {
   "cell_type": "markdown",
   "metadata": {},
   "source": [
    " Были построены гистограммы для распределений затрачиваемых минут , гигиабайт интернета и отправляемых сообщений для пользователей тарифов СМАРТ и УЛЬТРА. Также были построены сравнительные гистограммы. По имеющимся данным были посчитаны средние значения, дисперсия и стандартное отклонение:\n",
    "    \n",
    "    * 'Среднее=531.5118434603502,Дисперсия=100403.16970494865,Стандартное отклонение=316.8645920656782 для тарифа затраченных минут УЛЬТРА'\n",
    "    * 'Среднее 49.79299691040165,Дисперсия 2296.1416416278253,Стандартное отклонение 47.918072181879616 для сообщений тарифа УЛЬТРА'\n",
    "    * 'Среднее 19.690010298661175,Дисперсия 95.2986526803062,Стандартное отклонение 9.762102882079567 для использованного интернета тарифа УЛЬТРА'\n",
    "    * 'Среднее= 419.8808337109198,Дисперсия= 36093.35342668448,Стандартное отклонение= 189.98250821242593 для тарифа затраченных минут СМАРТ'\n",
    "    * 'Среднее= 33.51880380607159,Дисперсия= 800.8127695566855,Стандартное отклонение= 28.298635471638654 для сообщений тарифа СМАРТ'\n",
    "    * 'Среднее= 16.38423198912551,Дисперсия= 32.83960619819654,Стандартное отклонение= 5.730585153210494 для затраченных гигабайт тарифа СМАРТ'\n",
    "    \n",
    "    Сравнение показывает, что по всем параметрам средние значения тарифа УЛЬТРА превышают аналогичные показатели тарифа СМАРТ"
   ]
  },
  {
   "cell_type": "markdown",
   "metadata": {},
   "source": [
    "# 4. Проверим гипотезы "
   ]
  },
  {
   "cell_type": "code",
   "execution_count": 100,
   "metadata": {},
   "outputs": [
    {
     "data": {
      "text/plain": [
       "1296.164929768917"
      ]
     },
     "execution_count": 100,
     "metadata": {},
     "output_type": "execute_result"
    }
   ],
   "source": [
    "# считаем среднее для разных тарифов и проводим p-тест для 2ух выборок\n",
    "df_omni_smart['income'].mean()"
   ]
  },
  {
   "cell_type": "code",
   "execution_count": 101,
   "metadata": {},
   "outputs": [
    {
     "data": {
      "text/plain": [
       "2071.8846549948507"
      ]
     },
     "execution_count": 101,
     "metadata": {},
     "output_type": "execute_result"
    }
   ],
   "source": [
    "df_omni_ultra['income'].mean()"
   ]
  },
  {
   "cell_type": "code",
   "execution_count": 102,
   "metadata": {},
   "outputs": [],
   "source": [
    "results = st.ttest_ind(df_omni_ultra['income'], df_omni_smart['income'])"
   ]
  },
  {
   "cell_type": "code",
   "execution_count": 103,
   "metadata": {},
   "outputs": [
    {
     "data": {
      "text/plain": [
       "'pvalue=2.421652003116614e-156 Гипотеза отвергается'"
      ]
     },
     "metadata": {},
     "output_type": "display_data"
    }
   ],
   "source": [
    "if results.pvalue < 0.05:\n",
    "    display(f'pvalue={results.pvalue} Гипотеза отвергается')\n",
    "else:\n",
    "    display(f'pvalue={results.pvalue} Гипотеза не отвергается')"
   ]
  },
  {
   "cell_type": "markdown",
   "metadata": {},
   "source": [
    "Нулевая гипотеза: выборочное среднее по пользователям тарифа СМАРТ равно выборочному среднему тарифа УЛЬТРА. Альтернативная гипотеза: выборочные средние не равны. В результате T-теста мы получили около нулевое значение p-value, соответственно статистически вероятнее будет отвергнуть нулевую гипотезу и предположить, что средние по двум выборкам различаются."
   ]
  },
  {
   "cell_type": "code",
   "execution_count": 104,
   "metadata": {},
   "outputs": [],
   "source": [
    "# применяем функцию подсчета доходности для общей таблицы\n",
    "df_omni['income'] = df_omni.apply(revenue,axis=1)"
   ]
  },
  {
   "cell_type": "code",
   "execution_count": 105,
   "metadata": {},
   "outputs": [],
   "source": [
    "# выделяем пользователей из Москвы\n",
    "moscow = df_omni[df_omni['city'] == 'Москва']"
   ]
  },
  {
   "cell_type": "code",
   "execution_count": 106,
   "metadata": {},
   "outputs": [],
   "source": [
    "# выделяем осстальных пользователей\n",
    "not_moscow = df_omni[df_omni['city'] != 'Москва']"
   ]
  },
  {
   "cell_type": "code",
   "execution_count": 107,
   "metadata": {},
   "outputs": [
    {
     "data": {
      "text/plain": [
       "1554.637873754153"
      ]
     },
     "execution_count": 107,
     "metadata": {},
     "output_type": "execute_result"
    }
   ],
   "source": [
    "# считаем среднее для разных ds,jhjr и проводим p-тест\n",
    "moscow['income'].mean()"
   ]
  },
  {
   "cell_type": "code",
   "execution_count": 108,
   "metadata": {},
   "outputs": [
    {
     "data": {
      "text/plain": [
       "1528.1614906832299"
      ]
     },
     "execution_count": 108,
     "metadata": {},
     "output_type": "execute_result"
    }
   ],
   "source": [
    "not_moscow['income'].mean()"
   ]
  },
  {
   "cell_type": "code",
   "execution_count": 109,
   "metadata": {},
   "outputs": [],
   "source": [
    "results2 = st.ttest_ind(not_moscow['income'], moscow['income'])"
   ]
  },
  {
   "cell_type": "code",
   "execution_count": 110,
   "metadata": {},
   "outputs": [
    {
     "data": {
      "text/plain": [
       "'pvalue=0.4640426222471975 Гипотеза не отвергается'"
      ]
     },
     "metadata": {},
     "output_type": "display_data"
    }
   ],
   "source": [
    "if results2.pvalue < 0.05:\n",
    "    display(f'pvalue={results2.pvalue} Гипотеза отвергается')\n",
    "else:\n",
    "    display(f'pvalue={results2.pvalue} Гипотеза не отвергается')"
   ]
  },
  {
   "cell_type": "code",
   "execution_count": 111,
   "metadata": {},
   "outputs": [
    {
     "data": {
      "text/plain": [
       "0.4640426222471975"
      ]
     },
     "execution_count": 111,
     "metadata": {},
     "output_type": "execute_result"
    }
   ],
   "source": [
    "results2.pvalue"
   ]
  },
  {
   "cell_type": "markdown",
   "metadata": {},
   "source": [
    "Нулевая гипотеза: выборочное среднее по пользователям из Москвы равно выборочному среднему по остальным пользователям. Альтернативная гипотеза: выборочные средние не равны. В результате T-теста мы получили около p-value=0.46, соответственно статистически вероятнее будет предположить, что выборочные средние для пользователей из Москвы и других пользователей соизмеримы"
   ]
  },
  {
   "cell_type": "markdown",
   "metadata": {},
   "source": [
    "# 5.Вывод\n",
    "\n",
    "### Для исследования были предоставлены данные пользователей от оператора сотовой связи. Ознакомившись с предоставленной информацией, проведя предварительную подготовку, по имеющимся данным были посчитаны для 2-ух разных тарифов СМАРТ и УЛЬТРА:\n",
    "    *количество сделанных звонков и израсходованных минут разговора по месяцам;\n",
    "    *количество отправленных сообщений по месяцам;\n",
    "    *объем израсходованного интернет-трафика по месяцам;\n",
    "    *помесячная выручка с каждого пользователя;\n",
    "\n",
    "### По проведеным расчетам было изучено сколько минут разговора, сколько сообщений и какой объём интернет-трафика требуется пользователям каждого тарифа в месяц. Посчитаны среднее количество, дисперсия и стандартное отклонение. Постройны гистограммы.\n",
    "\n",
    "### С помощью T-тестов были проверены гипотезы:\n",
    "    *средняя выручка пользователей тарифов «Ультра» и «Смарт» различаются;\n",
    "    *средняя выручка пользователей из Москвы отличается от выручки пользователей из других регионов.\n",
    "    \n",
    "### Средняя выручка пользователей тарифов СМАРТ и УЛЬТРА действительно различаются\n",
    "### Гипотеза об увеличенной выручке пользователей из Москвы не подтверждается статистически"
   ]
  },
  {
   "cell_type": "markdown",
   "metadata": {},
   "source": [
    "Пользователи тарифа Ультра приносят почти вдвое больше дохода, чем пользователи тарифа Смарт"
   ]
  },
  {
   "cell_type": "markdown",
   "metadata": {},
   "source": [
    "Были построены гистограммы для распределений затрачиваемых минут , гигиабайт интернета и отправляемых сообщений для пользователей тарифов СМАРТ и УЛЬТРА. Также были построены сравнительные гистограммы. По имеющимся данным были посчитаны средние значения, дисперсия и стандартное отклонение:\n",
    "    \n",
    "    * 'Среднее=531.5118434603502,Дисперсия=100403.16970494865,Стандартное отклонение=316.8645920656782 для тарифа затраченных минут УЛЬТРА'\n",
    "    * 'Среднее 49.79299691040165,Дисперсия 2296.1416416278253,Стандартное отклонение 47.918072181879616 для сообщений тарифа УЛЬТРА'\n",
    "    * 'Среднее 19.690010298661175,Дисперсия 95.2986526803062,Стандартное отклонение 9.762102882079567 для использованного интернета тарифа УЛЬТРА'\n",
    "    * 'Среднее= 419.8808337109198,Дисперсия= 36093.35342668448,Стандартное отклонение= 189.98250821242593 для тарифа затраченных минут СМАРТ'\n",
    "    * 'Среднее= 33.51880380607159,Дисперсия= 800.8127695566855,Стандартное отклонение= 28.298635471638654 для сообщений тарифа СМАРТ'\n",
    "    * 'Среднее= 16.38423198912551,Дисперсия= 32.83960619819654,Стандартное отклонение= 5.730585153210494 для затраченных гигабайт тарифа СМАРТ'\n",
    "    \n",
    "    Сравнение показывает, что по всем параметрам средние значения тарифа УЛЬТРА превышают аналогичные показатели тарифа СМАРТ"
   ]
  }
 ],
 "metadata": {
  "ExecuteTimeLog": [
   {
    "duration": 940,
    "start_time": "2022-05-13T18:20:07.352Z"
   },
   {
    "duration": 6772,
    "start_time": "2022-05-13T18:20:08.294Z"
   },
   {
    "duration": 18,
    "start_time": "2022-05-13T18:20:15.068Z"
   },
   {
    "duration": 21,
    "start_time": "2022-05-13T18:20:15.089Z"
   },
   {
    "duration": 9,
    "start_time": "2022-05-13T18:20:15.113Z"
   },
   {
    "duration": 24,
    "start_time": "2022-05-13T18:20:15.124Z"
   },
   {
    "duration": 9,
    "start_time": "2022-05-13T18:20:15.150Z"
   },
   {
    "duration": 19,
    "start_time": "2022-05-13T18:20:15.161Z"
   },
   {
    "duration": 9,
    "start_time": "2022-05-13T18:20:15.182Z"
   },
   {
    "duration": 40,
    "start_time": "2022-05-13T18:20:15.195Z"
   },
   {
    "duration": 12,
    "start_time": "2022-05-13T18:20:15.237Z"
   },
   {
    "duration": 6,
    "start_time": "2022-05-13T18:20:15.251Z"
   },
   {
    "duration": 134,
    "start_time": "2022-05-13T18:20:15.259Z"
   },
   {
    "duration": 9,
    "start_time": "2022-05-13T18:20:15.394Z"
   },
   {
    "duration": 70,
    "start_time": "2022-05-13T18:20:15.405Z"
   },
   {
    "duration": 65,
    "start_time": "2022-05-13T18:20:15.476Z"
   },
   {
    "duration": 7,
    "start_time": "2022-05-13T18:20:15.542Z"
   },
   {
    "duration": 29,
    "start_time": "2022-05-13T18:20:15.551Z"
   },
   {
    "duration": 19,
    "start_time": "2022-05-13T18:20:15.582Z"
   },
   {
    "duration": 40,
    "start_time": "2022-05-13T18:20:15.603Z"
   },
   {
    "duration": 5,
    "start_time": "2022-05-13T18:20:15.645Z"
   },
   {
    "duration": 7,
    "start_time": "2022-05-13T18:20:15.651Z"
   },
   {
    "duration": 32,
    "start_time": "2022-05-13T18:20:15.660Z"
   },
   {
    "duration": 3,
    "start_time": "2022-05-13T18:20:15.694Z"
   },
   {
    "duration": 13,
    "start_time": "2022-05-13T18:20:15.699Z"
   },
   {
    "duration": 30,
    "start_time": "2022-05-13T18:20:15.713Z"
   },
   {
    "duration": 23,
    "start_time": "2022-05-13T18:20:15.745Z"
   },
   {
    "duration": 4,
    "start_time": "2022-05-13T18:20:15.773Z"
   },
   {
    "duration": 14,
    "start_time": "2022-05-13T18:20:15.779Z"
   },
   {
    "duration": 20,
    "start_time": "2022-05-13T18:20:15.795Z"
   },
   {
    "duration": 8,
    "start_time": "2022-05-13T18:20:15.833Z"
   },
   {
    "duration": 11,
    "start_time": "2022-05-13T18:20:15.843Z"
   },
   {
    "duration": 9,
    "start_time": "2022-05-13T18:20:15.856Z"
   },
   {
    "duration": 10,
    "start_time": "2022-05-13T18:20:15.867Z"
   },
   {
    "duration": 28,
    "start_time": "2022-05-13T18:20:15.879Z"
   },
   {
    "duration": 7,
    "start_time": "2022-05-13T18:20:15.934Z"
   },
   {
    "duration": 9,
    "start_time": "2022-05-13T18:20:15.943Z"
   },
   {
    "duration": 8,
    "start_time": "2022-05-13T18:20:15.954Z"
   },
   {
    "duration": 12,
    "start_time": "2022-05-13T18:20:15.963Z"
   },
   {
    "duration": 5,
    "start_time": "2022-05-13T18:20:15.977Z"
   },
   {
    "duration": 7,
    "start_time": "2022-05-13T18:20:15.984Z"
   },
   {
    "duration": 6,
    "start_time": "2022-05-13T18:20:15.993Z"
   },
   {
    "duration": 41,
    "start_time": "2022-05-13T18:20:16.001Z"
   },
   {
    "duration": 11,
    "start_time": "2022-05-13T18:20:16.044Z"
   },
   {
    "duration": 14,
    "start_time": "2022-05-13T18:20:16.057Z"
   },
   {
    "duration": 4,
    "start_time": "2022-05-13T18:20:16.074Z"
   },
   {
    "duration": 13,
    "start_time": "2022-05-13T18:20:16.080Z"
   },
   {
    "duration": 42,
    "start_time": "2022-05-13T18:20:16.096Z"
   },
   {
    "duration": 4,
    "start_time": "2022-05-13T18:20:16.140Z"
   },
   {
    "duration": 7,
    "start_time": "2022-05-13T18:20:16.146Z"
   },
   {
    "duration": 9,
    "start_time": "2022-05-13T18:20:16.154Z"
   },
   {
    "duration": 10,
    "start_time": "2022-05-13T18:20:16.165Z"
   },
   {
    "duration": 13,
    "start_time": "2022-05-13T18:20:16.177Z"
   },
   {
    "duration": 8,
    "start_time": "2022-05-13T18:20:16.192Z"
   },
   {
    "duration": 39,
    "start_time": "2022-05-13T18:20:16.202Z"
   },
   {
    "duration": 6,
    "start_time": "2022-05-13T18:20:16.243Z"
   },
   {
    "duration": 4,
    "start_time": "2022-05-13T18:20:16.251Z"
   },
   {
    "duration": 6,
    "start_time": "2022-05-13T18:20:16.257Z"
   },
   {
    "duration": 31,
    "start_time": "2022-05-13T18:20:16.265Z"
   },
   {
    "duration": 87,
    "start_time": "2022-05-13T18:20:16.298Z"
   },
   {
    "duration": 8,
    "start_time": "2022-05-13T18:20:16.387Z"
   },
   {
    "duration": 699,
    "start_time": "2022-05-13T18:20:16.397Z"
   },
   {
    "duration": 4,
    "start_time": "2022-05-13T18:20:17.098Z"
   },
   {
    "duration": 26,
    "start_time": "2022-05-13T18:20:17.103Z"
   },
   {
    "duration": 27,
    "start_time": "2022-05-13T18:20:17.130Z"
   },
   {
    "duration": 19,
    "start_time": "2022-05-13T18:20:17.159Z"
   },
   {
    "duration": 224,
    "start_time": "2022-05-13T18:20:17.180Z"
   },
   {
    "duration": 10,
    "start_time": "2022-05-13T18:20:17.407Z"
   },
   {
    "duration": 125,
    "start_time": "2022-05-13T18:20:17.419Z"
   },
   {
    "duration": 6,
    "start_time": "2022-05-13T18:20:17.547Z"
   },
   {
    "duration": 198,
    "start_time": "2022-05-13T18:20:17.555Z"
   },
   {
    "duration": 10,
    "start_time": "2022-05-13T18:20:17.755Z"
   },
   {
    "duration": 126,
    "start_time": "2022-05-13T18:20:17.767Z"
   },
   {
    "duration": 6,
    "start_time": "2022-05-13T18:20:17.896Z"
   },
   {
    "duration": 221,
    "start_time": "2022-05-13T18:20:17.904Z"
   },
   {
    "duration": 11,
    "start_time": "2022-05-13T18:20:18.127Z"
   },
   {
    "duration": 138,
    "start_time": "2022-05-13T18:20:18.140Z"
   },
   {
    "duration": 6,
    "start_time": "2022-05-13T18:20:18.281Z"
   },
   {
    "duration": 242,
    "start_time": "2022-05-13T18:20:18.289Z"
   },
   {
    "duration": 10,
    "start_time": "2022-05-13T18:20:18.534Z"
   },
   {
    "duration": 134,
    "start_time": "2022-05-13T18:20:18.546Z"
   },
   {
    "duration": 5,
    "start_time": "2022-05-13T18:20:18.687Z"
   },
   {
    "duration": 296,
    "start_time": "2022-05-13T18:20:18.694Z"
   },
   {
    "duration": 9,
    "start_time": "2022-05-13T18:20:18.992Z"
   },
   {
    "duration": 144,
    "start_time": "2022-05-13T18:20:19.003Z"
   },
   {
    "duration": 6,
    "start_time": "2022-05-13T18:20:19.149Z"
   },
   {
    "duration": 263,
    "start_time": "2022-05-13T18:20:19.157Z"
   },
   {
    "duration": 4,
    "start_time": "2022-05-13T18:20:19.422Z"
   },
   {
    "duration": 30,
    "start_time": "2022-05-13T18:20:19.427Z"
   },
   {
    "duration": 28,
    "start_time": "2022-05-13T18:20:19.459Z"
   },
   {
    "duration": 36,
    "start_time": "2022-05-13T18:20:19.488Z"
   },
   {
    "duration": 100,
    "start_time": "2022-05-13T18:20:19.525Z"
   },
   {
    "duration": 5,
    "start_time": "2022-05-13T18:20:19.627Z"
   },
   {
    "duration": 33,
    "start_time": "2022-05-13T18:20:19.634Z"
   },
   {
    "duration": 21,
    "start_time": "2022-05-13T18:20:19.669Z"
   },
   {
    "duration": 34,
    "start_time": "2022-05-13T18:20:19.692Z"
   },
   {
    "duration": 17,
    "start_time": "2022-05-13T18:20:19.728Z"
   },
   {
    "duration": 37,
    "start_time": "2022-05-13T18:20:19.747Z"
   },
   {
    "duration": 14,
    "start_time": "2022-05-13T18:35:06.393Z"
   },
   {
    "duration": 164,
    "start_time": "2022-05-13T19:18:09.870Z"
   },
   {
    "duration": 310,
    "start_time": "2022-05-13T19:22:23.676Z"
   },
   {
    "duration": 322,
    "start_time": "2022-05-13T19:22:57.784Z"
   },
   {
    "duration": 280,
    "start_time": "2022-05-13T19:23:30.962Z"
   },
   {
    "duration": 5,
    "start_time": "2022-05-13T19:38:03.714Z"
   },
   {
    "duration": 9,
    "start_time": "2022-05-13T19:43:25.922Z"
   },
   {
    "duration": 11,
    "start_time": "2022-05-13T19:44:21.323Z"
   },
   {
    "duration": 10,
    "start_time": "2022-05-13T19:44:52.598Z"
   },
   {
    "duration": 12,
    "start_time": "2022-05-13T19:45:07.341Z"
   },
   {
    "duration": 131,
    "start_time": "2022-05-13T19:55:27.787Z"
   },
   {
    "duration": 2801,
    "start_time": "2022-05-13T19:55:36.790Z"
   },
   {
    "duration": 121,
    "start_time": "2022-05-13T19:56:17.476Z"
   },
   {
    "duration": 206,
    "start_time": "2022-05-13T19:56:53.695Z"
   },
   {
    "duration": 39,
    "start_time": "2022-05-13T19:57:05.531Z"
   },
   {
    "duration": 30,
    "start_time": "2022-05-13T19:59:05.314Z"
   },
   {
    "duration": 110,
    "start_time": "2022-05-13T19:59:08.057Z"
   },
   {
    "duration": 48,
    "start_time": "2022-05-13T19:59:25.018Z"
   },
   {
    "duration": 44,
    "start_time": "2022-05-13T20:00:53.945Z"
   },
   {
    "duration": 108,
    "start_time": "2022-05-13T20:00:56.988Z"
   },
   {
    "duration": 94,
    "start_time": "2022-05-13T20:02:55.540Z"
   },
   {
    "duration": 4,
    "start_time": "2022-05-13T20:04:15.950Z"
   },
   {
    "duration": 4,
    "start_time": "2022-05-13T20:04:25.385Z"
   },
   {
    "duration": 10,
    "start_time": "2022-05-13T20:04:31.061Z"
   },
   {
    "duration": 10,
    "start_time": "2022-05-13T20:07:41.298Z"
   },
   {
    "duration": 9,
    "start_time": "2022-05-13T20:07:55.121Z"
   },
   {
    "duration": 13,
    "start_time": "2022-05-13T20:08:18.439Z"
   },
   {
    "duration": 9,
    "start_time": "2022-05-13T20:08:39.997Z"
   },
   {
    "duration": 10,
    "start_time": "2022-05-13T20:09:01.715Z"
   },
   {
    "duration": 6,
    "start_time": "2022-05-13T20:11:47.389Z"
   },
   {
    "duration": 11,
    "start_time": "2022-05-13T20:15:26.699Z"
   },
   {
    "duration": 5,
    "start_time": "2022-05-13T20:16:17.940Z"
   },
   {
    "duration": 10,
    "start_time": "2022-05-13T20:16:30.613Z"
   },
   {
    "duration": 10,
    "start_time": "2022-05-13T20:17:19.773Z"
   },
   {
    "duration": 9,
    "start_time": "2022-05-13T20:17:52.378Z"
   },
   {
    "duration": 3,
    "start_time": "2022-05-13T20:26:45.525Z"
   },
   {
    "duration": 9,
    "start_time": "2022-05-13T20:26:56.379Z"
   },
   {
    "duration": 26,
    "start_time": "2022-05-13T20:30:04.815Z"
   },
   {
    "duration": 10,
    "start_time": "2022-05-13T20:30:30.419Z"
   },
   {
    "duration": 1257,
    "start_time": "2022-05-14T07:44:35.077Z"
   },
   {
    "duration": 680,
    "start_time": "2022-05-14T07:44:36.337Z"
   },
   {
    "duration": 24,
    "start_time": "2022-05-14T07:44:37.613Z"
   },
   {
    "duration": 27,
    "start_time": "2022-05-14T07:44:37.886Z"
   },
   {
    "duration": 13,
    "start_time": "2022-05-14T07:44:38.140Z"
   },
   {
    "duration": 24,
    "start_time": "2022-05-14T07:44:38.456Z"
   },
   {
    "duration": 12,
    "start_time": "2022-05-14T07:44:39.039Z"
   },
   {
    "duration": 21,
    "start_time": "2022-05-14T07:44:39.605Z"
   },
   {
    "duration": 12,
    "start_time": "2022-05-14T07:44:39.924Z"
   },
   {
    "duration": 15,
    "start_time": "2022-05-14T07:44:40.183Z"
   },
   {
    "duration": 16,
    "start_time": "2022-05-14T07:44:40.565Z"
   },
   {
    "duration": 6,
    "start_time": "2022-05-14T07:44:42.626Z"
   },
   {
    "duration": 136,
    "start_time": "2022-05-14T07:44:43.956Z"
   },
   {
    "duration": 12,
    "start_time": "2022-05-14T07:44:44.714Z"
   },
   {
    "duration": 78,
    "start_time": "2022-05-14T07:44:45.731Z"
   },
   {
    "duration": 73,
    "start_time": "2022-05-14T07:44:46.638Z"
   },
   {
    "duration": 9,
    "start_time": "2022-05-14T07:44:47.132Z"
   },
   {
    "duration": 40,
    "start_time": "2022-05-14T07:44:47.713Z"
   },
   {
    "duration": 33,
    "start_time": "2022-05-14T07:44:48.540Z"
   },
   {
    "duration": 21,
    "start_time": "2022-05-14T07:44:48.924Z"
   },
   {
    "duration": 5,
    "start_time": "2022-05-14T07:44:49.197Z"
   },
   {
    "duration": 6,
    "start_time": "2022-05-14T07:44:49.448Z"
   },
   {
    "duration": 35,
    "start_time": "2022-05-14T07:44:52.321Z"
   },
   {
    "duration": 6,
    "start_time": "2022-05-14T07:44:53.034Z"
   },
   {
    "duration": 10,
    "start_time": "2022-05-14T07:44:54.337Z"
   },
   {
    "duration": 16,
    "start_time": "2022-05-14T07:44:55.701Z"
   },
   {
    "duration": 26,
    "start_time": "2022-05-14T07:44:56.606Z"
   },
   {
    "duration": 4,
    "start_time": "2022-05-14T07:45:00.821Z"
   },
   {
    "duration": 10,
    "start_time": "2022-05-14T07:45:01.372Z"
   },
   {
    "duration": 15,
    "start_time": "2022-05-14T07:45:02.422Z"
   },
   {
    "duration": 14,
    "start_time": "2022-05-14T07:45:58.377Z"
   },
   {
    "duration": 10,
    "start_time": "2022-05-14T07:46:21.848Z"
   },
   {
    "duration": 13,
    "start_time": "2022-05-14T07:46:32.012Z"
   },
   {
    "duration": 23,
    "start_time": "2022-05-14T07:46:33.475Z"
   },
   {
    "duration": 13,
    "start_time": "2022-05-14T07:47:00.755Z"
   },
   {
    "duration": 9,
    "start_time": "2022-05-14T07:47:06.669Z"
   },
   {
    "duration": 16,
    "start_time": "2022-05-14T07:47:07.800Z"
   },
   {
    "duration": 4,
    "start_time": "2022-05-14T07:47:11.650Z"
   },
   {
    "duration": 5,
    "start_time": "2022-05-14T07:47:20.314Z"
   },
   {
    "duration": 17,
    "start_time": "2022-05-14T07:47:24.409Z"
   },
   {
    "duration": 17,
    "start_time": "2022-05-14T07:47:34.989Z"
   },
   {
    "duration": 21,
    "start_time": "2022-05-14T07:47:36.600Z"
   },
   {
    "duration": 6,
    "start_time": "2022-05-14T07:47:42.344Z"
   },
   {
    "duration": 16,
    "start_time": "2022-05-14T07:47:42.861Z"
   },
   {
    "duration": 14,
    "start_time": "2022-05-14T07:47:49.575Z"
   },
   {
    "duration": 6,
    "start_time": "2022-05-14T07:47:51.892Z"
   },
   {
    "duration": 5,
    "start_time": "2022-05-14T07:47:52.365Z"
   },
   {
    "duration": 5,
    "start_time": "2022-05-14T07:47:56.747Z"
   },
   {
    "duration": 5,
    "start_time": "2022-05-14T07:47:57.241Z"
   },
   {
    "duration": 6,
    "start_time": "2022-05-14T07:47:57.633Z"
   },
   {
    "duration": 6,
    "start_time": "2022-05-14T07:47:58.181Z"
   },
   {
    "duration": 34,
    "start_time": "2022-05-14T07:48:00.990Z"
   },
   {
    "duration": 23,
    "start_time": "2022-05-14T07:48:14.712Z"
   },
   {
    "duration": 8,
    "start_time": "2022-05-14T07:48:20.662Z"
   },
   {
    "duration": 8,
    "start_time": "2022-05-14T07:48:23.018Z"
   },
   {
    "duration": 6,
    "start_time": "2022-05-14T07:48:24.970Z"
   },
   {
    "duration": 41,
    "start_time": "2022-05-14T07:48:27.258Z"
   },
   {
    "duration": 83,
    "start_time": "2022-05-14T07:48:28.704Z"
   },
   {
    "duration": 6,
    "start_time": "2022-05-14T07:48:41.925Z"
   },
   {
    "duration": 6,
    "start_time": "2022-05-14T07:48:43.232Z"
   },
   {
    "duration": 4,
    "start_time": "2022-05-14T07:48:47.369Z"
   },
   {
    "duration": 6,
    "start_time": "2022-05-14T07:48:48.184Z"
   },
   {
    "duration": 13,
    "start_time": "2022-05-14T07:48:55.944Z"
   },
   {
    "duration": 12,
    "start_time": "2022-05-14T07:49:05.665Z"
   },
   {
    "duration": 928,
    "start_time": "2022-05-14T07:49:11.033Z"
   },
   {
    "duration": 6,
    "start_time": "2022-05-14T07:49:14.627Z"
   },
   {
    "duration": 5,
    "start_time": "2022-05-14T07:49:15.271Z"
   },
   {
    "duration": 4,
    "start_time": "2022-05-14T07:49:15.798Z"
   },
   {
    "duration": 6,
    "start_time": "2022-05-14T07:49:18.587Z"
   },
   {
    "duration": 325,
    "start_time": "2022-05-14T07:49:28.058Z"
   },
   {
    "duration": 15,
    "start_time": "2022-05-14T07:49:33.370Z"
   },
   {
    "duration": 13,
    "start_time": "2022-05-14T07:51:24.868Z"
   },
   {
    "duration": 8,
    "start_time": "2022-05-14T07:53:35.319Z"
   },
   {
    "duration": 6,
    "start_time": "2022-05-14T07:54:14.715Z"
   },
   {
    "duration": 8,
    "start_time": "2022-05-14T07:54:15.448Z"
   },
   {
    "duration": 31,
    "start_time": "2022-05-14T07:59:49.951Z"
   },
   {
    "duration": 40,
    "start_time": "2022-05-14T08:00:17.369Z"
   },
   {
    "duration": 6,
    "start_time": "2022-05-14T08:00:22.933Z"
   },
   {
    "duration": 6,
    "start_time": "2022-05-14T08:00:23.387Z"
   },
   {
    "duration": 8,
    "start_time": "2022-05-14T08:00:24.239Z"
   },
   {
    "duration": 39,
    "start_time": "2022-05-14T08:00:25.503Z"
   },
   {
    "duration": 81,
    "start_time": "2022-05-14T08:00:26.442Z"
   },
   {
    "duration": 12,
    "start_time": "2022-05-14T08:00:29.761Z"
   },
   {
    "duration": 79,
    "start_time": "2022-05-14T08:01:36.835Z"
   },
   {
    "duration": 9,
    "start_time": "2022-05-14T08:01:42.171Z"
   },
   {
    "duration": 1928,
    "start_time": "2022-05-14T08:03:36.672Z"
   },
   {
    "duration": 113,
    "start_time": "2022-05-14T08:04:40.563Z"
   },
   {
    "duration": 1653,
    "start_time": "2022-05-14T08:04:43.993Z"
   },
   {
    "duration": 106,
    "start_time": "2022-05-14T08:05:20.107Z"
   },
   {
    "duration": 1536,
    "start_time": "2022-05-14T08:05:23.885Z"
   },
   {
    "duration": 9,
    "start_time": "2022-05-14T08:05:39.229Z"
   },
   {
    "duration": 1649,
    "start_time": "2022-05-14T08:05:43.150Z"
   },
   {
    "duration": 47,
    "start_time": "2022-05-14T08:06:05.517Z"
   },
   {
    "duration": 8,
    "start_time": "2022-05-14T08:06:44.989Z"
   },
   {
    "duration": 1634,
    "start_time": "2022-05-14T08:06:48.897Z"
   },
   {
    "duration": 52,
    "start_time": "2022-05-14T08:07:39.316Z"
   },
   {
    "duration": 47,
    "start_time": "2022-05-14T08:08:50.177Z"
   },
   {
    "duration": 9,
    "start_time": "2022-05-14T08:08:51.957Z"
   },
   {
    "duration": 4490,
    "start_time": "2022-05-14T08:08:56.119Z"
   },
   {
    "duration": 3192,
    "start_time": "2022-05-14T08:09:25.361Z"
   },
   {
    "duration": 3088,
    "start_time": "2022-05-14T08:10:31.355Z"
   },
   {
    "duration": 6,
    "start_time": "2022-05-14T08:10:45.954Z"
   },
   {
    "duration": 11717,
    "start_time": "2022-05-14T08:11:58.452Z"
   },
   {
    "duration": 6,
    "start_time": "2022-05-14T08:12:26.360Z"
   },
   {
    "duration": 5,
    "start_time": "2022-05-14T08:12:42.152Z"
   },
   {
    "duration": 7,
    "start_time": "2022-05-14T08:12:42.810Z"
   },
   {
    "duration": 4,
    "start_time": "2022-05-14T08:13:59.500Z"
   },
   {
    "duration": 694,
    "start_time": "2022-05-14T08:14:00.300Z"
   },
   {
    "duration": 1263,
    "start_time": "2022-05-14T08:14:05.001Z"
   },
   {
    "duration": 800,
    "start_time": "2022-05-14T08:14:06.267Z"
   },
   {
    "duration": 26,
    "start_time": "2022-05-14T08:14:07.070Z"
   },
   {
    "duration": 38,
    "start_time": "2022-05-14T08:14:08.157Z"
   },
   {
    "duration": 25,
    "start_time": "2022-05-14T08:14:10.355Z"
   },
   {
    "duration": 25,
    "start_time": "2022-05-14T08:14:12.710Z"
   },
   {
    "duration": 10,
    "start_time": "2022-05-14T08:14:13.239Z"
   },
   {
    "duration": 23,
    "start_time": "2022-05-14T08:14:15.091Z"
   },
   {
    "duration": 13,
    "start_time": "2022-05-14T08:14:16.376Z"
   },
   {
    "duration": 16,
    "start_time": "2022-05-14T08:14:16.949Z"
   },
   {
    "duration": 18,
    "start_time": "2022-05-14T08:14:18.525Z"
   },
   {
    "duration": 8,
    "start_time": "2022-05-14T08:14:23.727Z"
   },
   {
    "duration": 157,
    "start_time": "2022-05-14T08:14:32.422Z"
   },
   {
    "duration": 11,
    "start_time": "2022-05-14T08:14:33.134Z"
   },
   {
    "duration": 83,
    "start_time": "2022-05-14T08:14:33.391Z"
   },
   {
    "duration": 78,
    "start_time": "2022-05-14T08:14:33.909Z"
   },
   {
    "duration": 9,
    "start_time": "2022-05-14T08:14:34.091Z"
   },
   {
    "duration": 32,
    "start_time": "2022-05-14T08:14:34.439Z"
   },
   {
    "duration": 29,
    "start_time": "2022-05-14T08:14:35.169Z"
   },
   {
    "duration": 21,
    "start_time": "2022-05-14T08:14:35.387Z"
   },
   {
    "duration": 6,
    "start_time": "2022-05-14T08:14:35.572Z"
   },
   {
    "duration": 6,
    "start_time": "2022-05-14T08:14:35.746Z"
   },
   {
    "duration": 33,
    "start_time": "2022-05-14T08:14:44.662Z"
   },
   {
    "duration": 5,
    "start_time": "2022-05-14T08:14:45.142Z"
   },
   {
    "duration": 10,
    "start_time": "2022-05-14T08:14:45.637Z"
   },
   {
    "duration": 15,
    "start_time": "2022-05-14T08:14:47.805Z"
   },
   {
    "duration": 24,
    "start_time": "2022-05-14T08:14:48.271Z"
   },
   {
    "duration": 4,
    "start_time": "2022-05-14T08:14:53.188Z"
   },
   {
    "duration": 11,
    "start_time": "2022-05-14T08:14:53.926Z"
   },
   {
    "duration": 22,
    "start_time": "2022-05-14T08:14:56.099Z"
   },
   {
    "duration": 12,
    "start_time": "2022-05-14T08:15:01.073Z"
   },
   {
    "duration": 20,
    "start_time": "2022-05-14T08:15:10.575Z"
   },
   {
    "duration": 17,
    "start_time": "2022-05-14T08:15:15.067Z"
   },
   {
    "duration": 16,
    "start_time": "2022-05-14T08:15:15.564Z"
   },
   {
    "duration": 23,
    "start_time": "2022-05-14T08:15:16.174Z"
   },
   {
    "duration": 13,
    "start_time": "2022-05-14T08:16:14.744Z"
   },
   {
    "duration": 15,
    "start_time": "2022-05-14T08:16:18.052Z"
   },
   {
    "duration": 9,
    "start_time": "2022-05-14T08:16:21.392Z"
   },
   {
    "duration": 15,
    "start_time": "2022-05-14T08:16:23.099Z"
   },
   {
    "duration": 5,
    "start_time": "2022-05-14T08:16:26.098Z"
   },
   {
    "duration": 6,
    "start_time": "2022-05-14T08:16:30.180Z"
   },
   {
    "duration": 4,
    "start_time": "2022-05-14T08:16:40.820Z"
   },
   {
    "duration": 18,
    "start_time": "2022-05-14T08:16:41.293Z"
   },
   {
    "duration": 15,
    "start_time": "2022-05-14T08:16:55.349Z"
   },
   {
    "duration": 24,
    "start_time": "2022-05-14T08:17:06.763Z"
   },
   {
    "duration": 7,
    "start_time": "2022-05-14T08:17:37.849Z"
   },
   {
    "duration": 1797,
    "start_time": "2022-05-14T08:19:16.592Z"
   },
   {
    "duration": 8,
    "start_time": "2022-05-14T08:19:29.338Z"
   },
   {
    "duration": 7,
    "start_time": "2022-05-14T08:20:18.716Z"
   },
   {
    "duration": 6,
    "start_time": "2022-05-14T08:20:41.265Z"
   },
   {
    "duration": 5,
    "start_time": "2022-05-14T08:20:59.437Z"
   },
   {
    "duration": 15,
    "start_time": "2022-05-14T08:21:00.212Z"
   },
   {
    "duration": 11,
    "start_time": "2022-05-14T08:21:01.588Z"
   },
   {
    "duration": 5,
    "start_time": "2022-05-14T08:21:02.263Z"
   },
   {
    "duration": 4,
    "start_time": "2022-05-14T08:21:03.881Z"
   },
   {
    "duration": 4,
    "start_time": "2022-05-14T08:21:07.249Z"
   },
   {
    "duration": 7,
    "start_time": "2022-05-14T08:21:07.952Z"
   },
   {
    "duration": 6,
    "start_time": "2022-05-14T08:21:08.400Z"
   },
   {
    "duration": 10,
    "start_time": "2022-05-14T08:21:08.764Z"
   },
   {
    "duration": 40,
    "start_time": "2022-05-14T08:21:12.013Z"
   },
   {
    "duration": 7,
    "start_time": "2022-05-14T08:21:14.893Z"
   },
   {
    "duration": 7,
    "start_time": "2022-05-14T08:21:17.021Z"
   },
   {
    "duration": 6,
    "start_time": "2022-05-14T08:25:01.583Z"
   },
   {
    "duration": 43,
    "start_time": "2022-05-14T08:25:04.414Z"
   },
   {
    "duration": 83,
    "start_time": "2022-05-14T08:25:05.771Z"
   },
   {
    "duration": 16,
    "start_time": "2022-05-14T08:25:09.083Z"
   },
   {
    "duration": 7,
    "start_time": "2022-05-14T08:26:51.877Z"
   },
   {
    "duration": 7,
    "start_time": "2022-05-14T08:27:03.078Z"
   },
   {
    "duration": 5,
    "start_time": "2022-05-14T08:27:05.759Z"
   },
   {
    "duration": 6,
    "start_time": "2022-05-14T08:27:06.215Z"
   },
   {
    "duration": 1191,
    "start_time": "2022-05-14T08:29:41.305Z"
   },
   {
    "duration": 683,
    "start_time": "2022-05-14T08:29:42.499Z"
   },
   {
    "duration": 24,
    "start_time": "2022-05-14T08:29:43.185Z"
   },
   {
    "duration": 39,
    "start_time": "2022-05-14T08:29:43.211Z"
   },
   {
    "duration": 13,
    "start_time": "2022-05-14T08:29:43.252Z"
   },
   {
    "duration": 25,
    "start_time": "2022-05-14T08:29:43.267Z"
   },
   {
    "duration": 33,
    "start_time": "2022-05-14T08:29:43.294Z"
   },
   {
    "duration": 30,
    "start_time": "2022-05-14T08:29:43.329Z"
   },
   {
    "duration": 14,
    "start_time": "2022-05-14T08:29:43.361Z"
   },
   {
    "duration": 49,
    "start_time": "2022-05-14T08:29:43.381Z"
   },
   {
    "duration": 24,
    "start_time": "2022-05-14T08:29:43.434Z"
   },
   {
    "duration": 11,
    "start_time": "2022-05-14T08:29:43.461Z"
   },
   {
    "duration": 205,
    "start_time": "2022-05-14T08:29:43.474Z"
   },
   {
    "duration": 11,
    "start_time": "2022-05-14T08:29:43.681Z"
   },
   {
    "duration": 105,
    "start_time": "2022-05-14T08:29:43.694Z"
   },
   {
    "duration": 89,
    "start_time": "2022-05-14T08:29:43.802Z"
   },
   {
    "duration": 11,
    "start_time": "2022-05-14T08:29:43.894Z"
   },
   {
    "duration": 33,
    "start_time": "2022-05-14T08:29:43.925Z"
   },
   {
    "duration": 28,
    "start_time": "2022-05-14T08:29:43.961Z"
   },
   {
    "duration": 55,
    "start_time": "2022-05-14T08:29:43.991Z"
   },
   {
    "duration": 5,
    "start_time": "2022-05-14T08:29:44.048Z"
   },
   {
    "duration": 10,
    "start_time": "2022-05-14T08:29:44.055Z"
   },
   {
    "duration": 58,
    "start_time": "2022-05-14T08:29:44.067Z"
   },
   {
    "duration": 4,
    "start_time": "2022-05-14T08:29:44.128Z"
   },
   {
    "duration": 14,
    "start_time": "2022-05-14T08:29:44.135Z"
   },
   {
    "duration": 22,
    "start_time": "2022-05-14T08:29:44.152Z"
   },
   {
    "duration": 68,
    "start_time": "2022-05-14T08:29:44.178Z"
   },
   {
    "duration": 4,
    "start_time": "2022-05-14T08:29:44.255Z"
   },
   {
    "duration": 12,
    "start_time": "2022-05-14T08:29:44.263Z"
   },
   {
    "duration": 17,
    "start_time": "2022-05-14T08:29:44.278Z"
   },
   {
    "duration": 37,
    "start_time": "2022-05-14T08:29:44.298Z"
   },
   {
    "duration": 14,
    "start_time": "2022-05-14T08:29:44.338Z"
   },
   {
    "duration": 41,
    "start_time": "2022-05-14T08:29:44.355Z"
   },
   {
    "duration": 28,
    "start_time": "2022-05-14T08:29:44.398Z"
   },
   {
    "duration": 19,
    "start_time": "2022-05-14T08:29:44.430Z"
   },
   {
    "duration": 42,
    "start_time": "2022-05-14T08:29:44.451Z"
   },
   {
    "duration": 11,
    "start_time": "2022-05-14T08:29:44.495Z"
   },
   {
    "duration": 26,
    "start_time": "2022-05-14T08:29:44.508Z"
   },
   {
    "duration": 16,
    "start_time": "2022-05-14T08:29:44.536Z"
   },
   {
    "duration": 10,
    "start_time": "2022-05-14T08:29:44.555Z"
   },
   {
    "duration": 57,
    "start_time": "2022-05-14T08:29:44.568Z"
   },
   {
    "duration": 7,
    "start_time": "2022-05-14T08:29:44.629Z"
   },
   {
    "duration": 16,
    "start_time": "2022-05-14T08:29:44.638Z"
   },
   {
    "duration": 7,
    "start_time": "2022-05-14T08:29:44.657Z"
   },
   {
    "duration": 20,
    "start_time": "2022-05-14T08:29:44.667Z"
   },
   {
    "duration": 43,
    "start_time": "2022-05-14T08:29:44.690Z"
   },
   {
    "duration": 20,
    "start_time": "2022-05-14T08:29:44.736Z"
   },
   {
    "duration": 6,
    "start_time": "2022-05-14T08:29:44.760Z"
   },
   {
    "duration": 19,
    "start_time": "2022-05-14T08:29:44.768Z"
   },
   {
    "duration": 45,
    "start_time": "2022-05-14T08:29:44.789Z"
   },
   {
    "duration": 5,
    "start_time": "2022-05-14T08:29:44.839Z"
   },
   {
    "duration": 12,
    "start_time": "2022-05-14T08:29:44.846Z"
   },
   {
    "duration": 10,
    "start_time": "2022-05-14T08:29:44.860Z"
   },
   {
    "duration": 9,
    "start_time": "2022-05-14T08:29:44.872Z"
   },
   {
    "duration": 8,
    "start_time": "2022-05-14T08:29:44.883Z"
   },
   {
    "duration": 40,
    "start_time": "2022-05-14T08:29:44.893Z"
   },
   {
    "duration": 47,
    "start_time": "2022-05-14T08:29:44.936Z"
   },
   {
    "duration": 8,
    "start_time": "2022-05-14T08:29:44.986Z"
   },
   {
    "duration": 19,
    "start_time": "2022-05-14T08:29:44.996Z"
   },
   {
    "duration": 24,
    "start_time": "2022-05-14T08:29:45.017Z"
   },
   {
    "duration": 60,
    "start_time": "2022-05-14T08:29:45.044Z"
   },
   {
    "duration": 89,
    "start_time": "2022-05-14T08:29:45.106Z"
   },
   {
    "duration": 28,
    "start_time": "2022-05-14T08:29:45.197Z"
   },
   {
    "duration": 595,
    "start_time": "2022-05-14T08:29:45.229Z"
   },
   {
    "duration": 5,
    "start_time": "2022-05-14T08:29:45.828Z"
   },
   {
    "duration": 12,
    "start_time": "2022-05-14T08:29:45.837Z"
   },
   {
    "duration": 5,
    "start_time": "2022-05-14T08:29:45.851Z"
   },
   {
    "duration": 12,
    "start_time": "2022-05-14T08:29:45.858Z"
   },
   {
    "duration": 377,
    "start_time": "2022-05-14T08:29:45.872Z"
   },
   {
    "duration": 12,
    "start_time": "2022-05-14T08:29:46.251Z"
   },
   {
    "duration": 182,
    "start_time": "2022-05-14T08:29:46.265Z"
   },
   {
    "duration": 8,
    "start_time": "2022-05-14T08:29:46.450Z"
   },
   {
    "duration": 317,
    "start_time": "2022-05-14T08:29:46.461Z"
   },
   {
    "duration": 11,
    "start_time": "2022-05-14T08:29:46.780Z"
   },
   {
    "duration": 196,
    "start_time": "2022-05-14T08:29:46.793Z"
   },
   {
    "duration": 8,
    "start_time": "2022-05-14T08:29:46.991Z"
   },
   {
    "duration": 354,
    "start_time": "2022-05-14T08:29:47.001Z"
   },
   {
    "duration": 14,
    "start_time": "2022-05-14T08:29:47.358Z"
   },
   {
    "duration": 213,
    "start_time": "2022-05-14T08:29:47.376Z"
   },
   {
    "duration": 8,
    "start_time": "2022-05-14T08:29:47.592Z"
   },
   {
    "duration": 354,
    "start_time": "2022-05-14T08:29:47.602Z"
   },
   {
    "duration": 15,
    "start_time": "2022-05-14T08:29:47.965Z"
   },
   {
    "duration": 206,
    "start_time": "2022-05-14T08:29:47.983Z"
   },
   {
    "duration": 7,
    "start_time": "2022-05-14T08:29:48.191Z"
   },
   {
    "duration": 441,
    "start_time": "2022-05-14T08:29:48.201Z"
   },
   {
    "duration": 11,
    "start_time": "2022-05-14T08:29:48.644Z"
   },
   {
    "duration": 201,
    "start_time": "2022-05-14T08:29:48.658Z"
   },
   {
    "duration": 7,
    "start_time": "2022-05-14T08:29:48.861Z"
   },
   {
    "duration": 377,
    "start_time": "2022-05-14T08:29:48.870Z"
   },
   {
    "duration": 7,
    "start_time": "2022-05-14T08:29:49.249Z"
   },
   {
    "duration": 12,
    "start_time": "2022-05-14T08:29:49.258Z"
   },
   {
    "duration": 12,
    "start_time": "2022-05-14T08:29:49.272Z"
   },
   {
    "duration": 10,
    "start_time": "2022-05-14T08:29:49.286Z"
   },
   {
    "duration": 158,
    "start_time": "2022-05-14T08:29:49.298Z"
   },
   {
    "duration": 7,
    "start_time": "2022-05-14T08:29:49.458Z"
   },
   {
    "duration": 9,
    "start_time": "2022-05-14T08:29:49.467Z"
   },
   {
    "duration": 9,
    "start_time": "2022-05-14T08:29:49.478Z"
   },
   {
    "duration": 36,
    "start_time": "2022-05-14T08:29:49.489Z"
   },
   {
    "duration": 7,
    "start_time": "2022-05-14T08:29:49.528Z"
   },
   {
    "duration": 16,
    "start_time": "2022-05-14T08:29:49.539Z"
   },
   {
    "duration": 102,
    "start_time": "2022-05-14T08:29:49.558Z"
   },
   {
    "duration": 7,
    "start_time": "2022-05-14T08:34:24.004Z"
   },
   {
    "duration": 12,
    "start_time": "2022-05-14T08:34:39.037Z"
   },
   {
    "duration": 17,
    "start_time": "2022-05-14T08:34:46.102Z"
   },
   {
    "duration": 24,
    "start_time": "2022-05-14T08:34:47.421Z"
   },
   {
    "duration": 4,
    "start_time": "2022-05-14T08:34:47.632Z"
   },
   {
    "duration": 10,
    "start_time": "2022-05-14T08:34:47.840Z"
   },
   {
    "duration": 17,
    "start_time": "2022-05-14T08:34:48.034Z"
   },
   {
    "duration": 9,
    "start_time": "2022-05-14T08:34:48.337Z"
   },
   {
    "duration": 11,
    "start_time": "2022-05-14T08:34:48.564Z"
   },
   {
    "duration": 15,
    "start_time": "2022-05-14T08:34:49.768Z"
   },
   {
    "duration": 13,
    "start_time": "2022-05-14T08:34:50.212Z"
   },
   {
    "duration": 26,
    "start_time": "2022-05-14T08:34:50.695Z"
   },
   {
    "duration": 11,
    "start_time": "2022-05-14T08:34:50.938Z"
   },
   {
    "duration": 12,
    "start_time": "2022-05-14T08:34:51.193Z"
   },
   {
    "duration": 12,
    "start_time": "2022-05-14T08:34:51.711Z"
   },
   {
    "duration": 15,
    "start_time": "2022-05-14T08:34:52.096Z"
   },
   {
    "duration": 5,
    "start_time": "2022-05-14T08:34:52.383Z"
   },
   {
    "duration": 16,
    "start_time": "2022-05-14T08:34:52.627Z"
   },
   {
    "duration": 5,
    "start_time": "2022-05-14T08:34:52.965Z"
   },
   {
    "duration": 8,
    "start_time": "2022-05-14T08:34:53.266Z"
   },
   {
    "duration": 4,
    "start_time": "2022-05-14T08:34:53.551Z"
   },
   {
    "duration": 19,
    "start_time": "2022-05-14T08:34:53.820Z"
   },
   {
    "duration": 14,
    "start_time": "2022-05-14T08:34:54.462Z"
   },
   {
    "duration": 21,
    "start_time": "2022-05-14T08:34:55.968Z"
   },
   {
    "duration": 5,
    "start_time": "2022-05-14T08:34:59.688Z"
   },
   {
    "duration": 15,
    "start_time": "2022-05-14T08:35:00.168Z"
   },
   {
    "duration": 13,
    "start_time": "2022-05-14T08:35:00.781Z"
   },
   {
    "duration": 8,
    "start_time": "2022-05-14T08:35:01.366Z"
   },
   {
    "duration": 4,
    "start_time": "2022-05-14T08:35:01.991Z"
   },
   {
    "duration": 6,
    "start_time": "2022-05-14T08:35:05.304Z"
   },
   {
    "duration": 7,
    "start_time": "2022-05-14T08:35:05.788Z"
   },
   {
    "duration": 9,
    "start_time": "2022-05-14T08:35:06.150Z"
   },
   {
    "duration": 6,
    "start_time": "2022-05-14T08:35:06.598Z"
   },
   {
    "duration": 35,
    "start_time": "2022-05-14T08:35:23.344Z"
   },
   {
    "duration": 8,
    "start_time": "2022-05-14T08:35:26.953Z"
   },
   {
    "duration": 7,
    "start_time": "2022-05-14T08:35:27.424Z"
   },
   {
    "duration": 9,
    "start_time": "2022-05-14T08:35:28.325Z"
   },
   {
    "duration": 45,
    "start_time": "2022-05-14T08:35:31.159Z"
   },
   {
    "duration": 95,
    "start_time": "2022-05-14T08:35:31.743Z"
   },
   {
    "duration": 12,
    "start_time": "2022-05-14T08:35:34.885Z"
   },
   {
    "duration": 1250,
    "start_time": "2022-05-14T08:37:32.142Z"
   },
   {
    "duration": 712,
    "start_time": "2022-05-14T08:37:33.395Z"
   },
   {
    "duration": 31,
    "start_time": "2022-05-14T08:37:34.110Z"
   },
   {
    "duration": 35,
    "start_time": "2022-05-14T08:37:34.146Z"
   },
   {
    "duration": 14,
    "start_time": "2022-05-14T08:37:34.184Z"
   },
   {
    "duration": 68,
    "start_time": "2022-05-14T08:37:34.226Z"
   },
   {
    "duration": 14,
    "start_time": "2022-05-14T08:37:34.298Z"
   },
   {
    "duration": 35,
    "start_time": "2022-05-14T08:37:34.315Z"
   },
   {
    "duration": 20,
    "start_time": "2022-05-14T08:37:34.353Z"
   },
   {
    "duration": 29,
    "start_time": "2022-05-14T08:37:34.377Z"
   },
   {
    "duration": 51,
    "start_time": "2022-05-14T08:37:34.408Z"
   },
   {
    "duration": 15,
    "start_time": "2022-05-14T08:37:34.461Z"
   },
   {
    "duration": 185,
    "start_time": "2022-05-14T08:37:34.478Z"
   },
   {
    "duration": 11,
    "start_time": "2022-05-14T08:37:34.666Z"
   },
   {
    "duration": 96,
    "start_time": "2022-05-14T08:37:34.679Z"
   },
   {
    "duration": 89,
    "start_time": "2022-05-14T08:37:34.777Z"
   },
   {
    "duration": 10,
    "start_time": "2022-05-14T08:37:34.868Z"
   },
   {
    "duration": 56,
    "start_time": "2022-05-14T08:37:34.880Z"
   },
   {
    "duration": 27,
    "start_time": "2022-05-14T08:37:34.939Z"
   },
   {
    "duration": 22,
    "start_time": "2022-05-14T08:37:34.969Z"
   },
   {
    "duration": 34,
    "start_time": "2022-05-14T08:37:34.993Z"
   },
   {
    "duration": 28,
    "start_time": "2022-05-14T08:37:35.031Z"
   },
   {
    "duration": 37,
    "start_time": "2022-05-14T08:37:35.062Z"
   },
   {
    "duration": 4,
    "start_time": "2022-05-14T08:37:35.101Z"
   },
   {
    "duration": 24,
    "start_time": "2022-05-14T08:37:35.107Z"
   },
   {
    "duration": 35,
    "start_time": "2022-05-14T08:37:35.134Z"
   },
   {
    "duration": 40,
    "start_time": "2022-05-14T08:37:35.173Z"
   },
   {
    "duration": 7,
    "start_time": "2022-05-14T08:37:35.228Z"
   },
   {
    "duration": 41,
    "start_time": "2022-05-14T08:37:35.239Z"
   },
   {
    "duration": 39,
    "start_time": "2022-05-14T08:37:35.283Z"
   },
   {
    "duration": 51,
    "start_time": "2022-05-14T08:37:35.324Z"
   },
   {
    "duration": 27,
    "start_time": "2022-05-14T08:37:35.377Z"
   },
   {
    "duration": 51,
    "start_time": "2022-05-14T08:37:35.406Z"
   },
   {
    "duration": 31,
    "start_time": "2022-05-14T08:37:35.459Z"
   },
   {
    "duration": 29,
    "start_time": "2022-05-14T08:37:35.492Z"
   },
   {
    "duration": 44,
    "start_time": "2022-05-14T08:37:35.524Z"
   },
   {
    "duration": 12,
    "start_time": "2022-05-14T08:37:35.572Z"
   },
   {
    "duration": 35,
    "start_time": "2022-05-14T08:37:35.586Z"
   },
   {
    "duration": 46,
    "start_time": "2022-05-14T08:37:35.624Z"
   },
   {
    "duration": 18,
    "start_time": "2022-05-14T08:37:35.673Z"
   },
   {
    "duration": 23,
    "start_time": "2022-05-14T08:37:35.694Z"
   },
   {
    "duration": 28,
    "start_time": "2022-05-14T08:37:35.720Z"
   },
   {
    "duration": 16,
    "start_time": "2022-05-14T08:37:35.752Z"
   },
   {
    "duration": 26,
    "start_time": "2022-05-14T08:37:35.770Z"
   },
   {
    "duration": 61,
    "start_time": "2022-05-14T08:37:35.799Z"
   },
   {
    "duration": 24,
    "start_time": "2022-05-14T08:37:35.863Z"
   },
   {
    "duration": 21,
    "start_time": "2022-05-14T08:37:35.890Z"
   },
   {
    "duration": 25,
    "start_time": "2022-05-14T08:37:35.913Z"
   },
   {
    "duration": 36,
    "start_time": "2022-05-14T08:37:35.941Z"
   },
   {
    "duration": 37,
    "start_time": "2022-05-14T08:37:35.979Z"
   },
   {
    "duration": 28,
    "start_time": "2022-05-14T08:37:36.018Z"
   },
   {
    "duration": 24,
    "start_time": "2022-05-14T08:37:36.048Z"
   },
   {
    "duration": 29,
    "start_time": "2022-05-14T08:37:36.075Z"
   },
   {
    "duration": 10,
    "start_time": "2022-05-14T08:37:36.107Z"
   },
   {
    "duration": 21,
    "start_time": "2022-05-14T08:37:36.119Z"
   },
   {
    "duration": 20,
    "start_time": "2022-05-14T08:37:36.143Z"
   },
   {
    "duration": 49,
    "start_time": "2022-05-14T08:37:36.166Z"
   },
   {
    "duration": 17,
    "start_time": "2022-05-14T08:37:36.218Z"
   },
   {
    "duration": 37,
    "start_time": "2022-05-14T08:37:36.237Z"
   },
   {
    "duration": 23,
    "start_time": "2022-05-14T08:37:36.277Z"
   },
   {
    "duration": 80,
    "start_time": "2022-05-14T08:37:36.303Z"
   },
   {
    "duration": 104,
    "start_time": "2022-05-14T08:37:36.385Z"
   },
   {
    "duration": 11,
    "start_time": "2022-05-14T08:37:36.491Z"
   },
   {
    "duration": 694,
    "start_time": "2022-05-14T08:37:36.504Z"
   },
   {
    "duration": 4,
    "start_time": "2022-05-14T08:37:37.201Z"
   },
   {
    "duration": 23,
    "start_time": "2022-05-14T08:37:37.224Z"
   },
   {
    "duration": 10,
    "start_time": "2022-05-14T08:37:37.250Z"
   },
   {
    "duration": 35,
    "start_time": "2022-05-14T08:37:37.262Z"
   },
   {
    "duration": 367,
    "start_time": "2022-05-14T08:37:37.299Z"
   },
   {
    "duration": 14,
    "start_time": "2022-05-14T08:37:37.669Z"
   },
   {
    "duration": 194,
    "start_time": "2022-05-14T08:37:37.686Z"
   },
   {
    "duration": 9,
    "start_time": "2022-05-14T08:37:37.882Z"
   },
   {
    "duration": 299,
    "start_time": "2022-05-14T08:37:37.893Z"
   },
   {
    "duration": 12,
    "start_time": "2022-05-14T08:37:38.194Z"
   },
   {
    "duration": 218,
    "start_time": "2022-05-14T08:37:38.225Z"
   },
   {
    "duration": 8,
    "start_time": "2022-05-14T08:37:38.445Z"
   },
   {
    "duration": 346,
    "start_time": "2022-05-14T08:37:38.455Z"
   },
   {
    "duration": 24,
    "start_time": "2022-05-14T08:37:38.803Z"
   },
   {
    "duration": 214,
    "start_time": "2022-05-14T08:37:38.831Z"
   },
   {
    "duration": 7,
    "start_time": "2022-05-14T08:37:39.047Z"
   },
   {
    "duration": 355,
    "start_time": "2022-05-14T08:37:39.057Z"
   },
   {
    "duration": 13,
    "start_time": "2022-05-14T08:37:39.435Z"
   },
   {
    "duration": 207,
    "start_time": "2022-05-14T08:37:39.451Z"
   },
   {
    "duration": 9,
    "start_time": "2022-05-14T08:37:39.661Z"
   },
   {
    "duration": 443,
    "start_time": "2022-05-14T08:37:39.673Z"
   },
   {
    "duration": 13,
    "start_time": "2022-05-14T08:37:40.124Z"
   },
   {
    "duration": 196,
    "start_time": "2022-05-14T08:37:40.140Z"
   },
   {
    "duration": 9,
    "start_time": "2022-05-14T08:37:40.338Z"
   },
   {
    "duration": 378,
    "start_time": "2022-05-14T08:37:40.349Z"
   },
   {
    "duration": 8,
    "start_time": "2022-05-14T08:37:40.729Z"
   },
   {
    "duration": 13,
    "start_time": "2022-05-14T08:37:40.741Z"
   },
   {
    "duration": 9,
    "start_time": "2022-05-14T08:37:40.756Z"
   },
   {
    "duration": 15,
    "start_time": "2022-05-14T08:37:40.768Z"
   },
   {
    "duration": 161,
    "start_time": "2022-05-14T08:37:40.786Z"
   },
   {
    "duration": 8,
    "start_time": "2022-05-14T08:37:40.949Z"
   },
   {
    "duration": 19,
    "start_time": "2022-05-14T08:37:40.959Z"
   },
   {
    "duration": 9,
    "start_time": "2022-05-14T08:37:40.980Z"
   },
   {
    "duration": 34,
    "start_time": "2022-05-14T08:37:40.991Z"
   },
   {
    "duration": 6,
    "start_time": "2022-05-14T08:37:41.029Z"
   },
   {
    "duration": 12,
    "start_time": "2022-05-14T08:37:41.038Z"
   },
   {
    "duration": 1787,
    "start_time": "2022-05-14T08:37:41.053Z"
   },
   {
    "duration": 1351,
    "start_time": "2022-05-14T08:38:46.597Z"
   },
   {
    "duration": 697,
    "start_time": "2022-05-14T08:38:47.950Z"
   },
   {
    "duration": 24,
    "start_time": "2022-05-14T08:38:48.649Z"
   },
   {
    "duration": 29,
    "start_time": "2022-05-14T08:38:48.676Z"
   },
   {
    "duration": 28,
    "start_time": "2022-05-14T08:38:48.709Z"
   },
   {
    "duration": 43,
    "start_time": "2022-05-14T08:38:48.740Z"
   },
   {
    "duration": 40,
    "start_time": "2022-05-14T08:38:48.787Z"
   },
   {
    "duration": 27,
    "start_time": "2022-05-14T08:38:48.837Z"
   },
   {
    "duration": 14,
    "start_time": "2022-05-14T08:38:48.866Z"
   },
   {
    "duration": 44,
    "start_time": "2022-05-14T08:38:48.883Z"
   },
   {
    "duration": 23,
    "start_time": "2022-05-14T08:38:48.930Z"
   },
   {
    "duration": 7,
    "start_time": "2022-05-14T08:38:48.956Z"
   },
   {
    "duration": 237,
    "start_time": "2022-05-14T08:38:48.966Z"
   },
   {
    "duration": 20,
    "start_time": "2022-05-14T08:38:49.205Z"
   },
   {
    "duration": 124,
    "start_time": "2022-05-14T08:38:49.229Z"
   },
   {
    "duration": 110,
    "start_time": "2022-05-14T08:38:49.357Z"
   },
   {
    "duration": 12,
    "start_time": "2022-05-14T08:38:49.471Z"
   },
   {
    "duration": 70,
    "start_time": "2022-05-14T08:38:49.486Z"
   },
   {
    "duration": 33,
    "start_time": "2022-05-14T08:38:49.559Z"
   },
   {
    "duration": 44,
    "start_time": "2022-05-14T08:38:49.595Z"
   },
   {
    "duration": 7,
    "start_time": "2022-05-14T08:38:49.642Z"
   },
   {
    "duration": 42,
    "start_time": "2022-05-14T08:38:49.651Z"
   },
   {
    "duration": 82,
    "start_time": "2022-05-14T08:38:49.695Z"
   },
   {
    "duration": 5,
    "start_time": "2022-05-14T08:38:49.780Z"
   },
   {
    "duration": 60,
    "start_time": "2022-05-14T08:38:49.787Z"
   },
   {
    "duration": 30,
    "start_time": "2022-05-14T08:38:49.850Z"
   },
   {
    "duration": 28,
    "start_time": "2022-05-14T08:38:49.882Z"
   },
   {
    "duration": 7,
    "start_time": "2022-05-14T08:38:49.918Z"
   },
   {
    "duration": 24,
    "start_time": "2022-05-14T08:38:49.929Z"
   },
   {
    "duration": 19,
    "start_time": "2022-05-14T08:38:49.956Z"
   },
   {
    "duration": 47,
    "start_time": "2022-05-14T08:38:49.978Z"
   },
   {
    "duration": 27,
    "start_time": "2022-05-14T08:38:50.029Z"
   },
   {
    "duration": 22,
    "start_time": "2022-05-14T08:38:50.058Z"
   },
   {
    "duration": 16,
    "start_time": "2022-05-14T08:38:50.082Z"
   },
   {
    "duration": 54,
    "start_time": "2022-05-14T08:38:50.100Z"
   },
   {
    "duration": 10,
    "start_time": "2022-05-14T08:38:50.157Z"
   },
   {
    "duration": 14,
    "start_time": "2022-05-14T08:38:50.170Z"
   },
   {
    "duration": 12,
    "start_time": "2022-05-14T08:38:50.186Z"
   },
   {
    "duration": 34,
    "start_time": "2022-05-14T08:38:50.201Z"
   },
   {
    "duration": 7,
    "start_time": "2022-05-14T08:38:50.238Z"
   },
   {
    "duration": 11,
    "start_time": "2022-05-14T08:38:50.247Z"
   },
   {
    "duration": 9,
    "start_time": "2022-05-14T08:38:50.260Z"
   },
   {
    "duration": 74,
    "start_time": "2022-05-14T08:38:50.272Z"
   },
   {
    "duration": 17,
    "start_time": "2022-05-14T08:38:50.349Z"
   },
   {
    "duration": 21,
    "start_time": "2022-05-14T08:38:50.369Z"
   },
   {
    "duration": 32,
    "start_time": "2022-05-14T08:38:50.393Z"
   },
   {
    "duration": 35,
    "start_time": "2022-05-14T08:38:50.428Z"
   },
   {
    "duration": 25,
    "start_time": "2022-05-14T08:38:50.466Z"
   },
   {
    "duration": 6,
    "start_time": "2022-05-14T08:38:50.494Z"
   },
   {
    "duration": 22,
    "start_time": "2022-05-14T08:38:50.502Z"
   },
   {
    "duration": 9,
    "start_time": "2022-05-14T08:38:50.528Z"
   },
   {
    "duration": 15,
    "start_time": "2022-05-14T08:38:50.541Z"
   },
   {
    "duration": 16,
    "start_time": "2022-05-14T08:38:50.558Z"
   },
   {
    "duration": 13,
    "start_time": "2022-05-14T08:38:50.577Z"
   },
   {
    "duration": 58,
    "start_time": "2022-05-14T08:38:50.592Z"
   },
   {
    "duration": 10,
    "start_time": "2022-05-14T08:38:50.653Z"
   },
   {
    "duration": 13,
    "start_time": "2022-05-14T08:38:50.667Z"
   },
   {
    "duration": 15,
    "start_time": "2022-05-14T08:38:50.683Z"
   },
   {
    "duration": 65,
    "start_time": "2022-05-14T08:38:50.724Z"
   },
   {
    "duration": 163,
    "start_time": "2022-05-14T08:38:50.792Z"
   },
   {
    "duration": 17,
    "start_time": "2022-05-14T08:38:50.959Z"
   },
   {
    "duration": 707,
    "start_time": "2022-05-14T08:38:50.979Z"
   },
   {
    "duration": 4,
    "start_time": "2022-05-14T08:38:51.689Z"
   },
   {
    "duration": 7,
    "start_time": "2022-05-14T08:38:51.695Z"
   },
   {
    "duration": 21,
    "start_time": "2022-05-14T08:38:51.704Z"
   },
   {
    "duration": 15,
    "start_time": "2022-05-14T08:38:51.729Z"
   },
   {
    "duration": 371,
    "start_time": "2022-05-14T08:38:51.747Z"
   },
   {
    "duration": 18,
    "start_time": "2022-05-14T08:38:52.125Z"
   },
   {
    "duration": 179,
    "start_time": "2022-05-14T08:38:52.146Z"
   },
   {
    "duration": 11,
    "start_time": "2022-05-14T08:38:52.329Z"
   },
   {
    "duration": 317,
    "start_time": "2022-05-14T08:38:52.342Z"
   },
   {
    "duration": 11,
    "start_time": "2022-05-14T08:38:52.661Z"
   },
   {
    "duration": 184,
    "start_time": "2022-05-14T08:38:52.674Z"
   },
   {
    "duration": 8,
    "start_time": "2022-05-14T08:38:52.861Z"
   },
   {
    "duration": 351,
    "start_time": "2022-05-14T08:38:52.872Z"
   },
   {
    "duration": 16,
    "start_time": "2022-05-14T08:38:53.227Z"
   },
   {
    "duration": 195,
    "start_time": "2022-05-14T08:38:53.246Z"
   },
   {
    "duration": 7,
    "start_time": "2022-05-14T08:38:53.444Z"
   },
   {
    "duration": 351,
    "start_time": "2022-05-14T08:38:53.453Z"
   },
   {
    "duration": 26,
    "start_time": "2022-05-14T08:38:53.806Z"
   },
   {
    "duration": 193,
    "start_time": "2022-05-14T08:38:53.835Z"
   },
   {
    "duration": 7,
    "start_time": "2022-05-14T08:38:54.042Z"
   },
   {
    "duration": 412,
    "start_time": "2022-05-14T08:38:54.051Z"
   },
   {
    "duration": 11,
    "start_time": "2022-05-14T08:38:54.465Z"
   },
   {
    "duration": 208,
    "start_time": "2022-05-14T08:38:54.478Z"
   },
   {
    "duration": 7,
    "start_time": "2022-05-14T08:38:54.688Z"
   },
   {
    "duration": 485,
    "start_time": "2022-05-14T08:38:54.697Z"
   },
   {
    "duration": 7,
    "start_time": "2022-05-14T08:38:55.184Z"
   },
   {
    "duration": 10,
    "start_time": "2022-05-14T08:38:55.193Z"
   },
   {
    "duration": 7,
    "start_time": "2022-05-14T08:38:55.224Z"
   },
   {
    "duration": 18,
    "start_time": "2022-05-14T08:38:55.234Z"
   },
   {
    "duration": 133,
    "start_time": "2022-05-14T08:38:55.254Z"
   },
   {
    "duration": 7,
    "start_time": "2022-05-14T08:38:55.390Z"
   },
   {
    "duration": 8,
    "start_time": "2022-05-14T08:38:55.399Z"
   },
   {
    "duration": 20,
    "start_time": "2022-05-14T08:38:55.410Z"
   },
   {
    "duration": 14,
    "start_time": "2022-05-14T08:38:55.433Z"
   },
   {
    "duration": 5,
    "start_time": "2022-05-14T08:38:55.450Z"
   },
   {
    "duration": 16,
    "start_time": "2022-05-14T08:38:55.458Z"
   },
   {
    "duration": 98,
    "start_time": "2022-05-14T08:38:55.477Z"
   },
   {
    "duration": 95,
    "start_time": "2022-05-14T09:26:21.257Z"
   },
   {
    "duration": 801,
    "start_time": "2022-05-15T12:28:09.817Z"
   },
   {
    "duration": 481,
    "start_time": "2022-05-15T12:28:10.620Z"
   },
   {
    "duration": 15,
    "start_time": "2022-05-15T12:28:11.103Z"
   },
   {
    "duration": 22,
    "start_time": "2022-05-15T12:28:11.119Z"
   },
   {
    "duration": 8,
    "start_time": "2022-05-15T12:28:11.143Z"
   },
   {
    "duration": 20,
    "start_time": "2022-05-15T12:28:11.153Z"
   },
   {
    "duration": 8,
    "start_time": "2022-05-15T12:28:11.187Z"
   },
   {
    "duration": 19,
    "start_time": "2022-05-15T12:28:11.196Z"
   },
   {
    "duration": 8,
    "start_time": "2022-05-15T12:28:11.216Z"
   },
   {
    "duration": 13,
    "start_time": "2022-05-15T12:28:11.225Z"
   },
   {
    "duration": 11,
    "start_time": "2022-05-15T12:28:11.240Z"
   },
   {
    "duration": 7,
    "start_time": "2022-05-15T12:28:11.252Z"
   },
   {
    "duration": 122,
    "start_time": "2022-05-15T12:28:11.260Z"
   },
   {
    "duration": 8,
    "start_time": "2022-05-15T12:28:11.387Z"
   },
   {
    "duration": 48,
    "start_time": "2022-05-15T12:28:11.396Z"
   },
   {
    "duration": 60,
    "start_time": "2022-05-15T12:28:11.446Z"
   },
   {
    "duration": 6,
    "start_time": "2022-05-15T12:28:11.508Z"
   },
   {
    "duration": 23,
    "start_time": "2022-05-15T12:28:11.516Z"
   },
   {
    "duration": 17,
    "start_time": "2022-05-15T12:28:11.541Z"
   },
   {
    "duration": 35,
    "start_time": "2022-05-15T12:28:11.560Z"
   },
   {
    "duration": 4,
    "start_time": "2022-05-15T12:28:11.597Z"
   },
   {
    "duration": 8,
    "start_time": "2022-05-15T12:28:11.602Z"
   },
   {
    "duration": 29,
    "start_time": "2022-05-15T12:28:11.612Z"
   },
   {
    "duration": 2,
    "start_time": "2022-05-15T12:28:11.643Z"
   },
   {
    "duration": 12,
    "start_time": "2022-05-15T12:28:11.647Z"
   },
   {
    "duration": 32,
    "start_time": "2022-05-15T12:28:11.660Z"
   },
   {
    "duration": 24,
    "start_time": "2022-05-15T12:28:11.694Z"
   },
   {
    "duration": 3,
    "start_time": "2022-05-15T12:28:11.719Z"
   },
   {
    "duration": 12,
    "start_time": "2022-05-15T12:28:11.724Z"
   },
   {
    "duration": 29,
    "start_time": "2022-05-15T12:28:11.738Z"
   },
   {
    "duration": 10,
    "start_time": "2022-05-15T12:28:13.375Z"
   },
   {
    "duration": 91,
    "start_time": "2022-05-15T12:28:15.434Z"
   },
   {
    "duration": 7,
    "start_time": "2022-05-15T12:28:22.528Z"
   },
   {
    "duration": 11,
    "start_time": "2022-05-15T12:28:25.233Z"
   },
   {
    "duration": 797,
    "start_time": "2022-05-15T12:30:42.226Z"
   },
   {
    "duration": 498,
    "start_time": "2022-05-15T12:30:43.025Z"
   },
   {
    "duration": 18,
    "start_time": "2022-05-15T12:30:43.525Z"
   },
   {
    "duration": 20,
    "start_time": "2022-05-15T12:30:43.545Z"
   },
   {
    "duration": 8,
    "start_time": "2022-05-15T12:30:43.567Z"
   },
   {
    "duration": 27,
    "start_time": "2022-05-15T12:30:43.576Z"
   },
   {
    "duration": 7,
    "start_time": "2022-05-15T12:30:43.605Z"
   },
   {
    "duration": 19,
    "start_time": "2022-05-15T12:30:43.613Z"
   },
   {
    "duration": 7,
    "start_time": "2022-05-15T12:30:43.634Z"
   },
   {
    "duration": 11,
    "start_time": "2022-05-15T12:30:43.643Z"
   },
   {
    "duration": 33,
    "start_time": "2022-05-15T12:30:43.656Z"
   },
   {
    "duration": 8,
    "start_time": "2022-05-15T12:30:43.690Z"
   },
   {
    "duration": 119,
    "start_time": "2022-05-15T12:30:43.700Z"
   },
   {
    "duration": 8,
    "start_time": "2022-05-15T12:30:43.821Z"
   },
   {
    "duration": 66,
    "start_time": "2022-05-15T12:30:43.831Z"
   },
   {
    "duration": 50,
    "start_time": "2022-05-15T12:30:43.899Z"
   },
   {
    "duration": 6,
    "start_time": "2022-05-15T12:30:43.950Z"
   },
   {
    "duration": 46,
    "start_time": "2022-05-15T12:30:43.958Z"
   },
   {
    "duration": 17,
    "start_time": "2022-05-15T12:30:44.006Z"
   },
   {
    "duration": 13,
    "start_time": "2022-05-15T12:30:44.025Z"
   },
   {
    "duration": 4,
    "start_time": "2022-05-15T12:30:44.040Z"
   },
   {
    "duration": 9,
    "start_time": "2022-05-15T12:30:44.045Z"
   },
   {
    "duration": 46,
    "start_time": "2022-05-15T12:30:44.056Z"
   },
   {
    "duration": 2,
    "start_time": "2022-05-15T12:30:44.104Z"
   },
   {
    "duration": 10,
    "start_time": "2022-05-15T12:30:44.108Z"
   },
   {
    "duration": 12,
    "start_time": "2022-05-15T12:30:44.119Z"
   },
   {
    "duration": 17,
    "start_time": "2022-05-15T12:30:44.132Z"
   },
   {
    "duration": 3,
    "start_time": "2022-05-15T12:30:44.152Z"
   },
   {
    "duration": 9,
    "start_time": "2022-05-15T12:30:44.156Z"
   },
   {
    "duration": 10,
    "start_time": "2022-05-15T12:30:44.188Z"
   },
   {
    "duration": 10,
    "start_time": "2022-05-15T12:30:44.199Z"
   },
   {
    "duration": 9,
    "start_time": "2022-05-15T12:30:44.210Z"
   },
   {
    "duration": 8,
    "start_time": "2022-05-15T12:30:44.221Z"
   },
   {
    "duration": 11,
    "start_time": "2022-05-15T12:30:44.230Z"
   },
   {
    "duration": 45,
    "start_time": "2022-05-15T12:30:44.243Z"
   },
   {
    "duration": 9,
    "start_time": "2022-05-15T12:30:45.239Z"
   },
   {
    "duration": 8,
    "start_time": "2022-05-15T12:30:45.716Z"
   },
   {
    "duration": 10,
    "start_time": "2022-05-15T12:31:15.619Z"
   },
   {
    "duration": 6,
    "start_time": "2022-05-15T12:31:17.228Z"
   },
   {
    "duration": 11,
    "start_time": "2022-05-15T12:31:18.613Z"
   },
   {
    "duration": 4,
    "start_time": "2022-05-15T12:31:21.257Z"
   },
   {
    "duration": 5,
    "start_time": "2022-05-15T12:31:21.712Z"
   },
   {
    "duration": 2,
    "start_time": "2022-05-15T12:31:22.293Z"
   },
   {
    "duration": 12,
    "start_time": "2022-05-15T12:31:22.774Z"
   },
   {
    "duration": 9,
    "start_time": "2022-05-15T12:31:23.876Z"
   },
   {
    "duration": 15,
    "start_time": "2022-05-15T12:31:24.536Z"
   },
   {
    "duration": 11,
    "start_time": "2022-05-15T12:32:36.297Z"
   },
   {
    "duration": 13,
    "start_time": "2022-05-15T12:32:42.361Z"
   },
   {
    "duration": 90,
    "start_time": "2022-05-15T12:32:57.240Z"
   },
   {
    "duration": 4,
    "start_time": "2022-05-15T12:33:04.032Z"
   },
   {
    "duration": 9,
    "start_time": "2022-05-15T12:33:04.407Z"
   },
   {
    "duration": 10,
    "start_time": "2022-05-15T12:33:05.021Z"
   },
   {
    "duration": 17,
    "start_time": "2022-05-15T12:36:01.227Z"
   },
   {
    "duration": 7,
    "start_time": "2022-05-15T12:36:28.859Z"
   },
   {
    "duration": 18,
    "start_time": "2022-05-15T12:36:44.039Z"
   },
   {
    "duration": 13,
    "start_time": "2022-05-15T12:37:27.256Z"
   },
   {
    "duration": 11,
    "start_time": "2022-05-15T12:37:41.591Z"
   },
   {
    "duration": 13,
    "start_time": "2022-05-15T12:38:47.758Z"
   },
   {
    "duration": 13,
    "start_time": "2022-05-15T12:41:17.939Z"
   },
   {
    "duration": 9,
    "start_time": "2022-05-15T12:42:59.311Z"
   },
   {
    "duration": 8,
    "start_time": "2022-05-15T12:43:18.027Z"
   },
   {
    "duration": 5,
    "start_time": "2022-05-15T12:46:12.912Z"
   },
   {
    "duration": 13,
    "start_time": "2022-05-15T12:47:25.384Z"
   },
   {
    "duration": 13,
    "start_time": "2022-05-15T12:47:47.933Z"
   },
   {
    "duration": 13,
    "start_time": "2022-05-15T12:48:11.072Z"
   },
   {
    "duration": 8,
    "start_time": "2022-05-15T12:49:01.384Z"
   },
   {
    "duration": 20,
    "start_time": "2022-05-15T12:49:15.022Z"
   },
   {
    "duration": 10,
    "start_time": "2022-05-15T12:49:36.728Z"
   },
   {
    "duration": 22,
    "start_time": "2022-05-15T12:49:44.077Z"
   },
   {
    "duration": 8,
    "start_time": "2022-05-15T12:50:35.533Z"
   },
   {
    "duration": 12,
    "start_time": "2022-05-15T12:53:38.690Z"
   },
   {
    "duration": 162,
    "start_time": "2022-05-15T12:55:03.373Z"
   },
   {
    "duration": 32,
    "start_time": "2022-05-15T12:56:11.865Z"
   },
   {
    "duration": 30,
    "start_time": "2022-05-15T12:56:37.115Z"
   },
   {
    "duration": 31,
    "start_time": "2022-05-15T12:57:39.947Z"
   },
   {
    "duration": 7,
    "start_time": "2022-05-15T12:57:47.508Z"
   },
   {
    "duration": 9,
    "start_time": "2022-05-15T12:58:58.510Z"
   },
   {
    "duration": 13,
    "start_time": "2022-05-15T12:59:12.141Z"
   },
   {
    "duration": 12,
    "start_time": "2022-05-15T12:59:22.534Z"
   },
   {
    "duration": 14,
    "start_time": "2022-05-15T13:00:43.870Z"
   },
   {
    "duration": 12,
    "start_time": "2022-05-15T13:00:44.621Z"
   },
   {
    "duration": 12,
    "start_time": "2022-05-15T13:01:24.024Z"
   },
   {
    "duration": 19,
    "start_time": "2022-05-15T13:02:40.566Z"
   },
   {
    "duration": 799,
    "start_time": "2022-05-15T13:03:31.931Z"
   },
   {
    "duration": 539,
    "start_time": "2022-05-15T13:03:32.732Z"
   },
   {
    "duration": 16,
    "start_time": "2022-05-15T13:03:33.272Z"
   },
   {
    "duration": 22,
    "start_time": "2022-05-15T13:03:33.290Z"
   },
   {
    "duration": 9,
    "start_time": "2022-05-15T13:03:33.313Z"
   },
   {
    "duration": 19,
    "start_time": "2022-05-15T13:03:33.323Z"
   },
   {
    "duration": 7,
    "start_time": "2022-05-15T13:03:33.344Z"
   },
   {
    "duration": 37,
    "start_time": "2022-05-15T13:03:33.352Z"
   },
   {
    "duration": 8,
    "start_time": "2022-05-15T13:03:33.390Z"
   },
   {
    "duration": 11,
    "start_time": "2022-05-15T13:03:33.401Z"
   },
   {
    "duration": 12,
    "start_time": "2022-05-15T13:03:33.413Z"
   },
   {
    "duration": 7,
    "start_time": "2022-05-15T13:03:33.427Z"
   },
   {
    "duration": 129,
    "start_time": "2022-05-15T13:03:33.435Z"
   },
   {
    "duration": 8,
    "start_time": "2022-05-15T13:03:33.566Z"
   },
   {
    "duration": 62,
    "start_time": "2022-05-15T13:03:33.575Z"
   },
   {
    "duration": 61,
    "start_time": "2022-05-15T13:03:33.639Z"
   },
   {
    "duration": 6,
    "start_time": "2022-05-15T13:03:33.702Z"
   },
   {
    "duration": 23,
    "start_time": "2022-05-15T13:03:33.709Z"
   },
   {
    "duration": 16,
    "start_time": "2022-05-15T13:03:33.734Z"
   },
   {
    "duration": 38,
    "start_time": "2022-05-15T13:03:33.752Z"
   },
   {
    "duration": 4,
    "start_time": "2022-05-15T13:03:33.791Z"
   },
   {
    "duration": 6,
    "start_time": "2022-05-15T13:03:33.797Z"
   },
   {
    "duration": 29,
    "start_time": "2022-05-15T13:03:33.804Z"
   },
   {
    "duration": 3,
    "start_time": "2022-05-15T13:03:33.834Z"
   },
   {
    "duration": 9,
    "start_time": "2022-05-15T13:03:33.839Z"
   },
   {
    "duration": 12,
    "start_time": "2022-05-15T13:03:33.850Z"
   },
   {
    "duration": 43,
    "start_time": "2022-05-15T13:03:33.864Z"
   },
   {
    "duration": 3,
    "start_time": "2022-05-15T13:03:33.910Z"
   },
   {
    "duration": 10,
    "start_time": "2022-05-15T13:03:33.915Z"
   },
   {
    "duration": 17,
    "start_time": "2022-05-15T13:03:33.926Z"
   },
   {
    "duration": 13,
    "start_time": "2022-05-15T13:03:33.944Z"
   },
   {
    "duration": 31,
    "start_time": "2022-05-15T13:03:33.959Z"
   },
   {
    "duration": 15,
    "start_time": "2022-05-15T13:03:33.992Z"
   },
   {
    "duration": 11,
    "start_time": "2022-05-15T13:03:34.009Z"
   },
   {
    "duration": 17,
    "start_time": "2022-05-15T13:03:34.022Z"
   },
   {
    "duration": 8,
    "start_time": "2022-05-15T13:03:34.041Z"
   },
   {
    "duration": 10,
    "start_time": "2022-05-15T13:03:34.051Z"
   },
   {
    "duration": 30,
    "start_time": "2022-05-15T13:03:34.063Z"
   },
   {
    "duration": 11,
    "start_time": "2022-05-15T13:03:34.095Z"
   },
   {
    "duration": 7,
    "start_time": "2022-05-15T13:03:34.107Z"
   },
   {
    "duration": 5,
    "start_time": "2022-05-15T13:03:34.116Z"
   },
   {
    "duration": 4,
    "start_time": "2022-05-15T13:03:34.123Z"
   },
   {
    "duration": 13,
    "start_time": "2022-05-15T13:03:34.129Z"
   },
   {
    "duration": 11,
    "start_time": "2022-05-15T13:03:34.143Z"
   },
   {
    "duration": 43,
    "start_time": "2022-05-15T13:03:34.155Z"
   },
   {
    "duration": 2,
    "start_time": "2022-05-15T13:03:34.200Z"
   },
   {
    "duration": 10,
    "start_time": "2022-05-15T13:03:34.204Z"
   },
   {
    "duration": 10,
    "start_time": "2022-05-15T13:03:34.215Z"
   },
   {
    "duration": 13,
    "start_time": "2022-05-15T13:03:34.227Z"
   },
   {
    "duration": 7,
    "start_time": "2022-05-15T13:03:34.241Z"
   },
   {
    "duration": 44,
    "start_time": "2022-05-15T13:03:34.249Z"
   },
   {
    "duration": 12,
    "start_time": "2022-05-15T13:03:34.295Z"
   },
   {
    "duration": 8,
    "start_time": "2022-05-15T13:03:34.308Z"
   },
   {
    "duration": 6,
    "start_time": "2022-05-15T13:03:34.317Z"
   },
   {
    "duration": 7,
    "start_time": "2022-05-15T13:03:34.324Z"
   },
   {
    "duration": 6,
    "start_time": "2022-05-15T13:03:34.332Z"
   },
   {
    "duration": 6,
    "start_time": "2022-05-15T13:03:34.340Z"
   },
   {
    "duration": 7,
    "start_time": "2022-05-15T13:03:34.347Z"
   },
   {
    "duration": 40,
    "start_time": "2022-05-15T13:03:34.355Z"
   },
   {
    "duration": 7,
    "start_time": "2022-05-15T13:03:34.397Z"
   },
   {
    "duration": 5,
    "start_time": "2022-05-15T13:03:34.405Z"
   },
   {
    "duration": 5,
    "start_time": "2022-05-15T13:03:34.412Z"
   },
   {
    "duration": 27,
    "start_time": "2022-05-15T13:03:34.418Z"
   },
   {
    "duration": 64,
    "start_time": "2022-05-15T13:03:34.447Z"
   },
   {
    "duration": 19,
    "start_time": "2022-05-15T13:03:36.916Z"
   },
   {
    "duration": 44,
    "start_time": "2022-05-15T13:05:06.338Z"
   },
   {
    "duration": 20,
    "start_time": "2022-05-15T13:05:08.416Z"
   },
   {
    "duration": 9,
    "start_time": "2022-05-15T13:05:30.759Z"
   },
   {
    "duration": 106,
    "start_time": "2022-05-15T13:08:43.841Z"
   },
   {
    "duration": 14,
    "start_time": "2022-05-15T13:11:00.852Z"
   },
   {
    "duration": 46,
    "start_time": "2022-05-15T13:11:05.520Z"
   },
   {
    "duration": 12,
    "start_time": "2022-05-15T13:11:07.442Z"
   },
   {
    "duration": 21,
    "start_time": "2022-05-15T13:11:20.846Z"
   },
   {
    "duration": 24,
    "start_time": "2022-05-15T13:11:39.082Z"
   },
   {
    "duration": 23,
    "start_time": "2022-05-15T13:12:57.865Z"
   },
   {
    "duration": 23,
    "start_time": "2022-05-15T13:13:24.929Z"
   },
   {
    "duration": 45,
    "start_time": "2022-05-15T13:13:43.921Z"
   },
   {
    "duration": 21,
    "start_time": "2022-05-15T13:13:53.714Z"
   },
   {
    "duration": 20,
    "start_time": "2022-05-15T13:14:11.890Z"
   },
   {
    "duration": 126,
    "start_time": "2022-05-15T13:15:56.858Z"
   },
   {
    "duration": 8,
    "start_time": "2022-05-15T13:17:08.713Z"
   },
   {
    "duration": 12,
    "start_time": "2022-05-15T13:59:32.439Z"
   },
   {
    "duration": 104,
    "start_time": "2022-05-15T14:04:13.170Z"
   },
   {
    "duration": 727,
    "start_time": "2022-05-15T14:13:31.661Z"
   },
   {
    "duration": 249,
    "start_time": "2022-05-15T14:13:39.341Z"
   },
   {
    "duration": 284,
    "start_time": "2022-05-15T14:14:51.887Z"
   },
   {
    "duration": 327,
    "start_time": "2022-05-15T14:15:47.652Z"
   },
   {
    "duration": 250,
    "start_time": "2022-05-15T14:15:56.642Z"
   },
   {
    "duration": 275,
    "start_time": "2022-05-15T14:16:02.541Z"
   },
   {
    "duration": 255,
    "start_time": "2022-05-15T14:18:21.470Z"
   },
   {
    "duration": 1091,
    "start_time": "2022-05-15T14:19:29.829Z"
   },
   {
    "duration": 600,
    "start_time": "2022-05-15T14:19:30.922Z"
   },
   {
    "duration": 12,
    "start_time": "2022-05-15T14:19:31.524Z"
   },
   {
    "duration": 22,
    "start_time": "2022-05-15T14:19:31.538Z"
   },
   {
    "duration": 9,
    "start_time": "2022-05-15T14:19:31.562Z"
   },
   {
    "duration": 25,
    "start_time": "2022-05-15T14:19:31.572Z"
   },
   {
    "duration": 16,
    "start_time": "2022-05-15T14:19:31.600Z"
   },
   {
    "duration": 29,
    "start_time": "2022-05-15T14:19:31.618Z"
   },
   {
    "duration": 9,
    "start_time": "2022-05-15T14:19:31.649Z"
   },
   {
    "duration": 13,
    "start_time": "2022-05-15T14:19:31.661Z"
   },
   {
    "duration": 39,
    "start_time": "2022-05-15T14:19:31.676Z"
   },
   {
    "duration": 13,
    "start_time": "2022-05-15T14:19:31.717Z"
   },
   {
    "duration": 113,
    "start_time": "2022-05-15T14:19:31.732Z"
   },
   {
    "duration": 8,
    "start_time": "2022-05-15T14:19:31.847Z"
   },
   {
    "duration": 58,
    "start_time": "2022-05-15T14:19:31.857Z"
   },
   {
    "duration": 52,
    "start_time": "2022-05-15T14:19:31.917Z"
   },
   {
    "duration": 22,
    "start_time": "2022-05-15T14:19:31.971Z"
   },
   {
    "duration": 32,
    "start_time": "2022-05-15T14:19:31.995Z"
   },
   {
    "duration": 19,
    "start_time": "2022-05-15T14:19:32.029Z"
   },
   {
    "duration": 14,
    "start_time": "2022-05-15T14:19:32.050Z"
   },
   {
    "duration": 5,
    "start_time": "2022-05-15T14:19:32.089Z"
   },
   {
    "duration": 20,
    "start_time": "2022-05-15T14:19:32.096Z"
   },
   {
    "duration": 42,
    "start_time": "2022-05-15T14:19:32.118Z"
   },
   {
    "duration": 3,
    "start_time": "2022-05-15T14:19:32.162Z"
   },
   {
    "duration": 12,
    "start_time": "2022-05-15T14:19:32.167Z"
   },
   {
    "duration": 18,
    "start_time": "2022-05-15T14:19:32.181Z"
   },
   {
    "duration": 34,
    "start_time": "2022-05-15T14:19:32.201Z"
   },
   {
    "duration": 3,
    "start_time": "2022-05-15T14:19:32.240Z"
   },
   {
    "duration": 26,
    "start_time": "2022-05-15T14:19:32.244Z"
   },
   {
    "duration": 13,
    "start_time": "2022-05-15T14:19:32.271Z"
   },
   {
    "duration": 15,
    "start_time": "2022-05-15T14:19:32.286Z"
   },
   {
    "duration": 26,
    "start_time": "2022-05-15T14:19:32.303Z"
   },
   {
    "duration": 14,
    "start_time": "2022-05-15T14:19:32.332Z"
   },
   {
    "duration": 16,
    "start_time": "2022-05-15T14:19:32.348Z"
   },
   {
    "duration": 27,
    "start_time": "2022-05-15T14:19:32.366Z"
   },
   {
    "duration": 16,
    "start_time": "2022-05-15T14:19:32.395Z"
   },
   {
    "duration": 22,
    "start_time": "2022-05-15T14:19:32.413Z"
   },
   {
    "duration": 12,
    "start_time": "2022-05-15T14:19:32.436Z"
   },
   {
    "duration": 16,
    "start_time": "2022-05-15T14:19:32.449Z"
   },
   {
    "duration": 5,
    "start_time": "2022-05-15T14:19:32.467Z"
   },
   {
    "duration": 7,
    "start_time": "2022-05-15T14:19:32.473Z"
   },
   {
    "duration": 6,
    "start_time": "2022-05-15T14:19:32.481Z"
   },
   {
    "duration": 28,
    "start_time": "2022-05-15T14:19:32.489Z"
   },
   {
    "duration": 14,
    "start_time": "2022-05-15T14:19:32.520Z"
   },
   {
    "duration": 19,
    "start_time": "2022-05-15T14:19:32.536Z"
   },
   {
    "duration": 4,
    "start_time": "2022-05-15T14:19:32.558Z"
   },
   {
    "duration": 25,
    "start_time": "2022-05-15T14:19:32.564Z"
   },
   {
    "duration": 22,
    "start_time": "2022-05-15T14:19:32.592Z"
   },
   {
    "duration": 20,
    "start_time": "2022-05-15T14:19:32.617Z"
   },
   {
    "duration": 9,
    "start_time": "2022-05-15T14:19:32.640Z"
   },
   {
    "duration": 14,
    "start_time": "2022-05-15T14:19:32.651Z"
   },
   {
    "duration": 35,
    "start_time": "2022-05-15T14:19:32.666Z"
   },
   {
    "duration": 16,
    "start_time": "2022-05-15T14:19:32.703Z"
   },
   {
    "duration": 6,
    "start_time": "2022-05-15T14:19:32.721Z"
   },
   {
    "duration": 6,
    "start_time": "2022-05-15T14:19:32.728Z"
   },
   {
    "duration": 7,
    "start_time": "2022-05-15T14:19:32.736Z"
   },
   {
    "duration": 10,
    "start_time": "2022-05-15T14:19:32.745Z"
   },
   {
    "duration": 7,
    "start_time": "2022-05-15T14:19:32.757Z"
   },
   {
    "duration": 37,
    "start_time": "2022-05-15T14:19:32.765Z"
   },
   {
    "duration": 6,
    "start_time": "2022-05-15T14:19:32.804Z"
   },
   {
    "duration": 8,
    "start_time": "2022-05-15T14:19:32.812Z"
   },
   {
    "duration": 8,
    "start_time": "2022-05-15T14:19:32.821Z"
   },
   {
    "duration": 27,
    "start_time": "2022-05-15T14:19:32.830Z"
   },
   {
    "duration": 66,
    "start_time": "2022-05-15T14:19:32.859Z"
   },
   {
    "duration": 20,
    "start_time": "2022-05-15T14:19:32.927Z"
   },
   {
    "duration": 22,
    "start_time": "2022-05-15T14:19:32.949Z"
   },
   {
    "duration": 29,
    "start_time": "2022-05-15T14:19:32.972Z"
   },
   {
    "duration": 140,
    "start_time": "2022-05-15T14:19:33.004Z"
   },
   {
    "duration": 5,
    "start_time": "2022-05-15T14:19:33.146Z"
   },
   {
    "duration": 15,
    "start_time": "2022-05-15T14:19:33.152Z"
   },
   {
    "duration": 5,
    "start_time": "2022-05-15T14:19:33.168Z"
   },
   {
    "duration": 7,
    "start_time": "2022-05-15T14:19:33.174Z"
   },
   {
    "duration": 204,
    "start_time": "2022-05-15T14:19:33.187Z"
   },
   {
    "duration": 10,
    "start_time": "2022-05-15T14:19:33.393Z"
   },
   {
    "duration": 119,
    "start_time": "2022-05-15T14:19:33.405Z"
   },
   {
    "duration": 5,
    "start_time": "2022-05-15T14:19:33.526Z"
   },
   {
    "duration": 172,
    "start_time": "2022-05-15T14:19:33.532Z"
   },
   {
    "duration": 10,
    "start_time": "2022-05-15T14:19:33.706Z"
   },
   {
    "duration": 120,
    "start_time": "2022-05-15T14:19:33.717Z"
   },
   {
    "duration": 5,
    "start_time": "2022-05-15T14:19:33.839Z"
   },
   {
    "duration": 194,
    "start_time": "2022-05-15T14:19:33.846Z"
   },
   {
    "duration": 9,
    "start_time": "2022-05-15T14:19:34.044Z"
   },
   {
    "duration": 116,
    "start_time": "2022-05-15T14:19:34.054Z"
   },
   {
    "duration": 18,
    "start_time": "2022-05-15T14:19:34.171Z"
   },
   {
    "duration": 183,
    "start_time": "2022-05-15T14:19:34.190Z"
   },
   {
    "duration": 18,
    "start_time": "2022-05-15T14:19:34.375Z"
   },
   {
    "duration": 115,
    "start_time": "2022-05-15T14:19:34.395Z"
   },
   {
    "duration": 6,
    "start_time": "2022-05-15T14:19:34.512Z"
   },
   {
    "duration": 285,
    "start_time": "2022-05-15T14:19:34.520Z"
   },
   {
    "duration": 9,
    "start_time": "2022-05-15T14:19:34.807Z"
   },
   {
    "duration": 121,
    "start_time": "2022-05-15T14:19:34.818Z"
   },
   {
    "duration": 6,
    "start_time": "2022-05-15T14:19:34.940Z"
   },
   {
    "duration": 215,
    "start_time": "2022-05-15T14:19:34.947Z"
   },
   {
    "duration": 329,
    "start_time": "2022-05-15T14:19:36.338Z"
   },
   {
    "duration": 209,
    "start_time": "2022-05-15T14:20:12.849Z"
   },
   {
    "duration": 209,
    "start_time": "2022-05-15T14:20:37.604Z"
   },
   {
    "duration": 197,
    "start_time": "2022-05-15T14:21:25.970Z"
   },
   {
    "duration": 3,
    "start_time": "2022-05-15T14:21:57.418Z"
   },
   {
    "duration": 216,
    "start_time": "2022-05-15T14:22:01.452Z"
   },
   {
    "duration": 234,
    "start_time": "2022-05-15T14:22:22.680Z"
   },
   {
    "duration": 234,
    "start_time": "2022-05-15T14:22:30.180Z"
   },
   {
    "duration": 352,
    "start_time": "2022-05-15T14:23:38.191Z"
   },
   {
    "duration": 166,
    "start_time": "2022-05-15T14:29:18.249Z"
   },
   {
    "duration": 202,
    "start_time": "2022-05-15T14:32:39.253Z"
   },
   {
    "duration": 193,
    "start_time": "2022-05-15T14:33:13.465Z"
   },
   {
    "duration": 192,
    "start_time": "2022-05-15T14:33:32.731Z"
   },
   {
    "duration": 6,
    "start_time": "2022-05-15T14:42:55.385Z"
   },
   {
    "duration": 6,
    "start_time": "2022-05-15T14:42:57.393Z"
   },
   {
    "duration": 4,
    "start_time": "2022-05-15T14:43:01.142Z"
   },
   {
    "duration": 5,
    "start_time": "2022-05-15T14:43:01.694Z"
   },
   {
    "duration": 68,
    "start_time": "2022-05-15T14:43:24.878Z"
   },
   {
    "duration": 5,
    "start_time": "2022-05-15T14:43:25.654Z"
   },
   {
    "duration": 5,
    "start_time": "2022-05-15T14:43:26.443Z"
   },
   {
    "duration": 4,
    "start_time": "2022-05-15T14:43:26.964Z"
   },
   {
    "duration": 5,
    "start_time": "2022-05-15T14:43:28.850Z"
   },
   {
    "duration": 4,
    "start_time": "2022-05-15T14:43:30.322Z"
   },
   {
    "duration": 3,
    "start_time": "2022-05-15T14:43:30.950Z"
   },
   {
    "duration": 22,
    "start_time": "2022-05-15T14:48:55.673Z"
   },
   {
    "duration": 46,
    "start_time": "2022-05-15T14:48:58.121Z"
   },
   {
    "duration": 918,
    "start_time": "2022-05-15T15:02:35.081Z"
   },
   {
    "duration": 484,
    "start_time": "2022-05-15T15:02:36.002Z"
   },
   {
    "duration": 17,
    "start_time": "2022-05-15T15:02:36.488Z"
   },
   {
    "duration": 51,
    "start_time": "2022-05-15T15:02:36.507Z"
   },
   {
    "duration": 19,
    "start_time": "2022-05-15T15:02:36.559Z"
   },
   {
    "duration": 30,
    "start_time": "2022-05-15T15:02:36.579Z"
   },
   {
    "duration": 27,
    "start_time": "2022-05-15T15:02:36.610Z"
   },
   {
    "duration": 35,
    "start_time": "2022-05-15T15:02:36.639Z"
   },
   {
    "duration": 42,
    "start_time": "2022-05-15T15:02:36.676Z"
   },
   {
    "duration": 14,
    "start_time": "2022-05-15T15:02:36.720Z"
   },
   {
    "duration": 15,
    "start_time": "2022-05-15T15:02:36.736Z"
   },
   {
    "duration": 9,
    "start_time": "2022-05-15T15:02:36.753Z"
   },
   {
    "duration": 103,
    "start_time": "2022-05-15T15:02:36.763Z"
   },
   {
    "duration": 8,
    "start_time": "2022-05-15T15:02:36.867Z"
   },
   {
    "duration": 51,
    "start_time": "2022-05-15T15:02:36.877Z"
   },
   {
    "duration": 41,
    "start_time": "2022-05-15T15:02:36.930Z"
   },
   {
    "duration": 19,
    "start_time": "2022-05-15T15:02:36.973Z"
   },
   {
    "duration": 25,
    "start_time": "2022-05-15T15:02:36.993Z"
   },
   {
    "duration": 18,
    "start_time": "2022-05-15T15:02:37.020Z"
   },
   {
    "duration": 15,
    "start_time": "2022-05-15T15:02:37.040Z"
   },
   {
    "duration": 4,
    "start_time": "2022-05-15T15:02:37.056Z"
   },
   {
    "duration": 4,
    "start_time": "2022-05-15T15:02:37.089Z"
   },
   {
    "duration": 26,
    "start_time": "2022-05-15T15:02:37.095Z"
   },
   {
    "duration": 3,
    "start_time": "2022-05-15T15:02:37.123Z"
   },
   {
    "duration": 11,
    "start_time": "2022-05-15T15:02:37.128Z"
   },
   {
    "duration": 13,
    "start_time": "2022-05-15T15:02:37.141Z"
   },
   {
    "duration": 48,
    "start_time": "2022-05-15T15:02:37.155Z"
   },
   {
    "duration": 3,
    "start_time": "2022-05-15T15:02:37.207Z"
   },
   {
    "duration": 9,
    "start_time": "2022-05-15T15:02:37.212Z"
   },
   {
    "duration": 13,
    "start_time": "2022-05-15T15:02:37.223Z"
   },
   {
    "duration": 9,
    "start_time": "2022-05-15T15:02:37.238Z"
   },
   {
    "duration": 10,
    "start_time": "2022-05-15T15:02:37.249Z"
   },
   {
    "duration": 13,
    "start_time": "2022-05-15T15:02:37.287Z"
   },
   {
    "duration": 14,
    "start_time": "2022-05-15T15:02:37.301Z"
   },
   {
    "duration": 17,
    "start_time": "2022-05-15T15:02:37.316Z"
   },
   {
    "duration": 7,
    "start_time": "2022-05-15T15:02:37.335Z"
   },
   {
    "duration": 10,
    "start_time": "2022-05-15T15:02:37.344Z"
   },
   {
    "duration": 34,
    "start_time": "2022-05-15T15:02:37.356Z"
   },
   {
    "duration": 11,
    "start_time": "2022-05-15T15:02:37.391Z"
   },
   {
    "duration": 6,
    "start_time": "2022-05-15T15:02:37.404Z"
   },
   {
    "duration": 12,
    "start_time": "2022-05-15T15:02:37.412Z"
   },
   {
    "duration": 6,
    "start_time": "2022-05-15T15:02:37.426Z"
   },
   {
    "duration": 14,
    "start_time": "2022-05-15T15:02:37.434Z"
   },
   {
    "duration": 10,
    "start_time": "2022-05-15T15:02:37.449Z"
   },
   {
    "duration": 30,
    "start_time": "2022-05-15T15:02:37.460Z"
   },
   {
    "duration": 3,
    "start_time": "2022-05-15T15:02:37.492Z"
   },
   {
    "duration": 18,
    "start_time": "2022-05-15T15:02:37.497Z"
   },
   {
    "duration": 10,
    "start_time": "2022-05-15T15:02:37.517Z"
   },
   {
    "duration": 14,
    "start_time": "2022-05-15T15:02:37.529Z"
   },
   {
    "duration": 7,
    "start_time": "2022-05-15T15:02:37.545Z"
   },
   {
    "duration": 47,
    "start_time": "2022-05-15T15:02:37.553Z"
   },
   {
    "duration": 12,
    "start_time": "2022-05-15T15:02:37.601Z"
   },
   {
    "duration": 104,
    "start_time": "2022-05-15T15:02:37.615Z"
   },
   {
    "duration": 0,
    "start_time": "2022-05-15T15:02:37.721Z"
   },
   {
    "duration": 0,
    "start_time": "2022-05-15T15:02:37.723Z"
   },
   {
    "duration": 0,
    "start_time": "2022-05-15T15:02:37.723Z"
   },
   {
    "duration": 0,
    "start_time": "2022-05-15T15:02:37.724Z"
   },
   {
    "duration": 0,
    "start_time": "2022-05-15T15:02:37.725Z"
   },
   {
    "duration": 0,
    "start_time": "2022-05-15T15:02:37.726Z"
   },
   {
    "duration": 0,
    "start_time": "2022-05-15T15:02:37.728Z"
   },
   {
    "duration": 0,
    "start_time": "2022-05-15T15:02:37.728Z"
   },
   {
    "duration": 0,
    "start_time": "2022-05-15T15:02:37.729Z"
   },
   {
    "duration": 0,
    "start_time": "2022-05-15T15:02:37.730Z"
   },
   {
    "duration": 0,
    "start_time": "2022-05-15T15:02:37.731Z"
   },
   {
    "duration": 0,
    "start_time": "2022-05-15T15:02:37.733Z"
   },
   {
    "duration": 0,
    "start_time": "2022-05-15T15:02:37.734Z"
   },
   {
    "duration": 0,
    "start_time": "2022-05-15T15:02:37.735Z"
   },
   {
    "duration": 0,
    "start_time": "2022-05-15T15:02:37.736Z"
   },
   {
    "duration": 0,
    "start_time": "2022-05-15T15:02:37.737Z"
   },
   {
    "duration": 0,
    "start_time": "2022-05-15T15:02:37.738Z"
   },
   {
    "duration": 0,
    "start_time": "2022-05-15T15:02:37.739Z"
   },
   {
    "duration": 0,
    "start_time": "2022-05-15T15:02:37.740Z"
   },
   {
    "duration": 0,
    "start_time": "2022-05-15T15:02:37.742Z"
   },
   {
    "duration": 0,
    "start_time": "2022-05-15T15:02:37.742Z"
   },
   {
    "duration": 0,
    "start_time": "2022-05-15T15:02:37.744Z"
   },
   {
    "duration": 0,
    "start_time": "2022-05-15T15:02:37.745Z"
   },
   {
    "duration": 0,
    "start_time": "2022-05-15T15:02:37.746Z"
   },
   {
    "duration": 0,
    "start_time": "2022-05-15T15:02:37.788Z"
   },
   {
    "duration": 0,
    "start_time": "2022-05-15T15:02:37.789Z"
   },
   {
    "duration": 0,
    "start_time": "2022-05-15T15:02:37.790Z"
   },
   {
    "duration": 0,
    "start_time": "2022-05-15T15:02:37.791Z"
   },
   {
    "duration": 0,
    "start_time": "2022-05-15T15:02:37.792Z"
   },
   {
    "duration": 0,
    "start_time": "2022-05-15T15:02:37.793Z"
   },
   {
    "duration": 0,
    "start_time": "2022-05-15T15:02:37.794Z"
   },
   {
    "duration": 0,
    "start_time": "2022-05-15T15:02:37.795Z"
   },
   {
    "duration": 0,
    "start_time": "2022-05-15T15:02:37.796Z"
   },
   {
    "duration": 0,
    "start_time": "2022-05-15T15:02:37.797Z"
   },
   {
    "duration": 0,
    "start_time": "2022-05-15T15:02:37.798Z"
   },
   {
    "duration": 0,
    "start_time": "2022-05-15T15:02:37.799Z"
   },
   {
    "duration": 0,
    "start_time": "2022-05-15T15:02:37.800Z"
   },
   {
    "duration": 0,
    "start_time": "2022-05-15T15:02:37.802Z"
   },
   {
    "duration": 0,
    "start_time": "2022-05-15T15:02:37.803Z"
   },
   {
    "duration": 0,
    "start_time": "2022-05-15T15:02:37.804Z"
   },
   {
    "duration": 0,
    "start_time": "2022-05-15T15:02:37.804Z"
   },
   {
    "duration": 0,
    "start_time": "2022-05-15T15:02:37.805Z"
   },
   {
    "duration": 0,
    "start_time": "2022-05-15T15:02:37.806Z"
   },
   {
    "duration": 0,
    "start_time": "2022-05-15T15:02:37.807Z"
   },
   {
    "duration": 0,
    "start_time": "2022-05-15T15:02:37.807Z"
   },
   {
    "duration": 1,
    "start_time": "2022-05-15T15:02:37.808Z"
   },
   {
    "duration": 0,
    "start_time": "2022-05-15T15:02:37.810Z"
   },
   {
    "duration": 0,
    "start_time": "2022-05-15T15:02:37.811Z"
   },
   {
    "duration": 0,
    "start_time": "2022-05-15T15:02:37.812Z"
   },
   {
    "duration": 0,
    "start_time": "2022-05-15T15:02:37.813Z"
   },
   {
    "duration": 0,
    "start_time": "2022-05-15T15:02:37.813Z"
   },
   {
    "duration": 0,
    "start_time": "2022-05-15T15:02:37.814Z"
   },
   {
    "duration": 0,
    "start_time": "2022-05-15T15:02:37.815Z"
   },
   {
    "duration": 0,
    "start_time": "2022-05-15T15:02:37.816Z"
   },
   {
    "duration": 0,
    "start_time": "2022-05-15T15:02:37.817Z"
   },
   {
    "duration": 6,
    "start_time": "2022-05-15T15:03:50.391Z"
   },
   {
    "duration": 3,
    "start_time": "2022-05-15T15:03:52.251Z"
   },
   {
    "duration": 4,
    "start_time": "2022-05-15T15:03:52.642Z"
   },
   {
    "duration": 4,
    "start_time": "2022-05-15T15:03:54.427Z"
   },
   {
    "duration": 4,
    "start_time": "2022-05-15T15:03:54.965Z"
   },
   {
    "duration": 5,
    "start_time": "2022-05-15T15:03:56.018Z"
   },
   {
    "duration": 4,
    "start_time": "2022-05-15T15:03:56.355Z"
   },
   {
    "duration": 22,
    "start_time": "2022-05-15T15:03:57.248Z"
   },
   {
    "duration": 6,
    "start_time": "2022-05-15T15:04:01.797Z"
   },
   {
    "duration": 4,
    "start_time": "2022-05-15T15:04:02.192Z"
   },
   {
    "duration": 4,
    "start_time": "2022-05-15T15:04:02.890Z"
   },
   {
    "duration": 25,
    "start_time": "2022-05-15T15:04:03.923Z"
   },
   {
    "duration": 45,
    "start_time": "2022-05-15T15:04:06.729Z"
   },
   {
    "duration": 22,
    "start_time": "2022-05-15T15:04:09.415Z"
   },
   {
    "duration": 23,
    "start_time": "2022-05-15T15:04:10.250Z"
   },
   {
    "duration": 8,
    "start_time": "2022-05-15T15:04:19.117Z"
   },
   {
    "duration": 287,
    "start_time": "2022-05-15T15:04:24.015Z"
   },
   {
    "duration": 3,
    "start_time": "2022-05-15T15:04:24.381Z"
   },
   {
    "duration": 3,
    "start_time": "2022-05-15T15:04:25.659Z"
   },
   {
    "duration": 3,
    "start_time": "2022-05-15T15:04:26.273Z"
   },
   {
    "duration": 4,
    "start_time": "2022-05-15T15:04:27.595Z"
   },
   {
    "duration": 190,
    "start_time": "2022-05-15T15:04:28.371Z"
   },
   {
    "duration": 9,
    "start_time": "2022-05-15T15:04:30.562Z"
   },
   {
    "duration": 87,
    "start_time": "2022-05-15T15:04:30.826Z"
   },
   {
    "duration": 6,
    "start_time": "2022-05-15T15:04:31.400Z"
   },
   {
    "duration": 152,
    "start_time": "2022-05-15T15:04:31.730Z"
   },
   {
    "duration": 9,
    "start_time": "2022-05-15T15:04:32.504Z"
   },
   {
    "duration": 90,
    "start_time": "2022-05-15T15:04:32.841Z"
   },
   {
    "duration": 5,
    "start_time": "2022-05-15T15:04:33.097Z"
   },
   {
    "duration": 172,
    "start_time": "2022-05-15T15:04:33.309Z"
   },
   {
    "duration": 8,
    "start_time": "2022-05-15T15:04:33.796Z"
   },
   {
    "duration": 98,
    "start_time": "2022-05-15T15:04:34.039Z"
   },
   {
    "duration": 6,
    "start_time": "2022-05-15T15:04:34.249Z"
   },
   {
    "duration": 198,
    "start_time": "2022-05-15T15:04:34.709Z"
   },
   {
    "duration": 11,
    "start_time": "2022-05-15T15:04:35.091Z"
   },
   {
    "duration": 115,
    "start_time": "2022-05-15T15:04:35.292Z"
   },
   {
    "duration": 6,
    "start_time": "2022-05-15T15:04:35.490Z"
   },
   {
    "duration": 262,
    "start_time": "2022-05-15T15:04:35.705Z"
   },
   {
    "duration": 8,
    "start_time": "2022-05-15T15:04:36.117Z"
   },
   {
    "duration": 97,
    "start_time": "2022-05-15T15:04:36.341Z"
   },
   {
    "duration": 5,
    "start_time": "2022-05-15T15:04:36.552Z"
   },
   {
    "duration": 185,
    "start_time": "2022-05-15T15:04:36.783Z"
   },
   {
    "duration": 221,
    "start_time": "2022-05-15T15:04:38.096Z"
   },
   {
    "duration": 172,
    "start_time": "2022-05-15T15:04:39.195Z"
   },
   {
    "duration": 192,
    "start_time": "2022-05-15T15:04:39.909Z"
   },
   {
    "duration": 5,
    "start_time": "2022-05-15T15:04:40.666Z"
   },
   {
    "duration": 5,
    "start_time": "2022-05-15T15:04:40.926Z"
   },
   {
    "duration": 3,
    "start_time": "2022-05-15T15:04:41.167Z"
   },
   {
    "duration": 4,
    "start_time": "2022-05-15T15:04:41.400Z"
   },
   {
    "duration": 63,
    "start_time": "2022-05-15T15:04:42.764Z"
   },
   {
    "duration": 6,
    "start_time": "2022-05-15T15:04:43.093Z"
   },
   {
    "duration": 5,
    "start_time": "2022-05-15T15:04:43.332Z"
   },
   {
    "duration": 5,
    "start_time": "2022-05-15T15:04:43.849Z"
   },
   {
    "duration": 5,
    "start_time": "2022-05-15T15:04:44.078Z"
   },
   {
    "duration": 3,
    "start_time": "2022-05-15T15:04:44.486Z"
   },
   {
    "duration": 4,
    "start_time": "2022-05-15T15:04:44.726Z"
   },
   {
    "duration": 4,
    "start_time": "2022-05-15T15:11:45.265Z"
   },
   {
    "duration": 4,
    "start_time": "2022-05-15T15:12:24.340Z"
   },
   {
    "duration": 4,
    "start_time": "2022-05-15T15:12:38.411Z"
   },
   {
    "duration": 4,
    "start_time": "2022-05-15T15:12:51.780Z"
   },
   {
    "duration": 4,
    "start_time": "2022-05-15T15:14:03.142Z"
   },
   {
    "duration": 875,
    "start_time": "2022-05-16T08:34:50.626Z"
   },
   {
    "duration": 454,
    "start_time": "2022-05-16T08:34:51.503Z"
   },
   {
    "duration": 13,
    "start_time": "2022-05-16T08:34:51.959Z"
   },
   {
    "duration": 23,
    "start_time": "2022-05-16T08:34:51.974Z"
   },
   {
    "duration": 8,
    "start_time": "2022-05-16T08:34:51.998Z"
   },
   {
    "duration": 19,
    "start_time": "2022-05-16T08:34:52.008Z"
   },
   {
    "duration": 7,
    "start_time": "2022-05-16T08:34:52.028Z"
   },
   {
    "duration": 16,
    "start_time": "2022-05-16T08:34:52.037Z"
   },
   {
    "duration": 8,
    "start_time": "2022-05-16T08:34:52.071Z"
   },
   {
    "duration": 12,
    "start_time": "2022-05-16T08:34:52.082Z"
   },
   {
    "duration": 19,
    "start_time": "2022-05-16T08:34:52.096Z"
   },
   {
    "duration": 15,
    "start_time": "2022-05-16T08:34:52.117Z"
   },
   {
    "duration": 107,
    "start_time": "2022-05-16T08:34:52.134Z"
   },
   {
    "duration": 8,
    "start_time": "2022-05-16T08:34:52.243Z"
   },
   {
    "duration": 53,
    "start_time": "2022-05-16T08:34:52.253Z"
   },
   {
    "duration": 42,
    "start_time": "2022-05-16T08:34:52.308Z"
   },
   {
    "duration": 23,
    "start_time": "2022-05-16T08:34:52.352Z"
   },
   {
    "duration": 23,
    "start_time": "2022-05-16T08:34:52.377Z"
   },
   {
    "duration": 17,
    "start_time": "2022-05-16T08:34:52.402Z"
   },
   {
    "duration": 14,
    "start_time": "2022-05-16T08:34:52.421Z"
   },
   {
    "duration": 4,
    "start_time": "2022-05-16T08:34:52.437Z"
   },
   {
    "duration": 5,
    "start_time": "2022-05-16T08:34:52.471Z"
   },
   {
    "duration": 23,
    "start_time": "2022-05-16T08:34:52.478Z"
   },
   {
    "duration": 3,
    "start_time": "2022-05-16T08:34:52.502Z"
   },
   {
    "duration": 9,
    "start_time": "2022-05-16T08:34:52.507Z"
   },
   {
    "duration": 12,
    "start_time": "2022-05-16T08:34:52.518Z"
   },
   {
    "duration": 45,
    "start_time": "2022-05-16T08:34:52.532Z"
   },
   {
    "duration": 3,
    "start_time": "2022-05-16T08:34:52.580Z"
   },
   {
    "duration": 11,
    "start_time": "2022-05-16T08:34:52.585Z"
   },
   {
    "duration": 10,
    "start_time": "2022-05-16T08:34:52.597Z"
   },
   {
    "duration": 7,
    "start_time": "2022-05-16T08:34:52.609Z"
   },
   {
    "duration": 9,
    "start_time": "2022-05-16T08:34:52.618Z"
   },
   {
    "duration": 10,
    "start_time": "2022-05-16T08:34:52.628Z"
   },
   {
    "duration": 36,
    "start_time": "2022-05-16T08:34:52.640Z"
   },
   {
    "duration": 14,
    "start_time": "2022-05-16T08:34:52.677Z"
   },
   {
    "duration": 7,
    "start_time": "2022-05-16T08:34:52.692Z"
   },
   {
    "duration": 9,
    "start_time": "2022-05-16T08:34:52.700Z"
   },
   {
    "duration": 9,
    "start_time": "2022-05-16T08:34:52.710Z"
   },
   {
    "duration": 11,
    "start_time": "2022-05-16T08:34:52.720Z"
   },
   {
    "duration": 5,
    "start_time": "2022-05-16T08:34:52.733Z"
   },
   {
    "duration": 6,
    "start_time": "2022-05-16T08:34:52.739Z"
   },
   {
    "duration": 3,
    "start_time": "2022-05-16T08:34:52.771Z"
   },
   {
    "duration": 13,
    "start_time": "2022-05-16T08:34:52.775Z"
   },
   {
    "duration": 10,
    "start_time": "2022-05-16T08:34:52.789Z"
   },
   {
    "duration": 11,
    "start_time": "2022-05-16T08:34:52.800Z"
   },
   {
    "duration": 2,
    "start_time": "2022-05-16T08:34:52.813Z"
   },
   {
    "duration": 11,
    "start_time": "2022-05-16T08:34:52.817Z"
   },
   {
    "duration": 9,
    "start_time": "2022-05-16T08:34:52.829Z"
   },
   {
    "duration": 39,
    "start_time": "2022-05-16T08:34:52.839Z"
   },
   {
    "duration": 5,
    "start_time": "2022-05-16T08:34:52.880Z"
   },
   {
    "duration": 18,
    "start_time": "2022-05-16T08:34:52.887Z"
   },
   {
    "duration": 10,
    "start_time": "2022-05-16T08:34:52.907Z"
   },
   {
    "duration": 5,
    "start_time": "2022-05-16T08:34:52.918Z"
   },
   {
    "duration": 5,
    "start_time": "2022-05-16T08:34:52.924Z"
   },
   {
    "duration": 7,
    "start_time": "2022-05-16T08:34:52.930Z"
   },
   {
    "duration": 6,
    "start_time": "2022-05-16T08:34:52.939Z"
   },
   {
    "duration": 25,
    "start_time": "2022-05-16T08:34:52.946Z"
   },
   {
    "duration": 4,
    "start_time": "2022-05-16T08:34:52.973Z"
   },
   {
    "duration": 8,
    "start_time": "2022-05-16T08:34:52.979Z"
   },
   {
    "duration": 20,
    "start_time": "2022-05-16T08:34:52.988Z"
   },
   {
    "duration": 5,
    "start_time": "2022-05-16T08:34:53.010Z"
   },
   {
    "duration": 5,
    "start_time": "2022-05-16T08:34:53.016Z"
   },
   {
    "duration": 6,
    "start_time": "2022-05-16T08:34:53.022Z"
   },
   {
    "duration": 54,
    "start_time": "2022-05-16T08:34:53.029Z"
   },
   {
    "duration": 44,
    "start_time": "2022-05-16T08:34:53.085Z"
   },
   {
    "duration": 39,
    "start_time": "2022-05-16T08:34:53.131Z"
   },
   {
    "duration": 20,
    "start_time": "2022-05-16T08:34:53.172Z"
   },
   {
    "duration": 7,
    "start_time": "2022-05-16T08:34:53.194Z"
   },
   {
    "duration": 287,
    "start_time": "2022-05-16T08:34:53.202Z"
   },
   {
    "duration": 3,
    "start_time": "2022-05-16T08:34:53.490Z"
   },
   {
    "duration": 5,
    "start_time": "2022-05-16T08:34:53.495Z"
   },
   {
    "duration": 5,
    "start_time": "2022-05-16T08:34:53.502Z"
   },
   {
    "duration": 5,
    "start_time": "2022-05-16T08:34:53.509Z"
   },
   {
    "duration": 188,
    "start_time": "2022-05-16T08:34:53.515Z"
   },
   {
    "duration": 7,
    "start_time": "2022-05-16T08:34:53.705Z"
   },
   {
    "duration": 97,
    "start_time": "2022-05-16T08:34:53.713Z"
   },
   {
    "duration": 5,
    "start_time": "2022-05-16T08:34:53.811Z"
   },
   {
    "duration": 156,
    "start_time": "2022-05-16T08:34:53.817Z"
   },
   {
    "duration": 9,
    "start_time": "2022-05-16T08:34:53.974Z"
   },
   {
    "duration": 98,
    "start_time": "2022-05-16T08:34:53.984Z"
   },
   {
    "duration": 5,
    "start_time": "2022-05-16T08:34:54.084Z"
   },
   {
    "duration": 180,
    "start_time": "2022-05-16T08:34:54.093Z"
   },
   {
    "duration": 7,
    "start_time": "2022-05-16T08:34:54.274Z"
   },
   {
    "duration": 101,
    "start_time": "2022-05-16T08:34:54.283Z"
   },
   {
    "duration": 4,
    "start_time": "2022-05-16T08:34:54.386Z"
   },
   {
    "duration": 179,
    "start_time": "2022-05-16T08:34:54.392Z"
   },
   {
    "duration": 7,
    "start_time": "2022-05-16T08:34:54.572Z"
   },
   {
    "duration": 103,
    "start_time": "2022-05-16T08:34:54.580Z"
   },
   {
    "duration": 5,
    "start_time": "2022-05-16T08:34:54.685Z"
   },
   {
    "duration": 226,
    "start_time": "2022-05-16T08:34:54.691Z"
   },
   {
    "duration": 7,
    "start_time": "2022-05-16T08:34:54.919Z"
   },
   {
    "duration": 106,
    "start_time": "2022-05-16T08:34:54.928Z"
   },
   {
    "duration": 5,
    "start_time": "2022-05-16T08:34:55.036Z"
   },
   {
    "duration": 187,
    "start_time": "2022-05-16T08:34:55.042Z"
   },
   {
    "duration": 201,
    "start_time": "2022-05-16T08:34:55.230Z"
   },
   {
    "duration": 169,
    "start_time": "2022-05-16T08:34:55.433Z"
   },
   {
    "duration": 177,
    "start_time": "2022-05-16T08:34:55.603Z"
   },
   {
    "duration": 4,
    "start_time": "2022-05-16T08:34:55.782Z"
   },
   {
    "duration": 8,
    "start_time": "2022-05-16T08:34:55.787Z"
   },
   {
    "duration": 5,
    "start_time": "2022-05-16T08:34:55.796Z"
   },
   {
    "duration": 5,
    "start_time": "2022-05-16T08:34:55.802Z"
   },
   {
    "duration": 78,
    "start_time": "2022-05-16T08:34:55.809Z"
   },
   {
    "duration": 4,
    "start_time": "2022-05-16T08:34:55.889Z"
   },
   {
    "duration": 4,
    "start_time": "2022-05-16T08:34:55.895Z"
   },
   {
    "duration": 5,
    "start_time": "2022-05-16T08:34:55.900Z"
   },
   {
    "duration": 6,
    "start_time": "2022-05-16T08:34:55.906Z"
   },
   {
    "duration": 3,
    "start_time": "2022-05-16T08:34:55.913Z"
   },
   {
    "duration": 6,
    "start_time": "2022-05-16T08:34:55.918Z"
   },
   {
    "duration": 7,
    "start_time": "2022-05-16T08:34:55.925Z"
   },
   {
    "duration": 210,
    "start_time": "2022-05-16T08:43:37.849Z"
   },
   {
    "duration": 190,
    "start_time": "2022-05-16T08:44:21.815Z"
   },
   {
    "duration": 174,
    "start_time": "2022-05-16T08:44:40.404Z"
   },
   {
    "duration": 11,
    "start_time": "2022-05-16T08:55:22.814Z"
   },
   {
    "duration": 6,
    "start_time": "2022-05-16T08:55:47.546Z"
   },
   {
    "duration": 5,
    "start_time": "2022-05-16T08:55:56.267Z"
   },
   {
    "duration": 4,
    "start_time": "2022-05-16T08:56:12.280Z"
   },
   {
    "duration": 91,
    "start_time": "2022-05-16T08:56:59.966Z"
   },
   {
    "duration": 3,
    "start_time": "2022-05-16T08:57:08.520Z"
   },
   {
    "duration": 5,
    "start_time": "2022-05-16T08:57:14.853Z"
   },
   {
    "duration": 5,
    "start_time": "2022-05-16T08:59:44.307Z"
   },
   {
    "duration": 1238,
    "start_time": "2022-05-17T11:01:25.094Z"
   },
   {
    "duration": 693,
    "start_time": "2022-05-17T11:01:26.335Z"
   },
   {
    "duration": 25,
    "start_time": "2022-05-17T11:01:27.030Z"
   },
   {
    "duration": 47,
    "start_time": "2022-05-17T11:01:27.059Z"
   },
   {
    "duration": 13,
    "start_time": "2022-05-17T11:01:27.109Z"
   },
   {
    "duration": 39,
    "start_time": "2022-05-17T11:01:27.124Z"
   },
   {
    "duration": 17,
    "start_time": "2022-05-17T11:01:27.166Z"
   },
   {
    "duration": 39,
    "start_time": "2022-05-17T11:01:27.186Z"
   },
   {
    "duration": 14,
    "start_time": "2022-05-17T11:01:27.227Z"
   },
   {
    "duration": 21,
    "start_time": "2022-05-17T11:01:27.259Z"
   },
   {
    "duration": 34,
    "start_time": "2022-05-17T11:01:27.282Z"
   },
   {
    "duration": 23,
    "start_time": "2022-05-17T11:01:27.318Z"
   },
   {
    "duration": 159,
    "start_time": "2022-05-17T11:01:27.343Z"
   },
   {
    "duration": 10,
    "start_time": "2022-05-17T11:01:27.504Z"
   },
   {
    "duration": 124,
    "start_time": "2022-05-17T11:01:27.516Z"
   },
   {
    "duration": 67,
    "start_time": "2022-05-17T11:01:27.643Z"
   },
   {
    "duration": 8,
    "start_time": "2022-05-17T11:01:27.712Z"
   },
   {
    "duration": 58,
    "start_time": "2022-05-17T11:01:27.722Z"
   },
   {
    "duration": 24,
    "start_time": "2022-05-17T11:01:27.782Z"
   },
   {
    "duration": 21,
    "start_time": "2022-05-17T11:01:27.808Z"
   },
   {
    "duration": 28,
    "start_time": "2022-05-17T11:01:27.831Z"
   },
   {
    "duration": 21,
    "start_time": "2022-05-17T11:01:27.862Z"
   },
   {
    "duration": 39,
    "start_time": "2022-05-17T11:01:27.886Z"
   },
   {
    "duration": 3,
    "start_time": "2022-05-17T11:01:27.928Z"
   },
   {
    "duration": 33,
    "start_time": "2022-05-17T11:01:27.933Z"
   },
   {
    "duration": 36,
    "start_time": "2022-05-17T11:01:27.969Z"
   },
   {
    "duration": 35,
    "start_time": "2022-05-17T11:01:28.007Z"
   },
   {
    "duration": 18,
    "start_time": "2022-05-17T11:01:28.048Z"
   },
   {
    "duration": 26,
    "start_time": "2022-05-17T11:01:28.070Z"
   },
   {
    "duration": 28,
    "start_time": "2022-05-17T11:01:28.098Z"
   },
   {
    "duration": 15,
    "start_time": "2022-05-17T11:01:28.128Z"
   },
   {
    "duration": 20,
    "start_time": "2022-05-17T11:01:28.145Z"
   },
   {
    "duration": 20,
    "start_time": "2022-05-17T11:01:28.168Z"
   },
   {
    "duration": 18,
    "start_time": "2022-05-17T11:01:28.190Z"
   },
   {
    "duration": 26,
    "start_time": "2022-05-17T11:01:28.211Z"
   },
   {
    "duration": 34,
    "start_time": "2022-05-17T11:01:28.239Z"
   },
   {
    "duration": 18,
    "start_time": "2022-05-17T11:01:28.277Z"
   },
   {
    "duration": 12,
    "start_time": "2022-05-17T11:01:28.297Z"
   },
   {
    "duration": 20,
    "start_time": "2022-05-17T11:01:28.311Z"
   },
   {
    "duration": 8,
    "start_time": "2022-05-17T11:01:28.358Z"
   },
   {
    "duration": 15,
    "start_time": "2022-05-17T11:01:28.369Z"
   },
   {
    "duration": 9,
    "start_time": "2022-05-17T11:01:28.387Z"
   },
   {
    "duration": 20,
    "start_time": "2022-05-17T11:01:28.398Z"
   },
   {
    "duration": 41,
    "start_time": "2022-05-17T11:01:28.420Z"
   },
   {
    "duration": 22,
    "start_time": "2022-05-17T11:01:28.465Z"
   },
   {
    "duration": 5,
    "start_time": "2022-05-17T11:01:28.489Z"
   },
   {
    "duration": 15,
    "start_time": "2022-05-17T11:01:28.496Z"
   },
   {
    "duration": 46,
    "start_time": "2022-05-17T11:01:28.513Z"
   },
   {
    "duration": 24,
    "start_time": "2022-05-17T11:01:28.563Z"
   },
   {
    "duration": 10,
    "start_time": "2022-05-17T11:01:28.589Z"
   },
   {
    "duration": 31,
    "start_time": "2022-05-17T11:01:28.601Z"
   },
   {
    "duration": 45,
    "start_time": "2022-05-17T11:01:28.635Z"
   },
   {
    "duration": 13,
    "start_time": "2022-05-17T11:01:28.682Z"
   },
   {
    "duration": 12,
    "start_time": "2022-05-17T11:01:28.697Z"
   },
   {
    "duration": 7,
    "start_time": "2022-05-17T11:01:28.711Z"
   },
   {
    "duration": 7,
    "start_time": "2022-05-17T11:01:28.720Z"
   },
   {
    "duration": 30,
    "start_time": "2022-05-17T11:01:28.730Z"
   },
   {
    "duration": 12,
    "start_time": "2022-05-17T11:01:28.763Z"
   },
   {
    "duration": 13,
    "start_time": "2022-05-17T11:01:28.778Z"
   },
   {
    "duration": 36,
    "start_time": "2022-05-17T11:01:28.793Z"
   },
   {
    "duration": 32,
    "start_time": "2022-05-17T11:01:28.831Z"
   },
   {
    "duration": 25,
    "start_time": "2022-05-17T11:01:28.867Z"
   },
   {
    "duration": 11,
    "start_time": "2022-05-17T11:01:28.895Z"
   },
   {
    "duration": 41,
    "start_time": "2022-05-17T11:01:28.908Z"
   },
   {
    "duration": 83,
    "start_time": "2022-05-17T11:01:28.958Z"
   },
   {
    "duration": 51,
    "start_time": "2022-05-17T11:01:29.043Z"
   },
   {
    "duration": 35,
    "start_time": "2022-05-17T11:01:29.096Z"
   },
   {
    "duration": 41,
    "start_time": "2022-05-17T11:01:29.133Z"
   },
   {
    "duration": 827,
    "start_time": "2022-05-17T11:01:29.176Z"
   },
   {
    "duration": 6,
    "start_time": "2022-05-17T11:01:30.006Z"
   },
   {
    "duration": 32,
    "start_time": "2022-05-17T11:01:30.015Z"
   },
   {
    "duration": 29,
    "start_time": "2022-05-17T11:01:30.049Z"
   },
   {
    "duration": 15,
    "start_time": "2022-05-17T11:01:30.080Z"
   },
   {
    "duration": 375,
    "start_time": "2022-05-17T11:01:30.098Z"
   },
   {
    "duration": 11,
    "start_time": "2022-05-17T11:01:30.477Z"
   },
   {
    "duration": 190,
    "start_time": "2022-05-17T11:01:30.491Z"
   },
   {
    "duration": 10,
    "start_time": "2022-05-17T11:01:30.684Z"
   },
   {
    "duration": 321,
    "start_time": "2022-05-17T11:01:30.696Z"
   },
   {
    "duration": 13,
    "start_time": "2022-05-17T11:01:31.020Z"
   },
   {
    "duration": 201,
    "start_time": "2022-05-17T11:01:31.036Z"
   },
   {
    "duration": 7,
    "start_time": "2022-05-17T11:01:31.240Z"
   },
   {
    "duration": 355,
    "start_time": "2022-05-17T11:01:31.272Z"
   },
   {
    "duration": 12,
    "start_time": "2022-05-17T11:01:31.630Z"
   },
   {
    "duration": 236,
    "start_time": "2022-05-17T11:01:31.644Z"
   },
   {
    "duration": 9,
    "start_time": "2022-05-17T11:01:31.882Z"
   },
   {
    "duration": 361,
    "start_time": "2022-05-17T11:01:31.893Z"
   },
   {
    "duration": 27,
    "start_time": "2022-05-17T11:01:32.257Z"
   },
   {
    "duration": 333,
    "start_time": "2022-05-17T11:01:32.287Z"
   },
   {
    "duration": 9,
    "start_time": "2022-05-17T11:01:32.623Z"
   },
   {
    "duration": 379,
    "start_time": "2022-05-17T11:01:32.634Z"
   },
   {
    "duration": 13,
    "start_time": "2022-05-17T11:01:33.016Z"
   },
   {
    "duration": 204,
    "start_time": "2022-05-17T11:01:33.031Z"
   },
   {
    "duration": 8,
    "start_time": "2022-05-17T11:01:33.237Z"
   },
   {
    "duration": 374,
    "start_time": "2022-05-17T11:01:33.259Z"
   },
   {
    "duration": 417,
    "start_time": "2022-05-17T11:01:33.635Z"
   },
   {
    "duration": 341,
    "start_time": "2022-05-17T11:01:34.054Z"
   },
   {
    "duration": 375,
    "start_time": "2022-05-17T11:01:34.398Z"
   },
   {
    "duration": 7,
    "start_time": "2022-05-17T11:01:34.775Z"
   },
   {
    "duration": 11,
    "start_time": "2022-05-17T11:01:34.784Z"
   },
   {
    "duration": 17,
    "start_time": "2022-05-17T11:01:34.797Z"
   },
   {
    "duration": 21,
    "start_time": "2022-05-17T11:01:34.817Z"
   },
   {
    "duration": 147,
    "start_time": "2022-05-17T11:01:34.841Z"
   },
   {
    "duration": 6,
    "start_time": "2022-05-17T11:01:34.991Z"
   },
   {
    "duration": 27,
    "start_time": "2022-05-17T11:01:35.000Z"
   },
   {
    "duration": 10,
    "start_time": "2022-05-17T11:01:35.029Z"
   },
   {
    "duration": 17,
    "start_time": "2022-05-17T11:01:35.042Z"
   },
   {
    "duration": 19,
    "start_time": "2022-05-17T11:01:35.061Z"
   },
   {
    "duration": 8,
    "start_time": "2022-05-17T11:01:35.082Z"
   },
   {
    "duration": 14,
    "start_time": "2022-05-17T11:01:35.092Z"
   },
   {
    "duration": 5,
    "start_time": "2022-05-17T11:01:46.111Z"
   },
   {
    "duration": 5,
    "start_time": "2022-05-17T11:02:08.930Z"
   },
   {
    "duration": 6,
    "start_time": "2022-05-17T11:02:12.588Z"
   },
   {
    "duration": 5,
    "start_time": "2022-05-17T11:02:23.637Z"
   },
   {
    "duration": 6,
    "start_time": "2022-05-17T11:02:24.504Z"
   },
   {
    "duration": 5,
    "start_time": "2022-05-17T11:02:38.129Z"
   },
   {
    "duration": 6,
    "start_time": "2022-05-17T11:02:38.288Z"
   },
   {
    "duration": 5,
    "start_time": "2022-05-17T11:03:41.602Z"
   },
   {
    "duration": 6,
    "start_time": "2022-05-17T11:03:42.025Z"
   },
   {
    "duration": 9,
    "start_time": "2022-05-17T11:03:53.413Z"
   },
   {
    "duration": 6,
    "start_time": "2022-05-17T11:03:53.782Z"
   },
   {
    "duration": 8,
    "start_time": "2022-05-17T11:04:27.237Z"
   },
   {
    "duration": 6,
    "start_time": "2022-05-17T11:04:44.434Z"
   },
   {
    "duration": 5,
    "start_time": "2022-05-17T11:04:57.942Z"
   },
   {
    "duration": 6,
    "start_time": "2022-05-17T11:04:58.297Z"
   },
   {
    "duration": 8,
    "start_time": "2022-05-17T11:05:11.777Z"
   },
   {
    "duration": 6,
    "start_time": "2022-05-17T11:05:21.845Z"
   },
   {
    "duration": 4,
    "start_time": "2022-05-17T11:05:27.973Z"
   },
   {
    "duration": 6,
    "start_time": "2022-05-17T11:05:28.346Z"
   },
   {
    "duration": 5,
    "start_time": "2022-05-17T11:08:03.334Z"
   },
   {
    "duration": 7,
    "start_time": "2022-05-17T11:08:03.774Z"
   },
   {
    "duration": 5,
    "start_time": "2022-05-17T11:25:54.220Z"
   },
   {
    "duration": 7,
    "start_time": "2022-05-17T11:25:55.305Z"
   },
   {
    "duration": 6,
    "start_time": "2022-05-17T11:26:11.346Z"
   },
   {
    "duration": 6,
    "start_time": "2022-05-17T11:26:13.012Z"
   },
   {
    "duration": 5,
    "start_time": "2022-05-17T11:26:24.827Z"
   },
   {
    "duration": 6,
    "start_time": "2022-05-17T11:26:25.488Z"
   },
   {
    "duration": 6,
    "start_time": "2022-05-17T11:26:36.011Z"
   },
   {
    "duration": 6,
    "start_time": "2022-05-17T11:26:36.552Z"
   },
   {
    "duration": 5,
    "start_time": "2022-05-17T11:27:47.592Z"
   },
   {
    "duration": 7,
    "start_time": "2022-05-17T11:27:47.844Z"
   },
   {
    "duration": 5,
    "start_time": "2022-05-17T11:27:48.912Z"
   },
   {
    "duration": 105,
    "start_time": "2022-05-17T11:50:48.433Z"
   },
   {
    "duration": 5,
    "start_time": "2022-05-17T11:51:12.256Z"
   },
   {
    "duration": 6,
    "start_time": "2022-05-17T11:51:12.531Z"
   },
   {
    "duration": 6,
    "start_time": "2022-05-17T11:54:01.272Z"
   },
   {
    "duration": 6,
    "start_time": "2022-05-17T11:54:01.507Z"
   },
   {
    "duration": 5,
    "start_time": "2022-05-17T11:54:04.838Z"
   },
   {
    "duration": 108,
    "start_time": "2022-05-17T11:57:28.252Z"
   },
   {
    "duration": 8,
    "start_time": "2022-05-17T12:11:04.293Z"
   },
   {
    "duration": 7,
    "start_time": "2022-05-17T12:11:47.312Z"
   },
   {
    "duration": 333,
    "start_time": "2022-05-17T12:11:49.136Z"
   },
   {
    "duration": 859,
    "start_time": "2022-05-17T12:25:04.327Z"
   },
   {
    "duration": 464,
    "start_time": "2022-05-17T12:25:05.188Z"
   },
   {
    "duration": 14,
    "start_time": "2022-05-17T12:25:05.653Z"
   },
   {
    "duration": 17,
    "start_time": "2022-05-17T12:25:05.669Z"
   },
   {
    "duration": 7,
    "start_time": "2022-05-17T12:25:05.688Z"
   },
   {
    "duration": 18,
    "start_time": "2022-05-17T12:25:05.697Z"
   },
   {
    "duration": 6,
    "start_time": "2022-05-17T12:25:05.717Z"
   },
   {
    "duration": 17,
    "start_time": "2022-05-17T12:25:05.724Z"
   },
   {
    "duration": 29,
    "start_time": "2022-05-17T12:25:05.743Z"
   },
   {
    "duration": 9,
    "start_time": "2022-05-17T12:25:05.774Z"
   },
   {
    "duration": 11,
    "start_time": "2022-05-17T12:25:05.785Z"
   },
   {
    "duration": 8,
    "start_time": "2022-05-17T12:25:05.797Z"
   },
   {
    "duration": 116,
    "start_time": "2022-05-17T12:25:05.806Z"
   },
   {
    "duration": 7,
    "start_time": "2022-05-17T12:25:05.923Z"
   },
   {
    "duration": 51,
    "start_time": "2022-05-17T12:25:05.932Z"
   },
   {
    "duration": 39,
    "start_time": "2022-05-17T12:25:05.985Z"
   },
   {
    "duration": 5,
    "start_time": "2022-05-17T12:25:06.026Z"
   },
   {
    "duration": 50,
    "start_time": "2022-05-17T12:25:06.032Z"
   },
   {
    "duration": 16,
    "start_time": "2022-05-17T12:25:06.084Z"
   },
   {
    "duration": 14,
    "start_time": "2022-05-17T12:25:06.101Z"
   },
   {
    "duration": 4,
    "start_time": "2022-05-17T12:25:06.116Z"
   },
   {
    "duration": 10,
    "start_time": "2022-05-17T12:25:06.121Z"
   },
   {
    "duration": 41,
    "start_time": "2022-05-17T12:25:06.132Z"
   },
   {
    "duration": 3,
    "start_time": "2022-05-17T12:25:06.174Z"
   },
   {
    "duration": 9,
    "start_time": "2022-05-17T12:25:06.178Z"
   },
   {
    "duration": 11,
    "start_time": "2022-05-17T12:25:06.189Z"
   },
   {
    "duration": 20,
    "start_time": "2022-05-17T12:25:06.201Z"
   },
   {
    "duration": 3,
    "start_time": "2022-05-17T12:25:06.224Z"
   },
   {
    "duration": 8,
    "start_time": "2022-05-17T12:25:06.228Z"
   },
   {
    "duration": 36,
    "start_time": "2022-05-17T12:25:06.238Z"
   },
   {
    "duration": 9,
    "start_time": "2022-05-17T12:25:06.275Z"
   },
   {
    "duration": 9,
    "start_time": "2022-05-17T12:25:06.285Z"
   },
   {
    "duration": 8,
    "start_time": "2022-05-17T12:25:06.295Z"
   },
   {
    "duration": 10,
    "start_time": "2022-05-17T12:25:06.304Z"
   },
   {
    "duration": 16,
    "start_time": "2022-05-17T12:25:06.315Z"
   },
   {
    "duration": 7,
    "start_time": "2022-05-17T12:25:06.333Z"
   },
   {
    "duration": 38,
    "start_time": "2022-05-17T12:25:06.341Z"
   },
   {
    "duration": 5,
    "start_time": "2022-05-17T12:25:06.381Z"
   },
   {
    "duration": 10,
    "start_time": "2022-05-17T12:25:06.388Z"
   },
   {
    "duration": 6,
    "start_time": "2022-05-17T12:25:06.399Z"
   },
   {
    "duration": 4,
    "start_time": "2022-05-17T12:25:06.407Z"
   },
   {
    "duration": 4,
    "start_time": "2022-05-17T12:25:06.413Z"
   },
   {
    "duration": 14,
    "start_time": "2022-05-17T12:25:06.418Z"
   },
   {
    "duration": 40,
    "start_time": "2022-05-17T12:25:06.433Z"
   },
   {
    "duration": 13,
    "start_time": "2022-05-17T12:25:06.474Z"
   },
   {
    "duration": 3,
    "start_time": "2022-05-17T12:25:06.489Z"
   },
   {
    "duration": 9,
    "start_time": "2022-05-17T12:25:06.494Z"
   },
   {
    "duration": 11,
    "start_time": "2022-05-17T12:25:06.504Z"
   },
   {
    "duration": 12,
    "start_time": "2022-05-17T12:25:06.516Z"
   },
   {
    "duration": 6,
    "start_time": "2022-05-17T12:25:06.530Z"
   },
   {
    "duration": 47,
    "start_time": "2022-05-17T12:25:06.537Z"
   },
   {
    "duration": 10,
    "start_time": "2022-05-17T12:25:06.586Z"
   },
   {
    "duration": 5,
    "start_time": "2022-05-17T12:25:06.598Z"
   },
   {
    "duration": 7,
    "start_time": "2022-05-17T12:25:06.604Z"
   },
   {
    "duration": 13,
    "start_time": "2022-05-17T12:25:06.612Z"
   },
   {
    "duration": 5,
    "start_time": "2022-05-17T12:25:06.626Z"
   },
   {
    "duration": 5,
    "start_time": "2022-05-17T12:25:06.633Z"
   },
   {
    "duration": 5,
    "start_time": "2022-05-17T12:25:06.639Z"
   },
   {
    "duration": 6,
    "start_time": "2022-05-17T12:25:06.646Z"
   },
   {
    "duration": 20,
    "start_time": "2022-05-17T12:25:06.670Z"
   },
   {
    "duration": 7,
    "start_time": "2022-05-17T12:25:06.691Z"
   },
   {
    "duration": 5,
    "start_time": "2022-05-17T12:25:06.700Z"
   },
   {
    "duration": 5,
    "start_time": "2022-05-17T12:25:06.706Z"
   },
   {
    "duration": 24,
    "start_time": "2022-05-17T12:25:06.712Z"
   },
   {
    "duration": 64,
    "start_time": "2022-05-17T12:25:06.738Z"
   },
   {
    "duration": 20,
    "start_time": "2022-05-17T12:25:06.803Z"
   },
   {
    "duration": 26,
    "start_time": "2022-05-17T12:25:06.825Z"
   },
   {
    "duration": 24,
    "start_time": "2022-05-17T12:25:06.852Z"
   },
   {
    "duration": 441,
    "start_time": "2022-05-17T12:25:06.877Z"
   },
   {
    "duration": 3,
    "start_time": "2022-05-17T12:25:07.320Z"
   },
   {
    "duration": 7,
    "start_time": "2022-05-17T12:25:07.325Z"
   },
   {
    "duration": 4,
    "start_time": "2022-05-17T12:25:07.334Z"
   },
   {
    "duration": 6,
    "start_time": "2022-05-17T12:25:07.339Z"
   },
   {
    "duration": 186,
    "start_time": "2022-05-17T12:25:07.346Z"
   },
   {
    "duration": 8,
    "start_time": "2022-05-17T12:25:07.534Z"
   },
   {
    "duration": 88,
    "start_time": "2022-05-17T12:25:07.543Z"
   },
   {
    "duration": 4,
    "start_time": "2022-05-17T12:25:07.633Z"
   },
   {
    "duration": 151,
    "start_time": "2022-05-17T12:25:07.639Z"
   },
   {
    "duration": 7,
    "start_time": "2022-05-17T12:25:07.791Z"
   },
   {
    "duration": 96,
    "start_time": "2022-05-17T12:25:07.800Z"
   },
   {
    "duration": 4,
    "start_time": "2022-05-17T12:25:07.898Z"
   },
   {
    "duration": 171,
    "start_time": "2022-05-17T12:25:07.908Z"
   },
   {
    "duration": 8,
    "start_time": "2022-05-17T12:25:08.080Z"
   },
   {
    "duration": 102,
    "start_time": "2022-05-17T12:25:08.089Z"
   },
   {
    "duration": 5,
    "start_time": "2022-05-17T12:25:08.193Z"
   },
   {
    "duration": 173,
    "start_time": "2022-05-17T12:25:08.199Z"
   },
   {
    "duration": 7,
    "start_time": "2022-05-17T12:25:08.374Z"
   },
   {
    "duration": 162,
    "start_time": "2022-05-17T12:25:08.382Z"
   },
   {
    "duration": 6,
    "start_time": "2022-05-17T12:25:08.545Z"
   },
   {
    "duration": 189,
    "start_time": "2022-05-17T12:25:08.552Z"
   },
   {
    "duration": 8,
    "start_time": "2022-05-17T12:25:08.742Z"
   },
   {
    "duration": 100,
    "start_time": "2022-05-17T12:25:08.751Z"
   },
   {
    "duration": 5,
    "start_time": "2022-05-17T12:25:08.852Z"
   },
   {
    "duration": 183,
    "start_time": "2022-05-17T12:25:08.859Z"
   },
   {
    "duration": 201,
    "start_time": "2022-05-17T12:25:09.044Z"
   },
   {
    "duration": 169,
    "start_time": "2022-05-17T12:25:09.247Z"
   },
   {
    "duration": 181,
    "start_time": "2022-05-17T12:25:09.417Z"
   },
   {
    "duration": 4,
    "start_time": "2022-05-17T12:25:09.600Z"
   },
   {
    "duration": 6,
    "start_time": "2022-05-17T12:25:09.606Z"
   },
   {
    "duration": 5,
    "start_time": "2022-05-17T12:25:09.614Z"
   },
   {
    "duration": 6,
    "start_time": "2022-05-17T12:25:09.620Z"
   },
   {
    "duration": 82,
    "start_time": "2022-05-17T12:25:09.627Z"
   },
   {
    "duration": 4,
    "start_time": "2022-05-17T12:25:09.711Z"
   },
   {
    "duration": 6,
    "start_time": "2022-05-17T12:25:09.716Z"
   },
   {
    "duration": 6,
    "start_time": "2022-05-17T12:25:09.724Z"
   },
   {
    "duration": 5,
    "start_time": "2022-05-17T12:25:09.731Z"
   },
   {
    "duration": 4,
    "start_time": "2022-05-17T12:25:09.737Z"
   },
   {
    "duration": 5,
    "start_time": "2022-05-17T12:25:09.743Z"
   },
   {
    "duration": 23,
    "start_time": "2022-05-17T12:25:09.749Z"
   },
   {
    "duration": 105,
    "start_time": "2022-05-17T12:33:53.970Z"
   },
   {
    "duration": 200,
    "start_time": "2022-05-17T12:34:01.738Z"
   },
   {
    "duration": 127,
    "start_time": "2022-05-17T12:34:13.266Z"
   },
   {
    "duration": 4,
    "start_time": "2022-05-17T12:34:36.878Z"
   },
   {
    "duration": 21,
    "start_time": "2022-05-17T12:34:42.798Z"
   },
   {
    "duration": 43,
    "start_time": "2022-05-17T12:34:44.002Z"
   },
   {
    "duration": 22,
    "start_time": "2022-05-17T12:34:48.133Z"
   },
   {
    "duration": 21,
    "start_time": "2022-05-17T12:34:59.814Z"
   },
   {
    "duration": 8,
    "start_time": "2022-05-17T12:35:30.134Z"
   },
   {
    "duration": 5,
    "start_time": "2022-05-17T12:35:54.168Z"
   },
   {
    "duration": 4,
    "start_time": "2022-05-17T12:35:55.169Z"
   },
   {
    "duration": 999,
    "start_time": "2022-05-17T12:36:17.850Z"
   },
   {
    "duration": 558,
    "start_time": "2022-05-17T12:36:18.851Z"
   },
   {
    "duration": 13,
    "start_time": "2022-05-17T12:36:19.411Z"
   },
   {
    "duration": 18,
    "start_time": "2022-05-17T12:36:19.426Z"
   },
   {
    "duration": 8,
    "start_time": "2022-05-17T12:36:19.445Z"
   },
   {
    "duration": 20,
    "start_time": "2022-05-17T12:36:19.454Z"
   },
   {
    "duration": 7,
    "start_time": "2022-05-17T12:36:19.475Z"
   },
   {
    "duration": 16,
    "start_time": "2022-05-17T12:36:19.483Z"
   },
   {
    "duration": 6,
    "start_time": "2022-05-17T12:36:19.501Z"
   },
   {
    "duration": 9,
    "start_time": "2022-05-17T12:36:19.510Z"
   },
   {
    "duration": 10,
    "start_time": "2022-05-17T12:36:19.521Z"
   },
   {
    "duration": 6,
    "start_time": "2022-05-17T12:36:19.533Z"
   },
   {
    "duration": 116,
    "start_time": "2022-05-17T12:36:19.541Z"
   },
   {
    "duration": 15,
    "start_time": "2022-05-17T12:36:19.659Z"
   },
   {
    "duration": 42,
    "start_time": "2022-05-17T12:36:19.676Z"
   },
   {
    "duration": 51,
    "start_time": "2022-05-17T12:36:19.720Z"
   },
   {
    "duration": 5,
    "start_time": "2022-05-17T12:36:19.773Z"
   },
   {
    "duration": 22,
    "start_time": "2022-05-17T12:36:19.780Z"
   },
   {
    "duration": 17,
    "start_time": "2022-05-17T12:36:19.803Z"
   },
   {
    "duration": 13,
    "start_time": "2022-05-17T12:36:19.821Z"
   },
   {
    "duration": 3,
    "start_time": "2022-05-17T12:36:19.836Z"
   },
   {
    "duration": 31,
    "start_time": "2022-05-17T12:36:19.840Z"
   },
   {
    "duration": 23,
    "start_time": "2022-05-17T12:36:19.872Z"
   },
   {
    "duration": 3,
    "start_time": "2022-05-17T12:36:19.896Z"
   },
   {
    "duration": 9,
    "start_time": "2022-05-17T12:36:19.900Z"
   },
   {
    "duration": 9,
    "start_time": "2022-05-17T12:36:19.910Z"
   },
   {
    "duration": 17,
    "start_time": "2022-05-17T12:36:19.921Z"
   },
   {
    "duration": 3,
    "start_time": "2022-05-17T12:36:19.970Z"
   },
   {
    "duration": 10,
    "start_time": "2022-05-17T12:36:19.975Z"
   },
   {
    "duration": 13,
    "start_time": "2022-05-17T12:36:19.986Z"
   },
   {
    "duration": 10,
    "start_time": "2022-05-17T12:36:20.000Z"
   },
   {
    "duration": 10,
    "start_time": "2022-05-17T12:36:20.011Z"
   },
   {
    "duration": 12,
    "start_time": "2022-05-17T12:36:20.023Z"
   },
   {
    "duration": 36,
    "start_time": "2022-05-17T12:36:20.036Z"
   },
   {
    "duration": 15,
    "start_time": "2022-05-17T12:36:20.074Z"
   },
   {
    "duration": 8,
    "start_time": "2022-05-17T12:36:20.090Z"
   },
   {
    "duration": 11,
    "start_time": "2022-05-17T12:36:20.099Z"
   },
   {
    "duration": 9,
    "start_time": "2022-05-17T12:36:20.111Z"
   },
   {
    "duration": 9,
    "start_time": "2022-05-17T12:36:20.121Z"
   },
   {
    "duration": 5,
    "start_time": "2022-05-17T12:36:20.132Z"
   },
   {
    "duration": 34,
    "start_time": "2022-05-17T12:36:20.138Z"
   },
   {
    "duration": 2,
    "start_time": "2022-05-17T12:36:20.174Z"
   },
   {
    "duration": 13,
    "start_time": "2022-05-17T12:36:20.177Z"
   },
   {
    "duration": 10,
    "start_time": "2022-05-17T12:36:20.192Z"
   },
   {
    "duration": 17,
    "start_time": "2022-05-17T12:36:20.204Z"
   },
   {
    "duration": 10,
    "start_time": "2022-05-17T12:36:20.223Z"
   },
   {
    "duration": 13,
    "start_time": "2022-05-17T12:36:20.235Z"
   },
   {
    "duration": 23,
    "start_time": "2022-05-17T12:36:20.249Z"
   },
   {
    "duration": 14,
    "start_time": "2022-05-17T12:36:20.273Z"
   },
   {
    "duration": 7,
    "start_time": "2022-05-17T12:36:20.288Z"
   },
   {
    "duration": 15,
    "start_time": "2022-05-17T12:36:20.297Z"
   },
   {
    "duration": 13,
    "start_time": "2022-05-17T12:36:20.313Z"
   },
   {
    "duration": 5,
    "start_time": "2022-05-17T12:36:20.328Z"
   },
   {
    "duration": 37,
    "start_time": "2022-05-17T12:36:20.334Z"
   },
   {
    "duration": 6,
    "start_time": "2022-05-17T12:36:20.373Z"
   },
   {
    "duration": 11,
    "start_time": "2022-05-17T12:36:20.380Z"
   },
   {
    "duration": 6,
    "start_time": "2022-05-17T12:36:20.392Z"
   },
   {
    "duration": 12,
    "start_time": "2022-05-17T12:36:20.400Z"
   },
   {
    "duration": 10,
    "start_time": "2022-05-17T12:36:20.413Z"
   },
   {
    "duration": 27,
    "start_time": "2022-05-17T12:36:20.424Z"
   },
   {
    "duration": 5,
    "start_time": "2022-05-17T12:36:20.452Z"
   },
   {
    "duration": 4,
    "start_time": "2022-05-17T12:36:20.470Z"
   },
   {
    "duration": 7,
    "start_time": "2022-05-17T12:36:20.476Z"
   },
   {
    "duration": 26,
    "start_time": "2022-05-17T12:36:20.484Z"
   },
   {
    "duration": 60,
    "start_time": "2022-05-17T12:36:20.511Z"
   },
   {
    "duration": 22,
    "start_time": "2022-05-17T12:36:20.573Z"
   },
   {
    "duration": 20,
    "start_time": "2022-05-17T12:36:20.597Z"
   },
   {
    "duration": 9,
    "start_time": "2022-05-17T12:36:20.618Z"
   },
   {
    "duration": 309,
    "start_time": "2022-05-17T12:36:20.629Z"
   },
   {
    "duration": 3,
    "start_time": "2022-05-17T12:36:20.940Z"
   },
   {
    "duration": 6,
    "start_time": "2022-05-17T12:36:20.945Z"
   },
   {
    "duration": 19,
    "start_time": "2022-05-17T12:36:20.952Z"
   },
   {
    "duration": 4,
    "start_time": "2022-05-17T12:36:20.973Z"
   },
   {
    "duration": 198,
    "start_time": "2022-05-17T12:36:20.979Z"
   },
   {
    "duration": 8,
    "start_time": "2022-05-17T12:36:21.179Z"
   },
   {
    "duration": 102,
    "start_time": "2022-05-17T12:36:21.189Z"
   },
   {
    "duration": 5,
    "start_time": "2022-05-17T12:36:21.293Z"
   },
   {
    "duration": 161,
    "start_time": "2022-05-17T12:36:21.300Z"
   },
   {
    "duration": 14,
    "start_time": "2022-05-17T12:36:21.463Z"
   },
   {
    "duration": 105,
    "start_time": "2022-05-17T12:36:21.478Z"
   },
   {
    "duration": 5,
    "start_time": "2022-05-17T12:36:21.585Z"
   },
   {
    "duration": 190,
    "start_time": "2022-05-17T12:36:21.597Z"
   },
   {
    "duration": 8,
    "start_time": "2022-05-17T12:36:21.789Z"
   },
   {
    "duration": 108,
    "start_time": "2022-05-17T12:36:21.799Z"
   },
   {
    "duration": 4,
    "start_time": "2022-05-17T12:36:21.909Z"
   },
   {
    "duration": 184,
    "start_time": "2022-05-17T12:36:21.915Z"
   },
   {
    "duration": 8,
    "start_time": "2022-05-17T12:36:22.101Z"
   },
   {
    "duration": 111,
    "start_time": "2022-05-17T12:36:22.111Z"
   },
   {
    "duration": 5,
    "start_time": "2022-05-17T12:36:22.224Z"
   },
   {
    "duration": 243,
    "start_time": "2022-05-17T12:36:22.231Z"
   },
   {
    "duration": 8,
    "start_time": "2022-05-17T12:36:22.476Z"
   },
   {
    "duration": 106,
    "start_time": "2022-05-17T12:36:22.486Z"
   },
   {
    "duration": 5,
    "start_time": "2022-05-17T12:36:22.594Z"
   },
   {
    "duration": 186,
    "start_time": "2022-05-17T12:36:22.601Z"
   },
   {
    "duration": 204,
    "start_time": "2022-05-17T12:36:22.789Z"
   },
   {
    "duration": 169,
    "start_time": "2022-05-17T12:36:22.995Z"
   },
   {
    "duration": 179,
    "start_time": "2022-05-17T12:36:23.165Z"
   },
   {
    "duration": 4,
    "start_time": "2022-05-17T12:36:23.346Z"
   },
   {
    "duration": 5,
    "start_time": "2022-05-17T12:36:23.351Z"
   },
   {
    "duration": 14,
    "start_time": "2022-05-17T12:36:23.358Z"
   },
   {
    "duration": 6,
    "start_time": "2022-05-17T12:36:23.373Z"
   },
   {
    "duration": 56,
    "start_time": "2022-05-17T12:36:23.380Z"
   },
   {
    "duration": 4,
    "start_time": "2022-05-17T12:36:23.438Z"
   },
   {
    "duration": 6,
    "start_time": "2022-05-17T12:36:23.443Z"
   },
   {
    "duration": 22,
    "start_time": "2022-05-17T12:36:23.450Z"
   },
   {
    "duration": 6,
    "start_time": "2022-05-17T12:36:23.473Z"
   },
   {
    "duration": 4,
    "start_time": "2022-05-17T12:36:23.480Z"
   },
   {
    "duration": 6,
    "start_time": "2022-05-17T12:36:23.485Z"
   },
   {
    "duration": 7,
    "start_time": "2022-05-17T12:36:23.492Z"
   },
   {
    "duration": 6,
    "start_time": "2022-05-17T12:42:04.300Z"
   },
   {
    "duration": 9,
    "start_time": "2022-05-17T12:42:29.554Z"
   },
   {
    "duration": 5,
    "start_time": "2022-05-17T12:44:08.250Z"
   },
   {
    "duration": 6,
    "start_time": "2022-05-17T12:44:15.584Z"
   },
   {
    "duration": 6,
    "start_time": "2022-05-17T12:45:01.923Z"
   },
   {
    "duration": 89,
    "start_time": "2022-05-17T13:07:31.427Z"
   },
   {
    "duration": 9,
    "start_time": "2022-05-17T13:07:46.588Z"
   },
   {
    "duration": 27,
    "start_time": "2022-05-17T13:08:05.988Z"
   },
   {
    "duration": 68,
    "start_time": "2022-05-17T13:08:37.682Z"
   },
   {
    "duration": 4,
    "start_time": "2022-05-17T13:09:10.383Z"
   },
   {
    "duration": 5,
    "start_time": "2022-05-17T13:09:11.109Z"
   },
   {
    "duration": 4,
    "start_time": "2022-05-17T13:09:11.608Z"
   },
   {
    "duration": 4,
    "start_time": "2022-05-17T13:09:15.202Z"
   },
   {
    "duration": 70,
    "start_time": "2022-05-17T13:09:28.054Z"
   },
   {
    "duration": 5,
    "start_time": "2022-05-17T13:10:17.795Z"
   },
   {
    "duration": 5,
    "start_time": "2022-05-17T13:10:34.714Z"
   },
   {
    "duration": 21,
    "start_time": "2022-05-17T13:12:02.270Z"
   },
   {
    "duration": 8,
    "start_time": "2022-05-17T13:12:09.093Z"
   },
   {
    "duration": 4,
    "start_time": "2022-05-17T13:14:35.222Z"
   },
   {
    "duration": 4,
    "start_time": "2022-05-17T13:14:36.482Z"
   },
   {
    "duration": 3,
    "start_time": "2022-05-17T13:16:46.395Z"
   },
   {
    "duration": 502,
    "start_time": "2022-05-17T13:16:46.880Z"
   },
   {
    "duration": 8,
    "start_time": "2022-05-17T13:16:48.213Z"
   },
   {
    "duration": 19,
    "start_time": "2022-05-17T13:16:49.169Z"
   },
   {
    "duration": 9,
    "start_time": "2022-05-17T13:16:49.799Z"
   },
   {
    "duration": 16,
    "start_time": "2022-05-17T13:16:51.016Z"
   },
   {
    "duration": 7,
    "start_time": "2022-05-17T13:16:52.756Z"
   },
   {
    "duration": 14,
    "start_time": "2022-05-17T13:16:53.923Z"
   },
   {
    "duration": 7,
    "start_time": "2022-05-17T13:16:55.419Z"
   },
   {
    "duration": 11,
    "start_time": "2022-05-17T13:16:57.230Z"
   },
   {
    "duration": 9,
    "start_time": "2022-05-17T13:16:58.660Z"
   },
   {
    "duration": 5,
    "start_time": "2022-05-17T13:17:08.376Z"
   },
   {
    "duration": 98,
    "start_time": "2022-05-17T13:17:09.283Z"
   },
   {
    "duration": 9,
    "start_time": "2022-05-17T13:17:11.391Z"
   },
   {
    "duration": 47,
    "start_time": "2022-05-17T13:17:12.075Z"
   },
   {
    "duration": 46,
    "start_time": "2022-05-17T13:17:12.990Z"
   },
   {
    "duration": 6,
    "start_time": "2022-05-17T13:17:13.257Z"
   },
   {
    "duration": 22,
    "start_time": "2022-05-17T13:17:14.686Z"
   },
   {
    "duration": 17,
    "start_time": "2022-05-17T13:17:15.190Z"
   },
   {
    "duration": 15,
    "start_time": "2022-05-17T13:17:15.662Z"
   },
   {
    "duration": 4,
    "start_time": "2022-05-17T13:17:17.977Z"
   },
   {
    "duration": 4,
    "start_time": "2022-05-17T13:17:18.529Z"
   },
   {
    "duration": 26,
    "start_time": "2022-05-17T13:17:22.293Z"
   },
   {
    "duration": 3,
    "start_time": "2022-05-17T13:17:24.945Z"
   },
   {
    "duration": 6,
    "start_time": "2022-05-17T13:17:25.749Z"
   },
   {
    "duration": 17,
    "start_time": "2022-05-17T13:17:49.255Z"
   },
   {
    "duration": 6,
    "start_time": "2022-05-17T13:18:13.879Z"
   },
   {
    "duration": 7,
    "start_time": "2022-05-17T13:19:46.050Z"
   },
   {
    "duration": 14,
    "start_time": "2022-05-17T13:20:52.864Z"
   },
   {
    "duration": 12,
    "start_time": "2022-05-17T13:21:21.348Z"
   },
   {
    "duration": 11,
    "start_time": "2022-05-17T13:22:18.547Z"
   },
   {
    "duration": 5,
    "start_time": "2022-05-17T13:22:32.519Z"
   },
   {
    "duration": 10,
    "start_time": "2022-05-17T13:22:33.693Z"
   },
   {
    "duration": 11,
    "start_time": "2022-05-17T13:22:35.463Z"
   },
   {
    "duration": 2,
    "start_time": "2022-05-17T13:22:43.632Z"
   },
   {
    "duration": 497,
    "start_time": "2022-05-17T13:22:45.233Z"
   },
   {
    "duration": 8,
    "start_time": "2022-05-17T13:22:46.807Z"
   },
   {
    "duration": 17,
    "start_time": "2022-05-17T13:22:47.575Z"
   },
   {
    "duration": 8,
    "start_time": "2022-05-17T13:22:48.028Z"
   },
   {
    "duration": 16,
    "start_time": "2022-05-17T13:22:48.262Z"
   },
   {
    "duration": 7,
    "start_time": "2022-05-17T13:22:48.457Z"
   },
   {
    "duration": 14,
    "start_time": "2022-05-17T13:22:48.641Z"
   },
   {
    "duration": 7,
    "start_time": "2022-05-17T13:22:49.355Z"
   },
   {
    "duration": 9,
    "start_time": "2022-05-17T13:22:49.913Z"
   },
   {
    "duration": 10,
    "start_time": "2022-05-17T13:22:50.525Z"
   },
   {
    "duration": 4,
    "start_time": "2022-05-17T13:22:52.682Z"
   },
   {
    "duration": 90,
    "start_time": "2022-05-17T13:22:53.686Z"
   },
   {
    "duration": 7,
    "start_time": "2022-05-17T13:22:54.126Z"
   },
   {
    "duration": 40,
    "start_time": "2022-05-17T13:22:54.752Z"
   },
   {
    "duration": 40,
    "start_time": "2022-05-17T13:22:55.683Z"
   },
   {
    "duration": 7,
    "start_time": "2022-05-17T13:22:56.330Z"
   },
   {
    "duration": 21,
    "start_time": "2022-05-17T13:22:57.063Z"
   },
   {
    "duration": 17,
    "start_time": "2022-05-17T13:22:57.664Z"
   },
   {
    "duration": 14,
    "start_time": "2022-05-17T13:22:58.166Z"
   },
   {
    "duration": 4,
    "start_time": "2022-05-17T13:22:58.541Z"
   },
   {
    "duration": 4,
    "start_time": "2022-05-17T13:22:58.923Z"
   },
   {
    "duration": 23,
    "start_time": "2022-05-17T13:23:00.497Z"
   },
   {
    "duration": 2,
    "start_time": "2022-05-17T13:23:01.119Z"
   },
   {
    "duration": 7,
    "start_time": "2022-05-17T13:23:01.617Z"
   },
   {
    "duration": 10,
    "start_time": "2022-05-17T13:23:02.359Z"
   },
   {
    "duration": 18,
    "start_time": "2022-05-17T13:23:02.922Z"
   },
   {
    "duration": 4,
    "start_time": "2022-05-17T13:23:04.014Z"
   },
   {
    "duration": 7,
    "start_time": "2022-05-17T13:23:09.055Z"
   },
   {
    "duration": 9,
    "start_time": "2022-05-17T13:23:09.943Z"
   },
   {
    "duration": 8,
    "start_time": "2022-05-17T13:23:10.833Z"
   },
   {
    "duration": 10,
    "start_time": "2022-05-17T13:23:13.659Z"
   },
   {
    "duration": 9,
    "start_time": "2022-05-17T13:23:14.553Z"
   },
   {
    "duration": 8,
    "start_time": "2022-05-17T13:23:16.480Z"
   },
   {
    "duration": 15,
    "start_time": "2022-05-17T13:23:17.457Z"
   },
   {
    "duration": 8,
    "start_time": "2022-05-17T13:23:18.307Z"
   },
   {
    "duration": 10,
    "start_time": "2022-05-17T13:23:24.211Z"
   },
   {
    "duration": 4,
    "start_time": "2022-05-17T13:23:26.323Z"
   },
   {
    "duration": 11,
    "start_time": "2022-05-17T13:23:27.243Z"
   },
   {
    "duration": 4,
    "start_time": "2022-05-17T13:23:31.209Z"
   },
   {
    "duration": 4,
    "start_time": "2022-05-17T13:23:31.984Z"
   },
   {
    "duration": 2,
    "start_time": "2022-05-17T13:23:35.640Z"
   },
   {
    "duration": 10,
    "start_time": "2022-05-17T13:23:37.211Z"
   },
   {
    "duration": 9,
    "start_time": "2022-05-17T13:23:41.916Z"
   },
   {
    "duration": 12,
    "start_time": "2022-05-17T13:23:43.200Z"
   },
   {
    "duration": 3,
    "start_time": "2022-05-17T13:23:46.927Z"
   },
   {
    "duration": 8,
    "start_time": "2022-05-17T13:23:47.738Z"
   },
   {
    "duration": 8,
    "start_time": "2022-05-17T13:23:52.151Z"
   },
   {
    "duration": 13,
    "start_time": "2022-05-17T13:23:53.326Z"
   },
   {
    "duration": 7,
    "start_time": "2022-05-17T13:24:04.071Z"
   },
   {
    "duration": 14,
    "start_time": "2022-05-17T13:24:04.920Z"
   },
   {
    "duration": 12,
    "start_time": "2022-05-17T13:24:05.990Z"
   },
   {
    "duration": 6,
    "start_time": "2022-05-17T13:24:24.203Z"
   },
   {
    "duration": 12,
    "start_time": "2022-05-17T13:24:34.096Z"
   },
   {
    "duration": 12,
    "start_time": "2022-05-17T13:27:21.832Z"
   },
   {
    "duration": 933,
    "start_time": "2022-05-17T13:27:36.947Z"
   },
   {
    "duration": 486,
    "start_time": "2022-05-17T13:27:37.882Z"
   },
   {
    "duration": 15,
    "start_time": "2022-05-17T13:27:38.370Z"
   },
   {
    "duration": 18,
    "start_time": "2022-05-17T13:27:38.387Z"
   },
   {
    "duration": 9,
    "start_time": "2022-05-17T13:27:38.406Z"
   },
   {
    "duration": 19,
    "start_time": "2022-05-17T13:27:38.416Z"
   },
   {
    "duration": 36,
    "start_time": "2022-05-17T13:27:38.436Z"
   },
   {
    "duration": 17,
    "start_time": "2022-05-17T13:27:38.474Z"
   },
   {
    "duration": 7,
    "start_time": "2022-05-17T13:27:38.492Z"
   },
   {
    "duration": 11,
    "start_time": "2022-05-17T13:27:38.502Z"
   },
   {
    "duration": 14,
    "start_time": "2022-05-17T13:27:38.515Z"
   },
   {
    "duration": 4,
    "start_time": "2022-05-17T13:27:38.530Z"
   },
   {
    "duration": 154,
    "start_time": "2022-05-17T13:27:38.536Z"
   },
   {
    "duration": 8,
    "start_time": "2022-05-17T13:27:38.692Z"
   },
   {
    "duration": 45,
    "start_time": "2022-05-17T13:27:38.702Z"
   },
   {
    "duration": 65,
    "start_time": "2022-05-17T13:27:38.749Z"
   },
   {
    "duration": 7,
    "start_time": "2022-05-17T13:27:38.816Z"
   },
   {
    "duration": 23,
    "start_time": "2022-05-17T13:27:38.825Z"
   },
   {
    "duration": 18,
    "start_time": "2022-05-17T13:27:38.871Z"
   },
   {
    "duration": 15,
    "start_time": "2022-05-17T13:27:38.891Z"
   },
   {
    "duration": 5,
    "start_time": "2022-05-17T13:27:38.907Z"
   },
   {
    "duration": 5,
    "start_time": "2022-05-17T13:27:38.914Z"
   },
   {
    "duration": 24,
    "start_time": "2022-05-17T13:27:38.920Z"
   },
   {
    "duration": 4,
    "start_time": "2022-05-17T13:27:38.970Z"
   },
   {
    "duration": 9,
    "start_time": "2022-05-17T13:27:38.976Z"
   },
   {
    "duration": 14,
    "start_time": "2022-05-17T13:27:38.987Z"
   },
   {
    "duration": 20,
    "start_time": "2022-05-17T13:27:39.004Z"
   },
   {
    "duration": 3,
    "start_time": "2022-05-17T13:27:39.029Z"
   },
   {
    "duration": 8,
    "start_time": "2022-05-17T13:27:39.033Z"
   },
   {
    "duration": 38,
    "start_time": "2022-05-17T13:27:39.042Z"
   },
   {
    "duration": 10,
    "start_time": "2022-05-17T13:27:39.082Z"
   },
   {
    "duration": 10,
    "start_time": "2022-05-17T13:27:39.094Z"
   },
   {
    "duration": 10,
    "start_time": "2022-05-17T13:27:39.106Z"
   },
   {
    "duration": 10,
    "start_time": "2022-05-17T13:27:39.118Z"
   },
   {
    "duration": 52,
    "start_time": "2022-05-17T13:27:39.130Z"
   },
   {
    "duration": 8,
    "start_time": "2022-05-17T13:27:39.184Z"
   },
   {
    "duration": 10,
    "start_time": "2022-05-17T13:27:39.193Z"
   },
   {
    "duration": 5,
    "start_time": "2022-05-17T13:27:39.205Z"
   },
   {
    "duration": 10,
    "start_time": "2022-05-17T13:27:39.212Z"
   },
   {
    "duration": 5,
    "start_time": "2022-05-17T13:27:39.224Z"
   },
   {
    "duration": 7,
    "start_time": "2022-05-17T13:27:39.230Z"
   },
   {
    "duration": 33,
    "start_time": "2022-05-17T13:27:39.239Z"
   },
   {
    "duration": 26,
    "start_time": "2022-05-17T13:27:39.273Z"
   },
   {
    "duration": 10,
    "start_time": "2022-05-17T13:27:39.301Z"
   },
   {
    "duration": 11,
    "start_time": "2022-05-17T13:27:39.312Z"
   },
   {
    "duration": 3,
    "start_time": "2022-05-17T13:27:39.324Z"
   },
   {
    "duration": 13,
    "start_time": "2022-05-17T13:27:39.328Z"
   },
   {
    "duration": 9,
    "start_time": "2022-05-17T13:27:39.343Z"
   },
   {
    "duration": 25,
    "start_time": "2022-05-17T13:27:39.353Z"
   },
   {
    "duration": 6,
    "start_time": "2022-05-17T13:27:39.379Z"
   },
   {
    "duration": 14,
    "start_time": "2022-05-17T13:27:39.386Z"
   },
   {
    "duration": 12,
    "start_time": "2022-05-17T13:27:39.402Z"
   },
   {
    "duration": 4,
    "start_time": "2022-05-17T13:27:39.416Z"
   },
   {
    "duration": 4,
    "start_time": "2022-05-17T13:27:39.422Z"
   },
   {
    "duration": 6,
    "start_time": "2022-05-17T13:27:39.427Z"
   },
   {
    "duration": 38,
    "start_time": "2022-05-17T13:27:39.434Z"
   },
   {
    "duration": 4,
    "start_time": "2022-05-17T13:27:39.474Z"
   },
   {
    "duration": 7,
    "start_time": "2022-05-17T13:27:39.480Z"
   },
   {
    "duration": 5,
    "start_time": "2022-05-17T13:27:39.488Z"
   },
   {
    "duration": 24,
    "start_time": "2022-05-17T13:27:39.494Z"
   },
   {
    "duration": 6,
    "start_time": "2022-05-17T13:27:39.520Z"
   },
   {
    "duration": 4,
    "start_time": "2022-05-17T13:27:39.528Z"
   },
   {
    "duration": 5,
    "start_time": "2022-05-17T13:27:39.534Z"
   },
   {
    "duration": 54,
    "start_time": "2022-05-17T13:27:39.540Z"
   },
   {
    "duration": 22,
    "start_time": "2022-05-17T13:27:39.596Z"
   },
   {
    "duration": 52,
    "start_time": "2022-05-17T13:27:39.619Z"
   },
   {
    "duration": 19,
    "start_time": "2022-05-17T13:27:39.672Z"
   },
   {
    "duration": 20,
    "start_time": "2022-05-17T13:27:39.692Z"
   },
   {
    "duration": 6,
    "start_time": "2022-05-17T13:27:39.714Z"
   },
   {
    "duration": 294,
    "start_time": "2022-05-17T13:27:39.722Z"
   },
   {
    "duration": 3,
    "start_time": "2022-05-17T13:27:40.018Z"
   },
   {
    "duration": 6,
    "start_time": "2022-05-17T13:27:40.022Z"
   },
   {
    "duration": 10,
    "start_time": "2022-05-17T13:27:40.029Z"
   },
   {
    "duration": 6,
    "start_time": "2022-05-17T13:27:40.041Z"
   },
   {
    "duration": 185,
    "start_time": "2022-05-17T13:27:40.048Z"
   },
   {
    "duration": 8,
    "start_time": "2022-05-17T13:27:40.235Z"
   },
   {
    "duration": 91,
    "start_time": "2022-05-17T13:27:40.244Z"
   },
   {
    "duration": 5,
    "start_time": "2022-05-17T13:27:40.336Z"
   },
   {
    "duration": 152,
    "start_time": "2022-05-17T13:27:40.343Z"
   },
   {
    "duration": 8,
    "start_time": "2022-05-17T13:27:40.497Z"
   },
   {
    "duration": 103,
    "start_time": "2022-05-17T13:27:40.506Z"
   },
   {
    "duration": 5,
    "start_time": "2022-05-17T13:27:40.614Z"
   },
   {
    "duration": 173,
    "start_time": "2022-05-17T13:27:40.621Z"
   },
   {
    "duration": 8,
    "start_time": "2022-05-17T13:27:40.795Z"
   },
   {
    "duration": 103,
    "start_time": "2022-05-17T13:27:40.804Z"
   },
   {
    "duration": 5,
    "start_time": "2022-05-17T13:27:40.909Z"
   },
   {
    "duration": 177,
    "start_time": "2022-05-17T13:27:40.915Z"
   },
   {
    "duration": 7,
    "start_time": "2022-05-17T13:27:41.094Z"
   },
   {
    "duration": 108,
    "start_time": "2022-05-17T13:27:41.102Z"
   },
   {
    "duration": 5,
    "start_time": "2022-05-17T13:27:41.211Z"
   },
   {
    "duration": 233,
    "start_time": "2022-05-17T13:27:41.217Z"
   },
   {
    "duration": 20,
    "start_time": "2022-05-17T13:27:41.451Z"
   },
   {
    "duration": 86,
    "start_time": "2022-05-17T13:27:41.472Z"
   },
   {
    "duration": 14,
    "start_time": "2022-05-17T13:27:41.559Z"
   },
   {
    "duration": 184,
    "start_time": "2022-05-17T13:27:41.574Z"
   },
   {
    "duration": 202,
    "start_time": "2022-05-17T13:27:41.760Z"
   },
   {
    "duration": 165,
    "start_time": "2022-05-17T13:27:41.963Z"
   },
   {
    "duration": 180,
    "start_time": "2022-05-17T13:27:42.129Z"
   },
   {
    "duration": 3,
    "start_time": "2022-05-17T13:27:42.311Z"
   },
   {
    "duration": 6,
    "start_time": "2022-05-17T13:27:42.316Z"
   },
   {
    "duration": 5,
    "start_time": "2022-05-17T13:27:42.323Z"
   },
   {
    "duration": 7,
    "start_time": "2022-05-17T13:27:42.329Z"
   },
   {
    "duration": 78,
    "start_time": "2022-05-17T13:27:42.337Z"
   },
   {
    "duration": 5,
    "start_time": "2022-05-17T13:27:42.416Z"
   },
   {
    "duration": 6,
    "start_time": "2022-05-17T13:27:42.423Z"
   },
   {
    "duration": 6,
    "start_time": "2022-05-17T13:27:42.430Z"
   },
   {
    "duration": 6,
    "start_time": "2022-05-17T13:27:42.438Z"
   },
   {
    "duration": 5,
    "start_time": "2022-05-17T13:27:42.445Z"
   },
   {
    "duration": 22,
    "start_time": "2022-05-17T13:27:42.451Z"
   },
   {
    "duration": 8,
    "start_time": "2022-05-17T13:27:42.475Z"
   },
   {
    "duration": 5,
    "start_time": "2022-05-17T13:30:50.239Z"
   },
   {
    "duration": 6,
    "start_time": "2022-05-17T13:31:18.496Z"
   },
   {
    "duration": 7,
    "start_time": "2022-05-17T13:33:30.829Z"
   },
   {
    "duration": 2201,
    "start_time": "2022-05-17T13:35:08.478Z"
   },
   {
    "duration": 7,
    "start_time": "2022-05-17T13:35:24.714Z"
   },
   {
    "duration": 8,
    "start_time": "2022-05-17T13:36:01.383Z"
   },
   {
    "duration": 28,
    "start_time": "2022-05-17T13:39:44.446Z"
   },
   {
    "duration": 23,
    "start_time": "2022-05-17T13:39:59.695Z"
   },
   {
    "duration": 60,
    "start_time": "2022-05-17T13:40:32.085Z"
   },
   {
    "duration": 23,
    "start_time": "2022-05-17T13:40:38.163Z"
   },
   {
    "duration": 7,
    "start_time": "2022-05-17T13:40:47.622Z"
   },
   {
    "duration": 8,
    "start_time": "2022-05-17T13:41:01.349Z"
   },
   {
    "duration": 4,
    "start_time": "2022-05-17T13:41:15.715Z"
   },
   {
    "duration": 4,
    "start_time": "2022-05-17T13:41:16.865Z"
   },
   {
    "duration": 3,
    "start_time": "2022-05-17T13:41:20.517Z"
   },
   {
    "duration": 4,
    "start_time": "2022-05-17T13:41:21.152Z"
   },
   {
    "duration": 88,
    "start_time": "2022-05-17T13:42:54.898Z"
   },
   {
    "duration": 5,
    "start_time": "2022-05-17T13:43:10.818Z"
   },
   {
    "duration": 4,
    "start_time": "2022-05-17T13:43:11.638Z"
   },
   {
    "duration": 4,
    "start_time": "2022-05-17T13:43:12.920Z"
   },
   {
    "duration": 4,
    "start_time": "2022-05-17T13:43:13.516Z"
   },
   {
    "duration": 4,
    "start_time": "2022-05-17T13:43:38.267Z"
   },
   {
    "duration": 5,
    "start_time": "2022-05-17T13:43:53.543Z"
   },
   {
    "duration": 67,
    "start_time": "2022-05-17T13:44:38.564Z"
   },
   {
    "duration": 4,
    "start_time": "2022-05-17T13:44:59.719Z"
   },
   {
    "duration": 5,
    "start_time": "2022-05-17T13:45:00.785Z"
   },
   {
    "duration": 4,
    "start_time": "2022-05-17T13:45:01.663Z"
   },
   {
    "duration": 4,
    "start_time": "2022-05-17T13:45:03.950Z"
   },
   {
    "duration": 63,
    "start_time": "2022-05-17T13:45:33.218Z"
   },
   {
    "duration": 4,
    "start_time": "2022-05-17T13:45:41.746Z"
   },
   {
    "duration": 4,
    "start_time": "2022-05-17T13:45:42.465Z"
   },
   {
    "duration": 3,
    "start_time": "2022-05-17T13:45:43.214Z"
   },
   {
    "duration": 4,
    "start_time": "2022-05-17T13:45:46.050Z"
   },
   {
    "duration": 23,
    "start_time": "2022-05-17T13:46:05.202Z"
   },
   {
    "duration": 21,
    "start_time": "2022-05-17T13:46:06.378Z"
   },
   {
    "duration": 45,
    "start_time": "2022-05-17T13:46:17.821Z"
   },
   {
    "duration": 23,
    "start_time": "2022-05-17T13:46:20.536Z"
   },
   {
    "duration": 8,
    "start_time": "2022-05-17T13:46:23.492Z"
   },
   {
    "duration": 865,
    "start_time": "2022-05-17T13:46:33.927Z"
   },
   {
    "duration": 492,
    "start_time": "2022-05-17T13:46:34.794Z"
   },
   {
    "duration": 14,
    "start_time": "2022-05-17T13:46:35.288Z"
   },
   {
    "duration": 20,
    "start_time": "2022-05-17T13:46:35.304Z"
   },
   {
    "duration": 9,
    "start_time": "2022-05-17T13:46:35.327Z"
   },
   {
    "duration": 21,
    "start_time": "2022-05-17T13:46:35.338Z"
   },
   {
    "duration": 8,
    "start_time": "2022-05-17T13:46:35.371Z"
   },
   {
    "duration": 15,
    "start_time": "2022-05-17T13:46:35.381Z"
   },
   {
    "duration": 8,
    "start_time": "2022-05-17T13:46:35.398Z"
   },
   {
    "duration": 18,
    "start_time": "2022-05-17T13:46:35.408Z"
   },
   {
    "duration": 14,
    "start_time": "2022-05-17T13:46:35.428Z"
   },
   {
    "duration": 27,
    "start_time": "2022-05-17T13:46:35.444Z"
   },
   {
    "duration": 113,
    "start_time": "2022-05-17T13:46:35.473Z"
   },
   {
    "duration": 8,
    "start_time": "2022-05-17T13:46:35.590Z"
   },
   {
    "duration": 52,
    "start_time": "2022-05-17T13:46:35.600Z"
   },
   {
    "duration": 46,
    "start_time": "2022-05-17T13:46:35.670Z"
   },
   {
    "duration": 7,
    "start_time": "2022-05-17T13:46:35.718Z"
   },
   {
    "duration": 46,
    "start_time": "2022-05-17T13:46:35.727Z"
   },
   {
    "duration": 17,
    "start_time": "2022-05-17T13:46:35.775Z"
   },
   {
    "duration": 15,
    "start_time": "2022-05-17T13:46:35.794Z"
   },
   {
    "duration": 5,
    "start_time": "2022-05-17T13:46:35.810Z"
   },
   {
    "duration": 15,
    "start_time": "2022-05-17T13:46:35.816Z"
   },
   {
    "duration": 41,
    "start_time": "2022-05-17T13:46:35.833Z"
   },
   {
    "duration": 3,
    "start_time": "2022-05-17T13:46:35.876Z"
   },
   {
    "duration": 12,
    "start_time": "2022-05-17T13:46:35.881Z"
   },
   {
    "duration": 19,
    "start_time": "2022-05-17T13:46:35.895Z"
   },
   {
    "duration": 24,
    "start_time": "2022-05-17T13:46:35.916Z"
   },
   {
    "duration": 3,
    "start_time": "2022-05-17T13:46:35.942Z"
   },
   {
    "duration": 25,
    "start_time": "2022-05-17T13:46:35.946Z"
   },
   {
    "duration": 10,
    "start_time": "2022-05-17T13:46:35.973Z"
   },
   {
    "duration": 12,
    "start_time": "2022-05-17T13:46:35.985Z"
   },
   {
    "duration": 10,
    "start_time": "2022-05-17T13:46:35.999Z"
   },
   {
    "duration": 11,
    "start_time": "2022-05-17T13:46:36.011Z"
   },
   {
    "duration": 14,
    "start_time": "2022-05-17T13:46:36.024Z"
   },
   {
    "duration": 41,
    "start_time": "2022-05-17T13:46:36.040Z"
   },
   {
    "duration": 9,
    "start_time": "2022-05-17T13:46:36.083Z"
   },
   {
    "duration": 11,
    "start_time": "2022-05-17T13:46:36.093Z"
   },
   {
    "duration": 10,
    "start_time": "2022-05-17T13:46:36.106Z"
   },
   {
    "duration": 11,
    "start_time": "2022-05-17T13:46:36.118Z"
   },
   {
    "duration": 12,
    "start_time": "2022-05-17T13:46:36.130Z"
   },
   {
    "duration": 5,
    "start_time": "2022-05-17T13:46:36.175Z"
   },
   {
    "duration": 5,
    "start_time": "2022-05-17T13:46:36.181Z"
   },
   {
    "duration": 16,
    "start_time": "2022-05-17T13:46:36.188Z"
   },
   {
    "duration": 16,
    "start_time": "2022-05-17T13:46:36.206Z"
   },
   {
    "duration": 15,
    "start_time": "2022-05-17T13:46:36.223Z"
   },
   {
    "duration": 5,
    "start_time": "2022-05-17T13:46:36.240Z"
   },
   {
    "duration": 11,
    "start_time": "2022-05-17T13:46:36.246Z"
   },
   {
    "duration": 8,
    "start_time": "2022-05-17T13:46:36.271Z"
   },
   {
    "duration": 14,
    "start_time": "2022-05-17T13:46:36.280Z"
   },
   {
    "duration": 7,
    "start_time": "2022-05-17T13:46:36.296Z"
   },
   {
    "duration": 17,
    "start_time": "2022-05-17T13:46:36.304Z"
   },
   {
    "duration": 11,
    "start_time": "2022-05-17T13:46:36.322Z"
   },
   {
    "duration": 38,
    "start_time": "2022-05-17T13:46:36.334Z"
   },
   {
    "duration": 3,
    "start_time": "2022-05-17T13:46:36.373Z"
   },
   {
    "duration": 6,
    "start_time": "2022-05-17T13:46:36.378Z"
   },
   {
    "duration": 5,
    "start_time": "2022-05-17T13:46:36.385Z"
   },
   {
    "duration": 8,
    "start_time": "2022-05-17T13:46:36.392Z"
   },
   {
    "duration": 6,
    "start_time": "2022-05-17T13:46:36.402Z"
   },
   {
    "duration": 5,
    "start_time": "2022-05-17T13:46:36.410Z"
   },
   {
    "duration": 22,
    "start_time": "2022-05-17T13:46:36.417Z"
   },
   {
    "duration": 5,
    "start_time": "2022-05-17T13:46:36.441Z"
   },
   {
    "duration": 5,
    "start_time": "2022-05-17T13:46:36.471Z"
   },
   {
    "duration": 10,
    "start_time": "2022-05-17T13:46:36.478Z"
   },
   {
    "duration": 30,
    "start_time": "2022-05-17T13:46:36.490Z"
   },
   {
    "duration": 62,
    "start_time": "2022-05-17T13:46:36.522Z"
   },
   {
    "duration": 20,
    "start_time": "2022-05-17T13:46:36.586Z"
   },
   {
    "duration": 18,
    "start_time": "2022-05-17T13:46:36.608Z"
   },
   {
    "duration": 7,
    "start_time": "2022-05-17T13:46:36.628Z"
   },
   {
    "duration": 321,
    "start_time": "2022-05-17T13:46:36.637Z"
   },
   {
    "duration": 11,
    "start_time": "2022-05-17T13:46:36.960Z"
   },
   {
    "duration": 8,
    "start_time": "2022-05-17T13:46:36.972Z"
   },
   {
    "duration": 10,
    "start_time": "2022-05-17T13:46:36.982Z"
   },
   {
    "duration": 8,
    "start_time": "2022-05-17T13:46:36.993Z"
   },
   {
    "duration": 182,
    "start_time": "2022-05-17T13:46:37.003Z"
   },
   {
    "duration": 8,
    "start_time": "2022-05-17T13:46:37.187Z"
   },
   {
    "duration": 102,
    "start_time": "2022-05-17T13:46:37.197Z"
   },
   {
    "duration": 5,
    "start_time": "2022-05-17T13:46:37.301Z"
   },
   {
    "duration": 153,
    "start_time": "2022-05-17T13:46:37.308Z"
   },
   {
    "duration": 13,
    "start_time": "2022-05-17T13:46:37.463Z"
   },
   {
    "duration": 95,
    "start_time": "2022-05-17T13:46:37.478Z"
   },
   {
    "duration": 5,
    "start_time": "2022-05-17T13:46:37.575Z"
   },
   {
    "duration": 185,
    "start_time": "2022-05-17T13:46:37.582Z"
   },
   {
    "duration": 8,
    "start_time": "2022-05-17T13:46:37.771Z"
   },
   {
    "duration": 111,
    "start_time": "2022-05-17T13:46:37.780Z"
   },
   {
    "duration": 5,
    "start_time": "2022-05-17T13:46:37.893Z"
   },
   {
    "duration": 183,
    "start_time": "2022-05-17T13:46:37.900Z"
   },
   {
    "duration": 8,
    "start_time": "2022-05-17T13:46:38.089Z"
   },
   {
    "duration": 109,
    "start_time": "2022-05-17T13:46:38.099Z"
   },
   {
    "duration": 5,
    "start_time": "2022-05-17T13:46:38.209Z"
   },
   {
    "duration": 248,
    "start_time": "2022-05-17T13:46:38.216Z"
   },
   {
    "duration": 7,
    "start_time": "2022-05-17T13:46:38.466Z"
   },
   {
    "duration": 101,
    "start_time": "2022-05-17T13:46:38.475Z"
   },
   {
    "duration": 5,
    "start_time": "2022-05-17T13:46:38.578Z"
   },
   {
    "duration": 194,
    "start_time": "2022-05-17T13:46:38.585Z"
   },
   {
    "duration": 211,
    "start_time": "2022-05-17T13:46:38.781Z"
   },
   {
    "duration": 167,
    "start_time": "2022-05-17T13:46:38.994Z"
   },
   {
    "duration": 184,
    "start_time": "2022-05-17T13:46:39.163Z"
   },
   {
    "duration": 4,
    "start_time": "2022-05-17T13:46:39.349Z"
   },
   {
    "duration": 17,
    "start_time": "2022-05-17T13:46:39.355Z"
   },
   {
    "duration": 6,
    "start_time": "2022-05-17T13:46:39.373Z"
   },
   {
    "duration": 9,
    "start_time": "2022-05-17T13:46:39.381Z"
   },
   {
    "duration": 64,
    "start_time": "2022-05-17T13:46:39.391Z"
   },
   {
    "duration": 13,
    "start_time": "2022-05-17T13:46:39.457Z"
   },
   {
    "duration": 5,
    "start_time": "2022-05-17T13:46:39.472Z"
   },
   {
    "duration": 11,
    "start_time": "2022-05-17T13:46:39.478Z"
   },
   {
    "duration": 7,
    "start_time": "2022-05-17T13:46:39.491Z"
   },
   {
    "duration": 4,
    "start_time": "2022-05-17T13:46:39.500Z"
   },
   {
    "duration": 5,
    "start_time": "2022-05-17T13:46:39.506Z"
   },
   {
    "duration": 10,
    "start_time": "2022-05-17T13:46:39.513Z"
   },
   {
    "duration": 19,
    "start_time": "2022-05-17T14:06:01.192Z"
   },
   {
    "duration": 24,
    "start_time": "2022-05-17T14:07:01.185Z"
   },
   {
    "duration": 26,
    "start_time": "2022-05-17T14:09:56.810Z"
   },
   {
    "duration": 125,
    "start_time": "2022-05-17T14:14:08.885Z"
   },
   {
    "duration": 142,
    "start_time": "2022-05-17T14:14:14.454Z"
   },
   {
    "duration": 2047,
    "start_time": "2022-05-17T14:14:26.709Z"
   },
   {
    "duration": 12,
    "start_time": "2022-05-17T14:14:50.255Z"
   },
   {
    "duration": 921,
    "start_time": "2022-05-17T14:15:16.115Z"
   },
   {
    "duration": 506,
    "start_time": "2022-05-17T14:15:17.038Z"
   },
   {
    "duration": 15,
    "start_time": "2022-05-17T14:15:17.545Z"
   },
   {
    "duration": 19,
    "start_time": "2022-05-17T14:15:17.562Z"
   },
   {
    "duration": 11,
    "start_time": "2022-05-17T14:15:17.583Z"
   },
   {
    "duration": 18,
    "start_time": "2022-05-17T14:15:17.595Z"
   },
   {
    "duration": 8,
    "start_time": "2022-05-17T14:15:17.615Z"
   },
   {
    "duration": 22,
    "start_time": "2022-05-17T14:15:17.624Z"
   },
   {
    "duration": 11,
    "start_time": "2022-05-17T14:15:17.671Z"
   },
   {
    "duration": 12,
    "start_time": "2022-05-17T14:15:17.684Z"
   },
   {
    "duration": 14,
    "start_time": "2022-05-17T14:15:17.698Z"
   },
   {
    "duration": 8,
    "start_time": "2022-05-17T14:15:17.713Z"
   },
   {
    "duration": 122,
    "start_time": "2022-05-17T14:15:17.723Z"
   },
   {
    "duration": 7,
    "start_time": "2022-05-17T14:15:17.847Z"
   },
   {
    "duration": 56,
    "start_time": "2022-05-17T14:15:17.856Z"
   },
   {
    "duration": 45,
    "start_time": "2022-05-17T14:15:17.914Z"
   },
   {
    "duration": 7,
    "start_time": "2022-05-17T14:15:17.971Z"
   },
   {
    "duration": 28,
    "start_time": "2022-05-17T14:15:17.980Z"
   },
   {
    "duration": 22,
    "start_time": "2022-05-17T14:15:18.010Z"
   },
   {
    "duration": 38,
    "start_time": "2022-05-17T14:15:18.034Z"
   },
   {
    "duration": 4,
    "start_time": "2022-05-17T14:15:18.074Z"
   },
   {
    "duration": 6,
    "start_time": "2022-05-17T14:15:18.079Z"
   },
   {
    "duration": 26,
    "start_time": "2022-05-17T14:15:18.087Z"
   },
   {
    "duration": 3,
    "start_time": "2022-05-17T14:15:18.114Z"
   },
   {
    "duration": 14,
    "start_time": "2022-05-17T14:15:18.118Z"
   },
   {
    "duration": 13,
    "start_time": "2022-05-17T14:15:18.133Z"
   },
   {
    "duration": 41,
    "start_time": "2022-05-17T14:15:18.147Z"
   },
   {
    "duration": 3,
    "start_time": "2022-05-17T14:15:18.193Z"
   },
   {
    "duration": 8,
    "start_time": "2022-05-17T14:15:18.198Z"
   },
   {
    "duration": 11,
    "start_time": "2022-05-17T14:15:18.208Z"
   },
   {
    "duration": 9,
    "start_time": "2022-05-17T14:15:18.221Z"
   },
   {
    "duration": 46,
    "start_time": "2022-05-17T14:15:18.231Z"
   },
   {
    "duration": 11,
    "start_time": "2022-05-17T14:15:18.279Z"
   },
   {
    "duration": 11,
    "start_time": "2022-05-17T14:15:18.292Z"
   },
   {
    "duration": 18,
    "start_time": "2022-05-17T14:15:18.305Z"
   },
   {
    "duration": 10,
    "start_time": "2022-05-17T14:15:18.325Z"
   },
   {
    "duration": 42,
    "start_time": "2022-05-17T14:15:18.336Z"
   },
   {
    "duration": 7,
    "start_time": "2022-05-17T14:15:18.380Z"
   },
   {
    "duration": 12,
    "start_time": "2022-05-17T14:15:18.389Z"
   },
   {
    "duration": 5,
    "start_time": "2022-05-17T14:15:18.403Z"
   },
   {
    "duration": 6,
    "start_time": "2022-05-17T14:15:18.410Z"
   },
   {
    "duration": 4,
    "start_time": "2022-05-17T14:15:18.418Z"
   },
   {
    "duration": 14,
    "start_time": "2022-05-17T14:15:18.424Z"
   },
   {
    "duration": 37,
    "start_time": "2022-05-17T14:15:18.440Z"
   },
   {
    "duration": 13,
    "start_time": "2022-05-17T14:15:18.478Z"
   },
   {
    "duration": 3,
    "start_time": "2022-05-17T14:15:18.492Z"
   },
   {
    "duration": 13,
    "start_time": "2022-05-17T14:15:18.497Z"
   },
   {
    "duration": 16,
    "start_time": "2022-05-17T14:15:18.512Z"
   },
   {
    "duration": 48,
    "start_time": "2022-05-17T14:15:18.530Z"
   },
   {
    "duration": 9,
    "start_time": "2022-05-17T14:15:18.580Z"
   },
   {
    "duration": 22,
    "start_time": "2022-05-17T14:15:18.592Z"
   },
   {
    "duration": 17,
    "start_time": "2022-05-17T14:15:18.616Z"
   },
   {
    "duration": 7,
    "start_time": "2022-05-17T14:15:18.635Z"
   },
   {
    "duration": 5,
    "start_time": "2022-05-17T14:15:18.672Z"
   },
   {
    "duration": 10,
    "start_time": "2022-05-17T14:15:18.679Z"
   },
   {
    "duration": 5,
    "start_time": "2022-05-17T14:15:18.691Z"
   },
   {
    "duration": 6,
    "start_time": "2022-05-17T14:15:18.698Z"
   },
   {
    "duration": 11,
    "start_time": "2022-05-17T14:15:18.706Z"
   },
   {
    "duration": 6,
    "start_time": "2022-05-17T14:15:18.719Z"
   },
   {
    "duration": 51,
    "start_time": "2022-05-17T14:15:18.727Z"
   },
   {
    "duration": 6,
    "start_time": "2022-05-17T14:15:18.780Z"
   },
   {
    "duration": 5,
    "start_time": "2022-05-17T14:15:18.788Z"
   },
   {
    "duration": 5,
    "start_time": "2022-05-17T14:15:18.794Z"
   },
   {
    "duration": 4,
    "start_time": "2022-05-17T14:15:18.801Z"
   },
   {
    "duration": 38,
    "start_time": "2022-05-17T14:15:18.807Z"
   },
   {
    "duration": 49,
    "start_time": "2022-05-17T14:15:18.872Z"
   },
   {
    "duration": 21,
    "start_time": "2022-05-17T14:15:18.923Z"
   },
   {
    "duration": 40,
    "start_time": "2022-05-17T14:15:18.945Z"
   },
   {
    "duration": 7,
    "start_time": "2022-05-17T14:15:18.987Z"
   },
   {
    "duration": 413,
    "start_time": "2022-05-17T14:15:18.995Z"
   },
   {
    "duration": 3,
    "start_time": "2022-05-17T14:15:19.410Z"
   },
   {
    "duration": 10,
    "start_time": "2022-05-17T14:15:19.414Z"
   },
   {
    "duration": 6,
    "start_time": "2022-05-17T14:15:19.426Z"
   },
   {
    "duration": 10,
    "start_time": "2022-05-17T14:15:19.433Z"
   },
   {
    "duration": 198,
    "start_time": "2022-05-17T14:15:19.444Z"
   },
   {
    "duration": 8,
    "start_time": "2022-05-17T14:15:19.644Z"
   },
   {
    "duration": 138,
    "start_time": "2022-05-17T14:15:19.654Z"
   },
   {
    "duration": 6,
    "start_time": "2022-05-17T14:15:19.794Z"
   },
   {
    "duration": 235,
    "start_time": "2022-05-17T14:15:19.802Z"
   },
   {
    "duration": 11,
    "start_time": "2022-05-17T14:15:20.039Z"
   },
   {
    "duration": 155,
    "start_time": "2022-05-17T14:15:20.052Z"
   },
   {
    "duration": 7,
    "start_time": "2022-05-17T14:15:20.216Z"
   },
   {
    "duration": 401,
    "start_time": "2022-05-17T14:15:20.225Z"
   },
   {
    "duration": 46,
    "start_time": "2022-05-17T14:15:20.628Z"
   },
   {
    "duration": 112,
    "start_time": "2022-05-17T14:15:20.676Z"
   },
   {
    "duration": 6,
    "start_time": "2022-05-17T14:15:20.790Z"
   },
   {
    "duration": 214,
    "start_time": "2022-05-17T14:15:20.797Z"
   },
   {
    "duration": 8,
    "start_time": "2022-05-17T14:15:21.013Z"
   },
   {
    "duration": 157,
    "start_time": "2022-05-17T14:15:21.023Z"
   },
   {
    "duration": 6,
    "start_time": "2022-05-17T14:15:21.182Z"
   },
   {
    "duration": 340,
    "start_time": "2022-05-17T14:15:21.190Z"
   },
   {
    "duration": 9,
    "start_time": "2022-05-17T14:15:21.532Z"
   },
   {
    "duration": 145,
    "start_time": "2022-05-17T14:15:21.543Z"
   },
   {
    "duration": 7,
    "start_time": "2022-05-17T14:15:21.690Z"
   },
   {
    "duration": 273,
    "start_time": "2022-05-17T14:15:21.698Z"
   },
   {
    "duration": 216,
    "start_time": "2022-05-17T14:15:21.972Z"
   },
   {
    "duration": 170,
    "start_time": "2022-05-17T14:15:22.190Z"
   },
   {
    "duration": 187,
    "start_time": "2022-05-17T14:15:22.362Z"
   },
   {
    "duration": 5,
    "start_time": "2022-05-17T14:15:22.550Z"
   },
   {
    "duration": 17,
    "start_time": "2022-05-17T14:15:22.557Z"
   },
   {
    "duration": 5,
    "start_time": "2022-05-17T14:15:22.576Z"
   },
   {
    "duration": 6,
    "start_time": "2022-05-17T14:15:22.582Z"
   },
   {
    "duration": 61,
    "start_time": "2022-05-17T14:15:22.590Z"
   },
   {
    "duration": 5,
    "start_time": "2022-05-17T14:15:22.671Z"
   },
   {
    "duration": 9,
    "start_time": "2022-05-17T14:15:22.677Z"
   },
   {
    "duration": 6,
    "start_time": "2022-05-17T14:15:22.687Z"
   },
   {
    "duration": 7,
    "start_time": "2022-05-17T14:15:22.695Z"
   },
   {
    "duration": 4,
    "start_time": "2022-05-17T14:15:22.703Z"
   },
   {
    "duration": 5,
    "start_time": "2022-05-17T14:15:22.709Z"
   },
   {
    "duration": 6,
    "start_time": "2022-05-17T14:15:22.716Z"
   },
   {
    "duration": 46,
    "start_time": "2022-05-17T14:15:49.983Z"
   },
   {
    "duration": 14,
    "start_time": "2022-05-17T14:16:10.075Z"
   },
   {
    "duration": 12,
    "start_time": "2022-05-17T14:16:28.792Z"
   },
   {
    "duration": 15,
    "start_time": "2022-05-17T14:16:43.219Z"
   },
   {
    "duration": 31,
    "start_time": "2022-05-17T14:17:03.551Z"
   }
  ],
  "kernelspec": {
   "display_name": "Python 3",
   "language": "python",
   "name": "python3"
  },
  "language_info": {
   "codemirror_mode": {
    "name": "ipython",
    "version": 3
   },
   "file_extension": ".py",
   "mimetype": "text/x-python",
   "name": "python",
   "nbconvert_exporter": "python",
   "pygments_lexer": "ipython3",
   "version": "3.7.4"
  },
  "toc": {
   "base_numbering": 1,
   "nav_menu": {},
   "number_sections": true,
   "sideBar": true,
   "skip_h1_title": true,
   "title_cell": "Table of Contents",
   "title_sidebar": "Contents",
   "toc_cell": false,
   "toc_position": {},
   "toc_section_display": true,
   "toc_window_display": false
  }
 },
 "nbformat": 4,
 "nbformat_minor": 2
}
